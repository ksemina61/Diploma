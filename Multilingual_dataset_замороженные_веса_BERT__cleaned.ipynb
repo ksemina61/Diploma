{
  "nbformat": 4,
  "nbformat_minor": 0,
  "metadata": {
    "colab": {
      "provenance": [],
      "gpuType": "T4"
    },
    "kernelspec": {
      "name": "python3",
      "display_name": "Python 3"
    },
    "language_info": {
      "name": "python"
    },
    "accelerator": "GPU"
  },
  "cells": [
    {
      "cell_type": "markdown",
      "source": [
        "# **\u0424\u0438\u043d\u0430\u043b\u044c\u043d\u0430\u044f \u0432\u0435\u0440\u0441\u0438\u044f: \u0437\u0430\u043c\u043e\u0440\u043e\u0436\u0435\u043d\u043d\u044b\u0435 \u0432\u0435\u0441\u0430 BERT**"
      ],
      "metadata": {
        "id": "5uBlJTtXaw4L"
      }
    },
    {
      "cell_type": "markdown",
      "source": [
        "# **\u0411\u0435\u0439\u0437\u043b\u0430\u0439\u043d 1: BERT (\u0431\u0435\u0437 \u0433\u043e\u043b\u043e\u0432\u044b)**"
      ],
      "metadata": {
        "id": "VjfSQR2V8XWR"
      }
    },
    {
      "cell_type": "markdown",
      "source": [
        "**BERT (\u0438 \u0434\u0440\u0443\u0433\u0438\u0435 \u043c\u043e\u0434\u0435\u043b\u0438 \u0438\u0437 \u0431\u0438\u0431\u043b\u0438\u043e\u0442\u0435\u043a\u0438 Hugging Face) \u0441\u043e\u0441\u0442\u043e\u0438\u0442 \u0438\u0437 \u0434\u0432\u0443\u0445 \u0447\u0430\u0441\u0442\u0435\u0439:**\n",
        "\n",
        "**Base Model (\u043e\u0441\u043d\u043e\u0432\u0430):** \u042d\u0442\u043e \u0447\u0430\u0441\u0442\u044c \u043c\u043e\u0434\u0435\u043b\u0438, \u043a\u043e\u0442\u043e\u0440\u0430\u044f \u0433\u0435\u043d\u0435\u0440\u0438\u0440\u0443\u0435\u0442 \u044d\u043c\u0431\u0435\u0434\u0434\u0438\u043d\u0433\u0438 (\u0432\u0435\u043a\u0442\u043e\u0440\u043d\u044b\u0435 \u043f\u0440\u0435\u0434\u0441\u0442\u0430\u0432\u043b\u0435\u043d\u0438\u044f) \u0434\u043b\u044f \u0432\u0445\u043e\u0434\u043d\u044b\u0445 \u0442\u043e\u043a\u0435\u043d\u043e\u0432.\n",
        "\n",
        "**Head (\u0433\u043e\u043b\u043e\u0432\u0430):** \u042d\u0442\u043e \u0434\u043e\u043f\u043e\u043b\u043d\u0438\u0442\u0435\u043b\u044c\u043d\u044b\u0439 \u0441\u043b\u043e\u0439, \u043a\u043e\u0442\u043e\u0440\u044b\u0439 \u0438\u0441\u043f\u043e\u043b\u044c\u0437\u0443\u0435\u0442\u0441\u044f \u0434\u043b\u044f \u043a\u043e\u043d\u043a\u0440\u0435\u0442\u043d\u043e\u0439 \u0437\u0430\u0434\u0430\u0447\u0438 (\u043d\u0430\u043f\u0440\u0438\u043c\u0435\u0440, \u043a\u043b\u0430\u0441\u0441\u0438\u0444\u0438\u043a\u0430\u0446\u0438\u044f, NER, \u043c\u0430\u0441\u043a\u0438\u0440\u043e\u0432\u0430\u043d\u0438\u0435 \u0442\u043e\u043a\u0435\u043d\u043e\u0432 \u0438 \u0442.\u0434.)."
      ],
      "metadata": {
        "id": "uZ6DE5UHU8Nr"
      }
    },
    {
      "cell_type": "code",
      "source": [
        "! pip install evaluate"
      ],
      "metadata": {
        "collapsed": true,
        "colab": {
          "base_uri": "https://localhost:8080/"
        },
        "id": "zwi0brby8tpS",
        "outputId": "3cf2413d-33be-4435-face-179f92c70795"
      },
      "execution_count": null,
      "outputs": [
        {
          "output_type": "stream",
          "name": "stdout",
          "text": [
            "Collecting evaluate\n",
            "  Downloading evaluate-0.4.3-py3-none-any.whl.metadata (9.2 kB)\n",
            "Requirement already satisfied: datasets>=2.0.0 in /usr/local/lib/python3.11/dist-packages (from evaluate) (2.14.4)\n",
            "Requirement already satisfied: numpy>=1.17 in /usr/local/lib/python3.11/dist-packages (from evaluate) (2.0.2)\n",
            "Requirement already satisfied: dill in /usr/local/lib/python3.11/dist-packages (from evaluate) (0.3.7)\n",
            "Requirement already satisfied: pandas in /usr/local/lib/python3.11/dist-packages (from evaluate) (2.2.2)\n",
            "Requirement already satisfied: requests>=2.19.0 in /usr/local/lib/python3.11/dist-packages (from evaluate) (2.32.3)\n",
            "Requirement already satisfied: tqdm>=4.62.1 in /usr/local/lib/python3.11/dist-packages (from evaluate) (4.67.1)\n",
            "Requirement already satisfied: xxhash in /usr/local/lib/python3.11/dist-packages (from evaluate) (3.5.0)\n",
            "Requirement already satisfied: multiprocess in /usr/local/lib/python3.11/dist-packages (from evaluate) (0.70.15)\n",
            "Requirement already satisfied: fsspec>=2021.05.0 in /usr/local/lib/python3.11/dist-packages (from fsspec[http]>=2021.05.0->evaluate) (2025.3.2)\n",
            "Requirement already satisfied: huggingface-hub>=0.7.0 in /usr/local/lib/python3.11/dist-packages (from evaluate) (0.31.2)\n",
            "Requirement already satisfied: packaging in /usr/local/lib/python3.11/dist-packages (from evaluate) (24.2)\n",
            "Requirement already satisfied: pyarrow>=8.0.0 in /usr/local/lib/python3.11/dist-packages (from datasets>=2.0.0->evaluate) (18.1.0)\n",
            "Requirement already satisfied: aiohttp in /usr/local/lib/python3.11/dist-packages (from datasets>=2.0.0->evaluate) (3.11.15)\n",
            "Requirement already satisfied: pyyaml>=5.1 in /usr/local/lib/python3.11/dist-packages (from datasets>=2.0.0->evaluate) (6.0.2)\n",
            "Requirement already satisfied: filelock in /usr/local/lib/python3.11/dist-packages (from huggingface-hub>=0.7.0->evaluate) (3.18.0)\n",
            "Requirement already satisfied: typing-extensions>=3.7.4.3 in /usr/local/lib/python3.11/dist-packages (from huggingface-hub>=0.7.0->evaluate) (4.13.2)\n",
            "Requirement already satisfied: charset-normalizer<4,>=2 in /usr/local/lib/python3.11/dist-packages (from requests>=2.19.0->evaluate) (3.4.2)\n",
            "Requirement already satisfied: idna<4,>=2.5 in /usr/local/lib/python3.11/dist-packages (from requests>=2.19.0->evaluate) (3.10)\n",
            "Requirement already satisfied: urllib3<3,>=1.21.1 in /usr/local/lib/python3.11/dist-packages (from requests>=2.19.0->evaluate) (2.4.0)\n",
            "Requirement already satisfied: certifi>=2017.4.17 in /usr/local/lib/python3.11/dist-packages (from requests>=2.19.0->evaluate) (2025.4.26)\n",
            "Requirement already satisfied: python-dateutil>=2.8.2 in /usr/local/lib/python3.11/dist-packages (from pandas->evaluate) (2.9.0.post0)\n",
            "Requirement already satisfied: pytz>=2020.1 in /usr/local/lib/python3.11/dist-packages (from pandas->evaluate) (2025.2)\n",
            "Requirement already satisfied: tzdata>=2022.7 in /usr/local/lib/python3.11/dist-packages (from pandas->evaluate) (2025.2)\n",
            "Requirement already satisfied: aiohappyeyeballs>=2.3.0 in /usr/local/lib/python3.11/dist-packages (from aiohttp->datasets>=2.0.0->evaluate) (2.6.1)\n",
            "Requirement already satisfied: aiosignal>=1.1.2 in /usr/local/lib/python3.11/dist-packages (from aiohttp->datasets>=2.0.0->evaluate) (1.3.2)\n",
            "Requirement already satisfied: attrs>=17.3.0 in /usr/local/lib/python3.11/dist-packages (from aiohttp->datasets>=2.0.0->evaluate) (25.3.0)\n",
            "Requirement already satisfied: frozenlist>=1.1.1 in /usr/local/lib/python3.11/dist-packages (from aiohttp->datasets>=2.0.0->evaluate) (1.6.0)\n",
            "Requirement already satisfied: multidict<7.0,>=4.5 in /usr/local/lib/python3.11/dist-packages (from aiohttp->datasets>=2.0.0->evaluate) (6.4.3)\n",
            "Requirement already satisfied: propcache>=0.2.0 in /usr/local/lib/python3.11/dist-packages (from aiohttp->datasets>=2.0.0->evaluate) (0.3.1)\n",
            "Requirement already satisfied: yarl<2.0,>=1.17.0 in /usr/local/lib/python3.11/dist-packages (from aiohttp->datasets>=2.0.0->evaluate) (1.20.0)\n",
            "Requirement already satisfied: six>=1.5 in /usr/local/lib/python3.11/dist-packages (from python-dateutil>=2.8.2->pandas->evaluate) (1.17.0)\n",
            "Downloading evaluate-0.4.3-py3-none-any.whl (84 kB)\n",
            "\u001b[2K   \u001b[90m\u2501\u2501\u2501\u2501\u2501\u2501\u2501\u2501\u2501\u2501\u2501\u2501\u2501\u2501\u2501\u2501\u2501\u2501\u2501\u2501\u2501\u2501\u2501\u2501\u2501\u2501\u2501\u2501\u2501\u2501\u2501\u2501\u2501\u2501\u2501\u2501\u2501\u2501\u2501\u2501\u001b[0m \u001b[32m84.0/84.0 kB\u001b[0m \u001b[31m3.4 MB/s\u001b[0m eta \u001b[36m0:00:00\u001b[0m\n",
            "\u001b[?25hInstalling collected packages: evaluate\n",
            "Successfully installed evaluate-0.4.3\n"
          ]
        }
      ]
    },
    {
      "cell_type": "code",
      "execution_count": null,
      "metadata": {
        "id": "xZiFjgEk7_bw"
      },
      "outputs": [],
      "source": [
        "from torch.utils.data import Dataset, DataLoader\n",
        "from transformers import AutoTokenizer, TrainingArguments, Trainer\n",
        "\n",
        "# AutoModelForTokenClassification \u0437\u0430\u0433\u0440\u0443\u0436\u0430\u0435\u0442 BERT \u0441 \u0433\u043e\u043b\u043e\u0432\u043e\u0439 \u0434\u043b\u044f \u0437\u0430\u0434\u0430\u0447\u0438 \u043a\u043b\u0430\u0441\u0441\u0438\u0444\u0438\u043a\u0430\u0446\u0438\u0438 \u0442\u043e\u043a\u0435\u043d\u043e\u0432 (Token Classification), \u0432\u043c\u0435\u0441\u0442\u043e \u043d\u0435\u0433\u043e \u0438\u0441\u043f\u043e\u043b\u044c\u0437\u0443\u044e \u043f\u0440\u043e\u0441\u0442\u043e AutoModel\n",
        "\n",
        "import torch\n",
        "import torchvision\n",
        "import torch.nn.functional as F\n",
        "import matplotlib.pyplot as plt\n",
        "import torch.nn as nn\n",
        "from transformers import AutoModel, AutoTokenizer\n",
        "import torch\n",
        "import evaluate\n",
        "from torch.utils.data import Dataset, DataLoader\n",
        "import pandas as pd\n",
        "import numpy as np\n",
        "import csv"
      ]
    },
    {
      "cell_type": "code",
      "source": [
        "import evaluate\n",
        "! pip install seqeval\n",
        "metric = evaluate.load('seqeval')"
      ],
      "metadata": {
        "colab": {
          "base_uri": "https://localhost:8080/",
          "height": 451,
          "referenced_widgets": [
            "6f199b6690f6475f840ee1f3d7fa6632",
            "98e0e97476f64173817121ab371eac2a",
            "549014536ef94d6b8e4f611d60b22464",
            "d8421fc6664d496da18d64b76b3c912e",
            "560993ea8daa4d069a56db0ab4f9def4",
            "77eb48c81670453e8e63271c51cf3fb1",
            "5bca96382cdb49d9b213ac1c3c9cf034",
            "30e2478748ef41a58b092a7fa5b1c30e",
            "fb9ebe355f2e42c3816ed771a146b05e",
            "b6a72d0e18604e3cb1a9865132d1b18c",
            "4b484532d2e344ab86079adfd87a156e"
          ]
        },
        "id": "hxnQtguR_VoU",
        "outputId": "27b67415-7904-4092-97cb-5eca266b7bb2",
        "collapsed": true
      },
      "execution_count": null,
      "outputs": [
        {
          "output_type": "stream",
          "name": "stdout",
          "text": [
            "Collecting seqeval\n",
            "  Downloading seqeval-1.2.2.tar.gz (43 kB)\n",
            "\u001b[?25l     \u001b[90m\u2501\u2501\u2501\u2501\u2501\u2501\u2501\u2501\u2501\u2501\u2501\u2501\u2501\u2501\u2501\u2501\u2501\u2501\u2501\u2501\u2501\u2501\u2501\u2501\u2501\u2501\u2501\u2501\u2501\u2501\u2501\u2501\u2501\u2501\u2501\u2501\u2501\u2501\u2501\u2501\u001b[0m \u001b[32m0.0/43.6 kB\u001b[0m \u001b[31m?\u001b[0m eta \u001b[36m-:--:--\u001b[0m\r\u001b[2K     \u001b[90m\u2501\u2501\u2501\u2501\u2501\u2501\u2501\u2501\u2501\u2501\u2501\u2501\u2501\u2501\u2501\u2501\u2501\u2501\u2501\u2501\u2501\u2501\u2501\u2501\u2501\u2501\u2501\u2501\u2501\u2501\u2501\u2501\u2501\u2501\u2501\u2501\u2501\u2501\u2501\u2501\u001b[0m \u001b[32m43.6/43.6 kB\u001b[0m \u001b[31m2.5 MB/s\u001b[0m eta \u001b[36m0:00:00\u001b[0m\n",
            "\u001b[?25h  Preparing metadata (setup.py) ... \u001b[?25l\u001b[?25hdone\n",
            "Requirement already satisfied: numpy>=1.14.0 in /usr/local/lib/python3.11/dist-packages (from seqeval) (2.0.2)\n",
            "Requirement already satisfied: scikit-learn>=0.21.3 in /usr/local/lib/python3.11/dist-packages (from seqeval) (1.6.1)\n",
            "Requirement already satisfied: scipy>=1.6.0 in /usr/local/lib/python3.11/dist-packages (from scikit-learn>=0.21.3->seqeval) (1.15.3)\n",
            "Requirement already satisfied: joblib>=1.2.0 in /usr/local/lib/python3.11/dist-packages (from scikit-learn>=0.21.3->seqeval) (1.5.0)\n",
            "Requirement already satisfied: threadpoolctl>=3.1.0 in /usr/local/lib/python3.11/dist-packages (from scikit-learn>=0.21.3->seqeval) (3.6.0)\n",
            "Building wheels for collected packages: seqeval\n",
            "  Building wheel for seqeval (setup.py) ... \u001b[?25l\u001b[?25hdone\n",
            "  Created wheel for seqeval: filename=seqeval-1.2.2-py3-none-any.whl size=16162 sha256=52903e7a4f083ef2bad87d616cc71e0e513036b31d7639d3bba9714e26d3a5a0\n",
            "  Stored in directory: /root/.cache/pip/wheels/bc/92/f0/243288f899c2eacdfa8c5f9aede4c71a9bad0ee26a01dc5ead\n",
            "Successfully built seqeval\n",
            "Installing collected packages: seqeval\n",
            "Successfully installed seqeval-1.2.2\n"
          ]
        },
        {
          "output_type": "stream",
          "name": "stderr",
          "text": [
            "/usr/local/lib/python3.11/dist-packages/huggingface_hub/utils/_auth.py:94: UserWarning: \n",
            "The secret `HF_TOKEN` does not exist in your Colab secrets.\n",
            "To authenticate with the Hugging Face Hub, create a token in your settings tab (https://huggingface.co/settings/tokens), set it as secret in your Google Colab and restart your session.\n",
            "You will be able to reuse this secret in all of your notebooks.\n",
            "Please note that authentication is recommended but still optional to access public models or datasets.\n",
            "  warnings.warn(\n"
          ]
        },
        {
          "output_type": "display_data",
          "data": {
            "text/plain": [
              "Downloading builder script:   0%|          | 0.00/6.34k [00:00<?, ?B/s]"
            ],
            "application/vnd.jupyter.widget-view+json": {
              "version_major": 2,
              "version_minor": 0,
              "model_id": "6f199b6690f6475f840ee1f3d7fa6632"
            }
          },
          "metadata": {}
        }
      ]
    },
    {
      "cell_type": "code",
      "source": [
        "from transformers import EarlyStoppingCallback"
      ],
      "metadata": {
        "id": "1tTOyLdTtY5-"
      },
      "execution_count": null,
      "outputs": []
    },
    {
      "cell_type": "code",
      "source": [
        "!pip install tabulate\n",
        "from tabulate import tabulate"
      ],
      "metadata": {
        "colab": {
          "base_uri": "https://localhost:8080/"
        },
        "id": "SU1KJWLXxgo0",
        "outputId": "13a6453c-a0c3-4c25-f5ca-53de5e85287a"
      },
      "execution_count": null,
      "outputs": [
        {
          "output_type": "stream",
          "name": "stdout",
          "text": [
            "Requirement already satisfied: tabulate in /usr/local/lib/python3.11/dist-packages (0.9.0)\n"
          ]
        }
      ]
    },
    {
      "cell_type": "code",
      "source": [
        "import seaborn as sns\n",
        "from collections import Counter\n",
        "import numpy as np"
      ],
      "metadata": {
        "id": "ZNanjOYrjg0H"
      },
      "execution_count": null,
      "outputs": []
    },
    {
      "cell_type": "code",
      "source": [
        "import os\n",
        "os.environ['WANDB_DISABLED'] = 'true'"
      ],
      "metadata": {
        "id": "VgofzLYLsBNV"
      },
      "execution_count": null,
      "outputs": []
    },
    {
      "cell_type": "code",
      "source": [
        "# \u0427\u0442\u0435\u043d\u0438\u0435 .csv \u0444\u0430\u0439\u043b\u0430 \u0434\u043b\u044f \u043f\u0440\u043e\u0432\u0435\u0440\u043a\u0438\n",
        "filepath = pd.read_csv('/content/Multilingual-dataset.csv')\n",
        "filepath.head(5)"
      ],
      "metadata": {
        "colab": {
          "base_uri": "https://localhost:8080/",
          "height": 206
        },
        "id": "-YM5M63p84yg",
        "outputId": "85070f3c-4eb5-4fd9-87bb-e6e34b89612a"
      },
      "execution_count": null,
      "outputs": [
        {
          "output_type": "execute_result",
          "data": {
            "text/plain": [
              "          text    NER\n",
              "0      \u0414\u0435\u0442\u0441\u0442\u0432\u043e      O\n",
              "1       \u043f\u0440\u043e\u0432\u0451\u043b      O\n",
              "2            \u0432      O\n",
              "3  \u041d\u0430\u0434\u044c\u0441\u043e\u043c\u0431\u0430\u0442\u0435  B-LOC\n",
              "4            \u0441      O"
            ],
            "text/html": [
              "\n",
              "  <div id=\"df-64cef5ea-a17e-4e6c-94de-d8dd806d7639\" class=\"colab-df-container\">\n",
              "    <div>\n",
              "<style scoped>\n",
              "    .dataframe tbody tr th:only-of-type {\n",
              "        vertical-align: middle;\n",
              "    }\n",
              "\n",
              "    .dataframe tbody tr th {\n",
              "        vertical-align: top;\n",
              "    }\n",
              "\n",
              "    .dataframe thead th {\n",
              "        text-align: right;\n",
              "    }\n",
              "</style>\n",
              "<table border=\"1\" class=\"dataframe\">\n",
              "  <thead>\n",
              "    <tr style=\"text-align: right;\">\n",
              "      <th></th>\n",
              "      <th>text</th>\n",
              "      <th>NER</th>\n",
              "    </tr>\n",
              "  </thead>\n",
              "  <tbody>\n",
              "    <tr>\n",
              "      <th>0</th>\n",
              "      <td>\u0414\u0435\u0442\u0441\u0442\u0432\u043e</td>\n",
              "      <td>O</td>\n",
              "    </tr>\n",
              "    <tr>\n",
              "      <th>1</th>\n",
              "      <td>\u043f\u0440\u043e\u0432\u0451\u043b</td>\n",
              "      <td>O</td>\n",
              "    </tr>\n",
              "    <tr>\n",
              "      <th>2</th>\n",
              "      <td>\u0432</td>\n",
              "      <td>O</td>\n",
              "    </tr>\n",
              "    <tr>\n",
              "      <th>3</th>\n",
              "      <td>\u041d\u0430\u0434\u044c\u0441\u043e\u043c\u0431\u0430\u0442\u0435</td>\n",
              "      <td>B-LOC</td>\n",
              "    </tr>\n",
              "    <tr>\n",
              "      <th>4</th>\n",
              "      <td>\u0441</td>\n",
              "      <td>O</td>\n",
              "    </tr>\n",
              "  </tbody>\n",
              "</table>\n",
              "</div>\n",
              "    <div class=\"colab-df-buttons\">\n",
              "\n",
              "  <div class=\"colab-df-container\">\n",
              "    <button class=\"colab-df-convert\" onclick=\"convertToInteractive('df-64cef5ea-a17e-4e6c-94de-d8dd806d7639')\"\n",
              "            title=\"Convert this dataframe to an interactive table.\"\n",
              "            style=\"display:none;\">\n",
              "\n",
              "  <svg xmlns=\"http://www.w3.org/2000/svg\" height=\"24px\" viewBox=\"0 -960 960 960\">\n",
              "    <path d=\"M120-120v-720h720v720H120Zm60-500h600v-160H180v160Zm220 220h160v-160H400v160Zm0 220h160v-160H400v160ZM180-400h160v-160H180v160Zm440 0h160v-160H620v160ZM180-180h160v-160H180v160Zm440 0h160v-160H620v160Z\"/>\n",
              "  </svg>\n",
              "    </button>\n",
              "\n",
              "  <style>\n",
              "    .colab-df-container {\n",
              "      display:flex;\n",
              "      gap: 12px;\n",
              "    }\n",
              "\n",
              "    .colab-df-convert {\n",
              "      background-color: #E8F0FE;\n",
              "      border: none;\n",
              "      border-radius: 50%;\n",
              "      cursor: pointer;\n",
              "      display: none;\n",
              "      fill: #1967D2;\n",
              "      height: 32px;\n",
              "      padding: 0 0 0 0;\n",
              "      width: 32px;\n",
              "    }\n",
              "\n",
              "    .colab-df-convert:hover {\n",
              "      background-color: #E2EBFA;\n",
              "      box-shadow: 0px 1px 2px rgba(60, 64, 67, 0.3), 0px 1px 3px 1px rgba(60, 64, 67, 0.15);\n",
              "      fill: #174EA6;\n",
              "    }\n",
              "\n",
              "    .colab-df-buttons div {\n",
              "      margin-bottom: 4px;\n",
              "    }\n",
              "\n",
              "    [theme=dark] .colab-df-convert {\n",
              "      background-color: #3B4455;\n",
              "      fill: #D2E3FC;\n",
              "    }\n",
              "\n",
              "    [theme=dark] .colab-df-convert:hover {\n",
              "      background-color: #434B5C;\n",
              "      box-shadow: 0px 1px 3px 1px rgba(0, 0, 0, 0.15);\n",
              "      filter: drop-shadow(0px 1px 2px rgba(0, 0, 0, 0.3));\n",
              "      fill: #FFFFFF;\n",
              "    }\n",
              "  </style>\n",
              "\n",
              "    <script>\n",
              "      const buttonEl =\n",
              "        document.querySelector('#df-64cef5ea-a17e-4e6c-94de-d8dd806d7639 button.colab-df-convert');\n",
              "      buttonEl.style.display =\n",
              "        google.colab.kernel.accessAllowed ? 'block' : 'none';\n",
              "\n",
              "      async function convertToInteractive(key) {\n",
              "        const element = document.querySelector('#df-64cef5ea-a17e-4e6c-94de-d8dd806d7639');\n",
              "        const dataTable =\n",
              "          await google.colab.kernel.invokeFunction('convertToInteractive',\n",
              "                                                    [key], {});\n",
              "        if (!dataTable) return;\n",
              "\n",
              "        const docLinkHtml = 'Like what you see? Visit the ' +\n",
              "          '<a target=\"_blank\" href=https://colab.research.google.com/notebooks/data_table.ipynb>data table notebook</a>'\n",
              "          + ' to learn more about interactive tables.';\n",
              "        element.innerHTML = '';\n",
              "        dataTable['output_type'] = 'display_data';\n",
              "        await google.colab.output.renderOutput(dataTable, element);\n",
              "        const docLink = document.createElement('div');\n",
              "        docLink.innerHTML = docLinkHtml;\n",
              "        element.appendChild(docLink);\n",
              "      }\n",
              "    </script>\n",
              "  </div>\n",
              "\n",
              "\n",
              "    <div id=\"df-4b591f09-c008-4606-bf79-d3ba22c325b9\">\n",
              "      <button class=\"colab-df-quickchart\" onclick=\"quickchart('df-4b591f09-c008-4606-bf79-d3ba22c325b9')\"\n",
              "                title=\"Suggest charts\"\n",
              "                style=\"display:none;\">\n",
              "\n",
              "<svg xmlns=\"http://www.w3.org/2000/svg\" height=\"24px\"viewBox=\"0 0 24 24\"\n",
              "     width=\"24px\">\n",
              "    <g>\n",
              "        <path d=\"M19 3H5c-1.1 0-2 .9-2 2v14c0 1.1.9 2 2 2h14c1.1 0 2-.9 2-2V5c0-1.1-.9-2-2-2zM9 17H7v-7h2v7zm4 0h-2V7h2v10zm4 0h-2v-4h2v4z\"/>\n",
              "    </g>\n",
              "</svg>\n",
              "      </button>\n",
              "\n",
              "<style>\n",
              "  .colab-df-quickchart {\n",
              "      --bg-color: #E8F0FE;\n",
              "      --fill-color: #1967D2;\n",
              "      --hover-bg-color: #E2EBFA;\n",
              "      --hover-fill-color: #174EA6;\n",
              "      --disabled-fill-color: #AAA;\n",
              "      --disabled-bg-color: #DDD;\n",
              "  }\n",
              "\n",
              "  [theme=dark] .colab-df-quickchart {\n",
              "      --bg-color: #3B4455;\n",
              "      --fill-color: #D2E3FC;\n",
              "      --hover-bg-color: #434B5C;\n",
              "      --hover-fill-color: #FFFFFF;\n",
              "      --disabled-bg-color: #3B4455;\n",
              "      --disabled-fill-color: #666;\n",
              "  }\n",
              "\n",
              "  .colab-df-quickchart {\n",
              "    background-color: var(--bg-color);\n",
              "    border: none;\n",
              "    border-radius: 50%;\n",
              "    cursor: pointer;\n",
              "    display: none;\n",
              "    fill: var(--fill-color);\n",
              "    height: 32px;\n",
              "    padding: 0;\n",
              "    width: 32px;\n",
              "  }\n",
              "\n",
              "  .colab-df-quickchart:hover {\n",
              "    background-color: var(--hover-bg-color);\n",
              "    box-shadow: 0 1px 2px rgba(60, 64, 67, 0.3), 0 1px 3px 1px rgba(60, 64, 67, 0.15);\n",
              "    fill: var(--button-hover-fill-color);\n",
              "  }\n",
              "\n",
              "  .colab-df-quickchart-complete:disabled,\n",
              "  .colab-df-quickchart-complete:disabled:hover {\n",
              "    background-color: var(--disabled-bg-color);\n",
              "    fill: var(--disabled-fill-color);\n",
              "    box-shadow: none;\n",
              "  }\n",
              "\n",
              "  .colab-df-spinner {\n",
              "    border: 2px solid var(--fill-color);\n",
              "    border-color: transparent;\n",
              "    border-bottom-color: var(--fill-color);\n",
              "    animation:\n",
              "      spin 1s steps(1) infinite;\n",
              "  }\n",
              "\n",
              "  @keyframes spin {\n",
              "    0% {\n",
              "      border-color: transparent;\n",
              "      border-bottom-color: var(--fill-color);\n",
              "      border-left-color: var(--fill-color);\n",
              "    }\n",
              "    20% {\n",
              "      border-color: transparent;\n",
              "      border-left-color: var(--fill-color);\n",
              "      border-top-color: var(--fill-color);\n",
              "    }\n",
              "    30% {\n",
              "      border-color: transparent;\n",
              "      border-left-color: var(--fill-color);\n",
              "      border-top-color: var(--fill-color);\n",
              "      border-right-color: var(--fill-color);\n",
              "    }\n",
              "    40% {\n",
              "      border-color: transparent;\n",
              "      border-right-color: var(--fill-color);\n",
              "      border-top-color: var(--fill-color);\n",
              "    }\n",
              "    60% {\n",
              "      border-color: transparent;\n",
              "      border-right-color: var(--fill-color);\n",
              "    }\n",
              "    80% {\n",
              "      border-color: transparent;\n",
              "      border-right-color: var(--fill-color);\n",
              "      border-bottom-color: var(--fill-color);\n",
              "    }\n",
              "    90% {\n",
              "      border-color: transparent;\n",
              "      border-bottom-color: var(--fill-color);\n",
              "    }\n",
              "  }\n",
              "</style>\n",
              "\n",
              "      <script>\n",
              "        async function quickchart(key) {\n",
              "          const quickchartButtonEl =\n",
              "            document.querySelector('#' + key + ' button');\n",
              "          quickchartButtonEl.disabled = true;  // To prevent multiple clicks.\n",
              "          quickchartButtonEl.classList.add('colab-df-spinner');\n",
              "          try {\n",
              "            const charts = await google.colab.kernel.invokeFunction(\n",
              "                'suggestCharts', [key], {});\n",
              "          } catch (error) {\n",
              "            console.error('Error during call to suggestCharts:', error);\n",
              "          }\n",
              "          quickchartButtonEl.classList.remove('colab-df-spinner');\n",
              "          quickchartButtonEl.classList.add('colab-df-quickchart-complete');\n",
              "        }\n",
              "        (() => {\n",
              "          let quickchartButtonEl =\n",
              "            document.querySelector('#df-4b591f09-c008-4606-bf79-d3ba22c325b9 button');\n",
              "          quickchartButtonEl.style.display =\n",
              "            google.colab.kernel.accessAllowed ? 'block' : 'none';\n",
              "        })();\n",
              "      </script>\n",
              "    </div>\n",
              "    </div>\n",
              "  </div>\n"
            ],
            "application/vnd.google.colaboratory.intrinsic+json": {
              "type": "dataframe",
              "variable_name": "filepath",
              "summary": "{\n  \"name\": \"filepath\",\n  \"rows\": 81212,\n  \"fields\": [\n    {\n      \"column\": \"text\",\n      \"properties\": {\n        \"dtype\": \"category\",\n        \"num_unique_values\": 24715,\n        \"samples\": [\n          \"\\u0438\\u0441\\u043f\\u043e\\u0432\\u0435\\u0434\\u0443\\u0435\\u0442\",\n          \"\\u0446\\u0432\\u0435\\u0442\\u043e\\u043e\\u0449\\u0443\\u0449\\u0435\\u043d\\u0438\\u044f\",\n          \"\\u041f\\u043e\\u0437\\u0434\\u043d\\u0438\\u0435\"\n        ],\n        \"semantic_type\": \"\",\n        \"description\": \"\"\n      }\n    },\n    {\n      \"column\": \"NER\",\n      \"properties\": {\n        \"dtype\": \"category\",\n        \"num_unique_values\": 13,\n        \"samples\": [\n          \"ORG\",\n          \"OO\",\n          \"O\"\n        ],\n        \"semantic_type\": \"\",\n        \"description\": \"\"\n      }\n    }\n  ]\n}"
            }
          },
          "metadata": {},
          "execution_count": 9
        }
      ]
    },
    {
      "cell_type": "markdown",
      "source": [
        "# **\u041f\u043e\u043f\u044b\u0442\u043a\u0430 3**"
      ],
      "metadata": {
        "id": "htNiNx7LLVpU"
      }
    },
    {
      "cell_type": "markdown",
      "source": [
        "**\u0424\u0443\u043d\u043a\u0446\u0438\u044f \u0434\u043b\u044f \u0440\u0430\u0441\u043f\u0430\u0440\u0441\u0438\u0432\u0430\u043d\u0438\u044f \u0434\u0430\u0442\u0430\u0441\u0435\u0442\u0430**"
      ],
      "metadata": {
        "id": "MNMxLvqy9IJJ"
      }
    },
    {
      "cell_type": "code",
      "source": [
        "def parse_dataset(filepath): # (\u043f\u0435\u0440\u0435\u043a\u043e\u043f\u0438\u0440\u043e\u0432\u0430\u043b\u0430, \u043a\u0430\u043a \u0431\u044b\u043b\u043e \u0432 \u043f\u0440\u043e\u0448\u043b\u044b\u0439 \u0440\u0430\u0437)\n",
        "    sentences, labels = [], []\n",
        "    with open(filepath, 'r', encoding='utf-8') as file:\n",
        "        reader = csv.reader(file)\n",
        "        current_sentence, current_labels = [], []\n",
        "        for row in reader:\n",
        "            if not row or row[0] == '':  # \u043f\u0443\u0441\u0442\u0430\u044f \u0441\u0442\u0440\u043e\u043a\u0430 \u0438\u043b\u0438 \u0441\u0442\u0440\u043e\u043a\u0430 \u0441 \u043f\u0443\u0441\u0442\u044b\u043c \u0442\u043e\u043a\u0435\u043d\u043e\u043c - \u043a\u043e\u043d\u0435\u0446 \u043f\u0440\u0435\u0434\u043b\u043e\u0436\u0435\u043d\u0438\u044f\n",
        "                if current_sentence:\n",
        "                    sentences.append(current_sentence)\n",
        "                    labels.append(current_labels)\n",
        "                current_sentence, current_labels = [], []\n",
        "            else:\n",
        "                token, tag = row[0], row[1]  # \u0442\u043e\u043a\u0435\u043d \u0438 \u043c\u0435\u0442\u043a\u0430 \u043d\u0430\u0445\u043e\u0434\u044f\u0442\u0441\u044f \u0432 \u043f\u0435\u0440\u0432\u044b\u0445 \u0434\u0432\u0443\u0445 \u043a\u043e\u043b\u043e\u043d\u043a\u0430\u0445\n",
        "                current_sentence.append(token)\n",
        "                current_labels.append(tag)\n",
        "        # \u0434\u043e\u0431\u0430\u0432\u043b\u044f\u044e \u043f\u043e\u0441\u043b\u0435\u0434\u043d\u0435\u0435 \u043f\u0440\u0435\u0434\u043b\u043e\u0436\u0435\u043d\u0438\u0435 \u043d\u0430 \u0441\u043b\u0443\u0447\u0430\u0439, \u0435\u0441\u043b\u0438 \u0444\u0430\u0439\u043b \u043d\u0435 \u0437\u0430\u043a\u0430\u043d\u0447\u0438\u0432\u0430\u043b\u0441\u044f \u043d\u0430 \u043f\u0443\u0441\u0442\u0443\u044e \u0441\u0442\u0440\u043e\u0447\u043a\u0443\n",
        "        if current_sentence:\n",
        "            sentences.append(current_sentence)\n",
        "            labels.append(current_labels)\n",
        "    return sentences, labels\n",
        "\n",
        "# \u041f\u0440\u043e\u0432\u0435\u0440\u043a\u0430 \u0434\u0430\u043d\u043d\u044b\u0445\n",
        "sentences, labels = parse_dataset('/content/Multilingual-dataset.csv')"
      ],
      "metadata": {
        "id": "ZfBzz-ne_Tc-"
      },
      "execution_count": null,
      "outputs": []
    },
    {
      "cell_type": "code",
      "source": [
        "# \u041f\u0440\u043e\u0432\u0435\u0440\u044e \u043a\u043e\u043b\u0438\u0447\u0435\u0441\u0442\u0432\u043e \u043f\u0440\u0435\u0434\u043b\u043e\u0436\u0435\u043d\u0438\u0439, \u043f\u0440\u0438\u043c\u0435\u0440\u044b \u043f\u0440\u0435\u0434\u043b\u043e\u0436\u0435\u043d\u0438\u0439 \u0438 \u043c\u0435\u0442\u043e\u043a\n",
        "print(f\"\u041a\u043e\u043b\u0438\u0447\u0435\u0441\u0442\u0432\u043e \u043f\u0440\u0435\u0434\u043b\u043e\u0436\u0435\u043d\u0438\u0439: {len(sentences)}\")\n",
        "print(f\"\u041f\u0440\u0438\u043c\u0435\u0440 \u043f\u0440\u0435\u0434\u043b\u043e\u0436\u0435\u043d\u0438\u044f: {sentences[0]}\")\n",
        "print(f\"\u041f\u0440\u0438\u043c\u0435\u0440 \u043c\u0435\u0442\u043e\u043a: {labels[0]}\")"
      ],
      "metadata": {
        "colab": {
          "base_uri": "https://localhost:8080/"
        },
        "outputId": "87e71f8d-76b7-4336-f426-f67d279274a7",
        "id": "DG7TkE_60kY4"
      },
      "execution_count": null,
      "outputs": [
        {
          "output_type": "stream",
          "name": "stdout",
          "text": [
            "\u041a\u043e\u043b\u0438\u0447\u0435\u0441\u0442\u0432\u043e \u043f\u0440\u0435\u0434\u043b\u043e\u0436\u0435\u043d\u0438\u0439: 3833\n",
            "\u041f\u0440\u0438\u043c\u0435\u0440 \u043f\u0440\u0435\u0434\u043b\u043e\u0436\u0435\u043d\u0438\u044f: ['text', '\u0414\u0435\u0442\u0441\u0442\u0432\u043e', '\u043f\u0440\u043e\u0432\u0451\u043b', '\u0432', '\u041d\u0430\u0434\u044c\u0441\u043e\u043c\u0431\u0430\u0442\u0435', '\u0441', '1860', '\u0433', '.']\n",
            "\u041f\u0440\u0438\u043c\u0435\u0440 \u043c\u0435\u0442\u043e\u043a: ['NER', 'O', 'O', 'O', 'B-LOC', 'O', 'O', 'O', 'O']\n"
          ]
        }
      ]
    },
    {
      "cell_type": "markdown",
      "source": [
        "**\u0420\u0430\u0441\u043f\u0440\u0435\u0434\u0435\u043b\u0435\u043d\u0438\u0435 \u043c\u0435\u0442\u043e\u043a (\u043a\u043b\u0430\u0441\u0441\u043e\u0432 NER)**"
      ],
      "metadata": {
        "id": "Rcl_NWCnAhvp"
      }
    },
    {
      "cell_type": "code",
      "source": [
        "# \u0432\u0438\u0437\u0443\u0430\u043b\u0438\u0437\u0438\u0440\u0443\u044e \u0440\u0430\u0441\u043f\u0440\u0435\u0434\u0435\u043b\u0435\u043d\u0438\u043d \u043c\u0435\u0442\u043e\u043a\n",
        "all_labels = [label for sublist in labels for label in sublist] # \u0441\u043e\u0431\u0438\u0440\u0430\u044e \u043c\u0435\u0442\u043a\u0438 \u0432 \u043e\u0434\u0438\u043d \u0441\u043f\u0438\u0441\u043e\u043a\n",
        "label_counts = Counter(all_labels) # \u0441\u0447\u0438\u0442\u0430\u0435\u0442\u0441\u044f \u0447\u0430\u0441\u0442\u043e\u0442\u043d\u043e\u0441\u0442\u044c\n",
        "labels_order = [\"O\", \"B-PER\", \"I-PER\", \"B-ORG\", \"I-ORG\", \"B-LOC\", \"I-LOC\"]\n",
        "counts = [label_counts[label] for label in labels_order]\n",
        "plt.figure(figsize=(12, 6))\n",
        "plt.subplot(1, 2, 1)\n",
        "ax = sns.barplot(x=labels_order, y=counts, palette=\"viridis\")\n",
        "plt.title(\"\u0420\u0430\u0441\u043f\u0440\u0435\u0434\u0435\u043b\u0435\u043d\u0438\u0435 \u0442\u0435\u0433\u043e\u0432 NER\", fontsize=14)\n",
        "plt.xlabel(\"\u0422\u0435\u0433\", fontsize=12)\n",
        "plt.ylabel(\"\u041a\u043e\u043b\u0438\u0447\u0435\u0441\u0442\u0432\u043e\", fontsize=12)\n",
        "plt.xticks(rotation=45)\n",
        "# \u0414\u043e\u0431\u0430\u0432\u043b\u044e \u0437\u043d\u0430\u0447\u0435\u043d\u0438\u0435 \u0438 \u0441\u0442\u043e\u043b\u0431\u0446\u044b\n",
        "for p in ax.patches:\n",
        "    ax.annotate(f\"{int(p.get_height())}\",\n",
        "                (p.get_x() + p.get_width() / 2., p.get_height()),\n",
        "                ha='center', va='center',\n",
        "                fontsize=10, color='black',\n",
        "                xytext=(0, 5),\n",
        "                textcoords='offset points')"
      ],
      "metadata": {
        "colab": {
          "base_uri": "https://localhost:8080/",
          "height": 685
        },
        "outputId": "b3b4923a-52dd-4541-ed4f-0446d7bdf0a9",
        "id": "DPr8C4LJ0w61"
      },
      "execution_count": null,
      "outputs": [
        {
          "output_type": "stream",
          "name": "stderr",
          "text": [
            "<ipython-input-222-194e3a5120a0>:12: FutureWarning: \n",
            "\n",
            "Passing `palette` without assigning `hue` is deprecated and will be removed in v0.14.0. Assign the `x` variable to `hue` and set `legend=False` for the same effect.\n",
            "\n",
            "  ax = sns.barplot(x=labels_order, y=counts, palette=\"viridis\")\n"
          ]
        },
        {
          "output_type": "display_data",
          "data": {
            "text/plain": [
              "<Figure size 1200x600 with 1 Axes>"
            ],
            "image/png": "[encoded data removed]"
          },
          "metadata": {}
        }
      ]
    },
    {
      "cell_type": "code",
      "source": [
        "# \u0420\u0430\u0437\u0434\u0435\u043b\u044e \u0434\u0430\u043d\u043d\u044b\u0435 \u043d\u0430 \u0442\u0440\u0435\u043d\u0438\u0440\u043e\u0432\u043e\u0447\u043d\u044b\u0435 \u0438 \u0432\u0430\u043b\u0438\u0434\u0430\u0446\u0438\u043e\u043d\u043d\u044b\u0435\n",
        "from sklearn.model_selection import train_test_split\n",
        "# \u041f\u0435\u0440\u0432\u043e\u0435 \u0440\u0430\u0437\u0434\u0435\u043b\u0435\u043d\u0438\u0435: \u0442\u0440\u0435\u043d\u0438\u0440\u043e\u0432\u0430\u0447\u043d\u044b\u0435 \u0434\u0430\u043d\u043d\u044b\u0435 70% + \u043e\u0441\u0442\u0430\u043b\u044c\u043d\u043e\u0435 - 30%\n",
        "train_sentences, temp_sentences, train_labels, temp_labels = train_test_split(\n",
        "    sentences, labels, test_size=0.3, random_state=42\n",
        ")\n",
        "# \u0412\u0442\u043e\u0440\u043e\u0435 \u0440\u0430\u0437\u0434\u0435\u043b\u0435\u043d\u0438\u0435: \u0432\u0430\u043b\u0438\u0434\u0430\u0446\u0438\u043e\u043d\u043d\u044b\u0435 - 20% \u0438 \u0442\u0435\u0441\u0442\u043e\u0432\u044b\u0435 - 10%, \u0432\u0441\u0435\u0433\u043e temp = 30, test_size=0.333, \u0442.\u043a 10/30\n",
        "val_sentences, test_sentences, val_labels, test_labels = train_test_split(\n",
        "    temp_sentences, temp_labels, test_size=0.333, random_state=42\n",
        ")"
      ],
      "metadata": {
        "id": "HQo2iEdy_XYC"
      },
      "execution_count": null,
      "outputs": []
    },
    {
      "cell_type": "code",
      "source": [
        "# \u0445\u043e\u0447\u0443 \u0432\u0438\u0437\u0443\u0430\u043b\u0438\u0437\u0438\u0440\u043e\u0432\u0430\u0442\u044c \u0434\u0430\u043d\u043d\u044b\u0435\n",
        "train_size = len(train_sentences)\n",
        "val_size = len(val_sentences)\n",
        "test_size = len(test_sentences)\n",
        "\n",
        "sizes = [train_size, val_size, test_size]\n",
        "labels = ['\u0422\u0440\u0435\u043d\u0438\u0440\u043e\u0432\u043e\u0447\u043d\u044b\u0435 (70%)', '\u0412\u0430\u043b\u0438\u0434\u0430\u0446\u0438\u043e\u043d\u043d\u044b\u0435 (20%)', '\u0422\u0435\u0441\u0442\u043e\u0432\u044b\u0435 (10%)']\n",
        "colors = ['#66b3ff', '#99ff99', '#ffcc99']\n",
        "# \u043f\u0443\u0441\u0442\u044c \u0431\u0443\u0434\u0435\u0442 \u043a\u0440\u0443\u0433\u043e\u0432\u0430\u044f \u0434\u0438\u0430\u0433\u0440\u0430\u043c\u043c\u0430\n",
        "plt.figure(figsize=(8, 6))\n",
        "plt.pie(sizes, labels=labels, colors=colors, autopct='%1.1f%%', startangle=90)\n",
        "plt.title('\u0420\u0430\u0441\u043f\u0440\u0435\u0434\u0435\u043b\u0435\u043d\u0438\u0435 \u0434\u0430\u043d\u043d\u044b\u0445 \u043c\u0435\u0436\u0434\u0443 \u043d\u0430\u0431\u043e\u0440\u0430\u043c\u0438')\n",
        "plt.axis('equal')\n",
        "plt.legend(title=\"\u0414\u0430\u043d\u043d\u044b\u0435:\", loc=\"upper left\")\n",
        "plt.show()"
      ],
      "metadata": {
        "colab": {
          "base_uri": "https://localhost:8080/",
          "height": 521
        },
        "id": "1zHKZKUOxRl0",
        "outputId": "e024f779-8f95-4f39-df8f-30bfe354deb7"
      },
      "execution_count": null,
      "outputs": [
        {
          "output_type": "display_data",
          "data": {
            "text/plain": [
              "<Figure size 800x600 with 1 Axes>"
            ],
            "image/png": "[encoded data removed]"
          },
          "metadata": {}
        }
      ]
    },
    {
      "cell_type": "code",
      "source": [
        "# \u043e\u043f\u0440\u0435\u0434\u0435\u043b\u044e \u0442\u0435\u0433\u0438 \u0438 \u0438\u0445 ID\n",
        "labels = {'I-ORG': 1,\n",
        "            'B-LOC': 2,\n",
        "            'B-ORG': 3,\n",
        "            'I-LOC': 4,\n",
        "            'I-PER': 5,\n",
        "            'O': 6,\n",
        "            'B-PER': 7}\n",
        "label2id = {label: idx for idx, label in enumerate(labels)}\n",
        "id2label = {idx: label for label, idx in label2id.items()}"
      ],
      "metadata": {
        "id": "fCunr8IL_cBB"
      },
      "execution_count": null,
      "outputs": []
    },
    {
      "cell_type": "code",
      "source": [
        "labels"
      ],
      "metadata": {
        "colab": {
          "base_uri": "https://localhost:8080/"
        },
        "id": "ZYQamEwQDG_m",
        "outputId": "658f76f0-b146-4249-a88b-ada17f1e03ba"
      },
      "execution_count": null,
      "outputs": [
        {
          "output_type": "execute_result",
          "data": {
            "text/plain": [
              "{'I-ORG': 1,\n",
              " 'B-LOC': 2,\n",
              " 'B-ORG': 3,\n",
              " 'I-LOC': 4,\n",
              " 'I-PER': 5,\n",
              " 'O': 6,\n",
              " 'B-PER': 7}"
            ]
          },
          "metadata": {},
          "execution_count": 51
        }
      ]
    },
    {
      "cell_type": "markdown",
      "source": [
        "**\u0417\u0430\u0433\u0440\u0443\u0437\u043a\u0430 \u0442\u043e\u043a\u0435\u043d\u0438\u0437\u0430\u0442\u043e\u0440\u0430 \u0438 \u043c\u043e\u0434\u0435\u043b\u0438**"
      ],
      "metadata": {
        "id": "X-WQYs_X9u3X"
      }
    },
    {
      "cell_type": "code",
      "source": [
        "# \u0437\u0430\u0433\u0440\u0443\u0436\u0430\u044e \u0442\u043e\u043a\u0435\u043d\u0438\u0437\u0430\u0442\u043e\u0440 \u0438 \u043c\u043e\u0434\u0435\u043b\u044c BERT \u0431\u0435\u0437 \u0433\u043e\u043b\u043e\u0432\u044b\n",
        "tokenizer = AutoTokenizer.from_pretrained(\"bert-base-multilingual-cased\")\n",
        "model = AutoModel.from_pretrained(\"bert-base-multilingual-cased\")"
      ],
      "metadata": {
        "id": "DBqEtW1s_g0H"
      },
      "execution_count": null,
      "outputs": []
    },
    {
      "cell_type": "code",
      "source": [
        "print(model)"
      ],
      "metadata": {
        "colab": {
          "base_uri": "https://localhost:8080/"
        },
        "id": "ZqBw0gLW_k25",
        "outputId": "ec9a977d-7bf5-4b5f-d901-f5af50bebfea"
      },
      "execution_count": null,
      "outputs": [
        {
          "output_type": "stream",
          "name": "stdout",
          "text": [
            "BertModel(\n",
            "  (embeddings): BertEmbeddings(\n",
            "    (word_embeddings): Embedding(119547, 768, padding_idx=0)\n",
            "    (position_embeddings): Embedding(512, 768)\n",
            "    (token_type_embeddings): Embedding(2, 768)\n",
            "    (LayerNorm): LayerNorm((768,), eps=1e-12, elementwise_affine=True)\n",
            "    (dropout): Dropout(p=0.1, inplace=False)\n",
            "  )\n",
            "  (encoder): BertEncoder(\n",
            "    (layer): ModuleList(\n",
            "      (0-11): 12 x BertLayer(\n",
            "        (attention): BertAttention(\n",
            "          (self): BertSdpaSelfAttention(\n",
            "            (query): Linear(in_features=768, out_features=768, bias=True)\n",
            "            (key): Linear(in_features=768, out_features=768, bias=True)\n",
            "            (value): Linear(in_features=768, out_features=768, bias=True)\n",
            "            (dropout): Dropout(p=0.1, inplace=False)\n",
            "          )\n",
            "          (output): BertSelfOutput(\n",
            "            (dense): Linear(in_features=768, out_features=768, bias=True)\n",
            "            (LayerNorm): LayerNorm((768,), eps=1e-12, elementwise_affine=True)\n",
            "            (dropout): Dropout(p=0.1, inplace=False)\n",
            "          )\n",
            "        )\n",
            "        (intermediate): BertIntermediate(\n",
            "          (dense): Linear(in_features=768, out_features=3072, bias=True)\n",
            "          (intermediate_act_fn): GELUActivation()\n",
            "        )\n",
            "        (output): BertOutput(\n",
            "          (dense): Linear(in_features=3072, out_features=768, bias=True)\n",
            "          (LayerNorm): LayerNorm((768,), eps=1e-12, elementwise_affine=True)\n",
            "          (dropout): Dropout(p=0.1, inplace=False)\n",
            "        )\n",
            "      )\n",
            "    )\n",
            "  )\n",
            "  (pooler): BertPooler(\n",
            "    (dense): Linear(in_features=768, out_features=768, bias=True)\n",
            "    (activation): Tanh()\n",
            "  )\n",
            ")\n"
          ]
        }
      ]
    },
    {
      "cell_type": "code",
      "source": [
        "# \u043a\u043b\u0430\u0441\u0441 NERDataset \u0434\u043b\u044f \u043e\u0431\u0440\u0430\u0431\u043e\u0442\u043a\u0438 \u0434\u0430\u043d\u043d\u044b\u0445(\u043a\u043e\u043f\u0438\u044f \u0438\u0437 \u0441\u0435\u043c\u0438\u043d\u0430\u0440\u0430 NER):\n",
        "class NERDataset(Dataset):\n",
        "    def __init__(self, sentences, labels, tokenizer, label2id, max_length=128):\n",
        "        self.sentences = sentences\n",
        "        self.labels = labels\n",
        "        self.tokenizer = tokenizer\n",
        "        self.label2id = label2id # c\u043b\u043e\u0432\u0430\u0440\u044c \u0434\u043b\u044f \u043f\u0440\u0435\u043e\u0431\u0440\u0430\u0437\u043e\u0432\u0430\u043d\u0438\u044f \u043c\u0435\u0442\u043e\u043a \u0432 \u0447\u0438\u0441\u043b\u043e\u0432\u044b\u0435 ID\n",
        "        self.max_length = max_length\n",
        "\n",
        "    def __len__(self):\n",
        "        return len(self.sentences)\n",
        "\n",
        "    def __getitem__(self, idx):\n",
        "        tokens = self.sentences[idx]\n",
        "        tags = self.labels[idx]\n",
        "\n",
        "        # \u0437\u0434\u0435\u0441\u044c \u043f\u0440\u043e\u0438\u0441\u0445\u043e\u0434\u0438\u0442 \u0442\u043e\u043a\u0435\u043d\u0438\u0437\u0430\u0446\u0438\u044f\n",
        "        encoding = self.tokenizer(\n",
        "            tokens,\n",
        "            is_split_into_words=True,\n",
        "            padding='max_length',\n",
        "            truncation=True, # \u043e\u0431\u0440\u0435\u0437\u0430\u0435\u0442 \u043f\u043e\u0441\u043b\u0435\u0434\u043e\u0432\u0430\u0442\u0435\u043b\u044c\u043d\u043e\u0441\u0442\u044c, \u0435\u0441\u043b\u0438 \u043e\u043d\u0430 \u0434\u043b\u0438\u043d\u043d\u0435\u0435 max_length\n",
        "            max_length=self.max_length,\n",
        "            return_offsets_mapping=True\n",
        "        )\n",
        "\n",
        "        # \u0441\u0432\u044f\u0437\u044b\u0432\u0430\u044e \u043c\u0435\u0442\u043e\u043a\u0438 \u0441 \u0442\u043e\u043a\u0435\u043d\u0430\u043c\u0438\n",
        "        labels = []\n",
        "        word_ids = encoding.word_ids()\n",
        "        previous_word_id = None\n",
        "        for word_id in word_ids:\n",
        "            if word_id is None:  # \u0441\u043f\u0435\u0446\u0438\u0430\u043b\u044c\u043d\u044b\u0435 \u0442\u043e\u043a\u0435\u043d\u044b \u0438\u043b\u0438 \u043f\u0430\u0434\u0434\u0438\u043d\u0433\n",
        "                labels.append(-100)\n",
        "            elif word_id != previous_word_id:  # \u043d\u0430\u0447\u0430\u043b\u043e \u043d\u043e\u0432\u043e\u0433\u043e \u0441\u043b\u043e\u0432\u0430\n",
        "                labels.append(self.label2id.get(tags[word_id], -100))\n",
        "            else:  # \u043f\u043e\u0434\u0442\u043e\u043a\u0435\u043d\u044b\n",
        "                labels.append(-100)\n",
        "            previous_word_id = word_id\n",
        "\n",
        "        encoding[\"labels\"] = labels\n",
        "        encoding.pop(\"offset_mapping\")  # \u0423\u0434\u0430\u043b\u044f\u044e offset_mapping, \u0442\u0430\u043a \u043a\u0430\u043a \u043e\u043d \u043d\u0435 \u043d\u0443\u0436\u0435\u043d\n",
        "\n",
        "        return {key: torch.tensor(val) for key, val in encoding.items()} #  \u0432\u043e\u0437\u0432\u0440\u0430\u0449\u0430\u0435\u0442 \u0441\u043b\u043e\u0432\u0430\u0440\u044c \u0441 \u043a\u043b\u044e\u0447\u0430\u043c\u0438: input_ids, attention_mask, labels"
      ],
      "metadata": {
        "id": "CfD7HLlr_q0g"
      },
      "execution_count": null,
      "outputs": []
    },
    {
      "cell_type": "code",
      "source": [
        "def create_dataloader(sentences, labels, tokenizer, label2id, batch_size=64, max_length=128, shuffle=True):\n",
        "    dataset = NERDataset(sentences, labels, tokenizer, label2id, max_length=max_length)\n",
        "    return DataLoader(dataset, batch_size=batch_size, shuffle=shuffle)"
      ],
      "metadata": {
        "id": "NWopYKug9fb2"
      },
      "execution_count": null,
      "outputs": []
    },
    {
      "cell_type": "code",
      "source": [
        "train_dataloader = create_dataloader(train_sentences, train_labels, tokenizer, label2id, shuffle=True)\n",
        "val_dataloader = create_dataloader(val_sentences, val_labels, tokenizer, label2id, shuffle=True)\n",
        "test_dataloader = create_dataloader(test_sentences, test_labels, tokenizer, label2id, shuffle=False)"
      ],
      "metadata": {
        "id": "nZNJmFblAAh-"
      },
      "execution_count": null,
      "outputs": []
    },
    {
      "cell_type": "code",
      "source": [
        "train_dataset = NERDataset(train_sentences, train_labels, tokenizer, label2id)\n",
        "val_dataset = NERDataset(val_sentences, val_labels, tokenizer, label2id)\n",
        "test_dataset = NERDataset(test_sentences, test_labels, tokenizer, label2id)"
      ],
      "metadata": {
        "id": "dfCn3r2XAE51"
      },
      "execution_count": null,
      "outputs": []
    },
    {
      "cell_type": "code",
      "source": [
        "from sklearn.utils.class_weight import compute_class_weight"
      ],
      "metadata": {
        "id": "TYq7RaVLAc1K"
      },
      "execution_count": null,
      "outputs": []
    },
    {
      "cell_type": "code",
      "source": [
        "from torch.optim import AdamW\n",
        "from torch.optim.lr_scheduler import ReduceLROnPlateau"
      ],
      "metadata": {
        "id": "pC6KzUh8AvEp"
      },
      "execution_count": null,
      "outputs": []
    },
    {
      "cell_type": "markdown",
      "source": [
        "**\u0424\u0438\u043a\u0441\u0430\u0446\u0438\u044f seed \u0434\u043b\u044f \u0432\u043e\u0441\u043f\u0440\u043e\u0438\u0437\u0432\u043e\u0434\u0438\u043c\u043e\u0441\u0442\u0438 \u0440\u0435\u0437\u0443\u043b\u044c\u0442\u0430\u0442\u043e\u0432**"
      ],
      "metadata": {
        "id": "ek-b_YbT1g-a"
      }
    },
    {
      "cell_type": "code",
      "source": [
        "import random\n",
        "import os\n",
        "# \u0424\u0438\u043a\u0441\u0438\u0440\u0443\u044e seed\n",
        "seed = 42\n",
        "os.environ['PYTHONHASHSEED'] = str(seed)\n",
        "random.seed(seed)\n",
        "np.random.seed(seed)\n",
        "torch.manual_seed(seed)\n",
        "torch.cuda.manual_seed(seed)\n",
        "torch.cuda.manual_seed_all(seed)\n",
        "\n",
        "# \u0434\u043b\u044f \u043e\u0431\u0435\u0441\u043f\u0435\u0447\u0435\u043d\u0438\u044f \u0434\u0435\u0442\u0435\u0440\u043c\u0438\u043d\u0438\u0437\u043c\u0430 \u0432 \u043e\u043f\u0435\u0440\u0430\u0446\u0438\u044f\u0445 \u043d\u0430 GPU\n",
        "torch.backends.cudnn.deterministic = True\n",
        "torch.backends.cudnn.benchmark = False"
      ],
      "metadata": {
        "id": "8flSw_PDLXMK"
      },
      "execution_count": null,
      "outputs": []
    },
    {
      "cell_type": "code",
      "source": [
        "#  \u043c\u043e\u0434\u0435\u043b\u044c \u043d\u0430 GPU\n",
        "device = torch.device(\"cuda\") if torch.cuda.is_available() else torch.device(\"cpu\")"
      ],
      "metadata": {
        "collapsed": true,
        "id": "7vVmbnbG0MZ1"
      },
      "execution_count": null,
      "outputs": []
    },
    {
      "cell_type": "code",
      "source": [
        "class NERModel_4(nn.Module):\n",
        "    def __init__(self, num_classes):\n",
        "        super().__init__()\n",
        "\n",
        "        self.bert = AutoModel.from_pretrained(\"bert-base-multilingual-cased\")\n",
        "        self.num_labels = num_classes\n",
        "        self.dropout = nn.Dropout(0.2)\n",
        "\n",
        "        # \u041c\u043e\u044f \u043a\u0430\u0441\u0442\u043e\u043c\u043d\u0430\u044f \u0433\u043e\u043b\u043e\u0432\u0430 \u0441 \u0434\u043e\u043f\u043e\u043b\u043d\u0438\u0442\u0435\u043b\u044c\u043d\u044b\u043c \u0441\u043b\u043e\u0435\u043c\n",
        "        self.classifier = nn.Sequential(\n",
        "            nn.Linear(self.bert.config.hidden_size, 768),\n",
        "            nn.LayerNorm(768),\n",
        "            nn.GELU(),\n",
        "            nn.Dropout(0.2),\n",
        "\n",
        "            nn.Linear(768, 128),\n",
        "            nn.LayerNorm(128),\n",
        "            nn.GELU(), # \u043f\u043e\u043c\u0435\u043d\u044f\u044e \u0437\u0434\u0435\u0441\u044c \u043d\u0430 GELU\n",
        "            nn.Dropout(0.2),\n",
        "\n",
        "            nn.Linear(128, num_classes)\n",
        "        )\n",
        "\n",
        "        # \u0417\u0430\u043c\u043e\u0440\u0430\u0436\u0438\u0432\u0430\u044e BERT \u043f\u043e\u043b\u043d\u043e\u0441\u0442\u044c\u044e\n",
        "        for param in self.bert.parameters():\n",
        "            param.requires_grad = False\n",
        "\n",
        "\n",
        "    def forward(self, input_ids, attention_mask, token_type_ids=None, labels=None):\n",
        "        with torch.no_grad():  # \u043e\u0442\u0441\u0443\u0442\u0441\u0442\u0432\u0438\u0435 \u0433\u0440\u0430\u0434\u0438\u0435\u043d\u0442\u043e\u0432 \u0432 BERT\n",
        "            outputs = self.bert(\n",
        "                input_ids=input_ids,\n",
        "                attention_mask=attention_mask,\n",
        "                token_type_ids=token_type_ids\n",
        "            )\n",
        "\n",
        "        sequence_output = self.dropout(outputs.last_hidden_state)\n",
        "        logits = self.classifier(sequence_output)\n",
        "\n",
        "        loss = None\n",
        "        if labels is not None:\n",
        "            loss_fn = nn.CrossEntropyLoss(\n",
        "                ignore_index=-100\n",
        "            )\n",
        "            loss = loss_fn(\n",
        "                logits.view(-1, self.num_labels),\n",
        "                labels.view(-1)\n",
        "            )\n",
        "\n",
        "        return (loss, logits) if loss is not None else logits"
      ],
      "metadata": {
        "id": "cblZ-qiiLin4"
      },
      "execution_count": null,
      "outputs": []
    },
    {
      "cell_type": "code",
      "source": [
        "# \u0418\u043d\u0438\u0446\u0438\u0430\u043b\u0438\u0437\u0430\u0446\u0438\u044f \u043c\u043e\u0434\u0435\u043b\u0438\n",
        "model = NERModel_4(num_classes=len(labels))\n",
        "model.to(device)"
      ],
      "metadata": {
        "colab": {
          "base_uri": "https://localhost:8080/"
        },
        "id": "PkpQZzRFMHsj",
        "outputId": "2a148dea-e243-49d6-d239-9de765066d83"
      },
      "execution_count": null,
      "outputs": [
        {
          "output_type": "execute_result",
          "data": {
            "text/plain": [
              "NERModel_4(\n",
              "  (bert): BertModel(\n",
              "    (embeddings): BertEmbeddings(\n",
              "      (word_embeddings): Embedding(119547, 768, padding_idx=0)\n",
              "      (position_embeddings): Embedding(512, 768)\n",
              "      (token_type_embeddings): Embedding(2, 768)\n",
              "      (LayerNorm): LayerNorm((768,), eps=1e-12, elementwise_affine=True)\n",
              "      (dropout): Dropout(p=0.1, inplace=False)\n",
              "    )\n",
              "    (encoder): BertEncoder(\n",
              "      (layer): ModuleList(\n",
              "        (0-11): 12 x BertLayer(\n",
              "          (attention): BertAttention(\n",
              "            (self): BertSdpaSelfAttention(\n",
              "              (query): Linear(in_features=768, out_features=768, bias=True)\n",
              "              (key): Linear(in_features=768, out_features=768, bias=True)\n",
              "              (value): Linear(in_features=768, out_features=768, bias=True)\n",
              "              (dropout): Dropout(p=0.1, inplace=False)\n",
              "            )\n",
              "            (output): BertSelfOutput(\n",
              "              (dense): Linear(in_features=768, out_features=768, bias=True)\n",
              "              (LayerNorm): LayerNorm((768,), eps=1e-12, elementwise_affine=True)\n",
              "              (dropout): Dropout(p=0.1, inplace=False)\n",
              "            )\n",
              "          )\n",
              "          (intermediate): BertIntermediate(\n",
              "            (dense): Linear(in_features=768, out_features=3072, bias=True)\n",
              "            (intermediate_act_fn): GELUActivation()\n",
              "          )\n",
              "          (output): BertOutput(\n",
              "            (dense): Linear(in_features=3072, out_features=768, bias=True)\n",
              "            (LayerNorm): LayerNorm((768,), eps=1e-12, elementwise_affine=True)\n",
              "            (dropout): Dropout(p=0.1, inplace=False)\n",
              "          )\n",
              "        )\n",
              "      )\n",
              "    )\n",
              "    (pooler): BertPooler(\n",
              "      (dense): Linear(in_features=768, out_features=768, bias=True)\n",
              "      (activation): Tanh()\n",
              "    )\n",
              "  )\n",
              "  (dropout): Dropout(p=0.2, inplace=False)\n",
              "  (classifier): Sequential(\n",
              "    (0): Linear(in_features=768, out_features=768, bias=True)\n",
              "    (1): LayerNorm((768,), eps=1e-05, elementwise_affine=True)\n",
              "    (2): GELU(approximate='none')\n",
              "    (3): Dropout(p=0.2, inplace=False)\n",
              "    (4): Linear(in_features=768, out_features=128, bias=True)\n",
              "    (5): LayerNorm((128,), eps=1e-05, elementwise_affine=True)\n",
              "    (6): GELU(approximate='none')\n",
              "    (7): Dropout(p=0.2, inplace=False)\n",
              "    (8): Linear(in_features=128, out_features=7, bias=True)\n",
              "  )\n",
              ")"
            ]
          },
          "metadata": {},
          "execution_count": 63
        }
      ]
    },
    {
      "cell_type": "code",
      "source": [
        "from seqeval.metrics import precision_score, recall_score, f1_score, accuracy_score\n",
        "\n",
        "def compute_metrics(p):\n",
        "    predictions, labels = p\n",
        "\n",
        "    # \u041f\u0440\u0435\u043e\u0431\u0440\u0430\u0437\u043e\u0432\u0430\u043d\u0438\u0435 \u043b\u043e\u0433\u0438\u0442\u043e\u0432 \u0432 \u043f\u0440\u0435\u0434\u0441\u043a\u0430\u0437\u0430\u043d\u043d\u044b\u0435 \u043a\u043b\u0430\u0441\u0441\u044b\n",
        "    predictions = np.argmax(predictions, axis=2)\n",
        "\n",
        "    true_predictions = []\n",
        "    true_labels = []\n",
        "\n",
        "    for prediction, label_seq in zip(predictions, labels):\n",
        "        current_predictions = []\n",
        "        current_labels = []\n",
        "\n",
        "        for pred, lab in zip(prediction, label_seq):\n",
        "            if lab != -100:\n",
        "                current_predictions.append(id2label[pred])\n",
        "                current_labels.append(id2label[lab])\n",
        "\n",
        "        if current_predictions:\n",
        "            true_predictions.append(current_predictions)\n",
        "            true_labels.append(current_labels)\n",
        "\n",
        "    if not true_predictions:\n",
        "        return {\"precision\": 0, \"recall\": 0, \"f1\": 0, \"accuracy\": 0}\n",
        "\n",
        "    # \u0412\u044b\u0447\u0438\u0441\u043b\u0435\u043d\u0438\u0435 \u043c\u0435\u0442\u0440\u0438\u043a\n",
        "    precision = precision_score(true_labels, true_predictions, zero_division=0)\n",
        "    recall = recall_score(true_labels, true_predictions, zero_division=0)\n",
        "    f1 = f1_score(true_labels, true_predictions, zero_division=0)\n",
        "    accuracy = accuracy_score(true_labels, true_predictions)\n",
        "\n",
        "    return {\n",
        "        \"precision\": precision,\n",
        "        \"recall\": recall,\n",
        "        \"f1\": f1,\n",
        "        \"accuracy\": accuracy\n",
        "    }"
      ],
      "metadata": {
        "id": "Haeql1EX_LSw"
      },
      "execution_count": null,
      "outputs": []
    },
    {
      "cell_type": "code",
      "source": [
        "optimizer = AdamW(\n",
        "    model.classifier.parameters(),\n",
        "    lr=1e-3, # \u0434\u0440\u0443\u0433\u043e\u0439 lr\n",
        "    amsgrad=True)"
      ],
      "metadata": {
        "id": "LTzB0e3iL1S2"
      },
      "execution_count": null,
      "outputs": []
    },
    {
      "cell_type": "code",
      "source": [
        "training_args = TrainingArguments(\n",
        "    output_dir=\"./results\",\n",
        "    eval_strategy=\"epoch\",\n",
        "    per_device_train_batch_size=64,\n",
        "    per_device_eval_batch_size=64,\n",
        "    num_train_epochs=20,\n",
        "    weight_decay=0.05,\n",
        "    logging_dir=\"./logs\",\n",
        "    logging_steps=10,\n",
        "    report_to=\"none\",\n",
        "    save_strategy=\"epoch\",\n",
        "    load_best_model_at_end=True,\n",
        "    metric_for_best_model=\"f1\")"
      ],
      "metadata": {
        "id": "vznxuoVQL_is"
      },
      "execution_count": null,
      "outputs": []
    },
    {
      "cell_type": "code",
      "source": [
        "from transformers import get_linear_schedule_with_warmup\n",
        "total_steps = len(train_dataloader) * training_args.num_train_epochs\n",
        "\n",
        "scheduler = get_linear_schedule_with_warmup(\n",
        "    optimizer,\n",
        "    num_warmup_steps=0,\n",
        "    num_training_steps=total_steps)"
      ],
      "metadata": {
        "id": "btTM8ERim1Fl"
      },
      "execution_count": null,
      "outputs": []
    },
    {
      "cell_type": "code",
      "source": [
        "trainer = Trainer(\n",
        "    model=model,\n",
        "    args=training_args,\n",
        "    optimizers=(optimizer, scheduler),\n",
        "    train_dataset=train_dataloader.dataset,\n",
        "    eval_dataset=val_dataloader.dataset,\n",
        "    tokenizer=tokenizer,\n",
        "    compute_metrics=compute_metrics,\n",
        "    callbacks=[EarlyStoppingCallback(early_stopping_patience=5)]\n",
        ")"
      ],
      "metadata": {
        "colab": {
          "base_uri": "https://localhost:8080/"
        },
        "id": "LOA4mkxbMDbo",
        "outputId": "bd3b64f4-0572-4ea1-c0e6-9dc7029e956e"
      },
      "execution_count": null,
      "outputs": [
        {
          "output_type": "stream",
          "name": "stderr",
          "text": [
            "<ipython-input-69-13679824d179>:1: FutureWarning: `tokenizer` is deprecated and will be removed in version 5.0.0 for `Trainer.__init__`. Use `processing_class` instead.\n",
            "  trainer = Trainer(\n"
          ]
        }
      ]
    },
    {
      "cell_type": "code",
      "source": [
        "# \u041e\u0431\u0443\u0447\u0435\u043d\u0438\u0435 \u043c\u043e\u0434\u0435\u043b\u0438\n",
        "trainer.train()"
      ],
      "metadata": {
        "colab": {
          "base_uri": "https://localhost:8080/",
          "height": 580
        },
        "id": "gG8DL75SnJ5T",
        "outputId": "f05608d8-66e7-4af2-9815-9bfde9f18c7c"
      },
      "execution_count": null,
      "outputs": [
        {
          "output_type": "display_data",
          "data": {
            "text/plain": [
              "<IPython.core.display.HTML object>"
            ],
            "text/html": [
              "\n",
              "    <div>\n",
              "      \n",
              "      <progress value='630' max='840' style='width:300px; height:20px; vertical-align: middle;'></progress>\n",
              "      [630/840 08:19 < 02:47, 1.26 it/s, Epoch 15/20]\n",
              "    </div>\n",
              "    <table border=\"1\" class=\"dataframe\">\n",
              "  <thead>\n",
              " <tr style=\"text-align: left;\">\n",
              "      <th>Epoch</th>\n",
              "      <th>Training Loss</th>\n",
              "      <th>Validation Loss</th>\n",
              "      <th>Precision</th>\n",
              "      <th>Recall</th>\n",
              "      <th>F1</th>\n",
              "      <th>Accuracy</th>\n",
              "    </tr>\n",
              "  </thead>\n",
              "  <tbody>\n",
              "    <tr>\n",
              "      <td>1</td>\n",
              "      <td>0.211500</td>\n",
              "      <td>0.142902</td>\n",
              "      <td>0.475177</td>\n",
              "      <td>0.599404</td>\n",
              "      <td>0.530110</td>\n",
              "      <td>0.955827</td>\n",
              "    </tr>\n",
              "    <tr>\n",
              "      <td>2</td>\n",
              "      <td>0.128000</td>\n",
              "      <td>0.095069</td>\n",
              "      <td>0.668712</td>\n",
              "      <td>0.758449</td>\n",
              "      <td>0.710759</td>\n",
              "      <td>0.970210</td>\n",
              "    </tr>\n",
              "    <tr>\n",
              "      <td>3</td>\n",
              "      <td>0.116900</td>\n",
              "      <td>0.087402</td>\n",
              "      <td>0.709424</td>\n",
              "      <td>0.808151</td>\n",
              "      <td>0.755576</td>\n",
              "      <td>0.972384</td>\n",
              "    </tr>\n",
              "    <tr>\n",
              "      <td>4</td>\n",
              "      <td>0.104200</td>\n",
              "      <td>0.079133</td>\n",
              "      <td>0.728571</td>\n",
              "      <td>0.811133</td>\n",
              "      <td>0.767639</td>\n",
              "      <td>0.974174</td>\n",
              "    </tr>\n",
              "    <tr>\n",
              "      <td>5</td>\n",
              "      <td>0.093400</td>\n",
              "      <td>0.083338</td>\n",
              "      <td>0.714043</td>\n",
              "      <td>0.833996</td>\n",
              "      <td>0.769372</td>\n",
              "      <td>0.973215</td>\n",
              "    </tr>\n",
              "    <tr>\n",
              "      <td>6</td>\n",
              "      <td>0.078100</td>\n",
              "      <td>0.077990</td>\n",
              "      <td>0.742832</td>\n",
              "      <td>0.824056</td>\n",
              "      <td>0.781338</td>\n",
              "      <td>0.975772</td>\n",
              "    </tr>\n",
              "    <tr>\n",
              "      <td>7</td>\n",
              "      <td>0.080100</td>\n",
              "      <td>0.080416</td>\n",
              "      <td>0.715266</td>\n",
              "      <td>0.829026</td>\n",
              "      <td>0.767956</td>\n",
              "      <td>0.973471</td>\n",
              "    </tr>\n",
              "    <tr>\n",
              "      <td>8</td>\n",
              "      <td>0.076000</td>\n",
              "      <td>0.078167</td>\n",
              "      <td>0.754054</td>\n",
              "      <td>0.832008</td>\n",
              "      <td>0.791115</td>\n",
              "      <td>0.975580</td>\n",
              "    </tr>\n",
              "    <tr>\n",
              "      <td>9</td>\n",
              "      <td>0.067200</td>\n",
              "      <td>0.075694</td>\n",
              "      <td>0.753292</td>\n",
              "      <td>0.852883</td>\n",
              "      <td>0.800000</td>\n",
              "      <td>0.976219</td>\n",
              "    </tr>\n",
              "    <tr>\n",
              "      <td>10</td>\n",
              "      <td>0.065900</td>\n",
              "      <td>0.076274</td>\n",
              "      <td>0.783886</td>\n",
              "      <td>0.822068</td>\n",
              "      <td>0.802523</td>\n",
              "      <td>0.976283</td>\n",
              "    </tr>\n",
              "    <tr>\n",
              "      <td>11</td>\n",
              "      <td>0.066700</td>\n",
              "      <td>0.078098</td>\n",
              "      <td>0.763110</td>\n",
              "      <td>0.838966</td>\n",
              "      <td>0.799242</td>\n",
              "      <td>0.976092</td>\n",
              "    </tr>\n",
              "    <tr>\n",
              "      <td>12</td>\n",
              "      <td>0.058400</td>\n",
              "      <td>0.079106</td>\n",
              "      <td>0.748221</td>\n",
              "      <td>0.835984</td>\n",
              "      <td>0.789671</td>\n",
              "      <td>0.974877</td>\n",
              "    </tr>\n",
              "    <tr>\n",
              "      <td>13</td>\n",
              "      <td>0.049900</td>\n",
              "      <td>0.078041</td>\n",
              "      <td>0.745184</td>\n",
              "      <td>0.845924</td>\n",
              "      <td>0.792365</td>\n",
              "      <td>0.975836</td>\n",
              "    </tr>\n",
              "    <tr>\n",
              "      <td>14</td>\n",
              "      <td>0.061100</td>\n",
              "      <td>0.077981</td>\n",
              "      <td>0.758652</td>\n",
              "      <td>0.828032</td>\n",
              "      <td>0.791825</td>\n",
              "      <td>0.976923</td>\n",
              "    </tr>\n",
              "    <tr>\n",
              "      <td>15</td>\n",
              "      <td>0.061600</td>\n",
              "      <td>0.079246</td>\n",
              "      <td>0.755357</td>\n",
              "      <td>0.840954</td>\n",
              "      <td>0.795861</td>\n",
              "      <td>0.975516</td>\n",
              "    </tr>\n",
              "  </tbody>\n",
              "</table><p>"
            ]
          },
          "metadata": {}
        },
        {
          "output_type": "execute_result",
          "data": {
            "text/plain": [
              "TrainOutput(global_step=630, training_loss=0.09632640253929865, metrics={'train_runtime': 500.4031, 'train_samples_per_second': 107.234, 'train_steps_per_second': 1.679, 'total_flos': 0.0, 'train_loss': 0.09632640253929865, 'epoch': 15.0})"
            ]
          },
          "metadata": {},
          "execution_count": 70
        }
      ]
    },
    {
      "cell_type": "code",
      "source": [
        "# \u043f\u043e\u0441\u043c\u043e\u0442\u0440\u044e \u043c\u0435\u0442\u0440\u0438\u043a\u0438 \u043d\u0430 \u0432\u0430\u043b\u0438\u0434\u0430\u0446\u0438\u043e\u043d\u043d\u043e\u0439 \u0447\u0430\u0441\u0442\u0438\n",
        "val_metrics = trainer.evaluate(eval_dataset=val_dataset)"
      ],
      "metadata": {
        "colab": {
          "base_uri": "https://localhost:8080/",
          "height": 37
        },
        "id": "8gLtaW7nT-L7",
        "outputId": "e1f8af12-ab6c-4230-89ce-cffa3dc8e8b5"
      },
      "execution_count": null,
      "outputs": [
        {
          "output_type": "display_data",
          "data": {
            "text/plain": [
              "<IPython.core.display.HTML object>"
            ],
            "text/html": [
              "\n",
              "    <div>\n",
              "      \n",
              "      <progress value='12' max='12' style='width:300px; height:20px; vertical-align: middle;'></progress>\n",
              "      [12/12 00:05]\n",
              "    </div>\n",
              "    "
            ]
          },
          "metadata": {}
        }
      ]
    },
    {
      "cell_type": "code",
      "source": [
        "metrics_data = [\n",
        "    [\"Loss\", val_metrics['eval_loss'], f\"{val_metrics['eval_loss']:.4f}\"],\n",
        "    [\"Precision\", val_metrics['eval_precision'], f\"{val_metrics['eval_precision']*100:.1f}%\"],\n",
        "    [\"Recall\", val_metrics['eval_recall'], f\"{val_metrics['eval_recall']*100:.1f}%\"],\n",
        "    [\"F1\", val_metrics['eval_f1'], f\"{val_metrics['eval_f1']*100:.1f}%\"],\n",
        "    [\"Accuracy\", val_metrics['eval_accuracy'], f\"{val_metrics['eval_accuracy']*100:.1f}%\"]\n",
        "]\n",
        "\n",
        "# \u0412\u044b\u0432\u043e\u0434 \u0442\u0430\u0431\u043b\u0438\u0446\u044b\n",
        "print(\"\\n\" + tabulate(metrics_data,\n",
        "                    headers=[\"Metric\", \"Value\", \"Percentage\"],\n",
        "                    tablefmt=\"grid\",\n",
        "                    floatfmt=\".4f\"))"
      ],
      "metadata": {
        "colab": {
          "base_uri": "https://localhost:8080/"
        },
        "id": "FYmcCWS_UHSl",
        "outputId": "33aa1a06-6f7f-4d1a-d98c-94eb4ecccdbd"
      },
      "execution_count": null,
      "outputs": [
        {
          "output_type": "stream",
          "name": "stdout",
          "text": [
            "\n",
            "+-----------+---------+--------------+\n",
            "| Metric    |   Value | Percentage   |\n",
            "+===========+=========+==============+\n",
            "| Loss      |  0.0763 | 0.0763       |\n",
            "+-----------+---------+--------------+\n",
            "| Precision |  0.7839 | 78.4%        |\n",
            "+-----------+---------+--------------+\n",
            "| Recall    |  0.8221 | 82.2%        |\n",
            "+-----------+---------+--------------+\n",
            "| F1        |  0.8025 | 80.3%        |\n",
            "+-----------+---------+--------------+\n",
            "| Accuracy  |  0.9763 | 97.6%        |\n",
            "+-----------+---------+--------------+\n"
          ]
        }
      ]
    },
    {
      "cell_type": "code",
      "source": [
        "def predict(sentence, tokenizer, model, device='cuda'): #(\u0441\u043a\u043e\u043f\u0438\u0440\u043e\u0432\u0430\u043b\u0430 \u043a\u043e\u0434 \u0438\u0437 \u0442\u0435\u0442\u0440\u0430\u0434\u043a\u0438)\n",
        "    model.to(device)\n",
        "    model.eval()  # \u043f\u0435\u0440\u0435\u0432\u043e\u0434\u0438\u043c \u043c\u043e\u0434\u0435\u043b\u044c \u0432 \u0440\u0435\u0436\u0438\u043c \u043e\u0446\u0435\u043d\u043a\u0438\n",
        "\n",
        "    # \u0422\u043e\u043a\u0435\u043d\u0438\u0437\u0430\u0446\u0438\u044f \u043f\u0440\u0435\u0434\u043b\u043e\u0436\u0435\u043d\u0438\u044f\n",
        "    tokens = tokenizer(\n",
        "        sentence.split(),  # \u0420\u0430\u0437\u0434\u0435\u043b\u044f\u044e \u043f\u0440\u0435\u0434\u043b\u043e\u0436\u0435\u043d\u0438\u0435 \u043d\u0430 \u0441\u043b\u043e\u0432\u0430\n",
        "        is_split_into_words=True,  # \u0423\u043a\u0430\u0437\u044b\u0432\u0430\u044e, \u0447\u0442\u043e \u0432\u0445\u043e\u0434 \u0443\u0436\u0435 \u0440\u0430\u0437\u0434\u0435\u043b\u0435\u043d \u043d\u0430 \u0441\u043b\u043e\u0432\u0430\n",
        "        return_tensors=\"pt\",  # \u0412\u043e\u0437\u0432\u0440\u0430\u0449\u0430\u044e \u0442\u0435\u043d\u0437\u043e\u0440\u044b PyTorch\n",
        "        truncation=True,  # \u041e\u0431\u0440\u0435\u0437\u0430\u044e \u043f\u0440\u0435\u0434\u043b\u043e\u0436\u0435\u043d\u0438\u0435, \u0435\u0441\u043b\u0438 \u043e\u043d\u043e \u0434\u043b\u0438\u043d\u043d\u0435\u0435 \u043c\u0430\u043a\u0441\u0438\u043c\u0430\u043b\u044c\u043d\u043e\u0439 \u0434\u043b\u0438\u043d\u044b\n",
        "        padding=True,  # \u0414\u043e\u0431\u0430\u0432\u043b\u044f\u044e \u043f\u0430\u0434\u0434\u0438\u043d\u0433, \u0435\u0441\u043b\u0438 \u043f\u0440\u0435\u0434\u043b\u043e\u0436\u0435\u043d\u0438\u0435 \u043a\u043e\u0440\u043e\u0447\u0435 \u043c\u0430\u043a\u0441\u0438\u043c\u0430\u043b\u044c\u043d\u043e\u0439 \u0434\u043b\u0438\u043d\u044b\n",
        "    )\n",
        "\n",
        "    #  \u0438\u043d\u0434\u0435\u043a\u0441\u044b \u0441\u043b\u043e\u0432 \u0434\u043b\u044f \u043a\u0430\u0436\u0434\u043e\u0433\u043e \u0442\u043e\u043a\u0435\u043d\u0430\n",
        "    word_ids = tokens.word_ids()\n",
        "\n",
        "    # \u0432\u0445\u043e\u0434\u043d\u044b\u0435 \u0434\u0430\u043d\u043d\u044b\u0435 \u043d\u0430 \u0443\u0441\u0442\u0440\u043e\u0439\u0441\u0442\u0432\u043e\n",
        "    tokens = {key: val.to(device) for key, val in tokens.items()}\n",
        "\n",
        "    # \u043f\u0440\u0435\u0434\u0441\u043a\u0430\u0437\u0430\u043d\u0438\u0435\n",
        "    with torch.no_grad():\n",
        "        outputs = model(**tokens)  # \u041f\u0440\u044f\u043c\u043e\u0439 \u043f\u0440\u043e\u0445\u043e\u0434 \u0447\u0435\u0440\u0435\u0437 \u043c\u043e\u0434\u0435\u043b\u044c\n",
        "        logits = outputs[1] if isinstance(outputs, tuple) else outputs  #  logits\n",
        "        predictions = logits.argmax(dim=-1).squeeze().tolist()  # logits \u0432 \u043f\u0440\u0435\u0434\u0441\u043a\u0430\u0437\u0430\u043d\u0438\u044f\n",
        "\n",
        "    # \u0421\u043e\u043f\u043e\u0441\u0442\u0430\u0432\u043b\u044f\u044e \u043f\u0440\u0435\u0434\u0441\u043a\u0430\u0437\u0430\u043d\u0438\u044f \u0441 \u0438\u0441\u0445\u043e\u0434\u043d\u044b\u043c\u0438 \u0441\u043b\u043e\u0432\u0430\u043c\u0438\n",
        "    aligned_predictions = []\n",
        "    current_word_id = None\n",
        "\n",
        "    for word_id, prediction in zip(word_ids, predictions):\n",
        "        if word_id is not None and word_id != current_word_id:  # \u043d\u0430\u0447\u0430\u043b\u043e \u043d\u043e\u0432\u043e\u0433\u043e \u0441\u043b\u043e\u0432\u0430\n",
        "            aligned_predictions.append(id2label[prediction])  #  ID \u0432 \u043c\u0435\u0442\u043a\u0443\n",
        "            current_word_id = word_id\n",
        "\n",
        "    # \u0421\u043e\u0435\u0434\u0438\u043d\u044f\u044e \u0441\u043b\u043e\u0432\u0430 \u0438 \u0438\u0445 \u043f\u0440\u0435\u0434\u0441\u043a\u0430\u0437\u0430\u043d\u043d\u044b\u0435 \u043c\u0435\u0442\u043a\u0438\n",
        "    result = list(zip(sentence.split(), aligned_predictions))\n",
        "    return result"
      ],
      "metadata": {
        "id": "yswtfC80UHs-"
      },
      "execution_count": null,
      "outputs": []
    },
    {
      "cell_type": "code",
      "source": [
        "# \u041f\u0440\u043e\u0432\u0435\u0440\u043a\u0430 \u043d\u0430 \u0440\u0430\u0437\u043b\u0438\u0447\u043d\u044b\u0445 \u043f\u0440\u0438\u043c\u0435\u0440\u0430\u0445\n",
        "test_sentences = [\n",
        "    \"\u041e\u043a\u043e\u043d\u0447\u0438\u043b \u0432 1966 \u0433\u043e\u0434\u0443 \u0448\u043a\u043e\u043b\u0443 \u0432 \u0411\u0440\u043e\u043d\u043a\u0441\u0435.\",\n",
        "    \"\u0421\u0435\u0440\u0433\u0435\u0439 \u0418\u0432\u0430\u043d\u043e\u0432 \u0440\u0430\u0431\u043e\u0442\u0430\u0435\u0442 \u0432 Google \u0432 \u041c\u043e\u0441\u043a\u0432\u0435.\",\n",
        "    \"\u041f\u0440\u0435\u0437\u0438\u0434\u0435\u043d\u0442 \u0424\u0440\u0430\u043d\u0446\u0438\u0438 \u042d\u043c\u043c\u0430\u043d\u0443\u044d\u043b\u044c \u041c\u0430\u043a\u0440\u043e\u043d \u043f\u043e\u0441\u0435\u0442\u0438\u043b \u0411\u0435\u0440\u043b\u0438\u043d.\",\n",
        "    \"\u0414\u043e\u043a\u0442\u043e\u0440 \u041f\u0435\u0442\u0440\u043e\u0432\u0430 \u0438\u0437 \u041c\u0413\u0423 \u043e\u043f\u0443\u0431\u043b\u0438\u043a\u043e\u0432\u0430\u043b\u0430 \u043d\u043e\u0432\u043e\u0435 \u0438\u0441\u0441\u043b\u0435\u0434\u043e\u0432\u0430\u043d\u0438\u0435.\",\n",
        "    \"\u0410\u043b\u0435\u043a\u0441\u0430\u043d\u0434\u0440 \u041f\u0443\u0448\u043a\u0438\u043d \u0440\u043e\u0434\u0438\u043b\u0441\u044f \u0432 \u041c\u043e\u0441\u043a\u0432\u0435 \u0432 1799 \u0433\u043e\u0434\u0443.\",\n",
        "    \"\u041a\u043e\u043c\u043f\u0430\u043d\u0438\u044f \u042f\u043d\u0434\u0435\u043a\u0441 \u043e\u0442\u043a\u0440\u044b\u043b\u0430 \u043d\u043e\u0432\u044b\u0439 \u043e\u0444\u0438\u0441 \u0432 \u041a\u0430\u0437\u0430\u043d\u0438.\",\n",
        "    \"\u041c\u044b \u043b\u0435\u0442\u0438\u043c \u0432 \u041d\u044c\u044e-\u0419\u043e\u0440\u043a \u0440\u0435\u0439\u0441\u043e\u043c \u0410\u044d\u0440\u043e\u0444\u043b\u043e\u0442\u0430 SU-100.\",\n",
        "    \"\u041f\u0440\u043e\u0444\u0435\u0441\u0441\u043e\u0440 \u0421\u043c\u0438\u0440\u043d\u043e\u0432 \u0438 \u0434\u043e\u0446\u0435\u043d\u0442 \u041a\u0443\u0437\u043d\u0435\u0446\u043e\u0432\u0430 \u0443\u0447\u0430\u0441\u0442\u0432\u043e\u0432\u0430\u043b\u0438 \u0432 \u043a\u043e\u043d\u0444\u0435\u0440\u0435\u043d\u0446\u0438\u0438 \u0432 \u0421\u0430\u043d\u043a\u0442-\u041f\u0435\u0442\u0435\u0440\u0431\u0443\u0440\u0433\u0435.\",\n",
        "    \"\u0422\u0443\u0440\u043d\u0438\u0440 \u043f\u043e \u0442\u0435\u043d\u043d\u0438\u0441\u0443 \u0420\u043e\u043b\u0430\u043d \u0413\u0430\u0440\u0440\u043e\u0441 \u043f\u0440\u043e\u0445\u043e\u0434\u0438\u0442 \u0432 \u041f\u0430\u0440\u0438\u0436\u0435.\",\n",
        "    \"\u0414\u0438\u0440\u0435\u043a\u0442\u043e\u0440 Microsoft \u0421\u0430\u0442\u044c\u044f \u041d\u0430\u0434\u0435\u043b\u043b\u0430 \u0432\u044b\u0441\u0442\u0443\u043f\u0438\u043b \u043d\u0430 \u0444\u043e\u0440\u0443\u043c\u0435 \u0432 \u0421\u0438\u044d\u0442\u043b\u0435.\",\n",
        "    \"\u0412\u0447\u0435\u0440\u0430 \u0432\u0438\u0434\u0435\u043b \u0418\u043b\u043e\u043d \u041c\u0430\u0441\u043a\u0430 \u0432 \u043a\u0430\u0444\u0435 Starbucks \u043d\u0430 \u0422\u0432\u0435\u0440\u0441\u043a\u043e\u0439.\",\n",
        "    \"\u041a\u0430\u0440\u0442\u0438\u043d\u0443 \u0412\u0430\u043d \u0413\u043e\u0433\u0430 \u043a\u0443\u043f\u0438\u043b \u043c\u0443\u0437\u0435\u0439 \u042d\u0440\u043c\u0438\u0442\u0430\u0436 \u0437\u0430 10 \u043c\u0438\u043b\u043b\u0438\u043e\u043d\u043e\u0432 \u0434\u043e\u043b\u043b\u0430\u0440\u043e\u0432.\"\n",
        "]\n",
        "\n",
        "print(\"=\"*50)\n",
        "print(\"\u0422\u0415\u0421\u0422\u0418\u0420\u041e\u0412\u0410\u041d\u0418\u0415 \u041c\u041e\u0414\u0415\u041b\u0418 NER\")\n",
        "print(\"=\"*50)\n",
        "\n",
        "for sent in test_sentences:\n",
        "    print(\"\\n\u041f\u0440\u0435\u0434\u043b\u043e\u0436\u0435\u043d\u0438\u0435:\", sent)\n",
        "    predictions = predict(sent, tokenizer, model)\n",
        "    print(\"\u0420\u0435\u0437\u0443\u043b\u044c\u0442\u0430\u0442\u044b:\")\n",
        "    for word, label in predictions:\n",
        "        print(f\"{word}: {label}\")\n",
        "    print(\"-\"*50)"
      ],
      "metadata": {
        "colab": {
          "base_uri": "https://localhost:8080/"
        },
        "collapsed": true,
        "id": "hS4Fy29-ULdP",
        "outputId": "b6d1fed9-8bbc-419d-ca4f-3ed9476a67d9"
      },
      "execution_count": null,
      "outputs": [
        {
          "output_type": "stream",
          "name": "stdout",
          "text": [
            "==================================================\n",
            "\u0422\u0415\u0421\u0422\u0418\u0420\u041e\u0412\u0410\u041d\u0418\u0415 \u041c\u041e\u0414\u0415\u041b\u0418 NER\n",
            "==================================================\n",
            "\n",
            "\u041f\u0440\u0435\u0434\u043b\u043e\u0436\u0435\u043d\u0438\u0435: \u041e\u043a\u043e\u043d\u0447\u0438\u043b \u0432 1966 \u0433\u043e\u0434\u0443 \u0448\u043a\u043e\u043b\u0443 \u0432 \u0411\u0440\u043e\u043d\u043a\u0441\u0435.\n",
            "\u0420\u0435\u0437\u0443\u043b\u044c\u0442\u0430\u0442\u044b:\n",
            "\u041e\u043a\u043e\u043d\u0447\u0438\u043b: O\n",
            "\u0432: O\n",
            "1966: O\n",
            "\u0433\u043e\u0434\u0443: O\n",
            "\u0448\u043a\u043e\u043b\u0443: O\n",
            "\u0432: O\n",
            "\u0411\u0440\u043e\u043d\u043a\u0441\u0435.: B-LOC\n",
            "--------------------------------------------------\n",
            "\n",
            "\u041f\u0440\u0435\u0434\u043b\u043e\u0436\u0435\u043d\u0438\u0435: \u0421\u0435\u0440\u0433\u0435\u0439 \u0418\u0432\u0430\u043d\u043e\u0432 \u0440\u0430\u0431\u043e\u0442\u0430\u0435\u0442 \u0432 Google \u0432 \u041c\u043e\u0441\u043a\u0432\u0435.\n",
            "\u0420\u0435\u0437\u0443\u043b\u044c\u0442\u0430\u0442\u044b:\n",
            "\u0421\u0435\u0440\u0433\u0435\u0439: B-PER\n",
            "\u0418\u0432\u0430\u043d\u043e\u0432: I-PER\n",
            "\u0440\u0430\u0431\u043e\u0442\u0430\u0435\u0442: O\n",
            "\u0432: O\n",
            "Google: B-LOC\n",
            "\u0432: O\n",
            "\u041c\u043e\u0441\u043a\u0432\u0435.: B-LOC\n",
            "--------------------------------------------------\n",
            "\n",
            "\u041f\u0440\u0435\u0434\u043b\u043e\u0436\u0435\u043d\u0438\u0435: \u041f\u0440\u0435\u0437\u0438\u0434\u0435\u043d\u0442 \u0424\u0440\u0430\u043d\u0446\u0438\u0438 \u042d\u043c\u043c\u0430\u043d\u0443\u044d\u043b\u044c \u041c\u0430\u043a\u0440\u043e\u043d \u043f\u043e\u0441\u0435\u0442\u0438\u043b \u0411\u0435\u0440\u043b\u0438\u043d.\n",
            "\u0420\u0435\u0437\u0443\u043b\u044c\u0442\u0430\u0442\u044b:\n",
            "\u041f\u0440\u0435\u0437\u0438\u0434\u0435\u043d\u0442: O\n",
            "\u0424\u0440\u0430\u043d\u0446\u0438\u0438: B-LOC\n",
            "\u042d\u043c\u043c\u0430\u043d\u0443\u044d\u043b\u044c: B-PER\n",
            "\u041c\u0430\u043a\u0440\u043e\u043d: I-PER\n",
            "\u043f\u043e\u0441\u0435\u0442\u0438\u043b: O\n",
            "\u0411\u0435\u0440\u043b\u0438\u043d.: B-LOC\n",
            "--------------------------------------------------\n",
            "\n",
            "\u041f\u0440\u0435\u0434\u043b\u043e\u0436\u0435\u043d\u0438\u0435: \u0414\u043e\u043a\u0442\u043e\u0440 \u041f\u0435\u0442\u0440\u043e\u0432\u0430 \u0438\u0437 \u041c\u0413\u0423 \u043e\u043f\u0443\u0431\u043b\u0438\u043a\u043e\u0432\u0430\u043b\u0430 \u043d\u043e\u0432\u043e\u0435 \u0438\u0441\u0441\u043b\u0435\u0434\u043e\u0432\u0430\u043d\u0438\u0435.\n",
            "\u0420\u0435\u0437\u0443\u043b\u044c\u0442\u0430\u0442\u044b:\n",
            "\u0414\u043e\u043a\u0442\u043e\u0440: O\n",
            "\u041f\u0435\u0442\u0440\u043e\u0432\u0430: B-PER\n",
            "\u0438\u0437: O\n",
            "\u041c\u0413\u0423: B-ORG\n",
            "\u043e\u043f\u0443\u0431\u043b\u0438\u043a\u043e\u0432\u0430\u043b\u0430: O\n",
            "\u043d\u043e\u0432\u043e\u0435: O\n",
            "\u0438\u0441\u0441\u043b\u0435\u0434\u043e\u0432\u0430\u043d\u0438\u0435.: O\n",
            "--------------------------------------------------\n",
            "\n",
            "\u041f\u0440\u0435\u0434\u043b\u043e\u0436\u0435\u043d\u0438\u0435: \u0410\u043b\u0435\u043a\u0441\u0430\u043d\u0434\u0440 \u041f\u0443\u0448\u043a\u0438\u043d \u0440\u043e\u0434\u0438\u043b\u0441\u044f \u0432 \u041c\u043e\u0441\u043a\u0432\u0435 \u0432 1799 \u0433\u043e\u0434\u0443.\n",
            "\u0420\u0435\u0437\u0443\u043b\u044c\u0442\u0430\u0442\u044b:\n",
            "\u0410\u043b\u0435\u043a\u0441\u0430\u043d\u0434\u0440: B-PER\n",
            "\u041f\u0443\u0448\u043a\u0438\u043d: I-PER\n",
            "\u0440\u043e\u0434\u0438\u043b\u0441\u044f: O\n",
            "\u0432: O\n",
            "\u041c\u043e\u0441\u043a\u0432\u0435: B-LOC\n",
            "\u0432: O\n",
            "1799: O\n",
            "\u0433\u043e\u0434\u0443.: O\n",
            "--------------------------------------------------\n",
            "\n",
            "\u041f\u0440\u0435\u0434\u043b\u043e\u0436\u0435\u043d\u0438\u0435: \u041a\u043e\u043c\u043f\u0430\u043d\u0438\u044f \u042f\u043d\u0434\u0435\u043a\u0441 \u043e\u0442\u043a\u0440\u044b\u043b\u0430 \u043d\u043e\u0432\u044b\u0439 \u043e\u0444\u0438\u0441 \u0432 \u041a\u0430\u0437\u0430\u043d\u0438.\n",
            "\u0420\u0435\u0437\u0443\u043b\u044c\u0442\u0430\u0442\u044b:\n",
            "\u041a\u043e\u043c\u043f\u0430\u043d\u0438\u044f: O\n",
            "\u042f\u043d\u0434\u0435\u043a\u0441: B-ORG\n",
            "\u043e\u0442\u043a\u0440\u044b\u043b\u0430: O\n",
            "\u043d\u043e\u0432\u044b\u0439: O\n",
            "\u043e\u0444\u0438\u0441: O\n",
            "\u0432: O\n",
            "\u041a\u0430\u0437\u0430\u043d\u0438.: B-LOC\n",
            "--------------------------------------------------\n",
            "\n",
            "\u041f\u0440\u0435\u0434\u043b\u043e\u0436\u0435\u043d\u0438\u0435: \u041c\u044b \u043b\u0435\u0442\u0438\u043c \u0432 \u041d\u044c\u044e-\u0419\u043e\u0440\u043a \u0440\u0435\u0439\u0441\u043e\u043c \u0410\u044d\u0440\u043e\u0444\u043b\u043e\u0442\u0430 SU-100.\n",
            "\u0420\u0435\u0437\u0443\u043b\u044c\u0442\u0430\u0442\u044b:\n",
            "\u041c\u044b: O\n",
            "\u043b\u0435\u0442\u0438\u043c: O\n",
            "\u0432: O\n",
            "\u041d\u044c\u044e-\u0419\u043e\u0440\u043a: B-LOC\n",
            "\u0440\u0435\u0439\u0441\u043e\u043c: O\n",
            "\u0410\u044d\u0440\u043e\u0444\u043b\u043e\u0442\u0430: O\n",
            "SU-100.: O\n",
            "--------------------------------------------------\n",
            "\n",
            "\u041f\u0440\u0435\u0434\u043b\u043e\u0436\u0435\u043d\u0438\u0435: \u041f\u0440\u043e\u0444\u0435\u0441\u0441\u043e\u0440 \u0421\u043c\u0438\u0440\u043d\u043e\u0432 \u0438 \u0434\u043e\u0446\u0435\u043d\u0442 \u041a\u0443\u0437\u043d\u0435\u0446\u043e\u0432\u0430 \u0443\u0447\u0430\u0441\u0442\u0432\u043e\u0432\u0430\u043b\u0438 \u0432 \u043a\u043e\u043d\u0444\u0435\u0440\u0435\u043d\u0446\u0438\u0438 \u0432 \u0421\u0430\u043d\u043a\u0442-\u041f\u0435\u0442\u0435\u0440\u0431\u0443\u0440\u0433\u0435.\n",
            "\u0420\u0435\u0437\u0443\u043b\u044c\u0442\u0430\u0442\u044b:\n",
            "\u041f\u0440\u043e\u0444\u0435\u0441\u0441\u043e\u0440: O\n",
            "\u0421\u043c\u0438\u0440\u043d\u043e\u0432: B-PER\n",
            "\u0438: O\n",
            "\u0434\u043e\u0446\u0435\u043d\u0442: O\n",
            "\u041a\u0443\u0437\u043d\u0435\u0446\u043e\u0432\u0430: B-PER\n",
            "\u0443\u0447\u0430\u0441\u0442\u0432\u043e\u0432\u0430\u043b\u0438: O\n",
            "\u0432: O\n",
            "\u043a\u043e\u043d\u0444\u0435\u0440\u0435\u043d\u0446\u0438\u0438: O\n",
            "\u0432: O\n",
            "\u0421\u0430\u043d\u043a\u0442-\u041f\u0435\u0442\u0435\u0440\u0431\u0443\u0440\u0433\u0435.: B-LOC\n",
            "--------------------------------------------------\n",
            "\n",
            "\u041f\u0440\u0435\u0434\u043b\u043e\u0436\u0435\u043d\u0438\u0435: \u0422\u0443\u0440\u043d\u0438\u0440 \u043f\u043e \u0442\u0435\u043d\u043d\u0438\u0441\u0443 \u0420\u043e\u043b\u0430\u043d \u0413\u0430\u0440\u0440\u043e\u0441 \u043f\u0440\u043e\u0445\u043e\u0434\u0438\u0442 \u0432 \u041f\u0430\u0440\u0438\u0436\u0435.\n",
            "\u0420\u0435\u0437\u0443\u043b\u044c\u0442\u0430\u0442\u044b:\n",
            "\u0422\u0443\u0440\u043d\u0438\u0440: O\n",
            "\u043f\u043e: O\n",
            "\u0442\u0435\u043d\u043d\u0438\u0441\u0443: O\n",
            "\u0420\u043e\u043b\u0430\u043d: B-PER\n",
            "\u0413\u0430\u0440\u0440\u043e\u0441: I-PER\n",
            "\u043f\u0440\u043e\u0445\u043e\u0434\u0438\u0442: O\n",
            "\u0432: O\n",
            "\u041f\u0430\u0440\u0438\u0436\u0435.: B-LOC\n",
            "--------------------------------------------------\n",
            "\n",
            "\u041f\u0440\u0435\u0434\u043b\u043e\u0436\u0435\u043d\u0438\u0435: \u0414\u0438\u0440\u0435\u043a\u0442\u043e\u0440 Microsoft \u0421\u0430\u0442\u044c\u044f \u041d\u0430\u0434\u0435\u043b\u043b\u0430 \u0432\u044b\u0441\u0442\u0443\u043f\u0438\u043b \u043d\u0430 \u0444\u043e\u0440\u0443\u043c\u0435 \u0432 \u0421\u0438\u044d\u0442\u043b\u0435.\n",
            "\u0420\u0435\u0437\u0443\u043b\u044c\u0442\u0430\u0442\u044b:\n",
            "\u0414\u0438\u0440\u0435\u043a\u0442\u043e\u0440: O\n",
            "Microsoft: B-ORG\n",
            "\u0421\u0430\u0442\u044c\u044f: B-PER\n",
            "\u041d\u0430\u0434\u0435\u043b\u043b\u0430: I-PER\n",
            "\u0432\u044b\u0441\u0442\u0443\u043f\u0438\u043b: O\n",
            "\u043d\u0430: O\n",
            "\u0444\u043e\u0440\u0443\u043c\u0435: O\n",
            "\u0432: O\n",
            "\u0421\u0438\u044d\u0442\u043b\u0435.: B-LOC\n",
            "--------------------------------------------------\n",
            "\n",
            "\u041f\u0440\u0435\u0434\u043b\u043e\u0436\u0435\u043d\u0438\u0435: \u0412\u0447\u0435\u0440\u0430 \u0432\u0438\u0434\u0435\u043b \u0418\u043b\u043e\u043d \u041c\u0430\u0441\u043a\u0430 \u0432 \u043a\u0430\u0444\u0435 Starbucks \u043d\u0430 \u0422\u0432\u0435\u0440\u0441\u043a\u043e\u0439.\n",
            "\u0420\u0435\u0437\u0443\u043b\u044c\u0442\u0430\u0442\u044b:\n",
            "\u0412\u0447\u0435\u0440\u0430: O\n",
            "\u0432\u0438\u0434\u0435\u043b: O\n",
            "\u0418\u043b\u043e\u043d: B-PER\n",
            "\u041c\u0430\u0441\u043a\u0430: I-PER\n",
            "\u0432: O\n",
            "\u043a\u0430\u0444\u0435: O\n",
            "Starbucks: B-ORG\n",
            "\u043d\u0430: O\n",
            "\u0422\u0432\u0435\u0440\u0441\u043a\u043e\u0439.: B-LOC\n",
            "--------------------------------------------------\n",
            "\n",
            "\u041f\u0440\u0435\u0434\u043b\u043e\u0436\u0435\u043d\u0438\u0435: \u041a\u0430\u0440\u0442\u0438\u043d\u0443 \u0412\u0430\u043d \u0413\u043e\u0433\u0430 \u043a\u0443\u043f\u0438\u043b \u043c\u0443\u0437\u0435\u0439 \u042d\u0440\u043c\u0438\u0442\u0430\u0436 \u0437\u0430 10 \u043c\u0438\u043b\u043b\u0438\u043e\u043d\u043e\u0432 \u0434\u043e\u043b\u043b\u0430\u0440\u043e\u0432.\n",
            "\u0420\u0435\u0437\u0443\u043b\u044c\u0442\u0430\u0442\u044b:\n",
            "\u041a\u0430\u0440\u0442\u0438\u043d\u0443: O\n",
            "\u0412\u0430\u043d: B-PER\n",
            "\u0413\u043e\u0433\u0430: I-PER\n",
            "\u043a\u0443\u043f\u0438\u043b: O\n",
            "\u043c\u0443\u0437\u0435\u0439: O\n",
            "\u042d\u0440\u043c\u0438\u0442\u0430\u0436: O\n",
            "\u0437\u0430: O\n",
            "10: O\n",
            "\u043c\u0438\u043b\u043b\u0438\u043e\u043d\u043e\u0432: O\n",
            "\u0434\u043e\u043b\u043b\u0430\u0440\u043e\u0432.: O\n",
            "--------------------------------------------------\n"
          ]
        }
      ]
    },
    {
      "cell_type": "code",
      "source": [
        "from tabulate import tabulate\n",
        "from termcolor import colored\n",
        "\n",
        "def get_colored_label(label):\n",
        "    colors = {\n",
        "        'B-PER': 'green',\n",
        "        'I-PER': 'green',\n",
        "        'B-LOC': 'blue',\n",
        "        'I-LOC': 'blue',\n",
        "        'B-ORG': 'magenta',\n",
        "        'I-ORG': 'magenta',\n",
        "        'O': 'white'\n",
        "    }\n",
        "    return colored(label, colors.get(label, 'white'))\n",
        "\n",
        "print(\"=\"*70)\n",
        "print(colored(\" \u0422\u0415\u0421\u0422\u0418\u0420\u041e\u0412\u0410\u041d\u0418\u0415 \u041c\u041e\u0414\u0415\u041b\u0418 NER \".center(70), 'white', 'on_blue'))\n",
        "print(\"=\"*70)\n",
        "\n",
        "for sent in test_sentences:\n",
        "    # \u041f\u043e\u043b\u0443\u0447\u0430\u0435\u043c \u043f\u0440\u0435\u0434\u0441\u043a\u0430\u0437\u0430\u043d\u0438\u044f\n",
        "    predictions = predict(sent, tokenizer, model)\n",
        "\n",
        "\n",
        "    table_data = []\n",
        "    current_entity = None\n",
        "    entity_words = []\n",
        "\n",
        "    for word, label in predictions:\n",
        "        if label in ['B-PER', 'I-PER', 'B-LOC', 'I-LOC', 'B-ORG', 'I-ORG', 'O']:\n",
        "            if label.startswith('B-'):\n",
        "                if current_entity:\n",
        "                    table_data.append([\" \".join(entity_words), current_entity[2:], get_colored_label(current_entity)])\n",
        "                current_entity = label\n",
        "                entity_words = [word]\n",
        "            elif label.startswith('I-') and current_entity and current_entity == label.replace('I-', 'B-'):\n",
        "                entity_words.append(word)\n",
        "            elif label == 'O':\n",
        "                if current_entity:\n",
        "                    table_data.append([\" \".join(entity_words), current_entity[2:], get_colored_label(current_entity)])\n",
        "                current_entity = None\n",
        "                entity_words = []\n",
        "                table_data.append([word, \"O\", get_colored_label(\"O\")])\n",
        "\n",
        "    # \u0414\u043e\u0431\u0430\u0432\u043b\u044f\u0435\u043c \u043f\u043e\u0441\u043b\u0435\u0434\u043d\u044e\u044e \u0441\u0443\u0449\u043d\u043e\u0441\u0442\u044c, \u0435\u0441\u043b\u0438 \u043e\u0441\u0442\u0430\u043b\u0430\u0441\u044c\n",
        "    if current_entity:\n",
        "        table_data.append([\" \".join(entity_words), current_entity[2:], get_colored_label(current_entity)])\n",
        "    print(\"\\n\" + colored(f\" \u041f\u0440\u0435\u0434\u043b\u043e\u0436\u0435\u043d\u0438\u0435: \", 'yellow') + colored(sent, 'cyan'))\n",
        "    print(tabulate(table_data,\n",
        "                 headers=[colored(\"\u0422\u043e\u043a\u0435\u043d\", 'yellow'),\n",
        "                         colored(\"\u0422\u0438\u043f \u0441\u0443\u0449\u043d\u043e\u0441\u0442\u0438\", 'yellow'),\n",
        "                         colored(\"\u041c\u0435\u0442\u043a\u0430\", 'yellow')],\n",
        "                 tablefmt=\"fancy_grid\",\n",
        "                 colalign=(\"left\", \"center\", \"center\")))\n",
        "    print(\"-\"*70)"
      ],
      "metadata": {
        "colab": {
          "base_uri": "https://localhost:8080/"
        },
        "id": "n7WNhhDjU4O-",
        "outputId": "6cbf74dd-1ee9-4428-ce84-ca250cb5f2b6"
      },
      "execution_count": null,
      "outputs": [
        {
          "output_type": "stream",
          "name": "stdout",
          "text": [
            "======================================================================\n",
            "                       \u0422\u0415\u0421\u0422\u0418\u0420\u041e\u0412\u0410\u041d\u0418\u0415 \u041c\u041e\u0414\u0415\u041b\u0418 NER                        \n",
            "======================================================================\n",
            "\n",
            " \u041f\u0440\u0435\u0434\u043b\u043e\u0436\u0435\u043d\u0438\u0435: \u041e\u043a\u043e\u043d\u0447\u0438\u043b \u0432 1966 \u0433\u043e\u0434\u0443 \u0448\u043a\u043e\u043b\u0443 \u0432 \u0411\u0440\u043e\u043d\u043a\u0441\u0435.\n",
            "\u2552\u2550\u2550\u2550\u2550\u2550\u2550\u2550\u2550\u2550\u2550\u2564\u2550\u2550\u2550\u2550\u2550\u2550\u2550\u2550\u2550\u2550\u2550\u2550\u2550\u2550\u2550\u2550\u2564\u2550\u2550\u2550\u2550\u2550\u2550\u2550\u2550\u2550\u2555\n",
            "\u2502 \u0422\u043e\u043a\u0435\u043d    \u2502  \u0422\u0438\u043f \u0441\u0443\u0449\u043d\u043e\u0441\u0442\u0438  \u2502  \u041c\u0435\u0442\u043a\u0430  \u2502\n",
            "\u255e\u2550\u2550\u2550\u2550\u2550\u2550\u2550\u2550\u2550\u2550\u256a\u2550\u2550\u2550\u2550\u2550\u2550\u2550\u2550\u2550\u2550\u2550\u2550\u2550\u2550\u2550\u2550\u256a\u2550\u2550\u2550\u2550\u2550\u2550\u2550\u2550\u2550\u2561\n",
            "\u2502 \u041e\u043a\u043e\u043d\u0447\u0438\u043b  \u2502       O        \u2502    O    \u2502\n",
            "\u251c\u2500\u2500\u2500\u2500\u2500\u2500\u2500\u2500\u2500\u2500\u253c\u2500\u2500\u2500\u2500\u2500\u2500\u2500\u2500\u2500\u2500\u2500\u2500\u2500\u2500\u2500\u2500\u253c\u2500\u2500\u2500\u2500\u2500\u2500\u2500\u2500\u2500\u2524\n",
            "\u2502 \u0432        \u2502       O        \u2502    O    \u2502\n",
            "\u251c\u2500\u2500\u2500\u2500\u2500\u2500\u2500\u2500\u2500\u2500\u253c\u2500\u2500\u2500\u2500\u2500\u2500\u2500\u2500\u2500\u2500\u2500\u2500\u2500\u2500\u2500\u2500\u253c\u2500\u2500\u2500\u2500\u2500\u2500\u2500\u2500\u2500\u2524\n",
            "\u2502 1966     \u2502       O        \u2502    O    \u2502\n",
            "\u251c\u2500\u2500\u2500\u2500\u2500\u2500\u2500\u2500\u2500\u2500\u253c\u2500\u2500\u2500\u2500\u2500\u2500\u2500\u2500\u2500\u2500\u2500\u2500\u2500\u2500\u2500\u2500\u253c\u2500\u2500\u2500\u2500\u2500\u2500\u2500\u2500\u2500\u2524\n",
            "\u2502 \u0433\u043e\u0434\u0443     \u2502       O        \u2502    O    \u2502\n",
            "\u251c\u2500\u2500\u2500\u2500\u2500\u2500\u2500\u2500\u2500\u2500\u253c\u2500\u2500\u2500\u2500\u2500\u2500\u2500\u2500\u2500\u2500\u2500\u2500\u2500\u2500\u2500\u2500\u253c\u2500\u2500\u2500\u2500\u2500\u2500\u2500\u2500\u2500\u2524\n",
            "\u2502 \u0448\u043a\u043e\u043b\u0443    \u2502       O        \u2502    O    \u2502\n",
            "\u251c\u2500\u2500\u2500\u2500\u2500\u2500\u2500\u2500\u2500\u2500\u253c\u2500\u2500\u2500\u2500\u2500\u2500\u2500\u2500\u2500\u2500\u2500\u2500\u2500\u2500\u2500\u2500\u253c\u2500\u2500\u2500\u2500\u2500\u2500\u2500\u2500\u2500\u2524\n",
            "\u2502 \u0432        \u2502       O        \u2502    O    \u2502\n",
            "\u251c\u2500\u2500\u2500\u2500\u2500\u2500\u2500\u2500\u2500\u2500\u253c\u2500\u2500\u2500\u2500\u2500\u2500\u2500\u2500\u2500\u2500\u2500\u2500\u2500\u2500\u2500\u2500\u253c\u2500\u2500\u2500\u2500\u2500\u2500\u2500\u2500\u2500\u2524\n",
            "\u2502 \u0411\u0440\u043e\u043d\u043a\u0441\u0435. \u2502      LOC       \u2502  B-LOC  \u2502\n",
            "\u2558\u2550\u2550\u2550\u2550\u2550\u2550\u2550\u2550\u2550\u2550\u2567\u2550\u2550\u2550\u2550\u2550\u2550\u2550\u2550\u2550\u2550\u2550\u2550\u2550\u2550\u2550\u2550\u2567\u2550\u2550\u2550\u2550\u2550\u2550\u2550\u2550\u2550\u255b\n",
            "----------------------------------------------------------------------\n",
            "\n",
            " \u041f\u0440\u0435\u0434\u043b\u043e\u0436\u0435\u043d\u0438\u0435: \u0421\u0435\u0440\u0433\u0435\u0439 \u0418\u0432\u0430\u043d\u043e\u0432 \u0440\u0430\u0431\u043e\u0442\u0430\u0435\u0442 \u0432 Google \u0432 \u041c\u043e\u0441\u043a\u0432\u0435.\n",
            "\u2552\u2550\u2550\u2550\u2550\u2550\u2550\u2550\u2550\u2550\u2550\u2550\u2550\u2550\u2550\u2550\u2564\u2550\u2550\u2550\u2550\u2550\u2550\u2550\u2550\u2550\u2550\u2550\u2550\u2550\u2550\u2550\u2550\u2564\u2550\u2550\u2550\u2550\u2550\u2550\u2550\u2550\u2550\u2555\n",
            "\u2502 \u0422\u043e\u043a\u0435\u043d         \u2502  \u0422\u0438\u043f \u0441\u0443\u0449\u043d\u043e\u0441\u0442\u0438  \u2502  \u041c\u0435\u0442\u043a\u0430  \u2502\n",
            "\u255e\u2550\u2550\u2550\u2550\u2550\u2550\u2550\u2550\u2550\u2550\u2550\u2550\u2550\u2550\u2550\u256a\u2550\u2550\u2550\u2550\u2550\u2550\u2550\u2550\u2550\u2550\u2550\u2550\u2550\u2550\u2550\u2550\u256a\u2550\u2550\u2550\u2550\u2550\u2550\u2550\u2550\u2550\u2561\n",
            "\u2502 \u0421\u0435\u0440\u0433\u0435\u0439 \u0418\u0432\u0430\u043d\u043e\u0432 \u2502      PER       \u2502  B-PER  \u2502\n",
            "\u251c\u2500\u2500\u2500\u2500\u2500\u2500\u2500\u2500\u2500\u2500\u2500\u2500\u2500\u2500\u2500\u253c\u2500\u2500\u2500\u2500\u2500\u2500\u2500\u2500\u2500\u2500\u2500\u2500\u2500\u2500\u2500\u2500\u253c\u2500\u2500\u2500\u2500\u2500\u2500\u2500\u2500\u2500\u2524\n",
            "\u2502 \u0440\u0430\u0431\u043e\u0442\u0430\u0435\u0442      \u2502       O        \u2502    O    \u2502\n",
            "\u251c\u2500\u2500\u2500\u2500\u2500\u2500\u2500\u2500\u2500\u2500\u2500\u2500\u2500\u2500\u2500\u253c\u2500\u2500\u2500\u2500\u2500\u2500\u2500\u2500\u2500\u2500\u2500\u2500\u2500\u2500\u2500\u2500\u253c\u2500\u2500\u2500\u2500\u2500\u2500\u2500\u2500\u2500\u2524\n",
            "\u2502 \u0432             \u2502       O        \u2502    O    \u2502\n",
            "\u251c\u2500\u2500\u2500\u2500\u2500\u2500\u2500\u2500\u2500\u2500\u2500\u2500\u2500\u2500\u2500\u253c\u2500\u2500\u2500\u2500\u2500\u2500\u2500\u2500\u2500\u2500\u2500\u2500\u2500\u2500\u2500\u2500\u253c\u2500\u2500\u2500\u2500\u2500\u2500\u2500\u2500\u2500\u2524\n",
            "\u2502 Google        \u2502      LOC       \u2502  B-LOC  \u2502\n",
            "\u251c\u2500\u2500\u2500\u2500\u2500\u2500\u2500\u2500\u2500\u2500\u2500\u2500\u2500\u2500\u2500\u253c\u2500\u2500\u2500\u2500\u2500\u2500\u2500\u2500\u2500\u2500\u2500\u2500\u2500\u2500\u2500\u2500\u253c\u2500\u2500\u2500\u2500\u2500\u2500\u2500\u2500\u2500\u2524\n",
            "\u2502 \u0432             \u2502       O        \u2502    O    \u2502\n",
            "\u251c\u2500\u2500\u2500\u2500\u2500\u2500\u2500\u2500\u2500\u2500\u2500\u2500\u2500\u2500\u2500\u253c\u2500\u2500\u2500\u2500\u2500\u2500\u2500\u2500\u2500\u2500\u2500\u2500\u2500\u2500\u2500\u2500\u253c\u2500\u2500\u2500\u2500\u2500\u2500\u2500\u2500\u2500\u2524\n",
            "\u2502 \u041c\u043e\u0441\u043a\u0432\u0435.       \u2502      LOC       \u2502  B-LOC  \u2502\n",
            "\u2558\u2550\u2550\u2550\u2550\u2550\u2550\u2550\u2550\u2550\u2550\u2550\u2550\u2550\u2550\u2550\u2567\u2550\u2550\u2550\u2550\u2550\u2550\u2550\u2550\u2550\u2550\u2550\u2550\u2550\u2550\u2550\u2550\u2567\u2550\u2550\u2550\u2550\u2550\u2550\u2550\u2550\u2550\u255b\n",
            "----------------------------------------------------------------------\n",
            "\n",
            " \u041f\u0440\u0435\u0434\u043b\u043e\u0436\u0435\u043d\u0438\u0435: \u041f\u0440\u0435\u0437\u0438\u0434\u0435\u043d\u0442 \u0424\u0440\u0430\u043d\u0446\u0438\u0438 \u042d\u043c\u043c\u0430\u043d\u0443\u044d\u043b\u044c \u041c\u0430\u043a\u0440\u043e\u043d \u043f\u043e\u0441\u0435\u0442\u0438\u043b \u0411\u0435\u0440\u043b\u0438\u043d.\n",
            "\u2552\u2550\u2550\u2550\u2550\u2550\u2550\u2550\u2550\u2550\u2550\u2550\u2550\u2550\u2550\u2550\u2550\u2550\u2550\u2564\u2550\u2550\u2550\u2550\u2550\u2550\u2550\u2550\u2550\u2550\u2550\u2550\u2550\u2550\u2550\u2550\u2564\u2550\u2550\u2550\u2550\u2550\u2550\u2550\u2550\u2550\u2555\n",
            "\u2502 \u0422\u043e\u043a\u0435\u043d            \u2502  \u0422\u0438\u043f \u0441\u0443\u0449\u043d\u043e\u0441\u0442\u0438  \u2502  \u041c\u0435\u0442\u043a\u0430  \u2502\n",
            "\u255e\u2550\u2550\u2550\u2550\u2550\u2550\u2550\u2550\u2550\u2550\u2550\u2550\u2550\u2550\u2550\u2550\u2550\u2550\u256a\u2550\u2550\u2550\u2550\u2550\u2550\u2550\u2550\u2550\u2550\u2550\u2550\u2550\u2550\u2550\u2550\u256a\u2550\u2550\u2550\u2550\u2550\u2550\u2550\u2550\u2550\u2561\n",
            "\u2502 \u041f\u0440\u0435\u0437\u0438\u0434\u0435\u043d\u0442        \u2502       O        \u2502    O    \u2502\n",
            "\u251c\u2500\u2500\u2500\u2500\u2500\u2500\u2500\u2500\u2500\u2500\u2500\u2500\u2500\u2500\u2500\u2500\u2500\u2500\u253c\u2500\u2500\u2500\u2500\u2500\u2500\u2500\u2500\u2500\u2500\u2500\u2500\u2500\u2500\u2500\u2500\u253c\u2500\u2500\u2500\u2500\u2500\u2500\u2500\u2500\u2500\u2524\n",
            "\u2502 \u0424\u0440\u0430\u043d\u0446\u0438\u0438          \u2502      LOC       \u2502  B-LOC  \u2502\n",
            "\u251c\u2500\u2500\u2500\u2500\u2500\u2500\u2500\u2500\u2500\u2500\u2500\u2500\u2500\u2500\u2500\u2500\u2500\u2500\u253c\u2500\u2500\u2500\u2500\u2500\u2500\u2500\u2500\u2500\u2500\u2500\u2500\u2500\u2500\u2500\u2500\u253c\u2500\u2500\u2500\u2500\u2500\u2500\u2500\u2500\u2500\u2524\n",
            "\u2502 \u042d\u043c\u043c\u0430\u043d\u0443\u044d\u043b\u044c \u041c\u0430\u043a\u0440\u043e\u043d \u2502      PER       \u2502  B-PER  \u2502\n",
            "\u251c\u2500\u2500\u2500\u2500\u2500\u2500\u2500\u2500\u2500\u2500\u2500\u2500\u2500\u2500\u2500\u2500\u2500\u2500\u253c\u2500\u2500\u2500\u2500\u2500\u2500\u2500\u2500\u2500\u2500\u2500\u2500\u2500\u2500\u2500\u2500\u253c\u2500\u2500\u2500\u2500\u2500\u2500\u2500\u2500\u2500\u2524\n",
            "\u2502 \u043f\u043e\u0441\u0435\u0442\u0438\u043b          \u2502       O        \u2502    O    \u2502\n",
            "\u251c\u2500\u2500\u2500\u2500\u2500\u2500\u2500\u2500\u2500\u2500\u2500\u2500\u2500\u2500\u2500\u2500\u2500\u2500\u253c\u2500\u2500\u2500\u2500\u2500\u2500\u2500\u2500\u2500\u2500\u2500\u2500\u2500\u2500\u2500\u2500\u253c\u2500\u2500\u2500\u2500\u2500\u2500\u2500\u2500\u2500\u2524\n",
            "\u2502 \u0411\u0435\u0440\u043b\u0438\u043d.          \u2502      LOC       \u2502  B-LOC  \u2502\n",
            "\u2558\u2550\u2550\u2550\u2550\u2550\u2550\u2550\u2550\u2550\u2550\u2550\u2550\u2550\u2550\u2550\u2550\u2550\u2550\u2567\u2550\u2550\u2550\u2550\u2550\u2550\u2550\u2550\u2550\u2550\u2550\u2550\u2550\u2550\u2550\u2550\u2567\u2550\u2550\u2550\u2550\u2550\u2550\u2550\u2550\u2550\u255b\n",
            "----------------------------------------------------------------------\n",
            "\n",
            " \u041f\u0440\u0435\u0434\u043b\u043e\u0436\u0435\u043d\u0438\u0435: \u0414\u043e\u043a\u0442\u043e\u0440 \u041f\u0435\u0442\u0440\u043e\u0432\u0430 \u0438\u0437 \u041c\u0413\u0423 \u043e\u043f\u0443\u0431\u043b\u0438\u043a\u043e\u0432\u0430\u043b\u0430 \u043d\u043e\u0432\u043e\u0435 \u0438\u0441\u0441\u043b\u0435\u0434\u043e\u0432\u0430\u043d\u0438\u0435.\n",
            "\u2552\u2550\u2550\u2550\u2550\u2550\u2550\u2550\u2550\u2550\u2550\u2550\u2550\u2550\u2550\u2550\u2564\u2550\u2550\u2550\u2550\u2550\u2550\u2550\u2550\u2550\u2550\u2550\u2550\u2550\u2550\u2550\u2550\u2564\u2550\u2550\u2550\u2550\u2550\u2550\u2550\u2550\u2550\u2555\n",
            "\u2502 \u0422\u043e\u043a\u0435\u043d         \u2502  \u0422\u0438\u043f \u0441\u0443\u0449\u043d\u043e\u0441\u0442\u0438  \u2502  \u041c\u0435\u0442\u043a\u0430  \u2502\n",
            "\u255e\u2550\u2550\u2550\u2550\u2550\u2550\u2550\u2550\u2550\u2550\u2550\u2550\u2550\u2550\u2550\u256a\u2550\u2550\u2550\u2550\u2550\u2550\u2550\u2550\u2550\u2550\u2550\u2550\u2550\u2550\u2550\u2550\u256a\u2550\u2550\u2550\u2550\u2550\u2550\u2550\u2550\u2550\u2561\n",
            "\u2502 \u0414\u043e\u043a\u0442\u043e\u0440        \u2502       O        \u2502    O    \u2502\n",
            "\u251c\u2500\u2500\u2500\u2500\u2500\u2500\u2500\u2500\u2500\u2500\u2500\u2500\u2500\u2500\u2500\u253c\u2500\u2500\u2500\u2500\u2500\u2500\u2500\u2500\u2500\u2500\u2500\u2500\u2500\u2500\u2500\u2500\u253c\u2500\u2500\u2500\u2500\u2500\u2500\u2500\u2500\u2500\u2524\n",
            "\u2502 \u041f\u0435\u0442\u0440\u043e\u0432\u0430       \u2502      PER       \u2502  B-PER  \u2502\n",
            "\u251c\u2500\u2500\u2500\u2500\u2500\u2500\u2500\u2500\u2500\u2500\u2500\u2500\u2500\u2500\u2500\u253c\u2500\u2500\u2500\u2500\u2500\u2500\u2500\u2500\u2500\u2500\u2500\u2500\u2500\u2500\u2500\u2500\u253c\u2500\u2500\u2500\u2500\u2500\u2500\u2500\u2500\u2500\u2524\n",
            "\u2502 \u0438\u0437            \u2502       O        \u2502    O    \u2502\n",
            "\u251c\u2500\u2500\u2500\u2500\u2500\u2500\u2500\u2500\u2500\u2500\u2500\u2500\u2500\u2500\u2500\u253c\u2500\u2500\u2500\u2500\u2500\u2500\u2500\u2500\u2500\u2500\u2500\u2500\u2500\u2500\u2500\u2500\u253c\u2500\u2500\u2500\u2500\u2500\u2500\u2500\u2500\u2500\u2524\n",
            "\u2502 \u041c\u0413\u0423           \u2502      ORG       \u2502  B-ORG  \u2502\n",
            "\u251c\u2500\u2500\u2500\u2500\u2500\u2500\u2500\u2500\u2500\u2500\u2500\u2500\u2500\u2500\u2500\u253c\u2500\u2500\u2500\u2500\u2500\u2500\u2500\u2500\u2500\u2500\u2500\u2500\u2500\u2500\u2500\u2500\u253c\u2500\u2500\u2500\u2500\u2500\u2500\u2500\u2500\u2500\u2524\n",
            "\u2502 \u043e\u043f\u0443\u0431\u043b\u0438\u043a\u043e\u0432\u0430\u043b\u0430  \u2502       O        \u2502    O    \u2502\n",
            "\u251c\u2500\u2500\u2500\u2500\u2500\u2500\u2500\u2500\u2500\u2500\u2500\u2500\u2500\u2500\u2500\u253c\u2500\u2500\u2500\u2500\u2500\u2500\u2500\u2500\u2500\u2500\u2500\u2500\u2500\u2500\u2500\u2500\u253c\u2500\u2500\u2500\u2500\u2500\u2500\u2500\u2500\u2500\u2524\n",
            "\u2502 \u043d\u043e\u0432\u043e\u0435         \u2502       O        \u2502    O    \u2502\n",
            "\u251c\u2500\u2500\u2500\u2500\u2500\u2500\u2500\u2500\u2500\u2500\u2500\u2500\u2500\u2500\u2500\u253c\u2500\u2500\u2500\u2500\u2500\u2500\u2500\u2500\u2500\u2500\u2500\u2500\u2500\u2500\u2500\u2500\u253c\u2500\u2500\u2500\u2500\u2500\u2500\u2500\u2500\u2500\u2524\n",
            "\u2502 \u0438\u0441\u0441\u043b\u0435\u0434\u043e\u0432\u0430\u043d\u0438\u0435. \u2502       O        \u2502    O    \u2502\n",
            "\u2558\u2550\u2550\u2550\u2550\u2550\u2550\u2550\u2550\u2550\u2550\u2550\u2550\u2550\u2550\u2550\u2567\u2550\u2550\u2550\u2550\u2550\u2550\u2550\u2550\u2550\u2550\u2550\u2550\u2550\u2550\u2550\u2550\u2567\u2550\u2550\u2550\u2550\u2550\u2550\u2550\u2550\u2550\u255b\n",
            "----------------------------------------------------------------------\n",
            "\n",
            " \u041f\u0440\u0435\u0434\u043b\u043e\u0436\u0435\u043d\u0438\u0435: \u0410\u043b\u0435\u043a\u0441\u0430\u043d\u0434\u0440 \u041f\u0443\u0448\u043a\u0438\u043d \u0440\u043e\u0434\u0438\u043b\u0441\u044f \u0432 \u041c\u043e\u0441\u043a\u0432\u0435 \u0432 1799 \u0433\u043e\u0434\u0443.\n",
            "\u2552\u2550\u2550\u2550\u2550\u2550\u2550\u2550\u2550\u2550\u2550\u2550\u2550\u2550\u2550\u2550\u2550\u2550\u2550\u2564\u2550\u2550\u2550\u2550\u2550\u2550\u2550\u2550\u2550\u2550\u2550\u2550\u2550\u2550\u2550\u2550\u2564\u2550\u2550\u2550\u2550\u2550\u2550\u2550\u2550\u2550\u2555\n",
            "\u2502 \u0422\u043e\u043a\u0435\u043d            \u2502  \u0422\u0438\u043f \u0441\u0443\u0449\u043d\u043e\u0441\u0442\u0438  \u2502  \u041c\u0435\u0442\u043a\u0430  \u2502\n",
            "\u255e\u2550\u2550\u2550\u2550\u2550\u2550\u2550\u2550\u2550\u2550\u2550\u2550\u2550\u2550\u2550\u2550\u2550\u2550\u256a\u2550\u2550\u2550\u2550\u2550\u2550\u2550\u2550\u2550\u2550\u2550\u2550\u2550\u2550\u2550\u2550\u256a\u2550\u2550\u2550\u2550\u2550\u2550\u2550\u2550\u2550\u2561\n",
            "\u2502 \u0410\u043b\u0435\u043a\u0441\u0430\u043d\u0434\u0440 \u041f\u0443\u0448\u043a\u0438\u043d \u2502      PER       \u2502  B-PER  \u2502\n",
            "\u251c\u2500\u2500\u2500\u2500\u2500\u2500\u2500\u2500\u2500\u2500\u2500\u2500\u2500\u2500\u2500\u2500\u2500\u2500\u253c\u2500\u2500\u2500\u2500\u2500\u2500\u2500\u2500\u2500\u2500\u2500\u2500\u2500\u2500\u2500\u2500\u253c\u2500\u2500\u2500\u2500\u2500\u2500\u2500\u2500\u2500\u2524\n",
            "\u2502 \u0440\u043e\u0434\u0438\u043b\u0441\u044f          \u2502       O        \u2502    O    \u2502\n",
            "\u251c\u2500\u2500\u2500\u2500\u2500\u2500\u2500\u2500\u2500\u2500\u2500\u2500\u2500\u2500\u2500\u2500\u2500\u2500\u253c\u2500\u2500\u2500\u2500\u2500\u2500\u2500\u2500\u2500\u2500\u2500\u2500\u2500\u2500\u2500\u2500\u253c\u2500\u2500\u2500\u2500\u2500\u2500\u2500\u2500\u2500\u2524\n",
            "\u2502 \u0432                \u2502       O        \u2502    O    \u2502\n",
            "\u251c\u2500\u2500\u2500\u2500\u2500\u2500\u2500\u2500\u2500\u2500\u2500\u2500\u2500\u2500\u2500\u2500\u2500\u2500\u253c\u2500\u2500\u2500\u2500\u2500\u2500\u2500\u2500\u2500\u2500\u2500\u2500\u2500\u2500\u2500\u2500\u253c\u2500\u2500\u2500\u2500\u2500\u2500\u2500\u2500\u2500\u2524\n",
            "\u2502 \u041c\u043e\u0441\u043a\u0432\u0435           \u2502      LOC       \u2502  B-LOC  \u2502\n",
            "\u251c\u2500\u2500\u2500\u2500\u2500\u2500\u2500\u2500\u2500\u2500\u2500\u2500\u2500\u2500\u2500\u2500\u2500\u2500\u253c\u2500\u2500\u2500\u2500\u2500\u2500\u2500\u2500\u2500\u2500\u2500\u2500\u2500\u2500\u2500\u2500\u253c\u2500\u2500\u2500\u2500\u2500\u2500\u2500\u2500\u2500\u2524\n",
            "\u2502 \u0432                \u2502       O        \u2502    O    \u2502\n",
            "\u251c\u2500\u2500\u2500\u2500\u2500\u2500\u2500\u2500\u2500\u2500\u2500\u2500\u2500\u2500\u2500\u2500\u2500\u2500\u253c\u2500\u2500\u2500\u2500\u2500\u2500\u2500\u2500\u2500\u2500\u2500\u2500\u2500\u2500\u2500\u2500\u253c\u2500\u2500\u2500\u2500\u2500\u2500\u2500\u2500\u2500\u2524\n",
            "\u2502 1799             \u2502       O        \u2502    O    \u2502\n",
            "\u251c\u2500\u2500\u2500\u2500\u2500\u2500\u2500\u2500\u2500\u2500\u2500\u2500\u2500\u2500\u2500\u2500\u2500\u2500\u253c\u2500\u2500\u2500\u2500\u2500\u2500\u2500\u2500\u2500\u2500\u2500\u2500\u2500\u2500\u2500\u2500\u253c\u2500\u2500\u2500\u2500\u2500\u2500\u2500\u2500\u2500\u2524\n",
            "\u2502 \u0433\u043e\u0434\u0443.            \u2502       O        \u2502    O    \u2502\n",
            "\u2558\u2550\u2550\u2550\u2550\u2550\u2550\u2550\u2550\u2550\u2550\u2550\u2550\u2550\u2550\u2550\u2550\u2550\u2550\u2567\u2550\u2550\u2550\u2550\u2550\u2550\u2550\u2550\u2550\u2550\u2550\u2550\u2550\u2550\u2550\u2550\u2567\u2550\u2550\u2550\u2550\u2550\u2550\u2550\u2550\u2550\u255b\n",
            "----------------------------------------------------------------------\n",
            "\n",
            " \u041f\u0440\u0435\u0434\u043b\u043e\u0436\u0435\u043d\u0438\u0435: \u041a\u043e\u043c\u043f\u0430\u043d\u0438\u044f \u042f\u043d\u0434\u0435\u043a\u0441 \u043e\u0442\u043a\u0440\u044b\u043b\u0430 \u043d\u043e\u0432\u044b\u0439 \u043e\u0444\u0438\u0441 \u0432 \u041a\u0430\u0437\u0430\u043d\u0438.\n",
            "\u2552\u2550\u2550\u2550\u2550\u2550\u2550\u2550\u2550\u2550\u2550\u2564\u2550\u2550\u2550\u2550\u2550\u2550\u2550\u2550\u2550\u2550\u2550\u2550\u2550\u2550\u2550\u2550\u2564\u2550\u2550\u2550\u2550\u2550\u2550\u2550\u2550\u2550\u2555\n",
            "\u2502 \u0422\u043e\u043a\u0435\u043d    \u2502  \u0422\u0438\u043f \u0441\u0443\u0449\u043d\u043e\u0441\u0442\u0438  \u2502  \u041c\u0435\u0442\u043a\u0430  \u2502\n",
            "\u255e\u2550\u2550\u2550\u2550\u2550\u2550\u2550\u2550\u2550\u2550\u256a\u2550\u2550\u2550\u2550\u2550\u2550\u2550\u2550\u2550\u2550\u2550\u2550\u2550\u2550\u2550\u2550\u256a\u2550\u2550\u2550\u2550\u2550\u2550\u2550\u2550\u2550\u2561\n",
            "\u2502 \u041a\u043e\u043c\u043f\u0430\u043d\u0438\u044f \u2502       O        \u2502    O    \u2502\n",
            "\u251c\u2500\u2500\u2500\u2500\u2500\u2500\u2500\u2500\u2500\u2500\u253c\u2500\u2500\u2500\u2500\u2500\u2500\u2500\u2500\u2500\u2500\u2500\u2500\u2500\u2500\u2500\u2500\u253c\u2500\u2500\u2500\u2500\u2500\u2500\u2500\u2500\u2500\u2524\n",
            "\u2502 \u042f\u043d\u0434\u0435\u043a\u0441   \u2502      ORG       \u2502  B-ORG  \u2502\n",
            "\u251c\u2500\u2500\u2500\u2500\u2500\u2500\u2500\u2500\u2500\u2500\u253c\u2500\u2500\u2500\u2500\u2500\u2500\u2500\u2500\u2500\u2500\u2500\u2500\u2500\u2500\u2500\u2500\u253c\u2500\u2500\u2500\u2500\u2500\u2500\u2500\u2500\u2500\u2524\n",
            "\u2502 \u043e\u0442\u043a\u0440\u044b\u043b\u0430  \u2502       O        \u2502    O    \u2502\n",
            "\u251c\u2500\u2500\u2500\u2500\u2500\u2500\u2500\u2500\u2500\u2500\u253c\u2500\u2500\u2500\u2500\u2500\u2500\u2500\u2500\u2500\u2500\u2500\u2500\u2500\u2500\u2500\u2500\u253c\u2500\u2500\u2500\u2500\u2500\u2500\u2500\u2500\u2500\u2524\n",
            "\u2502 \u043d\u043e\u0432\u044b\u0439    \u2502       O        \u2502    O    \u2502\n",
            "\u251c\u2500\u2500\u2500\u2500\u2500\u2500\u2500\u2500\u2500\u2500\u253c\u2500\u2500\u2500\u2500\u2500\u2500\u2500\u2500\u2500\u2500\u2500\u2500\u2500\u2500\u2500\u2500\u253c\u2500\u2500\u2500\u2500\u2500\u2500\u2500\u2500\u2500\u2524\n",
            "\u2502 \u043e\u0444\u0438\u0441     \u2502       O        \u2502    O    \u2502\n",
            "\u251c\u2500\u2500\u2500\u2500\u2500\u2500\u2500\u2500\u2500\u2500\u253c\u2500\u2500\u2500\u2500\u2500\u2500\u2500\u2500\u2500\u2500\u2500\u2500\u2500\u2500\u2500\u2500\u253c\u2500\u2500\u2500\u2500\u2500\u2500\u2500\u2500\u2500\u2524\n",
            "\u2502 \u0432        \u2502       O        \u2502    O    \u2502\n",
            "\u251c\u2500\u2500\u2500\u2500\u2500\u2500\u2500\u2500\u2500\u2500\u253c\u2500\u2500\u2500\u2500\u2500\u2500\u2500\u2500\u2500\u2500\u2500\u2500\u2500\u2500\u2500\u2500\u253c\u2500\u2500\u2500\u2500\u2500\u2500\u2500\u2500\u2500\u2524\n",
            "\u2502 \u041a\u0430\u0437\u0430\u043d\u0438.  \u2502      LOC       \u2502  B-LOC  \u2502\n",
            "\u2558\u2550\u2550\u2550\u2550\u2550\u2550\u2550\u2550\u2550\u2550\u2567\u2550\u2550\u2550\u2550\u2550\u2550\u2550\u2550\u2550\u2550\u2550\u2550\u2550\u2550\u2550\u2550\u2567\u2550\u2550\u2550\u2550\u2550\u2550\u2550\u2550\u2550\u255b\n",
            "----------------------------------------------------------------------\n",
            "\n",
            " \u041f\u0440\u0435\u0434\u043b\u043e\u0436\u0435\u043d\u0438\u0435: \u041c\u044b \u043b\u0435\u0442\u0438\u043c \u0432 \u041d\u044c\u044e-\u0419\u043e\u0440\u043a \u0440\u0435\u0439\u0441\u043e\u043c \u0410\u044d\u0440\u043e\u0444\u043b\u043e\u0442\u0430 SU-100.\n",
            "\u2552\u2550\u2550\u2550\u2550\u2550\u2550\u2550\u2550\u2550\u2550\u2550\u2564\u2550\u2550\u2550\u2550\u2550\u2550\u2550\u2550\u2550\u2550\u2550\u2550\u2550\u2550\u2550\u2550\u2564\u2550\u2550\u2550\u2550\u2550\u2550\u2550\u2550\u2550\u2555\n",
            "\u2502 \u0422\u043e\u043a\u0435\u043d     \u2502  \u0422\u0438\u043f \u0441\u0443\u0449\u043d\u043e\u0441\u0442\u0438  \u2502  \u041c\u0435\u0442\u043a\u0430  \u2502\n",
            "\u255e\u2550\u2550\u2550\u2550\u2550\u2550\u2550\u2550\u2550\u2550\u2550\u256a\u2550\u2550\u2550\u2550\u2550\u2550\u2550\u2550\u2550\u2550\u2550\u2550\u2550\u2550\u2550\u2550\u256a\u2550\u2550\u2550\u2550\u2550\u2550\u2550\u2550\u2550\u2561\n",
            "\u2502 \u041c\u044b        \u2502       O        \u2502    O    \u2502\n",
            "\u251c\u2500\u2500\u2500\u2500\u2500\u2500\u2500\u2500\u2500\u2500\u2500\u253c\u2500\u2500\u2500\u2500\u2500\u2500\u2500\u2500\u2500\u2500\u2500\u2500\u2500\u2500\u2500\u2500\u253c\u2500\u2500\u2500\u2500\u2500\u2500\u2500\u2500\u2500\u2524\n",
            "\u2502 \u043b\u0435\u0442\u0438\u043c     \u2502       O        \u2502    O    \u2502\n",
            "\u251c\u2500\u2500\u2500\u2500\u2500\u2500\u2500\u2500\u2500\u2500\u2500\u253c\u2500\u2500\u2500\u2500\u2500\u2500\u2500\u2500\u2500\u2500\u2500\u2500\u2500\u2500\u2500\u2500\u253c\u2500\u2500\u2500\u2500\u2500\u2500\u2500\u2500\u2500\u2524\n",
            "\u2502 \u0432         \u2502       O        \u2502    O    \u2502\n",
            "\u251c\u2500\u2500\u2500\u2500\u2500\u2500\u2500\u2500\u2500\u2500\u2500\u253c\u2500\u2500\u2500\u2500\u2500\u2500\u2500\u2500\u2500\u2500\u2500\u2500\u2500\u2500\u2500\u2500\u253c\u2500\u2500\u2500\u2500\u2500\u2500\u2500\u2500\u2500\u2524\n",
            "\u2502 \u041d\u044c\u044e-\u0419\u043e\u0440\u043a  \u2502      LOC       \u2502  B-LOC  \u2502\n",
            "\u251c\u2500\u2500\u2500\u2500\u2500\u2500\u2500\u2500\u2500\u2500\u2500\u253c\u2500\u2500\u2500\u2500\u2500\u2500\u2500\u2500\u2500\u2500\u2500\u2500\u2500\u2500\u2500\u2500\u253c\u2500\u2500\u2500\u2500\u2500\u2500\u2500\u2500\u2500\u2524\n",
            "\u2502 \u0440\u0435\u0439\u0441\u043e\u043c    \u2502       O        \u2502    O    \u2502\n",
            "\u251c\u2500\u2500\u2500\u2500\u2500\u2500\u2500\u2500\u2500\u2500\u2500\u253c\u2500\u2500\u2500\u2500\u2500\u2500\u2500\u2500\u2500\u2500\u2500\u2500\u2500\u2500\u2500\u2500\u253c\u2500\u2500\u2500\u2500\u2500\u2500\u2500\u2500\u2500\u2524\n",
            "\u2502 \u0410\u044d\u0440\u043e\u0444\u043b\u043e\u0442\u0430 \u2502       O        \u2502    O    \u2502\n",
            "\u251c\u2500\u2500\u2500\u2500\u2500\u2500\u2500\u2500\u2500\u2500\u2500\u253c\u2500\u2500\u2500\u2500\u2500\u2500\u2500\u2500\u2500\u2500\u2500\u2500\u2500\u2500\u2500\u2500\u253c\u2500\u2500\u2500\u2500\u2500\u2500\u2500\u2500\u2500\u2524\n",
            "\u2502 SU-100.   \u2502       O        \u2502    O    \u2502\n",
            "\u2558\u2550\u2550\u2550\u2550\u2550\u2550\u2550\u2550\u2550\u2550\u2550\u2567\u2550\u2550\u2550\u2550\u2550\u2550\u2550\u2550\u2550\u2550\u2550\u2550\u2550\u2550\u2550\u2550\u2567\u2550\u2550\u2550\u2550\u2550\u2550\u2550\u2550\u2550\u255b\n",
            "----------------------------------------------------------------------\n",
            "\n",
            " \u041f\u0440\u0435\u0434\u043b\u043e\u0436\u0435\u043d\u0438\u0435: \u041f\u0440\u043e\u0444\u0435\u0441\u0441\u043e\u0440 \u0421\u043c\u0438\u0440\u043d\u043e\u0432 \u0438 \u0434\u043e\u0446\u0435\u043d\u0442 \u041a\u0443\u0437\u043d\u0435\u0446\u043e\u0432\u0430 \u0443\u0447\u0430\u0441\u0442\u0432\u043e\u0432\u0430\u043b\u0438 \u0432 \u043a\u043e\u043d\u0444\u0435\u0440\u0435\u043d\u0446\u0438\u0438 \u0432 \u0421\u0430\u043d\u043a\u0442-\u041f\u0435\u0442\u0435\u0440\u0431\u0443\u0440\u0433\u0435.\n",
            "\u2552\u2550\u2550\u2550\u2550\u2550\u2550\u2550\u2550\u2550\u2550\u2550\u2550\u2550\u2550\u2550\u2550\u2550\u2550\u2550\u2564\u2550\u2550\u2550\u2550\u2550\u2550\u2550\u2550\u2550\u2550\u2550\u2550\u2550\u2550\u2550\u2550\u2564\u2550\u2550\u2550\u2550\u2550\u2550\u2550\u2550\u2550\u2555\n",
            "\u2502 \u0422\u043e\u043a\u0435\u043d             \u2502  \u0422\u0438\u043f \u0441\u0443\u0449\u043d\u043e\u0441\u0442\u0438  \u2502  \u041c\u0435\u0442\u043a\u0430  \u2502\n",
            "\u255e\u2550\u2550\u2550\u2550\u2550\u2550\u2550\u2550\u2550\u2550\u2550\u2550\u2550\u2550\u2550\u2550\u2550\u2550\u2550\u256a\u2550\u2550\u2550\u2550\u2550\u2550\u2550\u2550\u2550\u2550\u2550\u2550\u2550\u2550\u2550\u2550\u256a\u2550\u2550\u2550\u2550\u2550\u2550\u2550\u2550\u2550\u2561\n",
            "\u2502 \u041f\u0440\u043e\u0444\u0435\u0441\u0441\u043e\u0440         \u2502       O        \u2502    O    \u2502\n",
            "\u251c\u2500\u2500\u2500\u2500\u2500\u2500\u2500\u2500\u2500\u2500\u2500\u2500\u2500\u2500\u2500\u2500\u2500\u2500\u2500\u253c\u2500\u2500\u2500\u2500\u2500\u2500\u2500\u2500\u2500\u2500\u2500\u2500\u2500\u2500\u2500\u2500\u253c\u2500\u2500\u2500\u2500\u2500\u2500\u2500\u2500\u2500\u2524\n",
            "\u2502 \u0421\u043c\u0438\u0440\u043d\u043e\u0432           \u2502      PER       \u2502  B-PER  \u2502\n",
            "\u251c\u2500\u2500\u2500\u2500\u2500\u2500\u2500\u2500\u2500\u2500\u2500\u2500\u2500\u2500\u2500\u2500\u2500\u2500\u2500\u253c\u2500\u2500\u2500\u2500\u2500\u2500\u2500\u2500\u2500\u2500\u2500\u2500\u2500\u2500\u2500\u2500\u253c\u2500\u2500\u2500\u2500\u2500\u2500\u2500\u2500\u2500\u2524\n",
            "\u2502 \u0438                 \u2502       O        \u2502    O    \u2502\n",
            "\u251c\u2500\u2500\u2500\u2500\u2500\u2500\u2500\u2500\u2500\u2500\u2500\u2500\u2500\u2500\u2500\u2500\u2500\u2500\u2500\u253c\u2500\u2500\u2500\u2500\u2500\u2500\u2500\u2500\u2500\u2500\u2500\u2500\u2500\u2500\u2500\u2500\u253c\u2500\u2500\u2500\u2500\u2500\u2500\u2500\u2500\u2500\u2524\n",
            "\u2502 \u0434\u043e\u0446\u0435\u043d\u0442            \u2502       O        \u2502    O    \u2502\n",
            "\u251c\u2500\u2500\u2500\u2500\u2500\u2500\u2500\u2500\u2500\u2500\u2500\u2500\u2500\u2500\u2500\u2500\u2500\u2500\u2500\u253c\u2500\u2500\u2500\u2500\u2500\u2500\u2500\u2500\u2500\u2500\u2500\u2500\u2500\u2500\u2500\u2500\u253c\u2500\u2500\u2500\u2500\u2500\u2500\u2500\u2500\u2500\u2524\n",
            "\u2502 \u041a\u0443\u0437\u043d\u0435\u0446\u043e\u0432\u0430         \u2502      PER       \u2502  B-PER  \u2502\n",
            "\u251c\u2500\u2500\u2500\u2500\u2500\u2500\u2500\u2500\u2500\u2500\u2500\u2500\u2500\u2500\u2500\u2500\u2500\u2500\u2500\u253c\u2500\u2500\u2500\u2500\u2500\u2500\u2500\u2500\u2500\u2500\u2500\u2500\u2500\u2500\u2500\u2500\u253c\u2500\u2500\u2500\u2500\u2500\u2500\u2500\u2500\u2500\u2524\n",
            "\u2502 \u0443\u0447\u0430\u0441\u0442\u0432\u043e\u0432\u0430\u043b\u0438       \u2502       O        \u2502    O    \u2502\n",
            "\u251c\u2500\u2500\u2500\u2500\u2500\u2500\u2500\u2500\u2500\u2500\u2500\u2500\u2500\u2500\u2500\u2500\u2500\u2500\u2500\u253c\u2500\u2500\u2500\u2500\u2500\u2500\u2500\u2500\u2500\u2500\u2500\u2500\u2500\u2500\u2500\u2500\u253c\u2500\u2500\u2500\u2500\u2500\u2500\u2500\u2500\u2500\u2524\n",
            "\u2502 \u0432                 \u2502       O        \u2502    O    \u2502\n",
            "\u251c\u2500\u2500\u2500\u2500\u2500\u2500\u2500\u2500\u2500\u2500\u2500\u2500\u2500\u2500\u2500\u2500\u2500\u2500\u2500\u253c\u2500\u2500\u2500\u2500\u2500\u2500\u2500\u2500\u2500\u2500\u2500\u2500\u2500\u2500\u2500\u2500\u253c\u2500\u2500\u2500\u2500\u2500\u2500\u2500\u2500\u2500\u2524\n",
            "\u2502 \u043a\u043e\u043d\u0444\u0435\u0440\u0435\u043d\u0446\u0438\u0438       \u2502       O        \u2502    O    \u2502\n",
            "\u251c\u2500\u2500\u2500\u2500\u2500\u2500\u2500\u2500\u2500\u2500\u2500\u2500\u2500\u2500\u2500\u2500\u2500\u2500\u2500\u253c\u2500\u2500\u2500\u2500\u2500\u2500\u2500\u2500\u2500\u2500\u2500\u2500\u2500\u2500\u2500\u2500\u253c\u2500\u2500\u2500\u2500\u2500\u2500\u2500\u2500\u2500\u2524\n",
            "\u2502 \u0432                 \u2502       O        \u2502    O    \u2502\n",
            "\u251c\u2500\u2500\u2500\u2500\u2500\u2500\u2500\u2500\u2500\u2500\u2500\u2500\u2500\u2500\u2500\u2500\u2500\u2500\u2500\u253c\u2500\u2500\u2500\u2500\u2500\u2500\u2500\u2500\u2500\u2500\u2500\u2500\u2500\u2500\u2500\u2500\u253c\u2500\u2500\u2500\u2500\u2500\u2500\u2500\u2500\u2500\u2524\n",
            "\u2502 \u0421\u0430\u043d\u043a\u0442-\u041f\u0435\u0442\u0435\u0440\u0431\u0443\u0440\u0433\u0435. \u2502      LOC       \u2502  B-LOC  \u2502\n",
            "\u2558\u2550\u2550\u2550\u2550\u2550\u2550\u2550\u2550\u2550\u2550\u2550\u2550\u2550\u2550\u2550\u2550\u2550\u2550\u2550\u2567\u2550\u2550\u2550\u2550\u2550\u2550\u2550\u2550\u2550\u2550\u2550\u2550\u2550\u2550\u2550\u2550\u2567\u2550\u2550\u2550\u2550\u2550\u2550\u2550\u2550\u2550\u255b\n",
            "----------------------------------------------------------------------\n",
            "\n",
            " \u041f\u0440\u0435\u0434\u043b\u043e\u0436\u0435\u043d\u0438\u0435: \u0422\u0443\u0440\u043d\u0438\u0440 \u043f\u043e \u0442\u0435\u043d\u043d\u0438\u0441\u0443 \u0420\u043e\u043b\u0430\u043d \u0413\u0430\u0440\u0440\u043e\u0441 \u043f\u0440\u043e\u0445\u043e\u0434\u0438\u0442 \u0432 \u041f\u0430\u0440\u0438\u0436\u0435.\n",
            "\u2552\u2550\u2550\u2550\u2550\u2550\u2550\u2550\u2550\u2550\u2550\u2550\u2550\u2550\u2550\u2564\u2550\u2550\u2550\u2550\u2550\u2550\u2550\u2550\u2550\u2550\u2550\u2550\u2550\u2550\u2550\u2550\u2564\u2550\u2550\u2550\u2550\u2550\u2550\u2550\u2550\u2550\u2555\n",
            "\u2502 \u0422\u043e\u043a\u0435\u043d        \u2502  \u0422\u0438\u043f \u0441\u0443\u0449\u043d\u043e\u0441\u0442\u0438  \u2502  \u041c\u0435\u0442\u043a\u0430  \u2502\n",
            "\u255e\u2550\u2550\u2550\u2550\u2550\u2550\u2550\u2550\u2550\u2550\u2550\u2550\u2550\u2550\u256a\u2550\u2550\u2550\u2550\u2550\u2550\u2550\u2550\u2550\u2550\u2550\u2550\u2550\u2550\u2550\u2550\u256a\u2550\u2550\u2550\u2550\u2550\u2550\u2550\u2550\u2550\u2561\n",
            "\u2502 \u0422\u0443\u0440\u043d\u0438\u0440       \u2502       O        \u2502    O    \u2502\n",
            "\u251c\u2500\u2500\u2500\u2500\u2500\u2500\u2500\u2500\u2500\u2500\u2500\u2500\u2500\u2500\u253c\u2500\u2500\u2500\u2500\u2500\u2500\u2500\u2500\u2500\u2500\u2500\u2500\u2500\u2500\u2500\u2500\u253c\u2500\u2500\u2500\u2500\u2500\u2500\u2500\u2500\u2500\u2524\n",
            "\u2502 \u043f\u043e           \u2502       O        \u2502    O    \u2502\n",
            "\u251c\u2500\u2500\u2500\u2500\u2500\u2500\u2500\u2500\u2500\u2500\u2500\u2500\u2500\u2500\u253c\u2500\u2500\u2500\u2500\u2500\u2500\u2500\u2500\u2500\u2500\u2500\u2500\u2500\u2500\u2500\u2500\u253c\u2500\u2500\u2500\u2500\u2500\u2500\u2500\u2500\u2500\u2524\n",
            "\u2502 \u0442\u0435\u043d\u043d\u0438\u0441\u0443      \u2502       O        \u2502    O    \u2502\n",
            "\u251c\u2500\u2500\u2500\u2500\u2500\u2500\u2500\u2500\u2500\u2500\u2500\u2500\u2500\u2500\u253c\u2500\u2500\u2500\u2500\u2500\u2500\u2500\u2500\u2500\u2500\u2500\u2500\u2500\u2500\u2500\u2500\u253c\u2500\u2500\u2500\u2500\u2500\u2500\u2500\u2500\u2500\u2524\n",
            "\u2502 \u0420\u043e\u043b\u0430\u043d \u0413\u0430\u0440\u0440\u043e\u0441 \u2502      PER       \u2502  B-PER  \u2502\n",
            "\u251c\u2500\u2500\u2500\u2500\u2500\u2500\u2500\u2500\u2500\u2500\u2500\u2500\u2500\u2500\u253c\u2500\u2500\u2500\u2500\u2500\u2500\u2500\u2500\u2500\u2500\u2500\u2500\u2500\u2500\u2500\u2500\u253c\u2500\u2500\u2500\u2500\u2500\u2500\u2500\u2500\u2500\u2524\n",
            "\u2502 \u043f\u0440\u043e\u0445\u043e\u0434\u0438\u0442     \u2502       O        \u2502    O    \u2502\n",
            "\u251c\u2500\u2500\u2500\u2500\u2500\u2500\u2500\u2500\u2500\u2500\u2500\u2500\u2500\u2500\u253c\u2500\u2500\u2500\u2500\u2500\u2500\u2500\u2500\u2500\u2500\u2500\u2500\u2500\u2500\u2500\u2500\u253c\u2500\u2500\u2500\u2500\u2500\u2500\u2500\u2500\u2500\u2524\n",
            "\u2502 \u0432            \u2502       O        \u2502    O    \u2502\n",
            "\u251c\u2500\u2500\u2500\u2500\u2500\u2500\u2500\u2500\u2500\u2500\u2500\u2500\u2500\u2500\u253c\u2500\u2500\u2500\u2500\u2500\u2500\u2500\u2500\u2500\u2500\u2500\u2500\u2500\u2500\u2500\u2500\u253c\u2500\u2500\u2500\u2500\u2500\u2500\u2500\u2500\u2500\u2524\n",
            "\u2502 \u041f\u0430\u0440\u0438\u0436\u0435.      \u2502      LOC       \u2502  B-LOC  \u2502\n",
            "\u2558\u2550\u2550\u2550\u2550\u2550\u2550\u2550\u2550\u2550\u2550\u2550\u2550\u2550\u2550\u2567\u2550\u2550\u2550\u2550\u2550\u2550\u2550\u2550\u2550\u2550\u2550\u2550\u2550\u2550\u2550\u2550\u2567\u2550\u2550\u2550\u2550\u2550\u2550\u2550\u2550\u2550\u255b\n",
            "----------------------------------------------------------------------\n",
            "\n",
            " \u041f\u0440\u0435\u0434\u043b\u043e\u0436\u0435\u043d\u0438\u0435: \u0414\u0438\u0440\u0435\u043a\u0442\u043e\u0440 Microsoft \u0421\u0430\u0442\u044c\u044f \u041d\u0430\u0434\u0435\u043b\u043b\u0430 \u0432\u044b\u0441\u0442\u0443\u043f\u0438\u043b \u043d\u0430 \u0444\u043e\u0440\u0443\u043c\u0435 \u0432 \u0421\u0438\u044d\u0442\u043b\u0435.\n",
            "\u2552\u2550\u2550\u2550\u2550\u2550\u2550\u2550\u2550\u2550\u2550\u2550\u2550\u2550\u2550\u2550\u2564\u2550\u2550\u2550\u2550\u2550\u2550\u2550\u2550\u2550\u2550\u2550\u2550\u2550\u2550\u2550\u2550\u2564\u2550\u2550\u2550\u2550\u2550\u2550\u2550\u2550\u2550\u2555\n",
            "\u2502 \u0422\u043e\u043a\u0435\u043d         \u2502  \u0422\u0438\u043f \u0441\u0443\u0449\u043d\u043e\u0441\u0442\u0438  \u2502  \u041c\u0435\u0442\u043a\u0430  \u2502\n",
            "\u255e\u2550\u2550\u2550\u2550\u2550\u2550\u2550\u2550\u2550\u2550\u2550\u2550\u2550\u2550\u2550\u256a\u2550\u2550\u2550\u2550\u2550\u2550\u2550\u2550\u2550\u2550\u2550\u2550\u2550\u2550\u2550\u2550\u256a\u2550\u2550\u2550\u2550\u2550\u2550\u2550\u2550\u2550\u2561\n",
            "\u2502 \u0414\u0438\u0440\u0435\u043a\u0442\u043e\u0440      \u2502       O        \u2502    O    \u2502\n",
            "\u251c\u2500\u2500\u2500\u2500\u2500\u2500\u2500\u2500\u2500\u2500\u2500\u2500\u2500\u2500\u2500\u253c\u2500\u2500\u2500\u2500\u2500\u2500\u2500\u2500\u2500\u2500\u2500\u2500\u2500\u2500\u2500\u2500\u253c\u2500\u2500\u2500\u2500\u2500\u2500\u2500\u2500\u2500\u2524\n",
            "\u2502 Microsoft     \u2502      ORG       \u2502  B-ORG  \u2502\n",
            "\u251c\u2500\u2500\u2500\u2500\u2500\u2500\u2500\u2500\u2500\u2500\u2500\u2500\u2500\u2500\u2500\u253c\u2500\u2500\u2500\u2500\u2500\u2500\u2500\u2500\u2500\u2500\u2500\u2500\u2500\u2500\u2500\u2500\u253c\u2500\u2500\u2500\u2500\u2500\u2500\u2500\u2500\u2500\u2524\n",
            "\u2502 \u0421\u0430\u0442\u044c\u044f \u041d\u0430\u0434\u0435\u043b\u043b\u0430 \u2502      PER       \u2502  B-PER  \u2502\n",
            "\u251c\u2500\u2500\u2500\u2500\u2500\u2500\u2500\u2500\u2500\u2500\u2500\u2500\u2500\u2500\u2500\u253c\u2500\u2500\u2500\u2500\u2500\u2500\u2500\u2500\u2500\u2500\u2500\u2500\u2500\u2500\u2500\u2500\u253c\u2500\u2500\u2500\u2500\u2500\u2500\u2500\u2500\u2500\u2524\n",
            "\u2502 \u0432\u044b\u0441\u0442\u0443\u043f\u0438\u043b      \u2502       O        \u2502    O    \u2502\n",
            "\u251c\u2500\u2500\u2500\u2500\u2500\u2500\u2500\u2500\u2500\u2500\u2500\u2500\u2500\u2500\u2500\u253c\u2500\u2500\u2500\u2500\u2500\u2500\u2500\u2500\u2500\u2500\u2500\u2500\u2500\u2500\u2500\u2500\u253c\u2500\u2500\u2500\u2500\u2500\u2500\u2500\u2500\u2500\u2524\n",
            "\u2502 \u043d\u0430            \u2502       O        \u2502    O    \u2502\n",
            "\u251c\u2500\u2500\u2500\u2500\u2500\u2500\u2500\u2500\u2500\u2500\u2500\u2500\u2500\u2500\u2500\u253c\u2500\u2500\u2500\u2500\u2500\u2500\u2500\u2500\u2500\u2500\u2500\u2500\u2500\u2500\u2500\u2500\u253c\u2500\u2500\u2500\u2500\u2500\u2500\u2500\u2500\u2500\u2524\n",
            "\u2502 \u0444\u043e\u0440\u0443\u043c\u0435        \u2502       O        \u2502    O    \u2502\n",
            "\u251c\u2500\u2500\u2500\u2500\u2500\u2500\u2500\u2500\u2500\u2500\u2500\u2500\u2500\u2500\u2500\u253c\u2500\u2500\u2500\u2500\u2500\u2500\u2500\u2500\u2500\u2500\u2500\u2500\u2500\u2500\u2500\u2500\u253c\u2500\u2500\u2500\u2500\u2500\u2500\u2500\u2500\u2500\u2524\n",
            "\u2502 \u0432             \u2502       O        \u2502    O    \u2502\n",
            "\u251c\u2500\u2500\u2500\u2500\u2500\u2500\u2500\u2500\u2500\u2500\u2500\u2500\u2500\u2500\u2500\u253c\u2500\u2500\u2500\u2500\u2500\u2500\u2500\u2500\u2500\u2500\u2500\u2500\u2500\u2500\u2500\u2500\u253c\u2500\u2500\u2500\u2500\u2500\u2500\u2500\u2500\u2500\u2524\n",
            "\u2502 \u0421\u0438\u044d\u0442\u043b\u0435.       \u2502      LOC       \u2502  B-LOC  \u2502\n",
            "\u2558\u2550\u2550\u2550\u2550\u2550\u2550\u2550\u2550\u2550\u2550\u2550\u2550\u2550\u2550\u2550\u2567\u2550\u2550\u2550\u2550\u2550\u2550\u2550\u2550\u2550\u2550\u2550\u2550\u2550\u2550\u2550\u2550\u2567\u2550\u2550\u2550\u2550\u2550\u2550\u2550\u2550\u2550\u255b\n",
            "----------------------------------------------------------------------\n",
            "\n",
            " \u041f\u0440\u0435\u0434\u043b\u043e\u0436\u0435\u043d\u0438\u0435: \u0412\u0447\u0435\u0440\u0430 \u0432\u0438\u0434\u0435\u043b \u0418\u043b\u043e\u043d \u041c\u0430\u0441\u043a\u0430 \u0432 \u043a\u0430\u0444\u0435 Starbucks \u043d\u0430 \u0422\u0432\u0435\u0440\u0441\u043a\u043e\u0439.\n",
            "\u2552\u2550\u2550\u2550\u2550\u2550\u2550\u2550\u2550\u2550\u2550\u2550\u2550\u2564\u2550\u2550\u2550\u2550\u2550\u2550\u2550\u2550\u2550\u2550\u2550\u2550\u2550\u2550\u2550\u2550\u2564\u2550\u2550\u2550\u2550\u2550\u2550\u2550\u2550\u2550\u2555\n",
            "\u2502 \u0422\u043e\u043a\u0435\u043d      \u2502  \u0422\u0438\u043f \u0441\u0443\u0449\u043d\u043e\u0441\u0442\u0438  \u2502  \u041c\u0435\u0442\u043a\u0430  \u2502\n",
            "\u255e\u2550\u2550\u2550\u2550\u2550\u2550\u2550\u2550\u2550\u2550\u2550\u2550\u256a\u2550\u2550\u2550\u2550\u2550\u2550\u2550\u2550\u2550\u2550\u2550\u2550\u2550\u2550\u2550\u2550\u256a\u2550\u2550\u2550\u2550\u2550\u2550\u2550\u2550\u2550\u2561\n",
            "\u2502 \u0412\u0447\u0435\u0440\u0430      \u2502       O        \u2502    O    \u2502\n",
            "\u251c\u2500\u2500\u2500\u2500\u2500\u2500\u2500\u2500\u2500\u2500\u2500\u2500\u253c\u2500\u2500\u2500\u2500\u2500\u2500\u2500\u2500\u2500\u2500\u2500\u2500\u2500\u2500\u2500\u2500\u253c\u2500\u2500\u2500\u2500\u2500\u2500\u2500\u2500\u2500\u2524\n",
            "\u2502 \u0432\u0438\u0434\u0435\u043b      \u2502       O        \u2502    O    \u2502\n",
            "\u251c\u2500\u2500\u2500\u2500\u2500\u2500\u2500\u2500\u2500\u2500\u2500\u2500\u253c\u2500\u2500\u2500\u2500\u2500\u2500\u2500\u2500\u2500\u2500\u2500\u2500\u2500\u2500\u2500\u2500\u253c\u2500\u2500\u2500\u2500\u2500\u2500\u2500\u2500\u2500\u2524\n",
            "\u2502 \u0418\u043b\u043e\u043d \u041c\u0430\u0441\u043a\u0430 \u2502      PER       \u2502  B-PER  \u2502\n",
            "\u251c\u2500\u2500\u2500\u2500\u2500\u2500\u2500\u2500\u2500\u2500\u2500\u2500\u253c\u2500\u2500\u2500\u2500\u2500\u2500\u2500\u2500\u2500\u2500\u2500\u2500\u2500\u2500\u2500\u2500\u253c\u2500\u2500\u2500\u2500\u2500\u2500\u2500\u2500\u2500\u2524\n",
            "\u2502 \u0432          \u2502       O        \u2502    O    \u2502\n",
            "\u251c\u2500\u2500\u2500\u2500\u2500\u2500\u2500\u2500\u2500\u2500\u2500\u2500\u253c\u2500\u2500\u2500\u2500\u2500\u2500\u2500\u2500\u2500\u2500\u2500\u2500\u2500\u2500\u2500\u2500\u253c\u2500\u2500\u2500\u2500\u2500\u2500\u2500\u2500\u2500\u2524\n",
            "\u2502 \u043a\u0430\u0444\u0435       \u2502       O        \u2502    O    \u2502\n",
            "\u251c\u2500\u2500\u2500\u2500\u2500\u2500\u2500\u2500\u2500\u2500\u2500\u2500\u253c\u2500\u2500\u2500\u2500\u2500\u2500\u2500\u2500\u2500\u2500\u2500\u2500\u2500\u2500\u2500\u2500\u253c\u2500\u2500\u2500\u2500\u2500\u2500\u2500\u2500\u2500\u2524\n",
            "\u2502 Starbucks  \u2502      ORG       \u2502  B-ORG  \u2502\n",
            "\u251c\u2500\u2500\u2500\u2500\u2500\u2500\u2500\u2500\u2500\u2500\u2500\u2500\u253c\u2500\u2500\u2500\u2500\u2500\u2500\u2500\u2500\u2500\u2500\u2500\u2500\u2500\u2500\u2500\u2500\u253c\u2500\u2500\u2500\u2500\u2500\u2500\u2500\u2500\u2500\u2524\n",
            "\u2502 \u043d\u0430         \u2502       O        \u2502    O    \u2502\n",
            "\u251c\u2500\u2500\u2500\u2500\u2500\u2500\u2500\u2500\u2500\u2500\u2500\u2500\u253c\u2500\u2500\u2500\u2500\u2500\u2500\u2500\u2500\u2500\u2500\u2500\u2500\u2500\u2500\u2500\u2500\u253c\u2500\u2500\u2500\u2500\u2500\u2500\u2500\u2500\u2500\u2524\n",
            "\u2502 \u0422\u0432\u0435\u0440\u0441\u043a\u043e\u0439.  \u2502      LOC       \u2502  B-LOC  \u2502\n",
            "\u2558\u2550\u2550\u2550\u2550\u2550\u2550\u2550\u2550\u2550\u2550\u2550\u2550\u2567\u2550\u2550\u2550\u2550\u2550\u2550\u2550\u2550\u2550\u2550\u2550\u2550\u2550\u2550\u2550\u2550\u2567\u2550\u2550\u2550\u2550\u2550\u2550\u2550\u2550\u2550\u255b\n",
            "----------------------------------------------------------------------\n",
            "\n",
            " \u041f\u0440\u0435\u0434\u043b\u043e\u0436\u0435\u043d\u0438\u0435: \u041a\u0430\u0440\u0442\u0438\u043d\u0443 \u0412\u0430\u043d \u0413\u043e\u0433\u0430 \u043a\u0443\u043f\u0438\u043b \u043c\u0443\u0437\u0435\u0439 \u042d\u0440\u043c\u0438\u0442\u0430\u0436 \u0437\u0430 10 \u043c\u0438\u043b\u043b\u0438\u043e\u043d\u043e\u0432 \u0434\u043e\u043b\u043b\u0430\u0440\u043e\u0432.\n",
            "\u2552\u2550\u2550\u2550\u2550\u2550\u2550\u2550\u2550\u2550\u2550\u2550\u2564\u2550\u2550\u2550\u2550\u2550\u2550\u2550\u2550\u2550\u2550\u2550\u2550\u2550\u2550\u2550\u2550\u2564\u2550\u2550\u2550\u2550\u2550\u2550\u2550\u2550\u2550\u2555\n",
            "\u2502 \u0422\u043e\u043a\u0435\u043d     \u2502  \u0422\u0438\u043f \u0441\u0443\u0449\u043d\u043e\u0441\u0442\u0438  \u2502  \u041c\u0435\u0442\u043a\u0430  \u2502\n",
            "\u255e\u2550\u2550\u2550\u2550\u2550\u2550\u2550\u2550\u2550\u2550\u2550\u256a\u2550\u2550\u2550\u2550\u2550\u2550\u2550\u2550\u2550\u2550\u2550\u2550\u2550\u2550\u2550\u2550\u256a\u2550\u2550\u2550\u2550\u2550\u2550\u2550\u2550\u2550\u2561\n",
            "\u2502 \u041a\u0430\u0440\u0442\u0438\u043d\u0443   \u2502       O        \u2502    O    \u2502\n",
            "\u251c\u2500\u2500\u2500\u2500\u2500\u2500\u2500\u2500\u2500\u2500\u2500\u253c\u2500\u2500\u2500\u2500\u2500\u2500\u2500\u2500\u2500\u2500\u2500\u2500\u2500\u2500\u2500\u2500\u253c\u2500\u2500\u2500\u2500\u2500\u2500\u2500\u2500\u2500\u2524\n",
            "\u2502 \u0412\u0430\u043d \u0413\u043e\u0433\u0430  \u2502      PER       \u2502  B-PER  \u2502\n",
            "\u251c\u2500\u2500\u2500\u2500\u2500\u2500\u2500\u2500\u2500\u2500\u2500\u253c\u2500\u2500\u2500\u2500\u2500\u2500\u2500\u2500\u2500\u2500\u2500\u2500\u2500\u2500\u2500\u2500\u253c\u2500\u2500\u2500\u2500\u2500\u2500\u2500\u2500\u2500\u2524\n",
            "\u2502 \u043a\u0443\u043f\u0438\u043b     \u2502       O        \u2502    O    \u2502\n",
            "\u251c\u2500\u2500\u2500\u2500\u2500\u2500\u2500\u2500\u2500\u2500\u2500\u253c\u2500\u2500\u2500\u2500\u2500\u2500\u2500\u2500\u2500\u2500\u2500\u2500\u2500\u2500\u2500\u2500\u253c\u2500\u2500\u2500\u2500\u2500\u2500\u2500\u2500\u2500\u2524\n",
            "\u2502 \u043c\u0443\u0437\u0435\u0439     \u2502       O        \u2502    O    \u2502\n",
            "\u251c\u2500\u2500\u2500\u2500\u2500\u2500\u2500\u2500\u2500\u2500\u2500\u253c\u2500\u2500\u2500\u2500\u2500\u2500\u2500\u2500\u2500\u2500\u2500\u2500\u2500\u2500\u2500\u2500\u253c\u2500\u2500\u2500\u2500\u2500\u2500\u2500\u2500\u2500\u2524\n",
            "\u2502 \u042d\u0440\u043c\u0438\u0442\u0430\u0436   \u2502       O        \u2502    O    \u2502\n",
            "\u251c\u2500\u2500\u2500\u2500\u2500\u2500\u2500\u2500\u2500\u2500\u2500\u253c\u2500\u2500\u2500\u2500\u2500\u2500\u2500\u2500\u2500\u2500\u2500\u2500\u2500\u2500\u2500\u2500\u253c\u2500\u2500\u2500\u2500\u2500\u2500\u2500\u2500\u2500\u2524\n",
            "\u2502 \u0437\u0430        \u2502       O        \u2502    O    \u2502\n",
            "\u251c\u2500\u2500\u2500\u2500\u2500\u2500\u2500\u2500\u2500\u2500\u2500\u253c\u2500\u2500\u2500\u2500\u2500\u2500\u2500\u2500\u2500\u2500\u2500\u2500\u2500\u2500\u2500\u2500\u253c\u2500\u2500\u2500\u2500\u2500\u2500\u2500\u2500\u2500\u2524\n",
            "\u2502 10        \u2502       O        \u2502    O    \u2502\n",
            "\u251c\u2500\u2500\u2500\u2500\u2500\u2500\u2500\u2500\u2500\u2500\u2500\u253c\u2500\u2500\u2500\u2500\u2500\u2500\u2500\u2500\u2500\u2500\u2500\u2500\u2500\u2500\u2500\u2500\u253c\u2500\u2500\u2500\u2500\u2500\u2500\u2500\u2500\u2500\u2524\n",
            "\u2502 \u043c\u0438\u043b\u043b\u0438\u043e\u043d\u043e\u0432 \u2502       O        \u2502    O    \u2502\n",
            "\u251c\u2500\u2500\u2500\u2500\u2500\u2500\u2500\u2500\u2500\u2500\u2500\u253c\u2500\u2500\u2500\u2500\u2500\u2500\u2500\u2500\u2500\u2500\u2500\u2500\u2500\u2500\u2500\u2500\u253c\u2500\u2500\u2500\u2500\u2500\u2500\u2500\u2500\u2500\u2524\n",
            "\u2502 \u0434\u043e\u043b\u043b\u0430\u0440\u043e\u0432. \u2502       O        \u2502    O    \u2502\n",
            "\u2558\u2550\u2550\u2550\u2550\u2550\u2550\u2550\u2550\u2550\u2550\u2550\u2567\u2550\u2550\u2550\u2550\u2550\u2550\u2550\u2550\u2550\u2550\u2550\u2550\u2550\u2550\u2550\u2550\u2567\u2550\u2550\u2550\u2550\u2550\u2550\u2550\u2550\u2550\u255b\n",
            "----------------------------------------------------------------------\n"
          ]
        }
      ]
    },
    {
      "cell_type": "code",
      "source": [
        "# \u041f\u043e\u043b\u0443\u0447\u0435\u043d\u0438\u0435 \u043f\u0440\u0435\u0434\u0441\u043a\u0430\u0437\u0430\u043d\u0438\u0439 \u043d\u0430 \u0442\u0435\u0441\u0442\u043e\u0432\u044b\u0445 \u0434\u0430\u043d\u043d\u044b\u0445\n",
        "test_predictions = trainer.predict(test_dataset)"
      ],
      "metadata": {
        "colab": {
          "base_uri": "https://localhost:8080/",
          "height": 17
        },
        "id": "D6Mk2aAsUXJP",
        "outputId": "741e665f-128d-4c1e-bf1f-a7936fff523e"
      },
      "execution_count": null,
      "outputs": [
        {
          "output_type": "display_data",
          "data": {
            "text/plain": [
              "<IPython.core.display.HTML object>"
            ],
            "text/html": []
          },
          "metadata": {}
        }
      ]
    },
    {
      "cell_type": "code",
      "source": [
        "import numpy as np\n",
        "\n",
        "# \u041b\u043e\u0433\u0438\u0442\u044b \u0438 \u043c\u0435\u0442\u043a\u0438\n",
        "logits = test_predictions.predictions\n",
        "true_labels = test_predictions.label_ids\n",
        "\n",
        "# \u041f\u0440\u0435\u043e\u0431\u0440\u0430\u0437\u043e\u0432\u0430\u043d\u0438\u0435 \u043b\u043e\u0433\u0438\u0442\u043e\u0432 \u0432 \u043f\u0440\u0435\u0434\u0441\u043a\u0430\u0437\u0430\u043d\u043d\u044b\u0435 \u043a\u043b\u0430\u0441\u0441\u044b\n",
        "predicted_labels = np.argmax(logits, axis=2)\n",
        "# \u0424\u0438\u043b\u044c\u0442\u0440\u0430\u0446\u0438\u044f \u0441\u043f\u0435\u0446\u0438\u0430\u043b\u044c\u043d\u044b\u0445 \u0442\u043e\u043a\u0435\u043d\u043e\u0432 (\u0433\u0434\u0435 true_labels != -100)\n",
        "filtered_preds = []\n",
        "filtered_true = []\n",
        "\n",
        "for pred_seq, true_seq in zip(predicted_labels, true_labels):\n",
        "    for pred, true in zip(pred_seq, true_seq):\n",
        "        if true != -100:  # \u0438\u0433\u043d\u043e\u0440 \u043f\u0430\u0434\u0434\u0438\u043d\u0433 \u0438 \u0441\u043f\u0435\u0446. \u0442\u043e\u043a\u0435\u043d\u044b\n",
        "            filtered_preds.append(id2label[pred])\n",
        "            filtered_true.append(id2label[true])"
      ],
      "metadata": {
        "id": "VuayhB7yUaSZ"
      },
      "execution_count": null,
      "outputs": []
    },
    {
      "cell_type": "code",
      "source": [
        "from seqeval.metrics import classification_report\n",
        "\n",
        "print(classification_report([filtered_true], [filtered_preds], zero_division=0))"
      ],
      "metadata": {
        "id": "kED7_24JUer3",
        "colab": {
          "base_uri": "https://localhost:8080/"
        },
        "outputId": "49242983-ec25-46cc-85fb-b3de0c87a7b0"
      },
      "execution_count": null,
      "outputs": [
        {
          "output_type": "stream",
          "name": "stdout",
          "text": [
            "              precision    recall  f1-score   support\n",
            "\n",
            "         LOC       0.85      0.87      0.86       298\n",
            "         ORG       0.41      0.44      0.42        86\n",
            "         PER       0.83      0.89      0.86       149\n",
            "\n",
            "   micro avg       0.77      0.81      0.79       533\n",
            "   macro avg       0.69      0.73      0.71       533\n",
            "weighted avg       0.77      0.81      0.79       533\n",
            "\n"
          ]
        }
      ]
    },
    {
      "cell_type": "code",
      "source": [
        "import matplotlib.pyplot as plt\n",
        "import numpy as np\n",
        "\n",
        "categories = ['LOC', 'ORG', 'PER']\n",
        "metrics = ['Precision', 'Recall', 'F1-Score']\n",
        "data = np.array([\n",
        "    [85, 87, 86],  # LOC\n",
        "    [41, 44, 42],  # ORG\n",
        "    [83, 89, 86]   # PER\n",
        "])\n",
        "\n",
        "x = np.arange(len(categories))\n",
        "width = 0.25\n",
        "\n",
        "fig, ax = plt.subplots(figsize=(10, 6))\n",
        "\n",
        "for i, metric in enumerate(metrics):\n",
        "    ax.bar(x + i*width, data[:, i], width, label=metric)\n",
        "\n",
        "ax.set_ylabel('Score (%)')\n",
        "ax.set_title('NER Performance Metrics by Entity Type')\n",
        "ax.set_xticks(x + width)\n",
        "ax.set_xticklabels(categories)\n",
        "ax.legend(loc='upper right', bbox_to_anchor=(1.15, 1))\n",
        "ax.set_ylim(0, 100)\n",
        "\n",
        "for i in range(len(categories)):\n",
        "    for j in range(len(metrics)):\n",
        "        height = data[i, j]\n",
        "        ax.annotate(f'{height}%',\n",
        "                    xy=(x[i] + j*width, height),\n",
        "                    xytext=(0, 3),\n",
        "                    textcoords=\"offset points\",\n",
        "                    ha='center', va='bottom')\n",
        "\n",
        "plt.tight_layout()\n",
        "plt.show()"
      ],
      "metadata": {
        "id": "BKx6IYh9UsLu",
        "colab": {
          "base_uri": "https://localhost:8080/",
          "height": 607
        },
        "outputId": "754c0091-72f4-427a-a660-537ca4ee7fc5"
      },
      "execution_count": null,
      "outputs": [
        {
          "output_type": "display_data",
          "data": {
            "text/plain": [
              "<Figure size 1000x600 with 1 Axes>"
            ],
            "image/png": "[encoded data removed]"
          },
          "metadata": {}
        }
      ]
    },
    {
      "cell_type": "code",
      "source": [
        "#  \u043c\u043e\u0434\u0435\u043b\u044c \u043d\u0430 GPU\n",
        "device = torch.device(\"cuda\") if torch.cuda.is_available() else torch.device(\"cpu\")\n",
        "model.to(device)"
      ],
      "metadata": {
        "id": "8cI9oAwLUg0q",
        "colab": {
          "base_uri": "https://localhost:8080/"
        },
        "outputId": "466af1cc-e215-4d6f-e64c-09a1bc43b97e"
      },
      "execution_count": null,
      "outputs": [
        {
          "output_type": "execute_result",
          "data": {
            "text/plain": [
              "NERModel_4(\n",
              "  (bert): BertModel(\n",
              "    (embeddings): BertEmbeddings(\n",
              "      (word_embeddings): Embedding(119547, 768, padding_idx=0)\n",
              "      (position_embeddings): Embedding(512, 768)\n",
              "      (token_type_embeddings): Embedding(2, 768)\n",
              "      (LayerNorm): LayerNorm((768,), eps=1e-12, elementwise_affine=True)\n",
              "      (dropout): Dropout(p=0.1, inplace=False)\n",
              "    )\n",
              "    (encoder): BertEncoder(\n",
              "      (layer): ModuleList(\n",
              "        (0-11): 12 x BertLayer(\n",
              "          (attention): BertAttention(\n",
              "            (self): BertSdpaSelfAttention(\n",
              "              (query): Linear(in_features=768, out_features=768, bias=True)\n",
              "              (key): Linear(in_features=768, out_features=768, bias=True)\n",
              "              (value): Linear(in_features=768, out_features=768, bias=True)\n",
              "              (dropout): Dropout(p=0.1, inplace=False)\n",
              "            )\n",
              "            (output): BertSelfOutput(\n",
              "              (dense): Linear(in_features=768, out_features=768, bias=True)\n",
              "              (LayerNorm): LayerNorm((768,), eps=1e-12, elementwise_affine=True)\n",
              "              (dropout): Dropout(p=0.1, inplace=False)\n",
              "            )\n",
              "          )\n",
              "          (intermediate): BertIntermediate(\n",
              "            (dense): Linear(in_features=768, out_features=3072, bias=True)\n",
              "            (intermediate_act_fn): GELUActivation()\n",
              "          )\n",
              "          (output): BertOutput(\n",
              "            (dense): Linear(in_features=3072, out_features=768, bias=True)\n",
              "            (LayerNorm): LayerNorm((768,), eps=1e-12, elementwise_affine=True)\n",
              "            (dropout): Dropout(p=0.1, inplace=False)\n",
              "          )\n",
              "        )\n",
              "      )\n",
              "    )\n",
              "    (pooler): BertPooler(\n",
              "      (dense): Linear(in_features=768, out_features=768, bias=True)\n",
              "      (activation): Tanh()\n",
              "    )\n",
              "  )\n",
              "  (dropout): Dropout(p=0.2, inplace=False)\n",
              "  (classifier): Sequential(\n",
              "    (0): Linear(in_features=768, out_features=768, bias=True)\n",
              "    (1): LayerNorm((768,), eps=1e-05, elementwise_affine=True)\n",
              "    (2): GELU(approximate='none')\n",
              "    (3): Dropout(p=0.2, inplace=False)\n",
              "    (4): Linear(in_features=768, out_features=128, bias=True)\n",
              "    (5): LayerNorm((128,), eps=1e-05, elementwise_affine=True)\n",
              "    (6): GELU(approximate='none')\n",
              "    (7): Dropout(p=0.2, inplace=False)\n",
              "    (8): Linear(in_features=128, out_features=7, bias=True)\n",
              "  )\n",
              ")"
            ]
          },
          "metadata": {},
          "execution_count": 81
        }
      ]
    }
  ]
}