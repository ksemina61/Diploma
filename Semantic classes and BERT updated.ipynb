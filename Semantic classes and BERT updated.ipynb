{
  "nbformat": 4,
  "nbformat_minor": 0,
  "metadata": {
    "colab": {
      "provenance": [],
      "gpuType": "T4"
    },
    "kernelspec": {
      "name": "python3",
      "display_name": "Python 3"
    },
    "language_info": {
      "name": "python"
    },
    "accelerator": "GPU"
  },
  "cells": [
    {
      "cell_type": "markdown",
      "source": [
        "# **\u0414\u043e\u0431\u0430\u0432\u043b\u0435\u043d\u0438\u0435 \u0441\u0435\u043c\u0430\u043d\u0442\u0438\u043a\u0438**\n"
      ],
      "metadata": {
        "id": "cRf1uEjn_XvW"
      }
    },
    {
      "cell_type": "markdown",
      "source": [
        "# **OHE \u043a\u043e\u043d\u043a\u0430\u0442\u0435\u043d\u0430\u0446\u0438\u044f**"
      ],
      "metadata": {
        "id": "g6b0wRcODbns"
      }
    },
    {
      "cell_type": "code",
      "source": [
        "import transformers\n",
        "from transformers import BertModel, AutoTokenizer, BertTokenizer, PreTrainedTokenizerFast,  get_linear_schedule_with_warmup\n",
        "import torch.nn.functional as F\n",
        "import torch\n",
        "import numpy as np\n",
        "import pandas as pd\n",
        "import seaborn as sns\n",
        "from pylab import rcParams\n",
        "import matplotlib.pyplot as plt\n",
        "from matplotlib import rc\n",
        "from sklearn.model_selection import train_test_split\n",
        "from sklearn.metrics import confusion_matrix, classification_report\n",
        "from torch import nn, optim\n",
        "from torch.nn.utils import clip_grad_norm_\n",
        "from tqdm import tqdm, trange\n",
        "from torch.utils.data import Dataset, DataLoader, RandomSampler, TensorDataset, SequentialSampler"
      ],
      "metadata": {
        "id": "XWQlpOrF__W4"
      },
      "execution_count": 1,
      "outputs": []
    },
    {
      "cell_type": "code",
      "execution_count": 2,
      "metadata": {
        "id": "zg0iy5Dp-HdY"
      },
      "outputs": [],
      "source": [
        "import torch\n",
        "import torch.nn as nn\n",
        "from transformers import BertModel, BertTokenizer\n",
        "from torch.utils.data import Dataset\n",
        "from torch.nn.functional import one_hot\n",
        "import csv\n",
        "from collections import defaultdict\n",
        "import pandas as pd\n",
        "import numpy as np\n",
        "import re"
      ]
    },
    {
      "cell_type": "code",
      "source": [
        "# locked seed\n",
        "import random\n",
        "import os\n",
        "import numpy as np\n",
        "\n",
        "def set_all_seeds(seed):\n",
        "    random.seed(seed)\n",
        "    np.random.seed(seed)\n",
        "    torch.manual_seed(seed)\n",
        "    torch.cuda.manual_seed_all(seed)\n",
        "    torch.backends.cudnn.deterministic = True\n",
        "    torch.backends.cudnn.benchmark = False"
      ],
      "metadata": {
        "id": "nE0-TbGQAZwN"
      },
      "execution_count": 3,
      "outputs": []
    },
    {
      "cell_type": "code",
      "source": [
        "set_all_seeds(4036) # \u0443 \u041d\u0430\u0441\u0442\u0438 random_state \u0431\u044b\u043b 4036, \u044f \u0440\u0435\u0448\u0438\u043b\u0430 \u043e\u0441\u0442\u0430\u0432\u0438\u0442\u044c \u044d\u0442\u043e \u0436\u0435 \u0447\u0438\u0441\u043b\u043e, \u0447\u0442\u043e\u0431\u044b \u0438\u0437\u0431\u0435\u0436\u0430\u0442\u044c \u043b\u0438\u0448\u043d\u0438\u0445 \u043f\u0440\u043e\u0431\u043b\u0435\u043c"
      ],
      "metadata": {
        "id": "0nIwzWJwAbgr"
      },
      "execution_count": 4,
      "outputs": []
    },
    {
      "cell_type": "code",
      "source": [
        "from transformers import BertTokenizerFast\n",
        "tokenizer = BertTokenizerFast.from_pretrained(\"DeepPavlov/rubert-base-cased\")\n",
        "bert_model = BertTokenizerFast.from_pretrained(\"DeepPavlov/rubert-base-cased\")"
      ],
      "metadata": {
        "id": "RCXLppvT8Ubu",
        "colab": {
          "base_uri": "https://localhost:8080/",
          "height": 145,
          "referenced_widgets": [
            "28c5f90c28064758a1cd5aa11a1558f3",
            "1de1bf7728264a9bb67d172f5848f834",
            "5cc3ae6a5ed445928dde4eeef45d06c9",
            "16343433ddda4e93b88e7dbf93fd1d3a",
            "b99dd4f06ac248d6ac21438f0962e073",
            "9d790e7cb7e24b1684cd0d0d1e5ce4a1",
            "59111e8219a3409aa64878d13b38d299",
            "a86a1353ffc0412abead9eb250769386",
            "464dc60c23e946d89e22a743112a0612",
            "20f0d38a20b84da39a4c3fb4df39d8e6",
            "377c7340851741b5843a1aef57927dbe",
            "d8758ee99846410b8291677667ca8736",
            "d4a9914b7f5441e295a5dd83b8b4484f",
            "75c551d339b843c4921ad60082a8889b",
            "04408b0af3014a69b10a35c7ca9f3f15",
            "ade8f0e9a1b34cd58f1b1acd9c5516d8",
            "8b36634ca3334f10afb911c302aec37d",
            "188dffc9b022451caf16406e3f6d45d3",
            "ee9a173cf451401d8813fdb8435a0707",
            "bf555ae866f24da3a02ea14f78335aa2",
            "c510e62e7f9143edbc12b78ca1a61ea7",
            "e60cb03eaa2d45188a0f570f8a4f6c06",
            "ea1ccd7c8ae54a7daee4a213c4636275",
            "0c3e0f8301234ecfb2dbc3e8dd0213f0",
            "583ad5c6db9847528628f3e39ca4c006",
            "9bdc698791a54152a83a7bbeb42ee49a",
            "a2c2829044f04ae8ac5679703174b52d",
            "6bb2213c63624b6f99ba770126707721",
            "7bffc9e7d42e43999f71f0169346c9f4",
            "02ee52ecfc434dfbbea8d44470e8812e",
            "a6b2ac937643463db6dfde00a621f35a",
            "7589ac40bdd542f89c87e4213a80aad7",
            "624ca31ce814472dae0a4fb36cae6508",
            "b25f408c9097433ab65f683866593fbb",
            "4645ca0fb2c941e98879dc61ec5955e0",
            "e4abc8b3a3c042148d1c7ad1740823c7",
            "d1db9d85eb6046ca9145542280f4adcd",
            "5c411f01a2ff4c8ba91e750ff11bfa7b",
            "29b364420d504b469e5f6317d7e5811c",
            "db3faa0594d24c2f9b8d4db340859150",
            "079bd8c1260147a285f359c1c90d3227",
            "5dcbe106cd314ae0a5a1849138009612",
            "3f8101978e304994ba708af4902d4f6a",
            "dcf173c1f877455f82f0736d003cca1a"
          ]
        },
        "outputId": "9627352a-bece-4f4e-8bae-6e14c8afcba5"
      },
      "execution_count": 13,
      "outputs": [
        {
          "output_type": "display_data",
          "data": {
            "text/plain": [
              "tokenizer_config.json:   0%|          | 0.00/24.0 [00:00<?, ?B/s]"
            ],
            "application/vnd.jupyter.widget-view+json": {
              "version_major": 2,
              "version_minor": 0,
              "model_id": "28c5f90c28064758a1cd5aa11a1558f3"
            }
          },
          "metadata": {}
        },
        {
          "output_type": "display_data",
          "data": {
            "text/plain": [
              "vocab.txt:   0%|          | 0.00/1.65M [00:00<?, ?B/s]"
            ],
            "application/vnd.jupyter.widget-view+json": {
              "version_major": 2,
              "version_minor": 0,
              "model_id": "d8758ee99846410b8291677667ca8736"
            }
          },
          "metadata": {}
        },
        {
          "output_type": "display_data",
          "data": {
            "text/plain": [
              "special_tokens_map.json:   0%|          | 0.00/112 [00:00<?, ?B/s]"
            ],
            "application/vnd.jupyter.widget-view+json": {
              "version_major": 2,
              "version_minor": 0,
              "model_id": "ea1ccd7c8ae54a7daee4a213c4636275"
            }
          },
          "metadata": {}
        },
        {
          "output_type": "display_data",
          "data": {
            "text/plain": [
              "config.json:   0%|          | 0.00/642 [00:00<?, ?B/s]"
            ],
            "application/vnd.jupyter.widget-view+json": {
              "version_major": 2,
              "version_minor": 0,
              "model_id": "b25f408c9097433ab65f683866593fbb"
            }
          },
          "metadata": {}
        }
      ]
    },
    {
      "cell_type": "markdown",
      "source": [
        "\u0423 \u043c\u0435\u043d\u044f \u043d\u0435 \u0441\u043e\u0432\u043f\u0430\u043b\u0438 \u0434\u0430\u043d\u043d\u044b\u0435, \u043f\u043e\u044d\u0442\u043e\u043c\u0443 \u043c\u043d\u0435 \u043f\u0440\u0438\u0448\u043b\u043e\u0441\u044c \u0432\u0440\u0443\u0447\u043d\u0443\u044e \u0441\u043c\u043e\u0442\u0440\u0435\u0442\u044c \u043e\u0448\u0438\u0431\u043a\u0438 \u0432 \u0441\u0432\u043e\u0435\u043c \u0434\u0430\u0442\u0430\u0441\u0435\u0442\u0435 \u0438 \u0432\u0440\u0443\u0447\u043d\u0443\u044e \u0440\u0430\u0437\u043c\u0435\u0447\u0430\u0442\u044c. \u041d\u0430 \u0443\u0441\u0442\u0440\u0430\u043d\u0435\u043d\u0438\u0435 \u043f\u0440\u043e\u0431\u043b\u0435\u043c\u044b \u043c\u043d\u0435 \u043f\u043e\u0442\u0440\u0435\u0431\u043e\u0432\u0430\u043b\u043e\u0441\u044c \u043e\u043a\u043e\u043b\u043e \u0442\u0440\u0435\u0445 \u0434\u043d\u0435\u0439."
      ],
      "metadata": {
        "id": "HMKpSqTfCbVc"
      }
    },
    {
      "cell_type": "code",
      "source": [
        "#print(len(df_sem))  # \u0414\u043e\u043b\u0436\u043d\u044b \u0431\u044b\u0442\u044c \u043e\u0434\u0438\u043d\u0430\u043a\u043e\u0432\u044b\u043c\u0438"
      ],
      "metadata": {
        "colab": {
          "base_uri": "https://localhost:8080/"
        },
        "id": "iJUlZtjPRgPL",
        "outputId": "88dbafec-1d1e-4648-c9c6-2be72e46f92c"
      },
      "execution_count": null,
      "outputs": [
        {
          "output_type": "stream",
          "name": "stdout",
          "text": [
            "77374\n"
          ]
        }
      ]
    },
    {
      "cell_type": "code",
      "source": [
        "#len(df_cleaned)"
      ],
      "metadata": {
        "colab": {
          "base_uri": "https://localhost:8080/"
        },
        "id": "4Pggqbx0NfzQ",
        "outputId": "67711d3d-0240-44fd-f836-eb3b6c0b2e4c"
      },
      "execution_count": null,
      "outputs": [
        {
          "output_type": "execute_result",
          "data": {
            "text/plain": [
              "77315"
            ]
          },
          "metadata": {},
          "execution_count": 66
        }
      ]
    },
    {
      "cell_type": "code",
      "source": [
        "# \u043e\u0442\u043a\u0440\u043e\u044e \u0434\u0430\u0442\u0430\u0441\u0435\u0442\n",
        "df_sem = pd.read_csv('semclasses.csv').fillna(method=\"ffill\")\n",
        "df_sem.head(10)"
      ],
      "metadata": {
        "colab": {
          "base_uri": "https://localhost:8080/",
          "height": 417
        },
        "id": "fD_c7XCnX77z",
        "outputId": "c1cf4463-85bc-4ff7-f4d6-999f8a61f423"
      },
      "execution_count": 14,
      "outputs": [
        {
          "output_type": "stream",
          "name": "stderr",
          "text": [
            "<ipython-input-14-360031de689b>:2: FutureWarning: DataFrame.fillna with 'method' is deprecated and will raise in a future version. Use obj.ffill() or obj.bfill() instead.\n",
            "  df_sem = pd.read_csv('semclasses.csv').fillna(method=\"ffill\")\n"
          ]
        },
        {
          "output_type": "execute_result",
          "data": {
            "text/plain": [
              "          form                         semclass    NER\n",
              "0      \u0414\u0435\u0442\u0441\u0442\u0432\u043e                             TIME      O\n",
              "1       \u043f\u0440\u043e\u0432\u0451\u043b                    TO_SPEND_TIME      O\n",
              "2            \u0432                      PREPOSITION      O\n",
              "3  \u041d\u0430\u0434\u044c\u0441\u043e\u043c\u0431\u0430\u0442\u0435               INHABITED_LOCALITY  B-LOC\n",
              "4            \u0441                      PREPOSITION      O\n",
              "5         1860  CH_REFERENCE_AND_QUANTIFICATION      O\n",
              "6            \u0433                             TIME      O\n",
              "7            .                                _      O\n",
              "8           \u041d\u0430                                _      O\n",
              "9        \u0441\u0430\u043c\u043e\u043c                                _      O"
            ],
            "text/html": [
              "\n",
              "  <div id=\"df-eacb23a3-419d-440b-803d-ea2c672debbc\" class=\"colab-df-container\">\n",
              "    <div>\n",
              "<style scoped>\n",
              "    .dataframe tbody tr th:only-of-type {\n",
              "        vertical-align: middle;\n",
              "    }\n",
              "\n",
              "    .dataframe tbody tr th {\n",
              "        vertical-align: top;\n",
              "    }\n",
              "\n",
              "    .dataframe thead th {\n",
              "        text-align: right;\n",
              "    }\n",
              "</style>\n",
              "<table border=\"1\" class=\"dataframe\">\n",
              "  <thead>\n",
              "    <tr style=\"text-align: right;\">\n",
              "      <th></th>\n",
              "      <th>form</th>\n",
              "      <th>semclass</th>\n",
              "      <th>NER</th>\n",
              "    </tr>\n",
              "  </thead>\n",
              "  <tbody>\n",
              "    <tr>\n",
              "      <th>0</th>\n",
              "      <td>\u0414\u0435\u0442\u0441\u0442\u0432\u043e</td>\n",
              "      <td>TIME</td>\n",
              "      <td>O</td>\n",
              "    </tr>\n",
              "    <tr>\n",
              "      <th>1</th>\n",
              "      <td>\u043f\u0440\u043e\u0432\u0451\u043b</td>\n",
              "      <td>TO_SPEND_TIME</td>\n",
              "      <td>O</td>\n",
              "    </tr>\n",
              "    <tr>\n",
              "      <th>2</th>\n",
              "      <td>\u0432</td>\n",
              "      <td>PREPOSITION</td>\n",
              "      <td>O</td>\n",
              "    </tr>\n",
              "    <tr>\n",
              "      <th>3</th>\n",
              "      <td>\u041d\u0430\u0434\u044c\u0441\u043e\u043c\u0431\u0430\u0442\u0435</td>\n",
              "      <td>INHABITED_LOCALITY</td>\n",
              "      <td>B-LOC</td>\n",
              "    </tr>\n",
              "    <tr>\n",
              "      <th>4</th>\n",
              "      <td>\u0441</td>\n",
              "      <td>PREPOSITION</td>\n",
              "      <td>O</td>\n",
              "    </tr>\n",
              "    <tr>\n",
              "      <th>5</th>\n",
              "      <td>1860</td>\n",
              "      <td>CH_REFERENCE_AND_QUANTIFICATION</td>\n",
              "      <td>O</td>\n",
              "    </tr>\n",
              "    <tr>\n",
              "      <th>6</th>\n",
              "      <td>\u0433</td>\n",
              "      <td>TIME</td>\n",
              "      <td>O</td>\n",
              "    </tr>\n",
              "    <tr>\n",
              "      <th>7</th>\n",
              "      <td>.</td>\n",
              "      <td>_</td>\n",
              "      <td>O</td>\n",
              "    </tr>\n",
              "    <tr>\n",
              "      <th>8</th>\n",
              "      <td>\u041d\u0430</td>\n",
              "      <td>_</td>\n",
              "      <td>O</td>\n",
              "    </tr>\n",
              "    <tr>\n",
              "      <th>9</th>\n",
              "      <td>\u0441\u0430\u043c\u043e\u043c</td>\n",
              "      <td>_</td>\n",
              "      <td>O</td>\n",
              "    </tr>\n",
              "  </tbody>\n",
              "</table>\n",
              "</div>\n",
              "    <div class=\"colab-df-buttons\">\n",
              "\n",
              "  <div class=\"colab-df-container\">\n",
              "    <button class=\"colab-df-convert\" onclick=\"convertToInteractive('df-eacb23a3-419d-440b-803d-ea2c672debbc')\"\n",
              "            title=\"Convert this dataframe to an interactive table.\"\n",
              "            style=\"display:none;\">\n",
              "\n",
              "  <svg xmlns=\"http://www.w3.org/2000/svg\" height=\"24px\" viewBox=\"0 -960 960 960\">\n",
              "    <path d=\"M120-120v-720h720v720H120Zm60-500h600v-160H180v160Zm220 220h160v-160H400v160Zm0 220h160v-160H400v160ZM180-400h160v-160H180v160Zm440 0h160v-160H620v160ZM180-180h160v-160H180v160Zm440 0h160v-160H620v160Z\"/>\n",
              "  </svg>\n",
              "    </button>\n",
              "\n",
              "  <style>\n",
              "    .colab-df-container {\n",
              "      display:flex;\n",
              "      gap: 12px;\n",
              "    }\n",
              "\n",
              "    .colab-df-convert {\n",
              "      background-color: #E8F0FE;\n",
              "      border: none;\n",
              "      border-radius: 50%;\n",
              "      cursor: pointer;\n",
              "      display: none;\n",
              "      fill: #1967D2;\n",
              "      height: 32px;\n",
              "      padding: 0 0 0 0;\n",
              "      width: 32px;\n",
              "    }\n",
              "\n",
              "    .colab-df-convert:hover {\n",
              "      background-color: #E2EBFA;\n",
              "      box-shadow: 0px 1px 2px rgba(60, 64, 67, 0.3), 0px 1px 3px 1px rgba(60, 64, 67, 0.15);\n",
              "      fill: #174EA6;\n",
              "    }\n",
              "\n",
              "    .colab-df-buttons div {\n",
              "      margin-bottom: 4px;\n",
              "    }\n",
              "\n",
              "    [theme=dark] .colab-df-convert {\n",
              "      background-color: #3B4455;\n",
              "      fill: #D2E3FC;\n",
              "    }\n",
              "\n",
              "    [theme=dark] .colab-df-convert:hover {\n",
              "      background-color: #434B5C;\n",
              "      box-shadow: 0px 1px 3px 1px rgba(0, 0, 0, 0.15);\n",
              "      filter: drop-shadow(0px 1px 2px rgba(0, 0, 0, 0.3));\n",
              "      fill: #FFFFFF;\n",
              "    }\n",
              "  </style>\n",
              "\n",
              "    <script>\n",
              "      const buttonEl =\n",
              "        document.querySelector('#df-eacb23a3-419d-440b-803d-ea2c672debbc button.colab-df-convert');\n",
              "      buttonEl.style.display =\n",
              "        google.colab.kernel.accessAllowed ? 'block' : 'none';\n",
              "\n",
              "      async function convertToInteractive(key) {\n",
              "        const element = document.querySelector('#df-eacb23a3-419d-440b-803d-ea2c672debbc');\n",
              "        const dataTable =\n",
              "          await google.colab.kernel.invokeFunction('convertToInteractive',\n",
              "                                                    [key], {});\n",
              "        if (!dataTable) return;\n",
              "\n",
              "        const docLinkHtml = 'Like what you see? Visit the ' +\n",
              "          '<a target=\"_blank\" href=https://colab.research.google.com/notebooks/data_table.ipynb>data table notebook</a>'\n",
              "          + ' to learn more about interactive tables.';\n",
              "        element.innerHTML = '';\n",
              "        dataTable['output_type'] = 'display_data';\n",
              "        await google.colab.output.renderOutput(dataTable, element);\n",
              "        const docLink = document.createElement('div');\n",
              "        docLink.innerHTML = docLinkHtml;\n",
              "        element.appendChild(docLink);\n",
              "      }\n",
              "    </script>\n",
              "  </div>\n",
              "\n",
              "\n",
              "    <div id=\"df-9e2171c5-c928-4752-9ca7-1f3e1854303a\">\n",
              "      <button class=\"colab-df-quickchart\" onclick=\"quickchart('df-9e2171c5-c928-4752-9ca7-1f3e1854303a')\"\n",
              "                title=\"Suggest charts\"\n",
              "                style=\"display:none;\">\n",
              "\n",
              "<svg xmlns=\"http://www.w3.org/2000/svg\" height=\"24px\"viewBox=\"0 0 24 24\"\n",
              "     width=\"24px\">\n",
              "    <g>\n",
              "        <path d=\"M19 3H5c-1.1 0-2 .9-2 2v14c0 1.1.9 2 2 2h14c1.1 0 2-.9 2-2V5c0-1.1-.9-2-2-2zM9 17H7v-7h2v7zm4 0h-2V7h2v10zm4 0h-2v-4h2v4z\"/>\n",
              "    </g>\n",
              "</svg>\n",
              "      </button>\n",
              "\n",
              "<style>\n",
              "  .colab-df-quickchart {\n",
              "      --bg-color: #E8F0FE;\n",
              "      --fill-color: #1967D2;\n",
              "      --hover-bg-color: #E2EBFA;\n",
              "      --hover-fill-color: #174EA6;\n",
              "      --disabled-fill-color: #AAA;\n",
              "      --disabled-bg-color: #DDD;\n",
              "  }\n",
              "\n",
              "  [theme=dark] .colab-df-quickchart {\n",
              "      --bg-color: #3B4455;\n",
              "      --fill-color: #D2E3FC;\n",
              "      --hover-bg-color: #434B5C;\n",
              "      --hover-fill-color: #FFFFFF;\n",
              "      --disabled-bg-color: #3B4455;\n",
              "      --disabled-fill-color: #666;\n",
              "  }\n",
              "\n",
              "  .colab-df-quickchart {\n",
              "    background-color: var(--bg-color);\n",
              "    border: none;\n",
              "    border-radius: 50%;\n",
              "    cursor: pointer;\n",
              "    display: none;\n",
              "    fill: var(--fill-color);\n",
              "    height: 32px;\n",
              "    padding: 0;\n",
              "    width: 32px;\n",
              "  }\n",
              "\n",
              "  .colab-df-quickchart:hover {\n",
              "    background-color: var(--hover-bg-color);\n",
              "    box-shadow: 0 1px 2px rgba(60, 64, 67, 0.3), 0 1px 3px 1px rgba(60, 64, 67, 0.15);\n",
              "    fill: var(--button-hover-fill-color);\n",
              "  }\n",
              "\n",
              "  .colab-df-quickchart-complete:disabled,\n",
              "  .colab-df-quickchart-complete:disabled:hover {\n",
              "    background-color: var(--disabled-bg-color);\n",
              "    fill: var(--disabled-fill-color);\n",
              "    box-shadow: none;\n",
              "  }\n",
              "\n",
              "  .colab-df-spinner {\n",
              "    border: 2px solid var(--fill-color);\n",
              "    border-color: transparent;\n",
              "    border-bottom-color: var(--fill-color);\n",
              "    animation:\n",
              "      spin 1s steps(1) infinite;\n",
              "  }\n",
              "\n",
              "  @keyframes spin {\n",
              "    0% {\n",
              "      border-color: transparent;\n",
              "      border-bottom-color: var(--fill-color);\n",
              "      border-left-color: var(--fill-color);\n",
              "    }\n",
              "    20% {\n",
              "      border-color: transparent;\n",
              "      border-left-color: var(--fill-color);\n",
              "      border-top-color: var(--fill-color);\n",
              "    }\n",
              "    30% {\n",
              "      border-color: transparent;\n",
              "      border-left-color: var(--fill-color);\n",
              "      border-top-color: var(--fill-color);\n",
              "      border-right-color: var(--fill-color);\n",
              "    }\n",
              "    40% {\n",
              "      border-color: transparent;\n",
              "      border-right-color: var(--fill-color);\n",
              "      border-top-color: var(--fill-color);\n",
              "    }\n",
              "    60% {\n",
              "      border-color: transparent;\n",
              "      border-right-color: var(--fill-color);\n",
              "    }\n",
              "    80% {\n",
              "      border-color: transparent;\n",
              "      border-right-color: var(--fill-color);\n",
              "      border-bottom-color: var(--fill-color);\n",
              "    }\n",
              "    90% {\n",
              "      border-color: transparent;\n",
              "      border-bottom-color: var(--fill-color);\n",
              "    }\n",
              "  }\n",
              "</style>\n",
              "\n",
              "      <script>\n",
              "        async function quickchart(key) {\n",
              "          const quickchartButtonEl =\n",
              "            document.querySelector('#' + key + ' button');\n",
              "          quickchartButtonEl.disabled = true;  // To prevent multiple clicks.\n",
              "          quickchartButtonEl.classList.add('colab-df-spinner');\n",
              "          try {\n",
              "            const charts = await google.colab.kernel.invokeFunction(\n",
              "                'suggestCharts', [key], {});\n",
              "          } catch (error) {\n",
              "            console.error('Error during call to suggestCharts:', error);\n",
              "          }\n",
              "          quickchartButtonEl.classList.remove('colab-df-spinner');\n",
              "          quickchartButtonEl.classList.add('colab-df-quickchart-complete');\n",
              "        }\n",
              "        (() => {\n",
              "          let quickchartButtonEl =\n",
              "            document.querySelector('#df-9e2171c5-c928-4752-9ca7-1f3e1854303a button');\n",
              "          quickchartButtonEl.style.display =\n",
              "            google.colab.kernel.accessAllowed ? 'block' : 'none';\n",
              "        })();\n",
              "      </script>\n",
              "    </div>\n",
              "    </div>\n",
              "  </div>\n"
            ],
            "application/vnd.google.colaboratory.intrinsic+json": {
              "type": "dataframe",
              "variable_name": "df_sem",
              "summary": "{\n  \"name\": \"df_sem\",\n  \"rows\": 65535,\n  \"fields\": [\n    {\n      \"column\": \"form\",\n      \"properties\": {\n        \"dtype\": \"category\",\n        \"num_unique_values\": 21433,\n        \"samples\": [\n          \"\\u0433\\u043e\\u0441\\u0443\\u0434\\u0430\\u0440\\u0441\\u0442\\u0432\\u0430\",\n          \"\\u0412\\u0435\\u043b\\u0438\\u043a\\u0438\\u043c\",\n          \"\\u0422\\u043c\\u0443\\u0442\\u0430\\u0440\\u0430\\u043a\\u0430\\u043d\\u044c\"\n        ],\n        \"semantic_type\": \"\",\n        \"description\": \"\"\n      }\n    },\n    {\n      \"column\": \"semclass\",\n      \"properties\": {\n        \"dtype\": \"category\",\n        \"num_unique_values\": 456,\n        \"samples\": [\n          \"TO_TAKE_FOOD_OR_MEDICINE\",\n          \"CONJUNCTIONS\",\n          \"CH_SURFACE_EDGE\"\n        ],\n        \"semantic_type\": \"\",\n        \"description\": \"\"\n      }\n    },\n    {\n      \"column\": \"NER\",\n      \"properties\": {\n        \"dtype\": \"category\",\n        \"num_unique_values\": 10,\n        \"samples\": [\n          \"B-PORG\",\n          \"B-LOC\",\n          \"I-PER\"\n        ],\n        \"semantic_type\": \"\",\n        \"description\": \"\"\n      }\n    }\n  ]\n}"
            }
          },
          "metadata": {},
          "execution_count": 14
        }
      ]
    },
    {
      "cell_type": "markdown",
      "source": [
        "\u0422\u0435\u043f\u0435\u0440\u044c \u0432\u0441\u0435 \u043e\u0442\u043a\u0440\u044b\u0432\u0430\u0435\u0442\u0441\u044f \u043f\u0440\u0430\u0432\u0438\u043b\u044c\u043d\u043e, \u0434\u0435\u043b\u043e \u0432 \u0442\u043e\u043c, \u0447\u0442\u043e \u0443 \u043c\u0435\u043d\u044f \u0432 \u043b\u044e\u0431\u043e\u043c \u0441\u043b\u0443\u0447\u0430\u0435 \u0434\u0430\u0442\u0430\u0441\u0435\u0442\u044b \u0431\u044b\u043b\u0438 \u0430\u0441\u0441\u0438\u043c\u0435\u0442\u0440\u0438\u0447\u043d\u044b \u0438 \u0442\u0435\u0433\u0438 \u0441\u044a\u0435\u0437\u0436\u0430\u043b\u0438 \u0440\u0430\u043d\u0434\u043e\u043c\u043d\u043e \u043d\u0430 1-4 \u0441\u0442\u0440\u043e\u0447\u043a\u0438, \u0443\u0434\u0430\u043b\u0435\u043d\u0438\u0435 NULL \u0442\u043e\u0436\u0435 \u043d\u0435 \u043f\u043e\u043c\u043e\u0433\u0430\u043b\u043e, \u0432\u0441\u0435 \u0440\u0430\u0432\u043d\u043e \u043f\u043e\u0447\u0435\u043c\u0443-\u0442\u043e \u0441\u044a\u0435\u0437\u0436\u0430\u043b\u0438 \u0442\u0435\u0433\u0438."
      ],
      "metadata": {
        "id": "MaFdgGsaYQ9B"
      }
    },
    {
      "cell_type": "code",
      "source": [
        "# \u043d\u0435\u043c\u043d\u043e\u0433\u043e \u043f\u043e-\u0434\u0440\u0443\u0433\u043e\u043c\u0443 \u043d\u0430\u0437\u043e\u0432\u0443, \u0447\u0442\u043e\u0431\u044b \u0430\u0434\u0430\u043f\u0442\u0438\u0440\u043e\u0432\u0430\u0442\u044c \u0441\u0432\u043e\u0439 \u0434\u0430\u0442\u0430\u0441\u0435\u0442 \u043f\u043e \u043a\u043e\u0434 \u041d\u0430\u0441\u0442\u0438"
      ],
      "metadata": {
        "id": "N9gdmOnvu49a"
      },
      "execution_count": null,
      "outputs": []
    },
    {
      "cell_type": "code",
      "source": [
        "df_sem = df_sem.rename(columns={'NER': 'tag'})\n",
        "df_sem.head(2)"
      ],
      "metadata": {
        "colab": {
          "base_uri": "https://localhost:8080/",
          "height": 112
        },
        "id": "lJ2wz9qxmSNi",
        "outputId": "2cf029b9-9964-4c82-bb7c-95cf9ab16b05"
      },
      "execution_count": 15,
      "outputs": [
        {
          "output_type": "execute_result",
          "data": {
            "text/plain": [
              "      form       semclass tag\n",
              "0  \u0414\u0435\u0442\u0441\u0442\u0432\u043e           TIME   O\n",
              "1   \u043f\u0440\u043e\u0432\u0451\u043b  TO_SPEND_TIME   O"
            ],
            "text/html": [
              "\n",
              "  <div id=\"df-77e10b24-a75e-4ea6-b077-8693ba6b5567\" class=\"colab-df-container\">\n",
              "    <div>\n",
              "<style scoped>\n",
              "    .dataframe tbody tr th:only-of-type {\n",
              "        vertical-align: middle;\n",
              "    }\n",
              "\n",
              "    .dataframe tbody tr th {\n",
              "        vertical-align: top;\n",
              "    }\n",
              "\n",
              "    .dataframe thead th {\n",
              "        text-align: right;\n",
              "    }\n",
              "</style>\n",
              "<table border=\"1\" class=\"dataframe\">\n",
              "  <thead>\n",
              "    <tr style=\"text-align: right;\">\n",
              "      <th></th>\n",
              "      <th>form</th>\n",
              "      <th>semclass</th>\n",
              "      <th>tag</th>\n",
              "    </tr>\n",
              "  </thead>\n",
              "  <tbody>\n",
              "    <tr>\n",
              "      <th>0</th>\n",
              "      <td>\u0414\u0435\u0442\u0441\u0442\u0432\u043e</td>\n",
              "      <td>TIME</td>\n",
              "      <td>O</td>\n",
              "    </tr>\n",
              "    <tr>\n",
              "      <th>1</th>\n",
              "      <td>\u043f\u0440\u043e\u0432\u0451\u043b</td>\n",
              "      <td>TO_SPEND_TIME</td>\n",
              "      <td>O</td>\n",
              "    </tr>\n",
              "  </tbody>\n",
              "</table>\n",
              "</div>\n",
              "    <div class=\"colab-df-buttons\">\n",
              "\n",
              "  <div class=\"colab-df-container\">\n",
              "    <button class=\"colab-df-convert\" onclick=\"convertToInteractive('df-77e10b24-a75e-4ea6-b077-8693ba6b5567')\"\n",
              "            title=\"Convert this dataframe to an interactive table.\"\n",
              "            style=\"display:none;\">\n",
              "\n",
              "  <svg xmlns=\"http://www.w3.org/2000/svg\" height=\"24px\" viewBox=\"0 -960 960 960\">\n",
              "    <path d=\"M120-120v-720h720v720H120Zm60-500h600v-160H180v160Zm220 220h160v-160H400v160Zm0 220h160v-160H400v160ZM180-400h160v-160H180v160Zm440 0h160v-160H620v160ZM180-180h160v-160H180v160Zm440 0h160v-160H620v160Z\"/>\n",
              "  </svg>\n",
              "    </button>\n",
              "\n",
              "  <style>\n",
              "    .colab-df-container {\n",
              "      display:flex;\n",
              "      gap: 12px;\n",
              "    }\n",
              "\n",
              "    .colab-df-convert {\n",
              "      background-color: #E8F0FE;\n",
              "      border: none;\n",
              "      border-radius: 50%;\n",
              "      cursor: pointer;\n",
              "      display: none;\n",
              "      fill: #1967D2;\n",
              "      height: 32px;\n",
              "      padding: 0 0 0 0;\n",
              "      width: 32px;\n",
              "    }\n",
              "\n",
              "    .colab-df-convert:hover {\n",
              "      background-color: #E2EBFA;\n",
              "      box-shadow: 0px 1px 2px rgba(60, 64, 67, 0.3), 0px 1px 3px 1px rgba(60, 64, 67, 0.15);\n",
              "      fill: #174EA6;\n",
              "    }\n",
              "\n",
              "    .colab-df-buttons div {\n",
              "      margin-bottom: 4px;\n",
              "    }\n",
              "\n",
              "    [theme=dark] .colab-df-convert {\n",
              "      background-color: #3B4455;\n",
              "      fill: #D2E3FC;\n",
              "    }\n",
              "\n",
              "    [theme=dark] .colab-df-convert:hover {\n",
              "      background-color: #434B5C;\n",
              "      box-shadow: 0px 1px 3px 1px rgba(0, 0, 0, 0.15);\n",
              "      filter: drop-shadow(0px 1px 2px rgba(0, 0, 0, 0.3));\n",
              "      fill: #FFFFFF;\n",
              "    }\n",
              "  </style>\n",
              "\n",
              "    <script>\n",
              "      const buttonEl =\n",
              "        document.querySelector('#df-77e10b24-a75e-4ea6-b077-8693ba6b5567 button.colab-df-convert');\n",
              "      buttonEl.style.display =\n",
              "        google.colab.kernel.accessAllowed ? 'block' : 'none';\n",
              "\n",
              "      async function convertToInteractive(key) {\n",
              "        const element = document.querySelector('#df-77e10b24-a75e-4ea6-b077-8693ba6b5567');\n",
              "        const dataTable =\n",
              "          await google.colab.kernel.invokeFunction('convertToInteractive',\n",
              "                                                    [key], {});\n",
              "        if (!dataTable) return;\n",
              "\n",
              "        const docLinkHtml = 'Like what you see? Visit the ' +\n",
              "          '<a target=\"_blank\" href=https://colab.research.google.com/notebooks/data_table.ipynb>data table notebook</a>'\n",
              "          + ' to learn more about interactive tables.';\n",
              "        element.innerHTML = '';\n",
              "        dataTable['output_type'] = 'display_data';\n",
              "        await google.colab.output.renderOutput(dataTable, element);\n",
              "        const docLink = document.createElement('div');\n",
              "        docLink.innerHTML = docLinkHtml;\n",
              "        element.appendChild(docLink);\n",
              "      }\n",
              "    </script>\n",
              "  </div>\n",
              "\n",
              "\n",
              "    <div id=\"df-c7aa9ab6-fab1-4173-aabd-e10e29858710\">\n",
              "      <button class=\"colab-df-quickchart\" onclick=\"quickchart('df-c7aa9ab6-fab1-4173-aabd-e10e29858710')\"\n",
              "                title=\"Suggest charts\"\n",
              "                style=\"display:none;\">\n",
              "\n",
              "<svg xmlns=\"http://www.w3.org/2000/svg\" height=\"24px\"viewBox=\"0 0 24 24\"\n",
              "     width=\"24px\">\n",
              "    <g>\n",
              "        <path d=\"M19 3H5c-1.1 0-2 .9-2 2v14c0 1.1.9 2 2 2h14c1.1 0 2-.9 2-2V5c0-1.1-.9-2-2-2zM9 17H7v-7h2v7zm4 0h-2V7h2v10zm4 0h-2v-4h2v4z\"/>\n",
              "    </g>\n",
              "</svg>\n",
              "      </button>\n",
              "\n",
              "<style>\n",
              "  .colab-df-quickchart {\n",
              "      --bg-color: #E8F0FE;\n",
              "      --fill-color: #1967D2;\n",
              "      --hover-bg-color: #E2EBFA;\n",
              "      --hover-fill-color: #174EA6;\n",
              "      --disabled-fill-color: #AAA;\n",
              "      --disabled-bg-color: #DDD;\n",
              "  }\n",
              "\n",
              "  [theme=dark] .colab-df-quickchart {\n",
              "      --bg-color: #3B4455;\n",
              "      --fill-color: #D2E3FC;\n",
              "      --hover-bg-color: #434B5C;\n",
              "      --hover-fill-color: #FFFFFF;\n",
              "      --disabled-bg-color: #3B4455;\n",
              "      --disabled-fill-color: #666;\n",
              "  }\n",
              "\n",
              "  .colab-df-quickchart {\n",
              "    background-color: var(--bg-color);\n",
              "    border: none;\n",
              "    border-radius: 50%;\n",
              "    cursor: pointer;\n",
              "    display: none;\n",
              "    fill: var(--fill-color);\n",
              "    height: 32px;\n",
              "    padding: 0;\n",
              "    width: 32px;\n",
              "  }\n",
              "\n",
              "  .colab-df-quickchart:hover {\n",
              "    background-color: var(--hover-bg-color);\n",
              "    box-shadow: 0 1px 2px rgba(60, 64, 67, 0.3), 0 1px 3px 1px rgba(60, 64, 67, 0.15);\n",
              "    fill: var(--button-hover-fill-color);\n",
              "  }\n",
              "\n",
              "  .colab-df-quickchart-complete:disabled,\n",
              "  .colab-df-quickchart-complete:disabled:hover {\n",
              "    background-color: var(--disabled-bg-color);\n",
              "    fill: var(--disabled-fill-color);\n",
              "    box-shadow: none;\n",
              "  }\n",
              "\n",
              "  .colab-df-spinner {\n",
              "    border: 2px solid var(--fill-color);\n",
              "    border-color: transparent;\n",
              "    border-bottom-color: var(--fill-color);\n",
              "    animation:\n",
              "      spin 1s steps(1) infinite;\n",
              "  }\n",
              "\n",
              "  @keyframes spin {\n",
              "    0% {\n",
              "      border-color: transparent;\n",
              "      border-bottom-color: var(--fill-color);\n",
              "      border-left-color: var(--fill-color);\n",
              "    }\n",
              "    20% {\n",
              "      border-color: transparent;\n",
              "      border-left-color: var(--fill-color);\n",
              "      border-top-color: var(--fill-color);\n",
              "    }\n",
              "    30% {\n",
              "      border-color: transparent;\n",
              "      border-left-color: var(--fill-color);\n",
              "      border-top-color: var(--fill-color);\n",
              "      border-right-color: var(--fill-color);\n",
              "    }\n",
              "    40% {\n",
              "      border-color: transparent;\n",
              "      border-right-color: var(--fill-color);\n",
              "      border-top-color: var(--fill-color);\n",
              "    }\n",
              "    60% {\n",
              "      border-color: transparent;\n",
              "      border-right-color: var(--fill-color);\n",
              "    }\n",
              "    80% {\n",
              "      border-color: transparent;\n",
              "      border-right-color: var(--fill-color);\n",
              "      border-bottom-color: var(--fill-color);\n",
              "    }\n",
              "    90% {\n",
              "      border-color: transparent;\n",
              "      border-bottom-color: var(--fill-color);\n",
              "    }\n",
              "  }\n",
              "</style>\n",
              "\n",
              "      <script>\n",
              "        async function quickchart(key) {\n",
              "          const quickchartButtonEl =\n",
              "            document.querySelector('#' + key + ' button');\n",
              "          quickchartButtonEl.disabled = true;  // To prevent multiple clicks.\n",
              "          quickchartButtonEl.classList.add('colab-df-spinner');\n",
              "          try {\n",
              "            const charts = await google.colab.kernel.invokeFunction(\n",
              "                'suggestCharts', [key], {});\n",
              "          } catch (error) {\n",
              "            console.error('Error during call to suggestCharts:', error);\n",
              "          }\n",
              "          quickchartButtonEl.classList.remove('colab-df-spinner');\n",
              "          quickchartButtonEl.classList.add('colab-df-quickchart-complete');\n",
              "        }\n",
              "        (() => {\n",
              "          let quickchartButtonEl =\n",
              "            document.querySelector('#df-c7aa9ab6-fab1-4173-aabd-e10e29858710 button');\n",
              "          quickchartButtonEl.style.display =\n",
              "            google.colab.kernel.accessAllowed ? 'block' : 'none';\n",
              "        })();\n",
              "      </script>\n",
              "    </div>\n",
              "    </div>\n",
              "  </div>\n"
            ],
            "application/vnd.google.colaboratory.intrinsic+json": {
              "type": "dataframe",
              "variable_name": "df_sem",
              "summary": "{\n  \"name\": \"df_sem\",\n  \"rows\": 65535,\n  \"fields\": [\n    {\n      \"column\": \"form\",\n      \"properties\": {\n        \"dtype\": \"category\",\n        \"num_unique_values\": 21433,\n        \"samples\": [\n          \"\\u0433\\u043e\\u0441\\u0443\\u0434\\u0430\\u0440\\u0441\\u0442\\u0432\\u0430\",\n          \"\\u0412\\u0435\\u043b\\u0438\\u043a\\u0438\\u043c\",\n          \"\\u0422\\u043c\\u0443\\u0442\\u0430\\u0440\\u0430\\u043a\\u0430\\u043d\\u044c\"\n        ],\n        \"semantic_type\": \"\",\n        \"description\": \"\"\n      }\n    },\n    {\n      \"column\": \"semclass\",\n      \"properties\": {\n        \"dtype\": \"category\",\n        \"num_unique_values\": 456,\n        \"samples\": [\n          \"TO_TAKE_FOOD_OR_MEDICINE\",\n          \"CONJUNCTIONS\",\n          \"CH_SURFACE_EDGE\"\n        ],\n        \"semantic_type\": \"\",\n        \"description\": \"\"\n      }\n    },\n    {\n      \"column\": \"tag\",\n      \"properties\": {\n        \"dtype\": \"category\",\n        \"num_unique_values\": 10,\n        \"samples\": [\n          \"B-PORG\",\n          \"B-LOC\",\n          \"I-PER\"\n        ],\n        \"semantic_type\": \"\",\n        \"description\": \"\"\n      }\n    }\n  ]\n}"
            }
          },
          "metadata": {},
          "execution_count": 15
        }
      ]
    },
    {
      "cell_type": "code",
      "source": [
        "df_sem.head(5)"
      ],
      "metadata": {
        "colab": {
          "base_uri": "https://localhost:8080/",
          "height": 206
        },
        "id": "fObyCardnWzJ",
        "outputId": "baca22c1-dca9-4393-e4ff-507f5fe49224"
      },
      "execution_count": 16,
      "outputs": [
        {
          "output_type": "execute_result",
          "data": {
            "text/plain": [
              "          form            semclass    tag\n",
              "0      \u0414\u0435\u0442\u0441\u0442\u0432\u043e                TIME      O\n",
              "1       \u043f\u0440\u043e\u0432\u0451\u043b       TO_SPEND_TIME      O\n",
              "2            \u0432         PREPOSITION      O\n",
              "3  \u041d\u0430\u0434\u044c\u0441\u043e\u043c\u0431\u0430\u0442\u0435  INHABITED_LOCALITY  B-LOC\n",
              "4            \u0441         PREPOSITION      O"
            ],
            "text/html": [
              "\n",
              "  <div id=\"df-a7873dbb-194d-43d4-a28f-dd594ad1d1ed\" class=\"colab-df-container\">\n",
              "    <div>\n",
              "<style scoped>\n",
              "    .dataframe tbody tr th:only-of-type {\n",
              "        vertical-align: middle;\n",
              "    }\n",
              "\n",
              "    .dataframe tbody tr th {\n",
              "        vertical-align: top;\n",
              "    }\n",
              "\n",
              "    .dataframe thead th {\n",
              "        text-align: right;\n",
              "    }\n",
              "</style>\n",
              "<table border=\"1\" class=\"dataframe\">\n",
              "  <thead>\n",
              "    <tr style=\"text-align: right;\">\n",
              "      <th></th>\n",
              "      <th>form</th>\n",
              "      <th>semclass</th>\n",
              "      <th>tag</th>\n",
              "    </tr>\n",
              "  </thead>\n",
              "  <tbody>\n",
              "    <tr>\n",
              "      <th>0</th>\n",
              "      <td>\u0414\u0435\u0442\u0441\u0442\u0432\u043e</td>\n",
              "      <td>TIME</td>\n",
              "      <td>O</td>\n",
              "    </tr>\n",
              "    <tr>\n",
              "      <th>1</th>\n",
              "      <td>\u043f\u0440\u043e\u0432\u0451\u043b</td>\n",
              "      <td>TO_SPEND_TIME</td>\n",
              "      <td>O</td>\n",
              "    </tr>\n",
              "    <tr>\n",
              "      <th>2</th>\n",
              "      <td>\u0432</td>\n",
              "      <td>PREPOSITION</td>\n",
              "      <td>O</td>\n",
              "    </tr>\n",
              "    <tr>\n",
              "      <th>3</th>\n",
              "      <td>\u041d\u0430\u0434\u044c\u0441\u043e\u043c\u0431\u0430\u0442\u0435</td>\n",
              "      <td>INHABITED_LOCALITY</td>\n",
              "      <td>B-LOC</td>\n",
              "    </tr>\n",
              "    <tr>\n",
              "      <th>4</th>\n",
              "      <td>\u0441</td>\n",
              "      <td>PREPOSITION</td>\n",
              "      <td>O</td>\n",
              "    </tr>\n",
              "  </tbody>\n",
              "</table>\n",
              "</div>\n",
              "    <div class=\"colab-df-buttons\">\n",
              "\n",
              "  <div class=\"colab-df-container\">\n",
              "    <button class=\"colab-df-convert\" onclick=\"convertToInteractive('df-a7873dbb-194d-43d4-a28f-dd594ad1d1ed')\"\n",
              "            title=\"Convert this dataframe to an interactive table.\"\n",
              "            style=\"display:none;\">\n",
              "\n",
              "  <svg xmlns=\"http://www.w3.org/2000/svg\" height=\"24px\" viewBox=\"0 -960 960 960\">\n",
              "    <path d=\"M120-120v-720h720v720H120Zm60-500h600v-160H180v160Zm220 220h160v-160H400v160Zm0 220h160v-160H400v160ZM180-400h160v-160H180v160Zm440 0h160v-160H620v160ZM180-180h160v-160H180v160Zm440 0h160v-160H620v160Z\"/>\n",
              "  </svg>\n",
              "    </button>\n",
              "\n",
              "  <style>\n",
              "    .colab-df-container {\n",
              "      display:flex;\n",
              "      gap: 12px;\n",
              "    }\n",
              "\n",
              "    .colab-df-convert {\n",
              "      background-color: #E8F0FE;\n",
              "      border: none;\n",
              "      border-radius: 50%;\n",
              "      cursor: pointer;\n",
              "      display: none;\n",
              "      fill: #1967D2;\n",
              "      height: 32px;\n",
              "      padding: 0 0 0 0;\n",
              "      width: 32px;\n",
              "    }\n",
              "\n",
              "    .colab-df-convert:hover {\n",
              "      background-color: #E2EBFA;\n",
              "      box-shadow: 0px 1px 2px rgba(60, 64, 67, 0.3), 0px 1px 3px 1px rgba(60, 64, 67, 0.15);\n",
              "      fill: #174EA6;\n",
              "    }\n",
              "\n",
              "    .colab-df-buttons div {\n",
              "      margin-bottom: 4px;\n",
              "    }\n",
              "\n",
              "    [theme=dark] .colab-df-convert {\n",
              "      background-color: #3B4455;\n",
              "      fill: #D2E3FC;\n",
              "    }\n",
              "\n",
              "    [theme=dark] .colab-df-convert:hover {\n",
              "      background-color: #434B5C;\n",
              "      box-shadow: 0px 1px 3px 1px rgba(0, 0, 0, 0.15);\n",
              "      filter: drop-shadow(0px 1px 2px rgba(0, 0, 0, 0.3));\n",
              "      fill: #FFFFFF;\n",
              "    }\n",
              "  </style>\n",
              "\n",
              "    <script>\n",
              "      const buttonEl =\n",
              "        document.querySelector('#df-a7873dbb-194d-43d4-a28f-dd594ad1d1ed button.colab-df-convert');\n",
              "      buttonEl.style.display =\n",
              "        google.colab.kernel.accessAllowed ? 'block' : 'none';\n",
              "\n",
              "      async function convertToInteractive(key) {\n",
              "        const element = document.querySelector('#df-a7873dbb-194d-43d4-a28f-dd594ad1d1ed');\n",
              "        const dataTable =\n",
              "          await google.colab.kernel.invokeFunction('convertToInteractive',\n",
              "                                                    [key], {});\n",
              "        if (!dataTable) return;\n",
              "\n",
              "        const docLinkHtml = 'Like what you see? Visit the ' +\n",
              "          '<a target=\"_blank\" href=https://colab.research.google.com/notebooks/data_table.ipynb>data table notebook</a>'\n",
              "          + ' to learn more about interactive tables.';\n",
              "        element.innerHTML = '';\n",
              "        dataTable['output_type'] = 'display_data';\n",
              "        await google.colab.output.renderOutput(dataTable, element);\n",
              "        const docLink = document.createElement('div');\n",
              "        docLink.innerHTML = docLinkHtml;\n",
              "        element.appendChild(docLink);\n",
              "      }\n",
              "    </script>\n",
              "  </div>\n",
              "\n",
              "\n",
              "    <div id=\"df-19728280-22b8-404e-8354-d34d3f015bac\">\n",
              "      <button class=\"colab-df-quickchart\" onclick=\"quickchart('df-19728280-22b8-404e-8354-d34d3f015bac')\"\n",
              "                title=\"Suggest charts\"\n",
              "                style=\"display:none;\">\n",
              "\n",
              "<svg xmlns=\"http://www.w3.org/2000/svg\" height=\"24px\"viewBox=\"0 0 24 24\"\n",
              "     width=\"24px\">\n",
              "    <g>\n",
              "        <path d=\"M19 3H5c-1.1 0-2 .9-2 2v14c0 1.1.9 2 2 2h14c1.1 0 2-.9 2-2V5c0-1.1-.9-2-2-2zM9 17H7v-7h2v7zm4 0h-2V7h2v10zm4 0h-2v-4h2v4z\"/>\n",
              "    </g>\n",
              "</svg>\n",
              "      </button>\n",
              "\n",
              "<style>\n",
              "  .colab-df-quickchart {\n",
              "      --bg-color: #E8F0FE;\n",
              "      --fill-color: #1967D2;\n",
              "      --hover-bg-color: #E2EBFA;\n",
              "      --hover-fill-color: #174EA6;\n",
              "      --disabled-fill-color: #AAA;\n",
              "      --disabled-bg-color: #DDD;\n",
              "  }\n",
              "\n",
              "  [theme=dark] .colab-df-quickchart {\n",
              "      --bg-color: #3B4455;\n",
              "      --fill-color: #D2E3FC;\n",
              "      --hover-bg-color: #434B5C;\n",
              "      --hover-fill-color: #FFFFFF;\n",
              "      --disabled-bg-color: #3B4455;\n",
              "      --disabled-fill-color: #666;\n",
              "  }\n",
              "\n",
              "  .colab-df-quickchart {\n",
              "    background-color: var(--bg-color);\n",
              "    border: none;\n",
              "    border-radius: 50%;\n",
              "    cursor: pointer;\n",
              "    display: none;\n",
              "    fill: var(--fill-color);\n",
              "    height: 32px;\n",
              "    padding: 0;\n",
              "    width: 32px;\n",
              "  }\n",
              "\n",
              "  .colab-df-quickchart:hover {\n",
              "    background-color: var(--hover-bg-color);\n",
              "    box-shadow: 0 1px 2px rgba(60, 64, 67, 0.3), 0 1px 3px 1px rgba(60, 64, 67, 0.15);\n",
              "    fill: var(--button-hover-fill-color);\n",
              "  }\n",
              "\n",
              "  .colab-df-quickchart-complete:disabled,\n",
              "  .colab-df-quickchart-complete:disabled:hover {\n",
              "    background-color: var(--disabled-bg-color);\n",
              "    fill: var(--disabled-fill-color);\n",
              "    box-shadow: none;\n",
              "  }\n",
              "\n",
              "  .colab-df-spinner {\n",
              "    border: 2px solid var(--fill-color);\n",
              "    border-color: transparent;\n",
              "    border-bottom-color: var(--fill-color);\n",
              "    animation:\n",
              "      spin 1s steps(1) infinite;\n",
              "  }\n",
              "\n",
              "  @keyframes spin {\n",
              "    0% {\n",
              "      border-color: transparent;\n",
              "      border-bottom-color: var(--fill-color);\n",
              "      border-left-color: var(--fill-color);\n",
              "    }\n",
              "    20% {\n",
              "      border-color: transparent;\n",
              "      border-left-color: var(--fill-color);\n",
              "      border-top-color: var(--fill-color);\n",
              "    }\n",
              "    30% {\n",
              "      border-color: transparent;\n",
              "      border-left-color: var(--fill-color);\n",
              "      border-top-color: var(--fill-color);\n",
              "      border-right-color: var(--fill-color);\n",
              "    }\n",
              "    40% {\n",
              "      border-color: transparent;\n",
              "      border-right-color: var(--fill-color);\n",
              "      border-top-color: var(--fill-color);\n",
              "    }\n",
              "    60% {\n",
              "      border-color: transparent;\n",
              "      border-right-color: var(--fill-color);\n",
              "    }\n",
              "    80% {\n",
              "      border-color: transparent;\n",
              "      border-right-color: var(--fill-color);\n",
              "      border-bottom-color: var(--fill-color);\n",
              "    }\n",
              "    90% {\n",
              "      border-color: transparent;\n",
              "      border-bottom-color: var(--fill-color);\n",
              "    }\n",
              "  }\n",
              "</style>\n",
              "\n",
              "      <script>\n",
              "        async function quickchart(key) {\n",
              "          const quickchartButtonEl =\n",
              "            document.querySelector('#' + key + ' button');\n",
              "          quickchartButtonEl.disabled = true;  // To prevent multiple clicks.\n",
              "          quickchartButtonEl.classList.add('colab-df-spinner');\n",
              "          try {\n",
              "            const charts = await google.colab.kernel.invokeFunction(\n",
              "                'suggestCharts', [key], {});\n",
              "          } catch (error) {\n",
              "            console.error('Error during call to suggestCharts:', error);\n",
              "          }\n",
              "          quickchartButtonEl.classList.remove('colab-df-spinner');\n",
              "          quickchartButtonEl.classList.add('colab-df-quickchart-complete');\n",
              "        }\n",
              "        (() => {\n",
              "          let quickchartButtonEl =\n",
              "            document.querySelector('#df-19728280-22b8-404e-8354-d34d3f015bac button');\n",
              "          quickchartButtonEl.style.display =\n",
              "            google.colab.kernel.accessAllowed ? 'block' : 'none';\n",
              "        })();\n",
              "      </script>\n",
              "    </div>\n",
              "    </div>\n",
              "  </div>\n"
            ],
            "application/vnd.google.colaboratory.intrinsic+json": {
              "type": "dataframe",
              "variable_name": "df_sem",
              "summary": "{\n  \"name\": \"df_sem\",\n  \"rows\": 65535,\n  \"fields\": [\n    {\n      \"column\": \"form\",\n      \"properties\": {\n        \"dtype\": \"category\",\n        \"num_unique_values\": 21433,\n        \"samples\": [\n          \"\\u0433\\u043e\\u0441\\u0443\\u0434\\u0430\\u0440\\u0441\\u0442\\u0432\\u0430\",\n          \"\\u0412\\u0435\\u043b\\u0438\\u043a\\u0438\\u043c\",\n          \"\\u0422\\u043c\\u0443\\u0442\\u0430\\u0440\\u0430\\u043a\\u0430\\u043d\\u044c\"\n        ],\n        \"semantic_type\": \"\",\n        \"description\": \"\"\n      }\n    },\n    {\n      \"column\": \"semclass\",\n      \"properties\": {\n        \"dtype\": \"category\",\n        \"num_unique_values\": 456,\n        \"samples\": [\n          \"TO_TAKE_FOOD_OR_MEDICINE\",\n          \"CONJUNCTIONS\",\n          \"CH_SURFACE_EDGE\"\n        ],\n        \"semantic_type\": \"\",\n        \"description\": \"\"\n      }\n    },\n    {\n      \"column\": \"tag\",\n      \"properties\": {\n        \"dtype\": \"category\",\n        \"num_unique_values\": 10,\n        \"samples\": [\n          \"B-PORG\",\n          \"B-LOC\",\n          \"I-PER\"\n        ],\n        \"semantic_type\": \"\",\n        \"description\": \"\"\n      }\n    }\n  ]\n}"
            }
          },
          "metadata": {},
          "execution_count": 16
        }
      ]
    },
    {
      "cell_type": "markdown",
      "source": [
        "\u041d\u0435\u043c\u043d\u043e\u0433\u043e \u043f\u043e\u043c\u0435\u043d\u044f\u044e \u043a\u043e\u043b\u043e\u043d\u043a\u0438 \u0434\u0430\u0442\u0430\u0441\u0435\u0442\u0430, \u0447\u0442\u043e\u0431\u044b \u0430\u0434\u0430\u043f\u0442\u0438\u0440\u043e\u0432\u0430\u0442\u044c \u043f\u043e\u0434 \u043a\u043e\u0434 \u041d\u0430\u0441\u0442\u0438"
      ],
      "metadata": {
        "id": "iUkXgbvRc5Kt"
      }
    },
    {
      "cell_type": "code",
      "source": [
        "# \u043a\u043e\u043b\u043e\u043d\u043a\u0443 form \u0438\u0437\u043c\u0435\u043d\u044e \u0432 \u0442\u043e\u043a\u0435\u043d\u044b\n",
        "if 'form' in df_sem.columns:\n",
        "    df_sem = df_sem.rename(columns={'form': 'token'})\n",
        "\n",
        "# \u043f\u0443\u0441\u0442\u0430\u044f \u0441\u0442\u0440\u043e\u043a\u0430 \u043a\u0430\u043a \u0441\u043b\u043e\u0432\u0430\u0440\u044c \u0441 \u0442\u0435\u043c\u0438 \u0436\u0435 \u043a\u043e\u043b\u043e\u043d\u043a\u0430\u043c\u0438, \u0447\u0442\u043e \u0438 \u0432 df_sem\n",
        "empty_row = {col: '' for col in df_sem.columns}\n",
        "new_rows = []\n",
        "\n",
        "#  \u0434\u043e\u0431\u0430\u0432\u043b\u044f\u0435\u0442 \u043f\u0443\u0441\u0442\u044b\u0435 \u0441\u0442\u0440\u043e\u043a\u0438 \u043f\u043e\u0441\u043b\u0435 \u0442\u043e\u0447\u0435\u043a\n",
        "for _, row in df_sem.iterrows():\n",
        "    new_rows.append(row.to_dict())\n",
        "    if row['token'] == '.' and row['tag'] == 'O':\n",
        "        new_rows.append(empty_row)\n",
        "\n",
        "new_df = pd.DataFrame(new_rows)"
      ],
      "metadata": {
        "id": "VKxUWt4g4ezG"
      },
      "execution_count": 17,
      "outputs": []
    },
    {
      "cell_type": "code",
      "source": [
        "# \u0434\u043e\u0431\u0430\u0432\u0438\u043b\u0430 sentence_id, \u0447\u0442\u043e\u0431\u044b \u043f\u043e\u0442\u043e\u043c \u0441\u0433\u0440\u0443\u043f\u043f\u0438\u0440\u043e\u0432\u0430\u0442\u044c \u0440\u0430\u0437\u0434\u0435\u043b\u0435\u043d\u0438\u0435 \u043f\u0440\u0435\u0434\u043b\u043e\u0436\u0435\u043d\u0438\u0439\n",
        "new_df['sentence_id'] = 0\n",
        "current_sentence = 1\n",
        "\n",
        "for i in range(len(new_df)):\n",
        "    if i > 0 and new_df.at[i-1, 'token'] == '.' and new_df.at[i-1, 'tag'] == 'O':\n",
        "        current_sentence += 1\n",
        "    new_df.at[i, 'sentence_id'] = current_sentence"
      ],
      "metadata": {
        "id": "pfUMXxtg4x5P"
      },
      "execution_count": 18,
      "outputs": []
    },
    {
      "cell_type": "code",
      "source": [
        "new_df.to_csv('semclasses_with_sentences.csv', index=False, encoding='utf-8')"
      ],
      "metadata": {
        "id": "2z3jM2mE5eJq"
      },
      "execution_count": 19,
      "outputs": []
    },
    {
      "cell_type": "code",
      "source": [
        "data = pd.read_csv('semclasses_with_sentences.csv').fillna(method=\"ffill\")\n",
        "data.head(10)"
      ],
      "metadata": {
        "colab": {
          "base_uri": "https://localhost:8080/",
          "height": 417
        },
        "id": "rtwPyPt4414G",
        "outputId": "73882f4b-306f-48a9-e0a9-0ec7eb49bc9d"
      },
      "execution_count": 20,
      "outputs": [
        {
          "output_type": "stream",
          "name": "stderr",
          "text": [
            "<ipython-input-20-2150b508546e>:1: FutureWarning: DataFrame.fillna with 'method' is deprecated and will raise in a future version. Use obj.ffill() or obj.bfill() instead.\n",
            "  data = pd.read_csv('semclasses_with_sentences.csv').fillna(method=\"ffill\")\n"
          ]
        },
        {
          "output_type": "execute_result",
          "data": {
            "text/plain": [
              "         token                         semclass    tag  sentence_id\n",
              "0      \u0414\u0435\u0442\u0441\u0442\u0432\u043e                             TIME      O            1\n",
              "1       \u043f\u0440\u043e\u0432\u0451\u043b                    TO_SPEND_TIME      O            1\n",
              "2            \u0432                      PREPOSITION      O            1\n",
              "3  \u041d\u0430\u0434\u044c\u0441\u043e\u043c\u0431\u0430\u0442\u0435               INHABITED_LOCALITY  B-LOC            1\n",
              "4            \u0441                      PREPOSITION      O            1\n",
              "5         1860  CH_REFERENCE_AND_QUANTIFICATION      O            1\n",
              "6            \u0433                             TIME      O            1\n",
              "7            .                                _      O            1\n",
              "8            .                                _      O            2\n",
              "9           \u041d\u0430                                _      O            2"
            ],
            "text/html": [
              "\n",
              "  <div id=\"df-14aa7c8a-9a2f-4d8f-ac0d-951bc55cc482\" class=\"colab-df-container\">\n",
              "    <div>\n",
              "<style scoped>\n",
              "    .dataframe tbody tr th:only-of-type {\n",
              "        vertical-align: middle;\n",
              "    }\n",
              "\n",
              "    .dataframe tbody tr th {\n",
              "        vertical-align: top;\n",
              "    }\n",
              "\n",
              "    .dataframe thead th {\n",
              "        text-align: right;\n",
              "    }\n",
              "</style>\n",
              "<table border=\"1\" class=\"dataframe\">\n",
              "  <thead>\n",
              "    <tr style=\"text-align: right;\">\n",
              "      <th></th>\n",
              "      <th>token</th>\n",
              "      <th>semclass</th>\n",
              "      <th>tag</th>\n",
              "      <th>sentence_id</th>\n",
              "    </tr>\n",
              "  </thead>\n",
              "  <tbody>\n",
              "    <tr>\n",
              "      <th>0</th>\n",
              "      <td>\u0414\u0435\u0442\u0441\u0442\u0432\u043e</td>\n",
              "      <td>TIME</td>\n",
              "      <td>O</td>\n",
              "      <td>1</td>\n",
              "    </tr>\n",
              "    <tr>\n",
              "      <th>1</th>\n",
              "      <td>\u043f\u0440\u043e\u0432\u0451\u043b</td>\n",
              "      <td>TO_SPEND_TIME</td>\n",
              "      <td>O</td>\n",
              "      <td>1</td>\n",
              "    </tr>\n",
              "    <tr>\n",
              "      <th>2</th>\n",
              "      <td>\u0432</td>\n",
              "      <td>PREPOSITION</td>\n",
              "      <td>O</td>\n",
              "      <td>1</td>\n",
              "    </tr>\n",
              "    <tr>\n",
              "      <th>3</th>\n",
              "      <td>\u041d\u0430\u0434\u044c\u0441\u043e\u043c\u0431\u0430\u0442\u0435</td>\n",
              "      <td>INHABITED_LOCALITY</td>\n",
              "      <td>B-LOC</td>\n",
              "      <td>1</td>\n",
              "    </tr>\n",
              "    <tr>\n",
              "      <th>4</th>\n",
              "      <td>\u0441</td>\n",
              "      <td>PREPOSITION</td>\n",
              "      <td>O</td>\n",
              "      <td>1</td>\n",
              "    </tr>\n",
              "    <tr>\n",
              "      <th>5</th>\n",
              "      <td>1860</td>\n",
              "      <td>CH_REFERENCE_AND_QUANTIFICATION</td>\n",
              "      <td>O</td>\n",
              "      <td>1</td>\n",
              "    </tr>\n",
              "    <tr>\n",
              "      <th>6</th>\n",
              "      <td>\u0433</td>\n",
              "      <td>TIME</td>\n",
              "      <td>O</td>\n",
              "      <td>1</td>\n",
              "    </tr>\n",
              "    <tr>\n",
              "      <th>7</th>\n",
              "      <td>.</td>\n",
              "      <td>_</td>\n",
              "      <td>O</td>\n",
              "      <td>1</td>\n",
              "    </tr>\n",
              "    <tr>\n",
              "      <th>8</th>\n",
              "      <td>.</td>\n",
              "      <td>_</td>\n",
              "      <td>O</td>\n",
              "      <td>2</td>\n",
              "    </tr>\n",
              "    <tr>\n",
              "      <th>9</th>\n",
              "      <td>\u041d\u0430</td>\n",
              "      <td>_</td>\n",
              "      <td>O</td>\n",
              "      <td>2</td>\n",
              "    </tr>\n",
              "  </tbody>\n",
              "</table>\n",
              "</div>\n",
              "    <div class=\"colab-df-buttons\">\n",
              "\n",
              "  <div class=\"colab-df-container\">\n",
              "    <button class=\"colab-df-convert\" onclick=\"convertToInteractive('df-14aa7c8a-9a2f-4d8f-ac0d-951bc55cc482')\"\n",
              "            title=\"Convert this dataframe to an interactive table.\"\n",
              "            style=\"display:none;\">\n",
              "\n",
              "  <svg xmlns=\"http://www.w3.org/2000/svg\" height=\"24px\" viewBox=\"0 -960 960 960\">\n",
              "    <path d=\"M120-120v-720h720v720H120Zm60-500h600v-160H180v160Zm220 220h160v-160H400v160Zm0 220h160v-160H400v160ZM180-400h160v-160H180v160Zm440 0h160v-160H620v160ZM180-180h160v-160H180v160Zm440 0h160v-160H620v160Z\"/>\n",
              "  </svg>\n",
              "    </button>\n",
              "\n",
              "  <style>\n",
              "    .colab-df-container {\n",
              "      display:flex;\n",
              "      gap: 12px;\n",
              "    }\n",
              "\n",
              "    .colab-df-convert {\n",
              "      background-color: #E8F0FE;\n",
              "      border: none;\n",
              "      border-radius: 50%;\n",
              "      cursor: pointer;\n",
              "      display: none;\n",
              "      fill: #1967D2;\n",
              "      height: 32px;\n",
              "      padding: 0 0 0 0;\n",
              "      width: 32px;\n",
              "    }\n",
              "\n",
              "    .colab-df-convert:hover {\n",
              "      background-color: #E2EBFA;\n",
              "      box-shadow: 0px 1px 2px rgba(60, 64, 67, 0.3), 0px 1px 3px 1px rgba(60, 64, 67, 0.15);\n",
              "      fill: #174EA6;\n",
              "    }\n",
              "\n",
              "    .colab-df-buttons div {\n",
              "      margin-bottom: 4px;\n",
              "    }\n",
              "\n",
              "    [theme=dark] .colab-df-convert {\n",
              "      background-color: #3B4455;\n",
              "      fill: #D2E3FC;\n",
              "    }\n",
              "\n",
              "    [theme=dark] .colab-df-convert:hover {\n",
              "      background-color: #434B5C;\n",
              "      box-shadow: 0px 1px 3px 1px rgba(0, 0, 0, 0.15);\n",
              "      filter: drop-shadow(0px 1px 2px rgba(0, 0, 0, 0.3));\n",
              "      fill: #FFFFFF;\n",
              "    }\n",
              "  </style>\n",
              "\n",
              "    <script>\n",
              "      const buttonEl =\n",
              "        document.querySelector('#df-14aa7c8a-9a2f-4d8f-ac0d-951bc55cc482 button.colab-df-convert');\n",
              "      buttonEl.style.display =\n",
              "        google.colab.kernel.accessAllowed ? 'block' : 'none';\n",
              "\n",
              "      async function convertToInteractive(key) {\n",
              "        const element = document.querySelector('#df-14aa7c8a-9a2f-4d8f-ac0d-951bc55cc482');\n",
              "        const dataTable =\n",
              "          await google.colab.kernel.invokeFunction('convertToInteractive',\n",
              "                                                    [key], {});\n",
              "        if (!dataTable) return;\n",
              "\n",
              "        const docLinkHtml = 'Like what you see? Visit the ' +\n",
              "          '<a target=\"_blank\" href=https://colab.research.google.com/notebooks/data_table.ipynb>data table notebook</a>'\n",
              "          + ' to learn more about interactive tables.';\n",
              "        element.innerHTML = '';\n",
              "        dataTable['output_type'] = 'display_data';\n",
              "        await google.colab.output.renderOutput(dataTable, element);\n",
              "        const docLink = document.createElement('div');\n",
              "        docLink.innerHTML = docLinkHtml;\n",
              "        element.appendChild(docLink);\n",
              "      }\n",
              "    </script>\n",
              "  </div>\n",
              "\n",
              "\n",
              "    <div id=\"df-455a4fbb-a9b8-47ad-aa20-9c6d985d39ff\">\n",
              "      <button class=\"colab-df-quickchart\" onclick=\"quickchart('df-455a4fbb-a9b8-47ad-aa20-9c6d985d39ff')\"\n",
              "                title=\"Suggest charts\"\n",
              "                style=\"display:none;\">\n",
              "\n",
              "<svg xmlns=\"http://www.w3.org/2000/svg\" height=\"24px\"viewBox=\"0 0 24 24\"\n",
              "     width=\"24px\">\n",
              "    <g>\n",
              "        <path d=\"M19 3H5c-1.1 0-2 .9-2 2v14c0 1.1.9 2 2 2h14c1.1 0 2-.9 2-2V5c0-1.1-.9-2-2-2zM9 17H7v-7h2v7zm4 0h-2V7h2v10zm4 0h-2v-4h2v4z\"/>\n",
              "    </g>\n",
              "</svg>\n",
              "      </button>\n",
              "\n",
              "<style>\n",
              "  .colab-df-quickchart {\n",
              "      --bg-color: #E8F0FE;\n",
              "      --fill-color: #1967D2;\n",
              "      --hover-bg-color: #E2EBFA;\n",
              "      --hover-fill-color: #174EA6;\n",
              "      --disabled-fill-color: #AAA;\n",
              "      --disabled-bg-color: #DDD;\n",
              "  }\n",
              "\n",
              "  [theme=dark] .colab-df-quickchart {\n",
              "      --bg-color: #3B4455;\n",
              "      --fill-color: #D2E3FC;\n",
              "      --hover-bg-color: #434B5C;\n",
              "      --hover-fill-color: #FFFFFF;\n",
              "      --disabled-bg-color: #3B4455;\n",
              "      --disabled-fill-color: #666;\n",
              "  }\n",
              "\n",
              "  .colab-df-quickchart {\n",
              "    background-color: var(--bg-color);\n",
              "    border: none;\n",
              "    border-radius: 50%;\n",
              "    cursor: pointer;\n",
              "    display: none;\n",
              "    fill: var(--fill-color);\n",
              "    height: 32px;\n",
              "    padding: 0;\n",
              "    width: 32px;\n",
              "  }\n",
              "\n",
              "  .colab-df-quickchart:hover {\n",
              "    background-color: var(--hover-bg-color);\n",
              "    box-shadow: 0 1px 2px rgba(60, 64, 67, 0.3), 0 1px 3px 1px rgba(60, 64, 67, 0.15);\n",
              "    fill: var(--button-hover-fill-color);\n",
              "  }\n",
              "\n",
              "  .colab-df-quickchart-complete:disabled,\n",
              "  .colab-df-quickchart-complete:disabled:hover {\n",
              "    background-color: var(--disabled-bg-color);\n",
              "    fill: var(--disabled-fill-color);\n",
              "    box-shadow: none;\n",
              "  }\n",
              "\n",
              "  .colab-df-spinner {\n",
              "    border: 2px solid var(--fill-color);\n",
              "    border-color: transparent;\n",
              "    border-bottom-color: var(--fill-color);\n",
              "    animation:\n",
              "      spin 1s steps(1) infinite;\n",
              "  }\n",
              "\n",
              "  @keyframes spin {\n",
              "    0% {\n",
              "      border-color: transparent;\n",
              "      border-bottom-color: var(--fill-color);\n",
              "      border-left-color: var(--fill-color);\n",
              "    }\n",
              "    20% {\n",
              "      border-color: transparent;\n",
              "      border-left-color: var(--fill-color);\n",
              "      border-top-color: var(--fill-color);\n",
              "    }\n",
              "    30% {\n",
              "      border-color: transparent;\n",
              "      border-left-color: var(--fill-color);\n",
              "      border-top-color: var(--fill-color);\n",
              "      border-right-color: var(--fill-color);\n",
              "    }\n",
              "    40% {\n",
              "      border-color: transparent;\n",
              "      border-right-color: var(--fill-color);\n",
              "      border-top-color: var(--fill-color);\n",
              "    }\n",
              "    60% {\n",
              "      border-color: transparent;\n",
              "      border-right-color: var(--fill-color);\n",
              "    }\n",
              "    80% {\n",
              "      border-color: transparent;\n",
              "      border-right-color: var(--fill-color);\n",
              "      border-bottom-color: var(--fill-color);\n",
              "    }\n",
              "    90% {\n",
              "      border-color: transparent;\n",
              "      border-bottom-color: var(--fill-color);\n",
              "    }\n",
              "  }\n",
              "</style>\n",
              "\n",
              "      <script>\n",
              "        async function quickchart(key) {\n",
              "          const quickchartButtonEl =\n",
              "            document.querySelector('#' + key + ' button');\n",
              "          quickchartButtonEl.disabled = true;  // To prevent multiple clicks.\n",
              "          quickchartButtonEl.classList.add('colab-df-spinner');\n",
              "          try {\n",
              "            const charts = await google.colab.kernel.invokeFunction(\n",
              "                'suggestCharts', [key], {});\n",
              "          } catch (error) {\n",
              "            console.error('Error during call to suggestCharts:', error);\n",
              "          }\n",
              "          quickchartButtonEl.classList.remove('colab-df-spinner');\n",
              "          quickchartButtonEl.classList.add('colab-df-quickchart-complete');\n",
              "        }\n",
              "        (() => {\n",
              "          let quickchartButtonEl =\n",
              "            document.querySelector('#df-455a4fbb-a9b8-47ad-aa20-9c6d985d39ff button');\n",
              "          quickchartButtonEl.style.display =\n",
              "            google.colab.kernel.accessAllowed ? 'block' : 'none';\n",
              "        })();\n",
              "      </script>\n",
              "    </div>\n",
              "    </div>\n",
              "  </div>\n"
            ],
            "application/vnd.google.colaboratory.intrinsic+json": {
              "type": "dataframe",
              "variable_name": "data",
              "summary": "{\n  \"name\": \"data\",\n  \"rows\": 68730,\n  \"fields\": [\n    {\n      \"column\": \"token\",\n      \"properties\": {\n        \"dtype\": \"category\",\n        \"num_unique_values\": 21433,\n        \"samples\": [\n          \"\\u0433\\u043e\\u0441\\u0443\\u0434\\u0430\\u0440\\u0441\\u0442\\u0432\\u0430\",\n          \"\\u0412\\u0435\\u043b\\u0438\\u043a\\u0438\\u043c\",\n          \"\\u0422\\u043c\\u0443\\u0442\\u0430\\u0440\\u0430\\u043a\\u0430\\u043d\\u044c\"\n        ],\n        \"semantic_type\": \"\",\n        \"description\": \"\"\n      }\n    },\n    {\n      \"column\": \"semclass\",\n      \"properties\": {\n        \"dtype\": \"category\",\n        \"num_unique_values\": 456,\n        \"samples\": [\n          \"TO_TAKE_FOOD_OR_MEDICINE\",\n          \"CONJUNCTIONS\",\n          \"CH_SURFACE_EDGE\"\n        ],\n        \"semantic_type\": \"\",\n        \"description\": \"\"\n      }\n    },\n    {\n      \"column\": \"tag\",\n      \"properties\": {\n        \"dtype\": \"category\",\n        \"num_unique_values\": 10,\n        \"samples\": [\n          \"B-PORG\",\n          \"B-LOC\",\n          \"I-PER\"\n        ],\n        \"semantic_type\": \"\",\n        \"description\": \"\"\n      }\n    },\n    {\n      \"column\": \"sentence_id\",\n      \"properties\": {\n        \"dtype\": \"number\",\n        \"std\": 917,\n        \"min\": 1,\n        \"max\": 3196,\n        \"num_unique_values\": 3196,\n        \"samples\": [\n          1952,\n          1205,\n          2662\n        ],\n        \"semantic_type\": \"\",\n        \"description\": \"\"\n      }\n    }\n  ]\n}"
            }
          },
          "metadata": {},
          "execution_count": 20
        }
      ]
    },
    {
      "cell_type": "code",
      "source": [
        "tag2idx = {'I-ORG': 1,\n",
        "            'B-LOC': 2,\n",
        "            'B-ORG': 3,\n",
        "            'I-LOC': 4,\n",
        "            'I-PER': 5,\n",
        "            'B-PER': 6,\n",
        "            'O': 7,\n",
        "            'PAD': -100}"
      ],
      "metadata": {
        "id": "lj7ZyrBQs7rv"
      },
      "execution_count": 21,
      "outputs": []
    },
    {
      "cell_type": "code",
      "source": [
        "tag_values = list(set(data[\"tag\"].values))"
      ],
      "metadata": {
        "id": "l96UnQTptSzi"
      },
      "execution_count": 22,
      "outputs": []
    },
    {
      "cell_type": "code",
      "source": [
        "# \u043d\u0430\u043f\u0438\u0441\u0430\u043b\u0430 \u043c\u0430\u043b\u0435\u043d\u044c\u043a\u0443\u044e \u0444\u0443\u043d\u043a\u0446\u0438\u044e, \u0447\u0442\u043e\u0431\u044b \u0438\u0441\u043f\u0440\u0430\u0432\u0438\u0442\u044c \u0442\u0435\u0433\u0438, \u043f\u043e\u0442\u043e\u043c\u0443 \u0447\u0442\u043e \u0441\u043b\u0443\u0447\u0430\u0439\u043d\u043e \u0443\u0432\u0438\u0434\u0435\u043b\u0430 \u043e\u0448\u0438\u0431\u043a\u0438 \u0432 \u0442\u043e\u043c, \u0447\u0442\u043e \u0443 \u043c\u0435\u043d\u044f \u043a\u043e\u043b\u0438\u0447\u0435\u0441\u0442\u0432\u043e tag_values = 11, \u0430 \u0442\u0430\u043a\u043e\u0433\u043e \u0431\u044b\u0442\u044c \u043d\u0435 \u043c\u043e\u0436\u0435\u0442\n",
        "def clean_tag(tag):\n",
        "    tag = tag.strip().upper()\n",
        "    if tag == 'OO':\n",
        "        return 'O'\n",
        "    if tag == 'B-PORG':\n",
        "        return 'B-ORG'\n",
        "    if tag == 'P':\n",
        "        return 'O'\n",
        "    return tag if tag in tag_values else 'O'\n",
        "data['tag'] = data['tag'].apply(clean_tag)"
      ],
      "metadata": {
        "id": "3xg_jWVYnvVx"
      },
      "execution_count": 23,
      "outputs": []
    },
    {
      "cell_type": "code",
      "source": [
        "data.head().copy()"
      ],
      "metadata": {
        "colab": {
          "base_uri": "https://localhost:8080/",
          "height": 206
        },
        "id": "F7_pBkpwo8Bo",
        "outputId": "a0103a18-fc61-4b6b-b295-495a28758b0e"
      },
      "execution_count": 24,
      "outputs": [
        {
          "output_type": "execute_result",
          "data": {
            "text/plain": [
              "         token            semclass    tag  sentence_id\n",
              "0      \u0414\u0435\u0442\u0441\u0442\u0432\u043e                TIME      O            1\n",
              "1       \u043f\u0440\u043e\u0432\u0451\u043b       TO_SPEND_TIME      O            1\n",
              "2            \u0432         PREPOSITION      O            1\n",
              "3  \u041d\u0430\u0434\u044c\u0441\u043e\u043c\u0431\u0430\u0442\u0435  INHABITED_LOCALITY  B-LOC            1\n",
              "4            \u0441         PREPOSITION      O            1"
            ],
            "text/html": [
              "\n",
              "  <div id=\"df-378f87e2-d1de-4c1d-9fca-72656e27c24e\" class=\"colab-df-container\">\n",
              "    <div>\n",
              "<style scoped>\n",
              "    .dataframe tbody tr th:only-of-type {\n",
              "        vertical-align: middle;\n",
              "    }\n",
              "\n",
              "    .dataframe tbody tr th {\n",
              "        vertical-align: top;\n",
              "    }\n",
              "\n",
              "    .dataframe thead th {\n",
              "        text-align: right;\n",
              "    }\n",
              "</style>\n",
              "<table border=\"1\" class=\"dataframe\">\n",
              "  <thead>\n",
              "    <tr style=\"text-align: right;\">\n",
              "      <th></th>\n",
              "      <th>token</th>\n",
              "      <th>semclass</th>\n",
              "      <th>tag</th>\n",
              "      <th>sentence_id</th>\n",
              "    </tr>\n",
              "  </thead>\n",
              "  <tbody>\n",
              "    <tr>\n",
              "      <th>0</th>\n",
              "      <td>\u0414\u0435\u0442\u0441\u0442\u0432\u043e</td>\n",
              "      <td>TIME</td>\n",
              "      <td>O</td>\n",
              "      <td>1</td>\n",
              "    </tr>\n",
              "    <tr>\n",
              "      <th>1</th>\n",
              "      <td>\u043f\u0440\u043e\u0432\u0451\u043b</td>\n",
              "      <td>TO_SPEND_TIME</td>\n",
              "      <td>O</td>\n",
              "      <td>1</td>\n",
              "    </tr>\n",
              "    <tr>\n",
              "      <th>2</th>\n",
              "      <td>\u0432</td>\n",
              "      <td>PREPOSITION</td>\n",
              "      <td>O</td>\n",
              "      <td>1</td>\n",
              "    </tr>\n",
              "    <tr>\n",
              "      <th>3</th>\n",
              "      <td>\u041d\u0430\u0434\u044c\u0441\u043e\u043c\u0431\u0430\u0442\u0435</td>\n",
              "      <td>INHABITED_LOCALITY</td>\n",
              "      <td>B-LOC</td>\n",
              "      <td>1</td>\n",
              "    </tr>\n",
              "    <tr>\n",
              "      <th>4</th>\n",
              "      <td>\u0441</td>\n",
              "      <td>PREPOSITION</td>\n",
              "      <td>O</td>\n",
              "      <td>1</td>\n",
              "    </tr>\n",
              "  </tbody>\n",
              "</table>\n",
              "</div>\n",
              "    <div class=\"colab-df-buttons\">\n",
              "\n",
              "  <div class=\"colab-df-container\">\n",
              "    <button class=\"colab-df-convert\" onclick=\"convertToInteractive('df-378f87e2-d1de-4c1d-9fca-72656e27c24e')\"\n",
              "            title=\"Convert this dataframe to an interactive table.\"\n",
              "            style=\"display:none;\">\n",
              "\n",
              "  <svg xmlns=\"http://www.w3.org/2000/svg\" height=\"24px\" viewBox=\"0 -960 960 960\">\n",
              "    <path d=\"M120-120v-720h720v720H120Zm60-500h600v-160H180v160Zm220 220h160v-160H400v160Zm0 220h160v-160H400v160ZM180-400h160v-160H180v160Zm440 0h160v-160H620v160ZM180-180h160v-160H180v160Zm440 0h160v-160H620v160Z\"/>\n",
              "  </svg>\n",
              "    </button>\n",
              "\n",
              "  <style>\n",
              "    .colab-df-container {\n",
              "      display:flex;\n",
              "      gap: 12px;\n",
              "    }\n",
              "\n",
              "    .colab-df-convert {\n",
              "      background-color: #E8F0FE;\n",
              "      border: none;\n",
              "      border-radius: 50%;\n",
              "      cursor: pointer;\n",
              "      display: none;\n",
              "      fill: #1967D2;\n",
              "      height: 32px;\n",
              "      padding: 0 0 0 0;\n",
              "      width: 32px;\n",
              "    }\n",
              "\n",
              "    .colab-df-convert:hover {\n",
              "      background-color: #E2EBFA;\n",
              "      box-shadow: 0px 1px 2px rgba(60, 64, 67, 0.3), 0px 1px 3px 1px rgba(60, 64, 67, 0.15);\n",
              "      fill: #174EA6;\n",
              "    }\n",
              "\n",
              "    .colab-df-buttons div {\n",
              "      margin-bottom: 4px;\n",
              "    }\n",
              "\n",
              "    [theme=dark] .colab-df-convert {\n",
              "      background-color: #3B4455;\n",
              "      fill: #D2E3FC;\n",
              "    }\n",
              "\n",
              "    [theme=dark] .colab-df-convert:hover {\n",
              "      background-color: #434B5C;\n",
              "      box-shadow: 0px 1px 3px 1px rgba(0, 0, 0, 0.15);\n",
              "      filter: drop-shadow(0px 1px 2px rgba(0, 0, 0, 0.3));\n",
              "      fill: #FFFFFF;\n",
              "    }\n",
              "  </style>\n",
              "\n",
              "    <script>\n",
              "      const buttonEl =\n",
              "        document.querySelector('#df-378f87e2-d1de-4c1d-9fca-72656e27c24e button.colab-df-convert');\n",
              "      buttonEl.style.display =\n",
              "        google.colab.kernel.accessAllowed ? 'block' : 'none';\n",
              "\n",
              "      async function convertToInteractive(key) {\n",
              "        const element = document.querySelector('#df-378f87e2-d1de-4c1d-9fca-72656e27c24e');\n",
              "        const dataTable =\n",
              "          await google.colab.kernel.invokeFunction('convertToInteractive',\n",
              "                                                    [key], {});\n",
              "        if (!dataTable) return;\n",
              "\n",
              "        const docLinkHtml = 'Like what you see? Visit the ' +\n",
              "          '<a target=\"_blank\" href=https://colab.research.google.com/notebooks/data_table.ipynb>data table notebook</a>'\n",
              "          + ' to learn more about interactive tables.';\n",
              "        element.innerHTML = '';\n",
              "        dataTable['output_type'] = 'display_data';\n",
              "        await google.colab.output.renderOutput(dataTable, element);\n",
              "        const docLink = document.createElement('div');\n",
              "        docLink.innerHTML = docLinkHtml;\n",
              "        element.appendChild(docLink);\n",
              "      }\n",
              "    </script>\n",
              "  </div>\n",
              "\n",
              "\n",
              "    <div id=\"df-7c429a8c-3731-4318-99da-8097f4c468fe\">\n",
              "      <button class=\"colab-df-quickchart\" onclick=\"quickchart('df-7c429a8c-3731-4318-99da-8097f4c468fe')\"\n",
              "                title=\"Suggest charts\"\n",
              "                style=\"display:none;\">\n",
              "\n",
              "<svg xmlns=\"http://www.w3.org/2000/svg\" height=\"24px\"viewBox=\"0 0 24 24\"\n",
              "     width=\"24px\">\n",
              "    <g>\n",
              "        <path d=\"M19 3H5c-1.1 0-2 .9-2 2v14c0 1.1.9 2 2 2h14c1.1 0 2-.9 2-2V5c0-1.1-.9-2-2-2zM9 17H7v-7h2v7zm4 0h-2V7h2v10zm4 0h-2v-4h2v4z\"/>\n",
              "    </g>\n",
              "</svg>\n",
              "      </button>\n",
              "\n",
              "<style>\n",
              "  .colab-df-quickchart {\n",
              "      --bg-color: #E8F0FE;\n",
              "      --fill-color: #1967D2;\n",
              "      --hover-bg-color: #E2EBFA;\n",
              "      --hover-fill-color: #174EA6;\n",
              "      --disabled-fill-color: #AAA;\n",
              "      --disabled-bg-color: #DDD;\n",
              "  }\n",
              "\n",
              "  [theme=dark] .colab-df-quickchart {\n",
              "      --bg-color: #3B4455;\n",
              "      --fill-color: #D2E3FC;\n",
              "      --hover-bg-color: #434B5C;\n",
              "      --hover-fill-color: #FFFFFF;\n",
              "      --disabled-bg-color: #3B4455;\n",
              "      --disabled-fill-color: #666;\n",
              "  }\n",
              "\n",
              "  .colab-df-quickchart {\n",
              "    background-color: var(--bg-color);\n",
              "    border: none;\n",
              "    border-radius: 50%;\n",
              "    cursor: pointer;\n",
              "    display: none;\n",
              "    fill: var(--fill-color);\n",
              "    height: 32px;\n",
              "    padding: 0;\n",
              "    width: 32px;\n",
              "  }\n",
              "\n",
              "  .colab-df-quickchart:hover {\n",
              "    background-color: var(--hover-bg-color);\n",
              "    box-shadow: 0 1px 2px rgba(60, 64, 67, 0.3), 0 1px 3px 1px rgba(60, 64, 67, 0.15);\n",
              "    fill: var(--button-hover-fill-color);\n",
              "  }\n",
              "\n",
              "  .colab-df-quickchart-complete:disabled,\n",
              "  .colab-df-quickchart-complete:disabled:hover {\n",
              "    background-color: var(--disabled-bg-color);\n",
              "    fill: var(--disabled-fill-color);\n",
              "    box-shadow: none;\n",
              "  }\n",
              "\n",
              "  .colab-df-spinner {\n",
              "    border: 2px solid var(--fill-color);\n",
              "    border-color: transparent;\n",
              "    border-bottom-color: var(--fill-color);\n",
              "    animation:\n",
              "      spin 1s steps(1) infinite;\n",
              "  }\n",
              "\n",
              "  @keyframes spin {\n",
              "    0% {\n",
              "      border-color: transparent;\n",
              "      border-bottom-color: var(--fill-color);\n",
              "      border-left-color: var(--fill-color);\n",
              "    }\n",
              "    20% {\n",
              "      border-color: transparent;\n",
              "      border-left-color: var(--fill-color);\n",
              "      border-top-color: var(--fill-color);\n",
              "    }\n",
              "    30% {\n",
              "      border-color: transparent;\n",
              "      border-left-color: var(--fill-color);\n",
              "      border-top-color: var(--fill-color);\n",
              "      border-right-color: var(--fill-color);\n",
              "    }\n",
              "    40% {\n",
              "      border-color: transparent;\n",
              "      border-right-color: var(--fill-color);\n",
              "      border-top-color: var(--fill-color);\n",
              "    }\n",
              "    60% {\n",
              "      border-color: transparent;\n",
              "      border-right-color: var(--fill-color);\n",
              "    }\n",
              "    80% {\n",
              "      border-color: transparent;\n",
              "      border-right-color: var(--fill-color);\n",
              "      border-bottom-color: var(--fill-color);\n",
              "    }\n",
              "    90% {\n",
              "      border-color: transparent;\n",
              "      border-bottom-color: var(--fill-color);\n",
              "    }\n",
              "  }\n",
              "</style>\n",
              "\n",
              "      <script>\n",
              "        async function quickchart(key) {\n",
              "          const quickchartButtonEl =\n",
              "            document.querySelector('#' + key + ' button');\n",
              "          quickchartButtonEl.disabled = true;  // To prevent multiple clicks.\n",
              "          quickchartButtonEl.classList.add('colab-df-spinner');\n",
              "          try {\n",
              "            const charts = await google.colab.kernel.invokeFunction(\n",
              "                'suggestCharts', [key], {});\n",
              "          } catch (error) {\n",
              "            console.error('Error during call to suggestCharts:', error);\n",
              "          }\n",
              "          quickchartButtonEl.classList.remove('colab-df-spinner');\n",
              "          quickchartButtonEl.classList.add('colab-df-quickchart-complete');\n",
              "        }\n",
              "        (() => {\n",
              "          let quickchartButtonEl =\n",
              "            document.querySelector('#df-7c429a8c-3731-4318-99da-8097f4c468fe button');\n",
              "          quickchartButtonEl.style.display =\n",
              "            google.colab.kernel.accessAllowed ? 'block' : 'none';\n",
              "        })();\n",
              "      </script>\n",
              "    </div>\n",
              "    </div>\n",
              "  </div>\n"
            ],
            "application/vnd.google.colaboratory.intrinsic+json": {
              "type": "dataframe",
              "variable_name": "data",
              "summary": "{\n  \"name\": \"data\",\n  \"rows\": 68730,\n  \"fields\": [\n    {\n      \"column\": \"token\",\n      \"properties\": {\n        \"dtype\": \"category\",\n        \"num_unique_values\": 21433,\n        \"samples\": [\n          \"\\u0433\\u043e\\u0441\\u0443\\u0434\\u0430\\u0440\\u0441\\u0442\\u0432\\u0430\",\n          \"\\u0412\\u0435\\u043b\\u0438\\u043a\\u0438\\u043c\",\n          \"\\u0422\\u043c\\u0443\\u0442\\u0430\\u0440\\u0430\\u043a\\u0430\\u043d\\u044c\"\n        ],\n        \"semantic_type\": \"\",\n        \"description\": \"\"\n      }\n    },\n    {\n      \"column\": \"semclass\",\n      \"properties\": {\n        \"dtype\": \"category\",\n        \"num_unique_values\": 456,\n        \"samples\": [\n          \"TO_TAKE_FOOD_OR_MEDICINE\",\n          \"CONJUNCTIONS\",\n          \"CH_SURFACE_EDGE\"\n        ],\n        \"semantic_type\": \"\",\n        \"description\": \"\"\n      }\n    },\n    {\n      \"column\": \"tag\",\n      \"properties\": {\n        \"dtype\": \"category\",\n        \"num_unique_values\": 7,\n        \"samples\": [\n          \"O\",\n          \"B-LOC\",\n          \"I-PER\"\n        ],\n        \"semantic_type\": \"\",\n        \"description\": \"\"\n      }\n    },\n    {\n      \"column\": \"sentence_id\",\n      \"properties\": {\n        \"dtype\": \"number\",\n        \"std\": 917,\n        \"min\": 1,\n        \"max\": 3196,\n        \"num_unique_values\": 3196,\n        \"samples\": [\n          1952,\n          1205,\n          2662\n        ],\n        \"semantic_type\": \"\",\n        \"description\": \"\"\n      }\n    }\n  ]\n}"
            }
          },
          "metadata": {},
          "execution_count": 24
        }
      ]
    },
    {
      "cell_type": "code",
      "source": [
        "# \u042f \u0445\u043e\u0442\u0435\u043b\u0430 \u0440\u0430\u0437\u0434\u0435\u043b\u0438\u0442\u044c \u043f\u0440\u0435\u0434\u043b\u043e\u0436\u0435\u043d\u0438\u044f \u043f\u043e sentence_id, \u043f\u043e\u0442\u043e\u043c\u0443 \u0447\u0442\u043e \u043e\u043d\u0438 \u0448\u043b\u0438 \u0441\u043f\u043b\u043e\u0448\u043d\u044b\u043c \u0442\u0435\u043a\u0441\u0442\u043e\u043c"
      ],
      "metadata": {
        "id": "x_Dxx_-n4rGY"
      },
      "execution_count": null,
      "outputs": []
    },
    {
      "cell_type": "code",
      "source": [
        "# \u044d\u0442\u043e \u044f \u0441\u043c\u043e\u0442\u0440\u0435\u043b\u0430, \u0432\u0441\u0435 \u043b\u0438 \u043e\u043a \u0441 \u043c\u0435\u0442\u043a\u0430\u043c\u0438 NER\n",
        "tag2idx"
      ],
      "metadata": {
        "colab": {
          "base_uri": "https://localhost:8080/"
        },
        "collapsed": true,
        "id": "0lw4d8DU2xNs",
        "outputId": "47efc07e-1078-4eb8-d4cd-30747b0e1253"
      },
      "execution_count": null,
      "outputs": [
        {
          "output_type": "execute_result",
          "data": {
            "text/plain": [
              "{'I-ORG': 1,\n",
              " 'B-LOC': 2,\n",
              " 'B-ORG': 3,\n",
              " 'I-LOC': 4,\n",
              " 'I-PER': 5,\n",
              " 'B-PER': 6,\n",
              " 'O': 7,\n",
              " 'PAD': -100}"
            ]
          },
          "metadata": {},
          "execution_count": 182
        }
      ]
    },
    {
      "cell_type": "code",
      "source": [
        "# \u0441\u043c\u043e\u0442\u0440\u0435\u043b\u0430 \u043a\u043e\u043b\u0438\u0447\u0435\u0441\u0442\u0432\u043e \u0441\u0435\u043c\u0430\u043d\u0442\u0438\u0447\u0435\u0441\u043a\u0438\u0445 \u043a\u043b\u0430\u0441\u0441\u043e\u0432\n",
        "sem2id"
      ],
      "metadata": {
        "collapsed": true,
        "colab": {
          "base_uri": "https://localhost:8080/"
        },
        "id": "VT3HcqYM23sP",
        "outputId": "bf4ebdf2-7792-4406-8737-bdc173339a8c"
      },
      "execution_count": null,
      "outputs": [
        {
          "output_type": "execute_result",
          "data": {
            "text/plain": [
              "{'PAD': 0,\n",
              " 'MOTION': 1,\n",
              " 'CH_EVALUATION_OF_HUMAN_TEMPER_AND_ACTIVITY': 2,\n",
              " 'QUIETNESS': 3,\n",
              " 'TIME': 4,\n",
              " 'TO_CELEBRATE': 5,\n",
              " 'TO_FABRICATE': 6,\n",
              " 'CONTACT_WITH_CONTRAGENT': 7,\n",
              " 'TO_SET': 8,\n",
              " 'TO_BEAT_AND_PRICK': 9,\n",
              " 'MANAGE_FAIL_CONDITION': 10,\n",
              " 'MONEY': 11,\n",
              " 'TO_PRINT_TEXT_PHOTO': 12,\n",
              " 'PARTICLES': 13,\n",
              " 'BEING': 14,\n",
              " 'TO_PICTURE_DRAW': 15,\n",
              " 'CH_INTENTION_CONCENTRATION': 16,\n",
              " 'LINE_FOR_COMMUNICATION': 17,\n",
              " 'TO_BE_GUIDED': 18,\n",
              " 'TO_SCREEN': 19,\n",
              " 'CH_SPHERE_OF_COVERAGE': 20,\n",
              " 'ELECTIONS': 21,\n",
              " 'COUNTRY_AS_ADMINISTRATIVE_UNIT': 22,\n",
              " 'PROBLEMS_TO_SOLVE': 23,\n",
              " 'TO_RATIFY': 24,\n",
              " 'SPACE_BY_PARTICULAR_PROPERTIES': 25,\n",
              " 'MATHEMATICAL_OBJECTS': 26,\n",
              " 'BOOM': 27,\n",
              " 'CLASSIFICATION_TYPES': 28,\n",
              " 'RELATIVE_ENTITY': 29,\n",
              " 'TO_PREVENT_SMTH': 30,\n",
              " 'TO_PLAN_CREATIVE_AND_PHYSICAL_OBJECTS': 31,\n",
              " 'TO_GET': 32,\n",
              " 'HERITAGE': 33,\n",
              " 'PRODUCT': 34,\n",
              " 'POWER_RIGHT': 35,\n",
              " 'ADVENTURE': 36,\n",
              " 'TO_CARE_AND_BRING_UP': 37,\n",
              " 'PATH_AS_DIRECTION_OF_ACTIVITY': 38,\n",
              " 'PART_OF_CONSTRUCTION': 39,\n",
              " 'TO_ACCUSE_AND_VINDICATE': 40,\n",
              " 'CH_FUNCTIONING_OF_ENTITY': 41,\n",
              " 'CH_RENOWN': 42,\n",
              " 'SPACE_TIME_ART': 43,\n",
              " 'TO_POSSESS': 44,\n",
              " 'TO_WRITE': 45,\n",
              " 'PART_OF_CREATIVE_WORK': 46,\n",
              " 'TO_WAIT': 47,\n",
              " 'DEGREE_OF_FIT': 48,\n",
              " 'TO_LIQUIDATE': 49,\n",
              " 'TRIAL': 50,\n",
              " 'TEST_FOR_EXPERIENCER': 51,\n",
              " 'CH_TYPE_OF_POSSESSION_AND_PARTICIPATION': 52,\n",
              " 'CH_INFORMATION': 53,\n",
              " 'TO_AVOID': 54,\n",
              " 'TO_PRODUCE_CERTAIN_SOUNDS': 55,\n",
              " 'CH_CONFIGURATION_AND_FORM': 56,\n",
              " 'CONTINUE_TO_TAKE_PLACE': 57,\n",
              " 'POSITION_AS_STATUS': 58,\n",
              " 'TO_CLOSE': 59,\n",
              " 'TO_CHANGE': 60,\n",
              " 'TO_ADD': 61,\n",
              " 'TO_SOUND': 62,\n",
              " 'TO_SPOIL': 63,\n",
              " '_': 64,\n",
              " 'TO_DISAPPEAR_LOSE_GET_RID_OF': 65,\n",
              " 'TO_FEEL_AND_EXPRESS_MENTAL_ATTITUDE_TO': 66,\n",
              " 'TO_SPEND': 67,\n",
              " 'CONDITION_IN_POLITICAL_SPHERE': 68,\n",
              " 'AGGREGATE': 69,\n",
              " 'SPORT_DEVICE': 70,\n",
              " 'TO_BE_BASED': 71,\n",
              " 'PART_OF_WORLD': 72,\n",
              " 'TO_APPLY_COAT': 73,\n",
              " 'FEELING_AS_CONDITION': 74,\n",
              " 'TRANSPORT_COMMUNICATIONS': 75,\n",
              " 'TO_REPRODUCE_ECONOMIC': 76,\n",
              " 'VIRTUAL_OBJECT': 77,\n",
              " 'NATURALNESS_GENUINENESS_CHAR': 78,\n",
              " 'MUSICAL_INSTRUMENT': 79,\n",
              " 'TO_MEASURE': 80,\n",
              " 'DEVICE_FOR_ILLUMINATING': 81,\n",
              " 'PRESSURE_CHAR': 82,\n",
              " 'AMBIENCE_ENVIRONMENT': 83,\n",
              " 'TO_CAUSE_SUCCESS': 84,\n",
              " 'TO_COMPEL_AND_EVOKE': 85,\n",
              " 'TO_SUBSTITUTE_AND_EXCHANGE': 86,\n",
              " 'TO_ECONOMIZE': 87,\n",
              " 'TO_DIRECT_CREATIVE_WORK': 88,\n",
              " 'TO_TAKE': 89,\n",
              " 'TO_ANALYSE_AND_RESEARCH': 90,\n",
              " 'PART_OF_ARTEFACT': 91,\n",
              " 'CH_ENTITY': 92,\n",
              " 'CH_SCALE': 93,\n",
              " 'POINTS_AS_PLACE': 94,\n",
              " 'DIFFICULT_AND_EASY': 95,\n",
              " 'LAWS_AND_STANDARDS': 96,\n",
              " 'COSMOS_AND_COSMIC_OBJECTS': 97,\n",
              " 'CRISIS': 98,\n",
              " 'CONDITION_SITUATION': 99,\n",
              " 'DISTANT_CONTACT': 100,\n",
              " 'NORMATIVE_LEGAL_ACTIVITY': 101,\n",
              " 'TO_BUILD': 102,\n",
              " 'VERBAL_COMMUNICATION': 103,\n",
              " 'GRAMMATICAL_ELEMENTS': 104,\n",
              " 'EVENT': 105,\n",
              " 'PROCESSING': 106,\n",
              " 'CH_SYSTEM_STRUCTURE': 107,\n",
              " 'REMOVING_DESTRUCTION': 108,\n",
              " 'VIOLENCE': 109,\n",
              " 'NOVELTY': 110,\n",
              " 'CARGO': 111,\n",
              " 'OBJECTS_BY_FORM_OF_MANIFESTATION': 112,\n",
              " 'ORIENTATION_IN_SPACE': 113,\n",
              " 'TO_LEARN_AND_RESEARCH': 114,\n",
              " 'OCCUPATIONS': 115,\n",
              " 'ABILITY_OF_BEING': 116,\n",
              " 'LACK_AND_PLENTY': 117,\n",
              " 'TO_TURN_INTO': 118,\n",
              " 'CH_CRIMINAL_ACTIVITY': 119,\n",
              " 'SCIENCE': 120,\n",
              " 'TO_OPEN': 121,\n",
              " 'CONJUNCTIONS': 122,\n",
              " 'ORGANIC_OBJECTS': 123,\n",
              " 'ATTRIBUTIVE': 124,\n",
              " 'VIRTUAL_TRANSFERENCE': 125,\n",
              " 'SPACE_AND_SPATIAL_OBJECTS': 126,\n",
              " 'ENTITY_GENERAL': 127,\n",
              " 'ENTITY_BY_VALUE': 128,\n",
              " 'BE': 129,\n",
              " 'CH_DEGREE': 130,\n",
              " 'FURNISHINGS_AND_DECORATION': 131,\n",
              " 'APPARATUS': 132,\n",
              " 'TEXT_OBJECTS_AND_DOCUMENTS': 133,\n",
              " 'ACTIVITY': 134,\n",
              " 'EMBARGO': 135,\n",
              " 'CLOTHES': 136,\n",
              " 'EMOTIONS_AND_THEIR_EXPRESSION': 137,\n",
              " 'DIFFICULTIES': 138,\n",
              " 'PLANT': 139,\n",
              " 'TO_INVOLVE': 140,\n",
              " 'TO_BE_DESCENDED': 141,\n",
              " 'BE_STATE': 142,\n",
              " 'TENDENCY_AND_DISPOSITION': 143,\n",
              " 'PHYSICAL_PSYCHIC_CONDITION': 144,\n",
              " 'CONTENT_OF_CONTAINER': 145,\n",
              " 'FOOD': 146,\n",
              " 'ORDER_DISORDER': 147,\n",
              " 'CH_OF_CONNECTIONS': 148,\n",
              " 'AREA_OF_HUMAN_ACTIVITY': 149,\n",
              " 'FORCE_IN_PHYSICS': 150,\n",
              " 'TO_CAUSE_OR_STOP_MOVEMENT': 151,\n",
              " 'SEXUAL_ACTIVITIES': 152,\n",
              " 'TO_SHOOT_PHOTO_OR_FILM': 153,\n",
              " 'TO_MEAN': 154,\n",
              " 'TO_APPROACH_COME_TO_SOME_POINT_OR_STATE': 155,\n",
              " 'TO_HURRY_TO_TARRY': 156,\n",
              " 'EVERYDAY_PROCESSING': 157,\n",
              " 'WEIGHT_CHAR': 158,\n",
              " 'VALUABLE': 159,\n",
              " 'URBAN_SPACE_AND_ROADS': 160,\n",
              " 'TO_TELEPHONE': 161,\n",
              " 'RESULTS_OF_MAKING_DECISIONS': 162,\n",
              " 'TO_WORK': 163,\n",
              " 'IDIOMATICAL_ELEMENTS': 164,\n",
              " 'CREATIVE_WORK_BY_GENRE': 165,\n",
              " 'CH_SALIENCE': 166,\n",
              " 'PERCEPTION_ACTIVITY': 167,\n",
              " 'TRANSPORT': 168,\n",
              " 'TO_CHALLENGE_TO_INVITE': 169,\n",
              " 'SCIENTIFIC_AND_LITERARY_WORK': 170,\n",
              " 'CHANGE_OF_POST_AND_JOB': 171,\n",
              " 'TO_INTERPRET': 172,\n",
              " 'CLASSIFICATION_UNIT': 173,\n",
              " 'TO_DIVIDE': 174,\n",
              " 'TO_UNDERSTATE_TO_EXAGGERATE': 175,\n",
              " 'CORRELATIVES': 176,\n",
              " 'TO_GIVE': 177,\n",
              " 'CH_OF_LOCATION': 178,\n",
              " 'CH_ABSTRACT_GENERALIZED': 179,\n",
              " 'KIND': 180,\n",
              " 'TEMPERATURE_CHAR': 181,\n",
              " 'TO_SHOW': 182,\n",
              " 'CH_MAGNITUDE': 183,\n",
              " 'AGREEMENT_VERBS': 184,\n",
              " 'TO_PRESUPPOSE': 185,\n",
              " 'TO_INTERACT': 186,\n",
              " 'TO_PERCEIVE': 187,\n",
              " 'punct': 188,\n",
              " 'TO_SPEND_TIME': 189,\n",
              " 'TO_PERFORM': 190,\n",
              " 'MENTAL_OBJECT': 191,\n",
              " 'INTELLECTUAL_ACTIVITY': 192,\n",
              " 'SPORT': 193,\n",
              " 'TO_SEND_TO_DELIVER': 194,\n",
              " 'INTERPERSONAL_RELATIONS': 195,\n",
              " 'CHOOSING_SORTING': 196,\n",
              " 'TO_FORGIVE': 197,\n",
              " 'RESULTS_OF_MENTAL_ACTIVITY': 198,\n",
              " 'TO_TERRORIZE': 199,\n",
              " 'TO_CONTRIBUTE_AND_HINDER': 200,\n",
              " 'TO_USE': 201,\n",
              " 'TO_DIG_PROCESS': 202,\n",
              " 'PROCESS_PARAMETER': 203,\n",
              " 'READINESS': 204,\n",
              " 'STATE_AREA': 205,\n",
              " 'MOTIVATE': 206,\n",
              " 'CH_PERCEPTIBILITY': 207,\n",
              " 'TO_TORTURE': 208,\n",
              " 'WEAPON_AND_ITS_PART': 209,\n",
              " 'DEVICE': 210,\n",
              " 'VISUAL_CHARACTERISTICS': 211,\n",
              " 'CHARACTERISTIC_GENERAL': 212,\n",
              " 'MATERIALITY_CHAR': 213,\n",
              " 'TO_SEEK_FIND': 214,\n",
              " 'TO_CALL_AND_DESIGNATE': 215,\n",
              " 'CREATION_VERBS': 216,\n",
              " 'DEGREE_OF_SIZE_OR_SCALE': 217,\n",
              " 'SYMBOLS_FOR_INFORMATION_TRANSFER': 218,\n",
              " 'TO_ARREST': 219,\n",
              " 'TO_CANCEL': 220,\n",
              " 'INFORMATION_COMMUNICATIONS': 221,\n",
              " 'TO_PROCESS_PHYSICAL_OBJECT': 222,\n",
              " 'MAKE_EFFORTS': 223,\n",
              " 'KNOWLEDGE_FROM_EXPERIENCE_AND_DEDUCTION': 224,\n",
              " 'LINGUISTIC_OBJECTS': 225,\n",
              " 'INFORMATION': 226,\n",
              " 'PHENOMENON': 227,\n",
              " 'CH_REFERENCE_AND_QUANTIFICATION': 228,\n",
              " 'CH_PARAMETER_OF_MATTER': 229,\n",
              " 'OUTFIT': 230,\n",
              " 'HIERARCHICAL_VERBS': 231,\n",
              " 'PART_OR_PORTION_OF_ENTITY': 232,\n",
              " 'ENTITY_OR_SITUATION_PRONOUN': 233,\n",
              " 'CREATIVE_WORK': 234,\n",
              " 'TO_TRADE': 235,\n",
              " 'CHANGE_OF_MATTER_PHYSICAL_STATE': 236,\n",
              " 'KNOWLEDGE_FROM_EXPERIENCE': 237,\n",
              " 'BUSINESS': 238,\n",
              " 'TO_REACT': 239,\n",
              " 'CH_OF_INTENSITY': 240,\n",
              " 'TO_REBEL': 241,\n",
              " 'TOPIC_SUBJECT': 242,\n",
              " 'TO_PLAY_GAMES': 243,\n",
              " 'TO_EMIT': 244,\n",
              " 'TO_SYMBOLIZE': 245,\n",
              " 'TO_ORGANIZE_EVENT': 246,\n",
              " 'TO_CORRECT': 247,\n",
              " 'WORLD_OUTLOOK': 248,\n",
              " 'OBJECT_BY_FUNCTION_AND_PROPERTY': 249,\n",
              " 'HAVE_CLOTHING_ON': 250,\n",
              " 'DIMENSION': 251,\n",
              " 'RISK_DANGER': 252,\n",
              " 'CH_RESISTANCE_TO_IMPACT': 253,\n",
              " 'ORGANIZED_AGGREGATE': 254,\n",
              " 'SUBSTANCE': 255,\n",
              " 'PEACE': 256,\n",
              " 'TO_BE_A_SIGN_OF': 257,\n",
              " 'CH_PRICE_AND_SUMS': 258,\n",
              " 'PUBLIC_AND_POLITICAL_ACTIVITY': 259,\n",
              " 'TO_THINK_OUT': 260,\n",
              " 'TO_BETRAY_AND_LEAVE': 261,\n",
              " 'TO_KEEP_VIOLATE_NORMS': 262,\n",
              " 'BEGIN_TO_TAKE_PLACE': 263,\n",
              " 'DOCUMENT': 264,\n",
              " 'PART_OF_ORGANISM': 265,\n",
              " 'ETIQUETTE_COMMUNICATION': 266,\n",
              " 'TO_EXIST': 267,\n",
              " 'TO_RELEASE': 268,\n",
              " 'INHABITED_LOCALITY': 269,\n",
              " 'CH_BY_SENSORY_PERCEPTION': 270,\n",
              " 'COORDINATING_CONJUNCTIONS': 271,\n",
              " 'CONDITION_OF_EXPERIENCER_AND_NATURE': 272,\n",
              " 'DYNAMIC_ARTS': 273,\n",
              " 'TERRITORY_AREA': 274,\n",
              " 'INFORMATION_BEARER': 275,\n",
              " 'EFFICIENCY_PRODUCTIVITY': 276,\n",
              " 'CH_BY_WORLD_OUTLOOK_EDUCATION_AESTHETIC': 277,\n",
              " 'TO_TAKE_INTO_CONSIDERATION': 278,\n",
              " 'PHYSIOLOGICAL_PROCESSES': 279,\n",
              " 'TO_DECIDE': 280,\n",
              " 'CONTAINER': 281,\n",
              " 'SPHERE_OF_ACTIVITY_GENERAL': 282,\n",
              " 'DEFEND_SAVE': 283,\n",
              " 'CH_APPEARANCE': 284,\n",
              " 'TO_GO_ON_STRIKE': 285,\n",
              " 'THE_EARTH_AND_ITS_SPATIAL_PARTS': 286,\n",
              " 'COMPLEX_ANAPHORIC_PARTICLES': 287,\n",
              " 'TO_BE_ABOUT_TO_HAPPEN': 288,\n",
              " 'POWER_CHAR': 289,\n",
              " 'CH_SURFACE_EDGE': 290,\n",
              " 'NONPRODUCTIVE_AREA': 291,\n",
              " 'TO_INVENT': 292,\n",
              " 'TO_PROCESS_INFORMATION': 293,\n",
              " 'TO_TAKE_PLACE_IN_NATURE': 294,\n",
              " 'SYSTEM_AS_AGGREGATE': 295,\n",
              " 'CONDITIONS_IN_NATURE': 296,\n",
              " 'TO_COMMIT': 297,\n",
              " 'DISCOURSIVE_UNITS': 298,\n",
              " 'BODY': 299,\n",
              " 'TO_ACCOMPANY_WITH': 300,\n",
              " 'REALITY': 301,\n",
              " 'PRODUCTION_AS_TIME_ART': 302,\n",
              " 'MODALITY': 303,\n",
              " 'CONDITION_IN_ECONOMICS': 304,\n",
              " 'CH_DISTRIBUTION': 305,\n",
              " 'TO_HIDE': 306,\n",
              " 'NETWORK': 307,\n",
              " 'CH_COMPOSITION': 308,\n",
              " 'CONTACT_VERBS': 309,\n",
              " 'IDENTIFYING_ATTRIBUTE': 310,\n",
              " 'OBJECTS_TO_REMEMBER': 311,\n",
              " 'TO_GET_INFORMATION': 312,\n",
              " 'SITUATION': 313,\n",
              " 'KNOWLEDGE': 314,\n",
              " 'TEETH_AND_TONGUE_CONTACT': 315,\n",
              " 'CH_DISPOSITION_AND_MOTION': 316,\n",
              " 'DECORATING_AND_FINISHING': 317,\n",
              " 'PREMISES': 318,\n",
              " 'RESULTS_OF_GIVING_INFORMATION_AND_SPEECH_ACTIVITY': 319,\n",
              " 'TRICK_MACHINATION': 320,\n",
              " 'MOTION_ACTIVITY': 321,\n",
              " 'CH_PARAMETER_SPEED': 322,\n",
              " 'ECONOMY': 323,\n",
              " 'UNDERTAKING': 324,\n",
              " 'BEHAVIOUR': 325,\n",
              " 'CH_OF_VISUAL_AUDIBLE_REPRESENTATION': 326,\n",
              " 'DESTRUCTION_VERBS': 327,\n",
              " 'TEXT_WITH_ADDRESSEE': 328,\n",
              " 'FACT_INCIDENT': 329,\n",
              " 'SEPARATION_PROCESSING': 330,\n",
              " 'CH_SOCIAL_CHARACTERISTIC': 331,\n",
              " 'CH_DEGREE_AND_INTENSITY': 332,\n",
              " 'CH_LANGUAGE': 333,\n",
              " 'CONFLICT_INTERACTION': 334,\n",
              " 'TO_RECEIVE_CALLERS': 335,\n",
              " 'OBJECTS_BY_FUNCTION': 336,\n",
              " 'MARKET_AS_AREA_OF_ACTIVITY': 337,\n",
              " 'CIRCUMSTANCE': 338,\n",
              " 'TO_PARTICIPATE': 339,\n",
              " 'MOVEMENT_AS_ACTIVITY': 340,\n",
              " 'SCHEDULE_FOR_ACTIVITY': 341,\n",
              " 'TO_SMOKE': 342,\n",
              " 'TOTALITY_OF_DEGREE': 343,\n",
              " 'BEVERAGE': 344,\n",
              " 'ACTIVITY_BY_INTEREST': 345,\n",
              " 'ENTITY_AS_RESULT_OF_ACTIVITY': 346,\n",
              " 'PART_OF_CLOTHES': 347,\n",
              " 'INSTRUMENT': 348,\n",
              " 'TO_BE_SEEN_IN_FIELD_OF_VIEW': 349,\n",
              " 'ADMINISTRATIVE_AND_TERRITORIAL_UNIT': 350,\n",
              " 'HISTORICAL_LOCALITY_BY_NAME': 351,\n",
              " 'ACCESSORY': 352,\n",
              " 'RELATIVE_PART_OF_INHABITED_LOCALITY': 353,\n",
              " 'TO_JOIN_PHYSICAL_OBJECTS': 354,\n",
              " 'ORGANIZATION': 355,\n",
              " 'OBJECT_IN_NATURE': 356,\n",
              " 'STATE_OF_MIND': 357,\n",
              " 'BUSY_FREE_OCCUPIED': 358,\n",
              " 'COGNITIVE_OBJECT': 359,\n",
              " 'AGGREGATE_OF_LIVING_OBJECTS': 360,\n",
              " 'FINE_ARTS_OBJECTS': 361,\n",
              " 'COMMUNICATIONS': 362,\n",
              " 'TO_BURN_DESTRUCTION': 363,\n",
              " 'MEDICAL_OPERATIONS': 364,\n",
              " 'ARRANGEMENTS': 365,\n",
              " 'COST': 366,\n",
              " 'RESULT_CONSEQUENCE': 367,\n",
              " 'CH_FULLNESS': 368,\n",
              " 'FREQUENCY_CHAR': 369,\n",
              " 'CONTAIN_INCLUDE_FORM': 370,\n",
              " 'TO_TAKE_PLACE': 371,\n",
              " 'ARTEFACT': 372,\n",
              " 'TO_COMMENT': 373,\n",
              " 'TO_PROPOSE': 374,\n",
              " 'TO_BLOW_UP': 375,\n",
              " 'CH_PHYSICAL_STATE': 376,\n",
              " 'PROCESS_AND_ITS_STAGES': 377,\n",
              " 'TO_JOIN': 378,\n",
              " 'POSITION_IN_HIERARCHY': 379,\n",
              " 'TO_RESTORE': 380,\n",
              " 'FATE': 381,\n",
              " 'CH_BENEFIT': 382,\n",
              " 'SURFACE_AND_ITS_SPECIALITIES': 383,\n",
              " 'TO_REGISTER': 384,\n",
              " 'TO_THINK_ABOUT': 385,\n",
              " 'REVEAL_CONCEAL_INFORMATION': 386,\n",
              " 'INNOVATION': 387,\n",
              " 'TO_CHARACTERIZE': 388,\n",
              " 'TO_READ_READABLE': 389,\n",
              " 'TO_BRING_TOGETHER': 390,\n",
              " 'TO_TEASE_AND_JOKE': 391,\n",
              " 'TO_MAKE': 392,\n",
              " 'TO_COME_OR_TO_LEAVE_SPHERE_OF_ACTIVITY': 393,\n",
              " 'CH_ASPECT': 394,\n",
              " 'GENERAL_ACTION': 395,\n",
              " 'TO_COUNT': 396,\n",
              " 'PHYSICAL_OBJECT': 397,\n",
              " 'TO_ADAPT': 398,\n",
              " 'TO_BREAK': 399,\n",
              " 'TO_FORM': 400,\n",
              " 'SOCIAL_CONDITIONS_OF_BEING': 401,\n",
              " 'CH_EVALUATION': 402,\n",
              " 'SPACE_BY_RELIGIOUS_BELIEFS': 403,\n",
              " 'OBJECT_BY_SHAPE': 404,\n",
              " 'ACT': 405,\n",
              " 'TO_ASSEMBLE': 406,\n",
              " 'TO_CERTIFY': 407,\n",
              " 'CULTURE': 408,\n",
              " 'PHYSICAL_OBJECT_AND_SUBSTANCE_CHAR': 409,\n",
              " 'PRODUCTIVE_AREA': 410,\n",
              " 'AGGRESSIVE_ACTIONS': 411,\n",
              " 'LINES': 412,\n",
              " 'POSITION_IN_SPACE': 413,\n",
              " 'MEANING_SENSE': 414,\n",
              " 'PART_OF_TOWN': 415,\n",
              " 'PHYSICAL_AND_BIOLOGICAL_PROPERTIES': 416,\n",
              " 'TO_PERSUADE_SMB_TO_DO_SMTH': 417,\n",
              " 'ADMINISTRATIVE_REGION': 418,\n",
              " 'TO_MARRY_DIVORCE_ENGAGE': 419,\n",
              " 'TO_GESTURE': 420,\n",
              " 'DEVICE_FOR_MEASURING_AND_COUNTING': 421,\n",
              " 'TO_TAKE_FOOD_OR_MEDICINE': 422,\n",
              " 'CH_STYLE': 423,\n",
              " 'STEADINESS_OF_FORM_OR_POSITION': 424,\n",
              " 'EXISTENCE_AND_POSSESSION': 425,\n",
              " 'GROUP': 426,\n",
              " 'TO_COMMUNICATE': 427,\n",
              " 'TO_DEVELOP': 428,\n",
              " 'CH_PARAMETER_OF_OBJECT_AND_SUBSTANCE': 429,\n",
              " 'RELATIVE_SPACE': 430,\n",
              " 'DIMENSIONS_CHAR': 431,\n",
              " 'AUXILIARY_VERBS': 432,\n",
              " 'METHOD_APPROACH_TECHNIQUE': 433,\n",
              " 'ENTITY_BY_FUNCTION_AND_PROPERTY': 434,\n",
              " 'TO_ADJUST_AND_REPAIR': 435,\n",
              " 'TO_DESTINE': 436,\n",
              " 'PREPOSITION': 437,\n",
              " 'CH_POWER_AND_EFFECT': 438,\n",
              " 'CH_PERSON_IDENTITY': 439,\n",
              " 'BIJOUTERIE_AND_JEWELLERY': 440,\n",
              " 'CONSTRUCTION_AS_WHOLE': 441,\n",
              " 'BAD_DANGEROUS_EVENT': 442,\n",
              " 'TO_SUPPORT_AND_OPPOSE': 443,\n",
              " 'AGRICULTURAL_PROCESSING': 444,\n",
              " 'PLACE': 445,\n",
              " 'VISUAL_REPRESENTATION': 446,\n",
              " 'CH_BY_RESIDENCE': 447,\n",
              " 'CONTINUE_TO_HAVE': 448,\n",
              " 'ENTITY_BY_RELATION_TO_MAIN_PART': 449,\n",
              " 'RESERVE': 450,\n",
              " 'TO_REVENGE': 451,\n",
              " 'REWARD_AS_ENTITY': 452,\n",
              " 'OPERATING_STATE': 453,\n",
              " 'CONDITION_STATE': 454,\n",
              " 'ENGINEERING_COMMUNICATIONS': 455,\n",
              " 'TO_CITE': 456}"
            ]
          },
          "metadata": {},
          "execution_count": 183
        }
      ]
    },
    {
      "cell_type": "code",
      "source": [
        "# \u0413\u0440\u0443\u043f\u043f\u0438\u0440\u043e\u0432\u043a\u0430 \u043f\u043e \u043f\u0440\u0435\u0434\u043b\u043e\u0436\u0435\u043d\u0438\u044f\u043c (\u0447\u0442\u043e-\u0442\u043e \u0438\u0437 \u043a\u043e\u0434\u0430 \u041d\u0430\u0441\u0442\u0438, \u0442\u043e\u043b\u044c\u043a\u043e \u044f \u043f\u043e\u043c\u0435\u043d\u044f\u043b\u0430 \u043d\u0430 \u0441\u0432\u043e\u0438 \u043f\u0435\u0440\u0435\u043c\u0435\u043d\u043d\u044b\u0435)\n",
        "class SentenceGetter:\n",
        "    def __init__(self, data):\n",
        "        self.data = data\n",
        "        agg_func = lambda s: [(w, t, sem) for w, t, sem in zip(s[\"token\"].values.tolist(),\n",
        "                                                              s[\"tag\"].values.tolist(),\n",
        "                                                              s[\"semclass\"].values.tolist())]\n",
        "        self.grouped = self.data.groupby(\"sentence_id\").apply(agg_func)\n",
        "        self.sentences = [s for s in self.grouped]\n",
        "\n",
        "getter = SentenceGetter(data)"
      ],
      "metadata": {
        "colab": {
          "base_uri": "https://localhost:8080/"
        },
        "id": "BwBVOXO6oyID",
        "outputId": "5b3ab472-2284-4f1c-b989-1a981c434594"
      },
      "execution_count": 25,
      "outputs": [
        {
          "output_type": "stream",
          "name": "stderr",
          "text": [
            "<ipython-input-25-7f0afd0f5941>:8: DeprecationWarning: DataFrameGroupBy.apply operated on the grouping columns. This behavior is deprecated, and in a future version of pandas the grouping columns will be excluded from the operation. Either pass `include_groups=False` to exclude the groupings or explicitly select the grouping columns after groupby to silence this warning.\n",
            "  self.grouped = self.data.groupby(\"sentence_id\").apply(agg_func)\n"
          ]
        }
      ]
    },
    {
      "cell_type": "code",
      "source": [
        "# \u0444\u0443\u043d\u043a\u0446\u0438\u044f \u0434\u043b\u044f \u0442\u043e\u043a\u0435\u043d\u0438\u0437\u0430\u0446\u0438\u0438 \u0441 \u0441\u043e\u0445\u0440\u0430\u043d\u0435\u043d\u0438\u0435\u043c \u0442\u0435\u0433\u043e\u0432 \u0438 \u0441\u0435\u043c\u043a\u043b\u0430\u0441\u0441\u043e\u0432 (\u0443 \u041d\u0430\u0441\u0442\u0438 \u0431\u044b\u043b\u043e \u0441\u0434\u0435\u043b\u0430\u043d\u043e \u0447\u0442\u043e-\u0442\u043e \u043f\u043e\u0445\u043e\u0436\u0435\u0435)\n",
        "def tokenize_and_preserve_labels(sentence, text_labels, sem_tags):\n",
        "    tokenized_sentence = []\n",
        "    labels = []\n",
        "    preserved_sem_tags = []\n",
        "\n",
        "    for word, label, sem_tag in zip(sentence, text_labels, sem_tags):\n",
        "        tokenized_word = tokenizer.tokenize(word)\n",
        "        n_subwords = len(tokenized_word)\n",
        "\n",
        "        tokenized_sentence.extend(tokenized_word)\n",
        "        labels.extend([label] * n_subwords)\n",
        "        preserved_sem_tags.extend([sem_tag] * n_subwords)\n",
        "\n",
        "    return tokenized_sentence, labels, preserved_sem_tags"
      ],
      "metadata": {
        "id": "zjVXwwj3b741"
      },
      "execution_count": 26,
      "outputs": []
    },
    {
      "cell_type": "code",
      "source": [
        "getter = SentenceGetter(data)\n",
        "MAX_LEN = 100\n",
        "bs = 16"
      ],
      "metadata": {
        "colab": {
          "base_uri": "https://localhost:8080/"
        },
        "id": "nhMI5hYYb_sg",
        "outputId": "4af26940-1e99-4e36-d6fc-3595b039e82b"
      },
      "execution_count": 27,
      "outputs": [
        {
          "output_type": "stream",
          "name": "stderr",
          "text": [
            "<ipython-input-25-7f0afd0f5941>:8: DeprecationWarning: DataFrameGroupBy.apply operated on the grouping columns. This behavior is deprecated, and in a future version of pandas the grouping columns will be excluded from the operation. Either pass `include_groups=False` to exclude the groupings or explicitly select the grouping columns after groupby to silence this warning.\n",
            "  self.grouped = self.data.groupby(\"sentence_id\").apply(agg_func)\n"
          ]
        }
      ]
    },
    {
      "cell_type": "code",
      "source": [
        "# \u0437\u0434\u0435\u0441\u044c \u0445\u0440\u0430\u043d\u044f\u0435\u0442\u0441\u044f \u0441\u043f\u0438\u0441\u043a\u0438 \u043f\u0440\u0435\u0434\u043b\u043e\u0436\u0435\u043d\u0438\u0439, \u0442\u0435\u0433\u043e\u0432 \u0438 \u0441\u0435\u043c\u043a\u043b\u0430\u0441\u0441\u043e\u0432\n",
        "sentences = [[word[0] for word in sentence] for sentence in getter.sentences]\n",
        "labels = [[tag[1] for tag in sentence] for sentence in getter.sentences]\n",
        "sem_tags = [[sem[2] for sem in sentence] for sentence in getter.sentences]"
      ],
      "metadata": {
        "id": "3S8Vo4jWcJSS"
      },
      "execution_count": 28,
      "outputs": []
    },
    {
      "cell_type": "code",
      "source": [
        "tag_values = list(set(data[\"tag\"].values))\n",
        "tag_values.append(\"PAD\")\n",
        "tag2idx = {t: i for i, t in enumerate(tag_values)}"
      ],
      "metadata": {
        "id": "HXXMkFtTcLmY"
      },
      "execution_count": 29,
      "outputs": []
    },
    {
      "cell_type": "code",
      "source": [
        "print(\"\u0421\u043e\u0434\u0435\u0440\u0436\u0438\u043c\u043e\u0435 tag2idx:\")\n",
        "for tag, idx in tag2idx.items():\n",
        "    print(f\"{tag}: {idx}\")\n",
        "\n",
        "print(\"\u0412\u0441\u0435\u0433\u043e \u0442\u0435\u0433\u043e\u0432:\", len(tag2idx))"
      ],
      "metadata": {
        "colab": {
          "base_uri": "https://localhost:8080/"
        },
        "id": "BaJQZNFinP3v",
        "outputId": "9cbff7a4-4cd6-4c05-ad73-a93349b97916"
      },
      "execution_count": null,
      "outputs": [
        {
          "output_type": "stream",
          "name": "stdout",
          "text": [
            "\u0421\u043e\u0434\u0435\u0440\u0436\u0438\u043c\u043e\u0435 tag2idx:\n",
            "B-ORG: 0\n",
            "B-LOC: 1\n",
            "I-PER: 2\n",
            "I-ORG: 3\n",
            "O: 4\n",
            "B-PER: 5\n",
            "I-LOC: 6\n",
            "PAD: 7\n",
            "\u0412\u0441\u0435\u0433\u043e \u0442\u0435\u0433\u043e\u0432: 8\n"
          ]
        }
      ]
    },
    {
      "cell_type": "code",
      "source": [
        "data.head().copy()"
      ],
      "metadata": {
        "colab": {
          "base_uri": "https://localhost:8080/",
          "height": 206
        },
        "id": "aTDx_qY8oTUq",
        "outputId": "172a19c0-3584-4e01-d871-974903f7702d"
      },
      "execution_count": 30,
      "outputs": [
        {
          "output_type": "execute_result",
          "data": {
            "text/plain": [
              "         token            semclass    tag  sentence_id\n",
              "0      \u0414\u0435\u0442\u0441\u0442\u0432\u043e                TIME      O            1\n",
              "1       \u043f\u0440\u043e\u0432\u0451\u043b       TO_SPEND_TIME      O            1\n",
              "2            \u0432         PREPOSITION      O            1\n",
              "3  \u041d\u0430\u0434\u044c\u0441\u043e\u043c\u0431\u0430\u0442\u0435  INHABITED_LOCALITY  B-LOC            1\n",
              "4            \u0441         PREPOSITION      O            1"
            ],
            "text/html": [
              "\n",
              "  <div id=\"df-89b67506-9d49-438d-a28e-ca25280e5cd8\" class=\"colab-df-container\">\n",
              "    <div>\n",
              "<style scoped>\n",
              "    .dataframe tbody tr th:only-of-type {\n",
              "        vertical-align: middle;\n",
              "    }\n",
              "\n",
              "    .dataframe tbody tr th {\n",
              "        vertical-align: top;\n",
              "    }\n",
              "\n",
              "    .dataframe thead th {\n",
              "        text-align: right;\n",
              "    }\n",
              "</style>\n",
              "<table border=\"1\" class=\"dataframe\">\n",
              "  <thead>\n",
              "    <tr style=\"text-align: right;\">\n",
              "      <th></th>\n",
              "      <th>token</th>\n",
              "      <th>semclass</th>\n",
              "      <th>tag</th>\n",
              "      <th>sentence_id</th>\n",
              "    </tr>\n",
              "  </thead>\n",
              "  <tbody>\n",
              "    <tr>\n",
              "      <th>0</th>\n",
              "      <td>\u0414\u0435\u0442\u0441\u0442\u0432\u043e</td>\n",
              "      <td>TIME</td>\n",
              "      <td>O</td>\n",
              "      <td>1</td>\n",
              "    </tr>\n",
              "    <tr>\n",
              "      <th>1</th>\n",
              "      <td>\u043f\u0440\u043e\u0432\u0451\u043b</td>\n",
              "      <td>TO_SPEND_TIME</td>\n",
              "      <td>O</td>\n",
              "      <td>1</td>\n",
              "    </tr>\n",
              "    <tr>\n",
              "      <th>2</th>\n",
              "      <td>\u0432</td>\n",
              "      <td>PREPOSITION</td>\n",
              "      <td>O</td>\n",
              "      <td>1</td>\n",
              "    </tr>\n",
              "    <tr>\n",
              "      <th>3</th>\n",
              "      <td>\u041d\u0430\u0434\u044c\u0441\u043e\u043c\u0431\u0430\u0442\u0435</td>\n",
              "      <td>INHABITED_LOCALITY</td>\n",
              "      <td>B-LOC</td>\n",
              "      <td>1</td>\n",
              "    </tr>\n",
              "    <tr>\n",
              "      <th>4</th>\n",
              "      <td>\u0441</td>\n",
              "      <td>PREPOSITION</td>\n",
              "      <td>O</td>\n",
              "      <td>1</td>\n",
              "    </tr>\n",
              "  </tbody>\n",
              "</table>\n",
              "</div>\n",
              "    <div class=\"colab-df-buttons\">\n",
              "\n",
              "  <div class=\"colab-df-container\">\n",
              "    <button class=\"colab-df-convert\" onclick=\"convertToInteractive('df-89b67506-9d49-438d-a28e-ca25280e5cd8')\"\n",
              "            title=\"Convert this dataframe to an interactive table.\"\n",
              "            style=\"display:none;\">\n",
              "\n",
              "  <svg xmlns=\"http://www.w3.org/2000/svg\" height=\"24px\" viewBox=\"0 -960 960 960\">\n",
              "    <path d=\"M120-120v-720h720v720H120Zm60-500h600v-160H180v160Zm220 220h160v-160H400v160Zm0 220h160v-160H400v160ZM180-400h160v-160H180v160Zm440 0h160v-160H620v160ZM180-180h160v-160H180v160Zm440 0h160v-160H620v160Z\"/>\n",
              "  </svg>\n",
              "    </button>\n",
              "\n",
              "  <style>\n",
              "    .colab-df-container {\n",
              "      display:flex;\n",
              "      gap: 12px;\n",
              "    }\n",
              "\n",
              "    .colab-df-convert {\n",
              "      background-color: #E8F0FE;\n",
              "      border: none;\n",
              "      border-radius: 50%;\n",
              "      cursor: pointer;\n",
              "      display: none;\n",
              "      fill: #1967D2;\n",
              "      height: 32px;\n",
              "      padding: 0 0 0 0;\n",
              "      width: 32px;\n",
              "    }\n",
              "\n",
              "    .colab-df-convert:hover {\n",
              "      background-color: #E2EBFA;\n",
              "      box-shadow: 0px 1px 2px rgba(60, 64, 67, 0.3), 0px 1px 3px 1px rgba(60, 64, 67, 0.15);\n",
              "      fill: #174EA6;\n",
              "    }\n",
              "\n",
              "    .colab-df-buttons div {\n",
              "      margin-bottom: 4px;\n",
              "    }\n",
              "\n",
              "    [theme=dark] .colab-df-convert {\n",
              "      background-color: #3B4455;\n",
              "      fill: #D2E3FC;\n",
              "    }\n",
              "\n",
              "    [theme=dark] .colab-df-convert:hover {\n",
              "      background-color: #434B5C;\n",
              "      box-shadow: 0px 1px 3px 1px rgba(0, 0, 0, 0.15);\n",
              "      filter: drop-shadow(0px 1px 2px rgba(0, 0, 0, 0.3));\n",
              "      fill: #FFFFFF;\n",
              "    }\n",
              "  </style>\n",
              "\n",
              "    <script>\n",
              "      const buttonEl =\n",
              "        document.querySelector('#df-89b67506-9d49-438d-a28e-ca25280e5cd8 button.colab-df-convert');\n",
              "      buttonEl.style.display =\n",
              "        google.colab.kernel.accessAllowed ? 'block' : 'none';\n",
              "\n",
              "      async function convertToInteractive(key) {\n",
              "        const element = document.querySelector('#df-89b67506-9d49-438d-a28e-ca25280e5cd8');\n",
              "        const dataTable =\n",
              "          await google.colab.kernel.invokeFunction('convertToInteractive',\n",
              "                                                    [key], {});\n",
              "        if (!dataTable) return;\n",
              "\n",
              "        const docLinkHtml = 'Like what you see? Visit the ' +\n",
              "          '<a target=\"_blank\" href=https://colab.research.google.com/notebooks/data_table.ipynb>data table notebook</a>'\n",
              "          + ' to learn more about interactive tables.';\n",
              "        element.innerHTML = '';\n",
              "        dataTable['output_type'] = 'display_data';\n",
              "        await google.colab.output.renderOutput(dataTable, element);\n",
              "        const docLink = document.createElement('div');\n",
              "        docLink.innerHTML = docLinkHtml;\n",
              "        element.appendChild(docLink);\n",
              "      }\n",
              "    </script>\n",
              "  </div>\n",
              "\n",
              "\n",
              "    <div id=\"df-55142bd2-ecb5-4300-b889-77f70094674f\">\n",
              "      <button class=\"colab-df-quickchart\" onclick=\"quickchart('df-55142bd2-ecb5-4300-b889-77f70094674f')\"\n",
              "                title=\"Suggest charts\"\n",
              "                style=\"display:none;\">\n",
              "\n",
              "<svg xmlns=\"http://www.w3.org/2000/svg\" height=\"24px\"viewBox=\"0 0 24 24\"\n",
              "     width=\"24px\">\n",
              "    <g>\n",
              "        <path d=\"M19 3H5c-1.1 0-2 .9-2 2v14c0 1.1.9 2 2 2h14c1.1 0 2-.9 2-2V5c0-1.1-.9-2-2-2zM9 17H7v-7h2v7zm4 0h-2V7h2v10zm4 0h-2v-4h2v4z\"/>\n",
              "    </g>\n",
              "</svg>\n",
              "      </button>\n",
              "\n",
              "<style>\n",
              "  .colab-df-quickchart {\n",
              "      --bg-color: #E8F0FE;\n",
              "      --fill-color: #1967D2;\n",
              "      --hover-bg-color: #E2EBFA;\n",
              "      --hover-fill-color: #174EA6;\n",
              "      --disabled-fill-color: #AAA;\n",
              "      --disabled-bg-color: #DDD;\n",
              "  }\n",
              "\n",
              "  [theme=dark] .colab-df-quickchart {\n",
              "      --bg-color: #3B4455;\n",
              "      --fill-color: #D2E3FC;\n",
              "      --hover-bg-color: #434B5C;\n",
              "      --hover-fill-color: #FFFFFF;\n",
              "      --disabled-bg-color: #3B4455;\n",
              "      --disabled-fill-color: #666;\n",
              "  }\n",
              "\n",
              "  .colab-df-quickchart {\n",
              "    background-color: var(--bg-color);\n",
              "    border: none;\n",
              "    border-radius: 50%;\n",
              "    cursor: pointer;\n",
              "    display: none;\n",
              "    fill: var(--fill-color);\n",
              "    height: 32px;\n",
              "    padding: 0;\n",
              "    width: 32px;\n",
              "  }\n",
              "\n",
              "  .colab-df-quickchart:hover {\n",
              "    background-color: var(--hover-bg-color);\n",
              "    box-shadow: 0 1px 2px rgba(60, 64, 67, 0.3), 0 1px 3px 1px rgba(60, 64, 67, 0.15);\n",
              "    fill: var(--button-hover-fill-color);\n",
              "  }\n",
              "\n",
              "  .colab-df-quickchart-complete:disabled,\n",
              "  .colab-df-quickchart-complete:disabled:hover {\n",
              "    background-color: var(--disabled-bg-color);\n",
              "    fill: var(--disabled-fill-color);\n",
              "    box-shadow: none;\n",
              "  }\n",
              "\n",
              "  .colab-df-spinner {\n",
              "    border: 2px solid var(--fill-color);\n",
              "    border-color: transparent;\n",
              "    border-bottom-color: var(--fill-color);\n",
              "    animation:\n",
              "      spin 1s steps(1) infinite;\n",
              "  }\n",
              "\n",
              "  @keyframes spin {\n",
              "    0% {\n",
              "      border-color: transparent;\n",
              "      border-bottom-color: var(--fill-color);\n",
              "      border-left-color: var(--fill-color);\n",
              "    }\n",
              "    20% {\n",
              "      border-color: transparent;\n",
              "      border-left-color: var(--fill-color);\n",
              "      border-top-color: var(--fill-color);\n",
              "    }\n",
              "    30% {\n",
              "      border-color: transparent;\n",
              "      border-left-color: var(--fill-color);\n",
              "      border-top-color: var(--fill-color);\n",
              "      border-right-color: var(--fill-color);\n",
              "    }\n",
              "    40% {\n",
              "      border-color: transparent;\n",
              "      border-right-color: var(--fill-color);\n",
              "      border-top-color: var(--fill-color);\n",
              "    }\n",
              "    60% {\n",
              "      border-color: transparent;\n",
              "      border-right-color: var(--fill-color);\n",
              "    }\n",
              "    80% {\n",
              "      border-color: transparent;\n",
              "      border-right-color: var(--fill-color);\n",
              "      border-bottom-color: var(--fill-color);\n",
              "    }\n",
              "    90% {\n",
              "      border-color: transparent;\n",
              "      border-bottom-color: var(--fill-color);\n",
              "    }\n",
              "  }\n",
              "</style>\n",
              "\n",
              "      <script>\n",
              "        async function quickchart(key) {\n",
              "          const quickchartButtonEl =\n",
              "            document.querySelector('#' + key + ' button');\n",
              "          quickchartButtonEl.disabled = true;  // To prevent multiple clicks.\n",
              "          quickchartButtonEl.classList.add('colab-df-spinner');\n",
              "          try {\n",
              "            const charts = await google.colab.kernel.invokeFunction(\n",
              "                'suggestCharts', [key], {});\n",
              "          } catch (error) {\n",
              "            console.error('Error during call to suggestCharts:', error);\n",
              "          }\n",
              "          quickchartButtonEl.classList.remove('colab-df-spinner');\n",
              "          quickchartButtonEl.classList.add('colab-df-quickchart-complete');\n",
              "        }\n",
              "        (() => {\n",
              "          let quickchartButtonEl =\n",
              "            document.querySelector('#df-55142bd2-ecb5-4300-b889-77f70094674f button');\n",
              "          quickchartButtonEl.style.display =\n",
              "            google.colab.kernel.accessAllowed ? 'block' : 'none';\n",
              "        })();\n",
              "      </script>\n",
              "    </div>\n",
              "    </div>\n",
              "  </div>\n"
            ],
            "application/vnd.google.colaboratory.intrinsic+json": {
              "type": "dataframe",
              "variable_name": "data",
              "summary": "{\n  \"name\": \"data\",\n  \"rows\": 68730,\n  \"fields\": [\n    {\n      \"column\": \"token\",\n      \"properties\": {\n        \"dtype\": \"category\",\n        \"num_unique_values\": 21433,\n        \"samples\": [\n          \"\\u0433\\u043e\\u0441\\u0443\\u0434\\u0430\\u0440\\u0441\\u0442\\u0432\\u0430\",\n          \"\\u0412\\u0435\\u043b\\u0438\\u043a\\u0438\\u043c\",\n          \"\\u0422\\u043c\\u0443\\u0442\\u0430\\u0440\\u0430\\u043a\\u0430\\u043d\\u044c\"\n        ],\n        \"semantic_type\": \"\",\n        \"description\": \"\"\n      }\n    },\n    {\n      \"column\": \"semclass\",\n      \"properties\": {\n        \"dtype\": \"category\",\n        \"num_unique_values\": 456,\n        \"samples\": [\n          \"TO_TAKE_FOOD_OR_MEDICINE\",\n          \"CONJUNCTIONS\",\n          \"CH_SURFACE_EDGE\"\n        ],\n        \"semantic_type\": \"\",\n        \"description\": \"\"\n      }\n    },\n    {\n      \"column\": \"tag\",\n      \"properties\": {\n        \"dtype\": \"category\",\n        \"num_unique_values\": 7,\n        \"samples\": [\n          \"O\",\n          \"B-LOC\",\n          \"I-PER\"\n        ],\n        \"semantic_type\": \"\",\n        \"description\": \"\"\n      }\n    },\n    {\n      \"column\": \"sentence_id\",\n      \"properties\": {\n        \"dtype\": \"number\",\n        \"std\": 917,\n        \"min\": 1,\n        \"max\": 3196,\n        \"num_unique_values\": 3196,\n        \"samples\": [\n          1952,\n          1205,\n          2662\n        ],\n        \"semantic_type\": \"\",\n        \"description\": \"\"\n      }\n    }\n  ]\n}"
            }
          },
          "metadata": {},
          "execution_count": 30
        }
      ]
    },
    {
      "cell_type": "code",
      "source": [
        "scvocab = set(data[\"semclass\"].dropna().unique()) # \u0437\u0434\u0435\u0441\u044c \u043d\u0430\u0445\u043e\u0434\u044f\u0442\u0441\u044f \u0443\u043d\u0438\u043a\u0430\u043b\u044c\u043d\u044b\u0435 \u0441\u0435\u043c\u0430\u043d\u0442\u0438\u0447\u0435\u0441\u043a\u0438\u0435 \u043a\u043b\u0430\u0441\u0441\u044b\n",
        "sem2id = {'PAD': 0} # \u0441\u0434\u0435\u043b\u0430\u043b\u0430 \u0441\u043b\u043e\u0432\u0430\u0440\u044c\n",
        "for symbol in scvocab:\n",
        "    sem2id[symbol] = len(sem2id)\n",
        "id2sem = {i: symbol for symbol, i in sem2id.items()}"
      ],
      "metadata": {
        "id": "hPvcWlCYcN-m"
      },
      "execution_count": 31,
      "outputs": []
    },
    {
      "cell_type": "code",
      "source": [
        "# \u0442\u043e\u043a\u0435\u043d\u0438\u0437\u0430\u0446\u0438\u044f\n",
        "tokenizer = BertTokenizerFast.from_pretrained(\"DeepPavlov/rubert-base-cased\")\n",
        "tokenized_texts_and_labels = [\n",
        "    tokenize_and_preserve_labels(sent, labs, sem_tag)\n",
        "    for sent, labs, sem_tag in zip(sentences, labels, sem_tags)\n",
        "]"
      ],
      "metadata": {
        "id": "_h3IjVUecRD4"
      },
      "execution_count": 32,
      "outputs": []
    },
    {
      "cell_type": "code",
      "source": [
        "print(type(tokenizer)) # \u0437\u0430\u0433\u0440\u0443\u0437\u0438\u043b\u0430 \u0434\u0440\u0443\u0433\u043e\u0439 \u0442\u043e\u043a\u0435\u043d\u0438\u0437\u0430\u0442\u043e\u0440, \u043a\u043e\u0442\u043e\u0440\u044b\u0439 \u0441\u043e\u0432\u043c\u0435\u0441\u0442\u0438\u043c \u0441 word_id"
      ],
      "metadata": {
        "colab": {
          "base_uri": "https://localhost:8080/"
        },
        "id": "s5FJp5hsqXHa",
        "outputId": "a50c41c2-d450-4df6-f0cf-1742066cd916"
      },
      "execution_count": 33,
      "outputs": [
        {
          "output_type": "stream",
          "name": "stdout",
          "text": [
            "<class 'transformers.models.bert.tokenization_bert_fast.BertTokenizerFast'>\n"
          ]
        }
      ]
    },
    {
      "cell_type": "code",
      "source": [
        "bert_model = BertModel.from_pretrained(\"DeepPavlov/rubert-base-cased\")"
      ],
      "metadata": {
        "colab": {
          "base_uri": "https://localhost:8080/"
        },
        "id": "Rud5okBkqofF",
        "outputId": "dcfa3017-acd0-4782-b945-4f41002e5003"
      },
      "execution_count": 53,
      "outputs": [
        {
          "output_type": "stream",
          "name": "stderr",
          "text": [
            "Some weights of the model checkpoint at DeepPavlov/rubert-base-cased were not used when initializing BertModel: ['cls.predictions.bias', 'cls.predictions.decoder.bias', 'cls.predictions.decoder.weight', 'cls.predictions.transform.LayerNorm.bias', 'cls.predictions.transform.LayerNorm.weight', 'cls.predictions.transform.dense.bias', 'cls.predictions.transform.dense.weight', 'cls.seq_relationship.bias', 'cls.seq_relationship.weight']\n",
            "- This IS expected if you are initializing BertModel from the checkpoint of a model trained on another task or with another architecture (e.g. initializing a BertForSequenceClassification model from a BertForPreTraining model).\n",
            "- This IS NOT expected if you are initializing BertModel from the checkpoint of a model that you expect to be exactly identical (initializing a BertForSequenceClassification model from a BertForSequenceClassification model).\n"
          ]
        }
      ]
    },
    {
      "cell_type": "code",
      "source": [
        "# \u043f\u043e\u0434\u0433\u043e\u0442\u043e\u0432\u043b\u044e \u0434\u0430\u043d\u043d\u044b\u0445 \u0434\u043b\u044f \u043c\u043e\u0434\u0435\u043b\u0438\n",
        "labels = [token_label_pair[1] for token_label_pair in tokenized_texts_and_labels]\n",
        "sem_tags = [token_sem_tag_pair[2] for token_sem_tag_pair in tokenized_texts_and_labels]"
      ],
      "metadata": {
        "id": "-kdSqr3ncUe7"
      },
      "execution_count": 54,
      "outputs": []
    },
    {
      "cell_type": "code",
      "source": [
        "from torch.nn.utils.rnn import pad_sequence\n",
        "from tensorflow.keras.preprocessing.sequence import pad_sequences"
      ],
      "metadata": {
        "id": "nRNMpx4Jcco6"
      },
      "execution_count": 55,
      "outputs": []
    },
    {
      "cell_type": "code",
      "source": [
        "# \u043f\u0430\u0434\u0434\u0438\u043d\u0433\n",
        "tags = pad_sequences([[tag2idx.get(l) for l in lab] for lab in labels],\n",
        "                    maxlen=MAX_LEN, value=tag2idx[\"PAD\"], padding=\"post\",\n",
        "                    dtype=\"long\", truncating=\"post\")"
      ],
      "metadata": {
        "id": "wAqTCo3BcWru"
      },
      "execution_count": 56,
      "outputs": []
    },
    {
      "cell_type": "code",
      "source": [
        "# locked seed\n",
        "import random\n",
        "import os\n",
        "import numpy as np\n",
        "\n",
        "def set_all_seeds(seed):\n",
        "    random.seed(seed)\n",
        "    np.random.seed(seed)\n",
        "    torch.manual_seed(seed)\n",
        "    torch.cuda.manual_seed_all(seed)\n",
        "    torch.backends.cudnn.deterministic = True\n",
        "    torch.backends.cudnn.benchmark = False"
      ],
      "metadata": {
        "id": "7pFBciifvhUG"
      },
      "execution_count": 57,
      "outputs": []
    },
    {
      "cell_type": "code",
      "source": [
        "set_all_seeds(4036)"
      ],
      "metadata": {
        "id": "vQuy1PPEvkcL"
      },
      "execution_count": 85,
      "outputs": []
    },
    {
      "cell_type": "code",
      "source": [
        "class SemDataset(Dataset):\n",
        "    def __init__(self, sentences, labels, sem_tags, tag2idx, sem2id, tokenizer, max_len=100):\n",
        "        self.sentences = sentences # \u0441\u043f\u0438\u0441\u043e\u043a \u043f\u0440\u0435\u0434\u043b\u043e\u0436\u0435\u043d\u0438\u0439\n",
        "        self.labels = labels # \u043c\u0435\u0442\u043a\u0438 NER\n",
        "        self.sem_tags = sem_tags # \u0441\u0435\u043c\u0430\u043d\u0442\u0438\u0447\u0435\u0441\u043a\u0438\u0435 \u0442\u0435\u0433\u0438\n",
        "        self.tag2idx = tag2idx # \u043c\u043e\u0439 \u0441\u043b\u043e\u0432\u0430\u0440\u044c \u043c\u0435\u0442\u043e\u043a\n",
        "        self.sem2id = sem2id # \u0441\u043b\u043e\u0432\u0430\u0440\u044c \u0441\u0435\u043c\u0430\u043d\u0442\u0438\u0447\u0435\u0441\u043a\u0438\u0445 \u043a\u043b\u0430\u0441\u0441\u043e\u0432\n",
        "        self.tokenizer = tokenizer\n",
        "        self.max_len = max_len\n",
        "\n",
        "    def __len__(self):\n",
        "        return len(self.sentences) # \u0432\u043e\u0437\u0432\u0440\u0430\u0449\u0430\u0435\u0442 \u043a\u043e\u043b-\u0432\u043e \u043f\u0440\u0435\u0434\u043b\u043e\u0436\u0435\u043d\u0438\u0439\n",
        "\n",
        "    def __getitem__(self, idx):\n",
        "        sentence = self.sentences[idx]\n",
        "        word_labels = self.labels[idx]\n",
        "        word_semtags = self.sem_tags[idx]\n",
        "\n",
        "        # \u0442\u043e\u043a\u0435\u043d\u0438\u0437\u0430\u0446\u0438\u044f + \u0432\u043e\u0437\u0432\u0440\u0430\u0449\u0435\u043d\u0438\u0435 word_ids\n",
        "        encoding = self.tokenizer(\n",
        "            sentence,\n",
        "            is_split_into_words=True,\n",
        "            max_length=self.max_len,\n",
        "            padding='max_length',\n",
        "            truncation=True,\n",
        "            return_tensors='pt',\n",
        "            return_token_type_ids=True,\n",
        "            return_offsets_mapping=True  # \u043d\u0443\u0436\u043d\u043e \u0434\u043b\u044f \u043f\u043e\u043b\u0443\u0447\u0435\u043d\u0438\u044f word_ids\n",
        "        )\n",
        "        #\u043f\u043e\u0434\u0433\u043e\u0442\u043e\u0432\u043a\u0430 \u043c\u0435\u0442\u043e\u043a\n",
        "        #  word_ids (\u0441\u043e\u043e\u0442\u0432\u0435\u0442\u0441\u0442\u0432\u0438\u0435 \u043c\u0435\u0436\u0434\u0443 \u043f\u043e\u0434\u0442\u043e\u043a\u0435\u043d\u0430\u043c\u0438 \u0438 \u0438\u0441\u0445\u043e\u0434\u043d\u044b\u043c\u0438 \u0441\u043b\u043e\u0432\u0430\u043c\u0438 \u0432 \u043f\u0440\u0435\u0434\u043b\u043e\u0436\u0435\u043d\u0438\u0438)\n",
        "        word_ids = encoding.word_ids()  # \u043d\u0443 \u0432\u0440\u043e\u0434\u0435 \u0431\u044b \u0441\u0440\u0430\u0431\u043e\u0442\u0430\u043b\u043e, \u043e\u0448\u0438\u0431\u043a\u0438 \u043d\u0430 \u044d\u0442\u043e\u0442 \u0440\u0430\u0437 \u043d\u0435 \u0432\u044b\u0434\u0430\u043b\n",
        "\n",
        "        label_ids = [-100] * len(word_ids)\n",
        "        semclass_ids = [0] * len(word_ids)\n",
        "\n",
        "        for i, word_idx in enumerate(word_ids):\n",
        "            if word_idx is None:\n",
        "                continue\n",
        "            semclass_ids[i] = self.sem2id[word_semtags[word_idx]]\n",
        "            if i == 0 or word_ids[i] != word_ids[i-1]:\n",
        "                label_ids[i] = self.tag2idx[word_labels[word_idx]]\n",
        "\n",
        "        return {\n",
        "            'input_ids': encoding['input_ids'].flatten(),\n",
        "            'attention_mask': encoding['attention_mask'].flatten(),\n",
        "            'token_type_ids': encoding['token_type_ids'].flatten(),\n",
        "            'labels': torch.tensor(label_ids, dtype=torch.long),\n",
        "            'semclasses': torch.tensor(semclass_ids, dtype=torch.long)\n",
        "        }"
      ],
      "metadata": {
        "id": "XnIbnc-kkMFf"
      },
      "execution_count": 86,
      "outputs": []
    },
    {
      "cell_type": "code",
      "source": [
        "# \u0420\u0430\u0437\u0434\u0435\u043b\u0435\u043d\u0438\u0435 \u0434\u0430\u043d\u043d\u044b\u0445 (\u043a\u0430\u043a \u0431\u044b\u043b\u043e \u0443 \u041d\u0430\u0441\u0442\u0438)\n",
        "train_sent, val_sent, train_labels, val_labels, train_sem, val_sem = train_test_split(\n",
        "    sentences, labels, sem_tags, test_size=0.1, random_state=4036\n",
        ")"
      ],
      "metadata": {
        "id": "ILJR117KdE6C"
      },
      "execution_count": 87,
      "outputs": []
    },
    {
      "cell_type": "code",
      "source": [
        "train_data = SemDataset(train_sent, train_labels, train_sem, tag2idx, sem2id, tokenizer, MAX_LEN)\n",
        "val_data = SemDataset(val_sent, val_labels, val_sem, tag2idx, sem2id, tokenizer, MAX_LEN)"
      ],
      "metadata": {
        "id": "LNX5nOYzdQkj"
      },
      "execution_count": 88,
      "outputs": []
    },
    {
      "cell_type": "code",
      "source": [
        "train_sampler = RandomSampler(train_data)\n",
        "train_dataloader = DataLoader(train_data, batch_size=16, sampler=train_sampler)\n",
        "\n",
        "valid_sampler = RandomSampler(val_data)\n",
        "valid_dataloader = DataLoader(val_data, batch_size=16, sampler=valid_sampler)"
      ],
      "metadata": {
        "id": "rJX24t0OeMT9"
      },
      "execution_count": 89,
      "outputs": []
    },
    {
      "cell_type": "code",
      "source": [
        "device = torch.device(\"cuda\" if torch.cuda.is_available() else \"cpu\")"
      ],
      "metadata": {
        "id": "sPtBlMGSeS_p"
      },
      "execution_count": 90,
      "outputs": []
    },
    {
      "cell_type": "code",
      "source": [
        "# \u043d\u0435\u0437\u0430\u043c\u043e\u0440\u043e\u0436\u0435\u043d\u043d\u044b\u0435 \u044d\u043c\u0431\u0435\u0434\u0434\u0438\u043d\u0433\u0438 (\u043e\u0431\u0443\u0447\u0430\u0435\u0442\u0441\u044f \u0432\u0441\u0451)\n",
        "class NERModelWithSemantics(nn.Module):\n",
        "    def __init__(self, bert_model, num_labels, num_sem_classes, hidden_size=768):\n",
        "        super().__init__()\n",
        "        self.bert = bert_model\n",
        "        self.num_sem_classes = num_sem_classes\n",
        "\n",
        "        # \u044d\u043c\u0431\u0435\u0434\u0434\u0438\u043d\u0433\u0438 \u0434\u043b\u044f \u0441\u0435\u043c\u0430\u043d\u0442\u0438\u0447\u0435\u0441\u043a\u0438\u0445 \u043a\u043b\u0430\u0441\u0441\u043e\u0432\n",
        "        self.semantics = nn.Embedding(num_sem_classes, 100)\n",
        "\n",
        "        # \u043a\u043b\u0430\u0441\u0441\u0438\u0444\u0438\u043a\u0430\u0442\u043e\u0440\n",
        "        self.classifier = nn.Linear(hidden_size + 100, num_labels) # \u043a\u043e\u043d\u043a\u0430\u0442\u0435\u043d\u0438\u0440\u043e\u0432\u0430\u043d\u043d\u044b\u0435 \u044d\u043c\u0431\u0435\u0434\u0434\u0438\u043d\u0433\u0438 + \u0441\u0435\u043c\u0430\u043d\u0442\u0438\u0447\u0435\u0441\u043a\u0438\u0435 \u044d\u043c\u0431\u0435\u0434\u0434\u0438\u043d\u0433\u0438\n",
        "\n",
        "    def forward(self, input_ids, attention_mask, token_type_ids, semclasses, labels=None):\n",
        "        outputs = self.bert(\n",
        "            input_ids=input_ids,\n",
        "            attention_mask=attention_mask,\n",
        "            token_type_ids=token_type_ids,\n",
        "            return_dict=True\n",
        "        )\n",
        "\n",
        "        bert_output = outputs.last_hidden_state  # \u043f\u043e\u043b\u0443\u0447\u0430\u0435\u0442\u0441\u044f, \u0447\u0442\u043e \u0437\u0434\u0435\u0441\u044c \u0443 \u043d\u0430\u0441 (B, T, H) - BERT \u044d\u043c\u0431\u0435\u0434\u0434\u0438\u043d\u0433\u0438\n",
        "        sem_embeddings = self.semantics(semclasses)  # \u0430 \u0437\u0434\u0435\u0441\u044c \u043d\u0430\u0445\u043e\u0434\u044f\u0442\u0441\u044f (B, T, D) - \u0441\u0435\u043c\u0430\u043d\u0442\u0438\u0447\u0435\u0441\u043a\u0438\u0435 \u044d\u043c\u0431\u0435\u0434\u0434\u0438\u043d\u0433\u0438\n",
        "\n",
        "        # \u0432\u043e\u0442 \u0442\u0443\u0442 \u0443 \u043c\u0435\u043d\u044f \u043a\u0430\u043a \u0440\u0430\u0437 \u043f\u0440\u043e\u0438\u0441\u0445\u043e\u0434\u0438\u0442 \u043a\u043e\u043d\u043a\u0430\u0442\u0435\u043d\u0430\u0446\u0438\u044f \u044d\u043c\u0431\u0435\u0434\u0434\u0438\u043d\u0433\u043e\u0432\n",
        "        combined = torch.cat([bert_output, sem_embeddings], dim=-1)  #  # (B, T, H+D)\n",
        "        logits = self.classifier(combined)  # (B, T, num_labels)\n",
        "\n",
        "        loss = None\n",
        "        if labels is not None:\n",
        "            loss_fct = nn.CrossEntropyLoss(ignore_index=-100)\n",
        "            loss = loss_fct(logits.view(-1, logits.shape[-1]), labels.view(-1))\n",
        "\n",
        "        return loss, logits"
      ],
      "metadata": {
        "id": "vRKvKs3_53dW"
      },
      "execution_count": 64,
      "outputs": []
    },
    {
      "cell_type": "code",
      "source": [
        "model = NERModelWithSemantics(\n",
        "    bert_model=bert_model,\n",
        "    num_labels=len(tag2idx),\n",
        "    num_sem_classes=len(sem2id)\n",
        ")\n",
        "model.to(device)"
      ],
      "metadata": {
        "colab": {
          "base_uri": "https://localhost:8080/"
        },
        "collapsed": true,
        "id": "6bHfJ83tecTk",
        "outputId": "b7d82263-db08-4cb4-9954-c8cf782cf2c6"
      },
      "execution_count": 65,
      "outputs": [
        {
          "output_type": "execute_result",
          "data": {
            "text/plain": [
              "NERModelWithSemantics(\n",
              "  (bert): BertModel(\n",
              "    (embeddings): BertEmbeddings(\n",
              "      (word_embeddings): Embedding(119547, 768, padding_idx=0)\n",
              "      (position_embeddings): Embedding(512, 768)\n",
              "      (token_type_embeddings): Embedding(2, 768)\n",
              "      (LayerNorm): LayerNorm((768,), eps=1e-12, elementwise_affine=True)\n",
              "      (dropout): Dropout(p=0.1, inplace=False)\n",
              "    )\n",
              "    (encoder): BertEncoder(\n",
              "      (layer): ModuleList(\n",
              "        (0-11): 12 x BertLayer(\n",
              "          (attention): BertAttention(\n",
              "            (self): BertSdpaSelfAttention(\n",
              "              (query): Linear(in_features=768, out_features=768, bias=True)\n",
              "              (key): Linear(in_features=768, out_features=768, bias=True)\n",
              "              (value): Linear(in_features=768, out_features=768, bias=True)\n",
              "              (dropout): Dropout(p=0.1, inplace=False)\n",
              "            )\n",
              "            (output): BertSelfOutput(\n",
              "              (dense): Linear(in_features=768, out_features=768, bias=True)\n",
              "              (LayerNorm): LayerNorm((768,), eps=1e-12, elementwise_affine=True)\n",
              "              (dropout): Dropout(p=0.1, inplace=False)\n",
              "            )\n",
              "          )\n",
              "          (intermediate): BertIntermediate(\n",
              "            (dense): Linear(in_features=768, out_features=3072, bias=True)\n",
              "            (intermediate_act_fn): GELUActivation()\n",
              "          )\n",
              "          (output): BertOutput(\n",
              "            (dense): Linear(in_features=3072, out_features=768, bias=True)\n",
              "            (LayerNorm): LayerNorm((768,), eps=1e-12, elementwise_affine=True)\n",
              "            (dropout): Dropout(p=0.1, inplace=False)\n",
              "          )\n",
              "        )\n",
              "      )\n",
              "    )\n",
              "    (pooler): BertPooler(\n",
              "      (dense): Linear(in_features=768, out_features=768, bias=True)\n",
              "      (activation): Tanh()\n",
              "    )\n",
              "  )\n",
              "  (semantics): Embedding(457, 100)\n",
              "  (classifier): Linear(in_features=868, out_features=8, bias=True)\n",
              ")"
            ]
          },
          "metadata": {},
          "execution_count": 65
        }
      ]
    },
    {
      "cell_type": "code",
      "source": [
        "from torch.optim import AdamW\n",
        "import os"
      ],
      "metadata": {
        "id": "SNy73k_xfSV1"
      },
      "execution_count": 66,
      "outputs": []
    },
    {
      "cell_type": "code",
      "source": [
        "EPOCHS = 10\n",
        "optimizer = AdamW(filter(lambda p: p.requires_grad, model.parameters()), lr=0.00001) # correct_bias=False \u043f\u0438\u0448\u0435\u043b, \u0447\u0442\u043e \u043d\u0435 \u043f\u043e\u0434\u0434\u0435\u0440\u0436\u0438\u0432\u0430\u0435\u0442\u0441\u044f \u0431\u043e\u043b\u044c\u0448\u0435\n",
        "total_steps = len(train_dataloader) * EPOCHS\n",
        "\n",
        "scheduler = get_linear_schedule_with_warmup(\n",
        "    optimizer,\n",
        "    num_warmup_steps=0,\n",
        "    num_training_steps=total_steps\n",
        ")"
      ],
      "metadata": {
        "id": "weEMJAXnehLD"
      },
      "execution_count": 67,
      "outputs": []
    },
    {
      "cell_type": "code",
      "source": [
        "from sklearn.metrics import f1_score\n",
        "from sklearn.metrics import classification_report"
      ],
      "metadata": {
        "id": "ZeuCkW6lfgQj"
      },
      "execution_count": 68,
      "outputs": []
    },
    {
      "cell_type": "code",
      "source": [
        "from tqdm.auto import tqdm # (\u043a\u043e\u043f\u0438\u044f \u0438\u0437 \u0442\u0435\u0442\u0440\u0430\u0434\u043a\u0438 \u0410\u043d\u0430\u0441\u0442\u0430\u0441\u0438\u0438, \u044f \u043f\u0440\u043e\u0441\u0442\u043e \u0434\u043e\u0431\u0430\u0432\u0438\u043b\u0430 tqdm \u0434\u043b\u044f \u043e\u0442\u0441\u043b\u0435\u0436\u0438\u0432\u0430\u043d\u0438\u044f \u043e\u0431\u0443\u0447\u0435\u043d\u0438\u044f)\n",
        "def train_epoch(model, data_loader, optimizer, device, scheduler, n_examples):\n",
        "    model = model.train()\n",
        "    all_preds = []\n",
        "    all_targets = []\n",
        "    losses = []\n",
        "    correct_predictions = 0\n",
        "    total_predictions = 0  # \u0441\u0447\u0435\u0442\u0447\u0438\u043a \u0432\u0441\u0435\u0445 \u043f\u0440\u0435\u0434\u0441\u043a\u0430\u0437\u0430\u043d\u0438\u0439\n",
        "\n",
        "    batch_iterator = tqdm(data_loader, desc=\"Training\", leave=False)\n",
        "\n",
        "    for batch in batch_iterator:\n",
        "        input_ids = batch['input_ids'].to(device)\n",
        "        attention_mask = batch['attention_mask'].to(device)\n",
        "        token_type_ids = batch['token_type_ids'].to(device)\n",
        "        semclasses = batch['semclasses'].to(device)\n",
        "        labels = batch['labels'].to(device)\n",
        "\n",
        "        loss, logits = model(\n",
        "            input_ids=input_ids,\n",
        "            attention_mask=attention_mask,\n",
        "            token_type_ids=token_type_ids,\n",
        "            semclasses=semclasses,\n",
        "            labels=labels\n",
        "        )\n",
        "\n",
        "        preds = torch.argmax(logits, dim=2)\n",
        "        mask = (labels != -100)\n",
        "\n",
        "        correct_predictions += torch.sum((preds == labels) & mask)\n",
        "        total_predictions += torch.sum(mask)\n",
        "        losses.append(loss.item())\n",
        "\n",
        "        loss.backward()\n",
        "        optimizer.step()\n",
        "        scheduler.step()\n",
        "        optimizer.zero_grad()\n",
        "\n",
        "        # \u041f\u0435\u0440\u0435\u043d\u043e\u0441\u0438\u043c \u0442\u0435\u043d\u0437\u043e\u0440\u044b \u043d\u0430 CPU \u043f\u0435\u0440\u0435\u0434 \u043f\u0440\u0435\u043e\u0431\u0440\u0430\u0437\u043e\u0432\u0430\u043d\u0438\u0435\u043c \u0432 numpy\n",
        "        all_preds.extend(preds[mask].cpu().numpy().flatten())\n",
        "        all_targets.extend(labels[mask].cpu().numpy().flatten())\n",
        "\n",
        "        batch_iterator.set_postfix(loss=loss.item())\n",
        "\n",
        "\n",
        "    accuracy = correct_predictions.double() / total_predictions\n",
        "    avg_loss = np.mean(losses)\n",
        "\n",
        "    f1_macro = f1_score(all_targets, all_preds, average='macro', zero_division=0)\n",
        "    f1_micro = f1_score(all_targets, all_preds, average='micro', zero_division=0)\n",
        "    f1_weighted = f1_score(all_targets, all_preds, average='weighted', zero_division=0)\n",
        "\n",
        "    return accuracy.item(), avg_loss, f1_macro, f1_micro, f1_weighted\n",
        "\n",
        "def eval_model(model, data_loader, device, n_examples):\n",
        "    model = model.eval()\n",
        "    losses = []\n",
        "    all_preds = []\n",
        "    all_targets = []\n",
        "    correct_predictions = 0\n",
        "    total_predictions = 0\n",
        "\n",
        "    batch_iterator = tqdm(data_loader, desc=\"Validation\", leave=False)\n",
        "\n",
        "    with torch.no_grad():\n",
        "        for batch in batch_iterator:\n",
        "            input_ids = batch['input_ids'].to(device)\n",
        "            attention_mask = batch['attention_mask'].to(device)\n",
        "            token_type_ids = batch['token_type_ids'].to(device)\n",
        "            semclasses = batch['semclasses'].to(device)\n",
        "            labels = batch['labels'].to(device)\n",
        "\n",
        "            loss, logits = model(\n",
        "                input_ids=input_ids,\n",
        "                attention_mask=attention_mask,\n",
        "                token_type_ids=token_type_ids,\n",
        "                semclasses=semclasses,\n",
        "                labels=labels\n",
        "            )\n",
        "\n",
        "            preds = torch.argmax(logits, dim=2)\n",
        "            mask = (labels != -100)\n",
        "\n",
        "            correct_predictions += torch.sum((preds == labels) & mask)\n",
        "            total_predictions += torch.sum(mask)\n",
        "            losses.append(loss.item())\n",
        "\n",
        "            all_preds.extend(preds[mask].cpu().numpy().flatten())\n",
        "            all_targets.extend(labels[mask].cpu().numpy().flatten())\n",
        "\n",
        "            batch_iterator.set_postfix(loss=loss.item())\n",
        "\n",
        "    accuracy = correct_predictions.double() / total_predictions\n",
        "    avg_loss = np.mean(losses)\n",
        "\n",
        "    f1_macro = f1_score(all_targets, all_preds, average='macro', zero_division=0)\n",
        "    f1_micro = f1_score(all_targets, all_preds, average='micro', zero_division=0)\n",
        "    f1_weighted = f1_score(all_targets, all_preds, average='weighted', zero_division=0)\n",
        "\n",
        "    return accuracy.item(), avg_loss, f1_macro, f1_micro, f1_weighted"
      ],
      "metadata": {
        "id": "Lucr_DNJ19sF"
      },
      "execution_count": 69,
      "outputs": []
    },
    {
      "cell_type": "code",
      "source": [
        "history = defaultdict(list)\n",
        "best_accuracy = 0"
      ],
      "metadata": {
        "id": "LvmH1Jr32BE5"
      },
      "execution_count": 70,
      "outputs": []
    },
    {
      "cell_type": "code",
      "source": [
        "# (\u043e\u0441\u043d\u043e\u0432\u043d\u043e\u0439 \u0446\u0438\u043a\u043b)\n",
        "for epoch in tqdm(range(EPOCHS), desc=\"Epochs\"):\n",
        "    print(f'\\nEpoch {epoch + 1}/{EPOCHS}')\n",
        "    print('-' * 10)\n",
        "\n",
        "    train_acc, train_loss, f1_macro, f1_micro, f1_weighted = train_epoch(\n",
        "        model,\n",
        "        train_dataloader,\n",
        "        optimizer,\n",
        "        device,\n",
        "        scheduler,\n",
        "        len(train_data)\n",
        "    )\n",
        "\n",
        "    print(f'TRAIN:\\nloss {train_loss}\\naccuracy {train_acc}\\nf1_macro {f1_macro}\\nf1_micro {f1_micro}\\nf1_weighted {f1_weighted}\\n')\n",
        "\n",
        "    val_acc, val_loss, val_f1_macro, val_f1_micro, val_f1_weighted = eval_model(\n",
        "        model,\n",
        "        valid_dataloader,\n",
        "        device,\n",
        "        len(val_data)\n",
        "    )\n",
        "\n",
        "    print(f'VAL:\\nloss {val_loss}\\naccuracy {val_acc}\\nf1_macro {val_f1_macro}\\nf1_micro {val_f1_micro}\\nf1_weighted {val_f1_weighted}\\n')\n",
        "\n",
        "    history['train_acc'].append(train_acc)\n",
        "    history['train_loss'].append(train_loss)\n",
        "    history['val_acc'].append(val_acc)\n",
        "    history['val_loss'].append(val_loss)"
      ],
      "metadata": {
        "colab": {
          "base_uri": "https://localhost:8080/",
          "height": 1000,
          "referenced_widgets": [
            "5fed9d87a9cf405a89c3b934c87ab1ec",
            "cc97d405e5154b77bbb567f360819dc9",
            "2755a54069804a6b94fc1b706874ebfe",
            "7d291a47500c4be49469d57e0cd1036b",
            "bdfbaea0f0a44e24a671a0fa4ad3f889",
            "5e13c158515649b1a169f5e1f951dea5",
            "8d75a97ff0434dfc8ffd3f70f8ad819d",
            "30c333b4a1c64a2bb506a6c068addd6a",
            "603b80a0c62a4cc2af0a76cbb187657a",
            "0061ed103e684b069e802ac638017dd4",
            "83fc5bf777e143caa8c5eeb7fc321e4f",
            "c987f4da18be42e8b26f8dff30eb1ea3",
            "74796d66149f45498abe5b08f6660fd9",
            "579cbc269f3747aba880d074ff2db482",
            "1932446c80104655a063f9b517ef43a6",
            "897a4279428149a99f1784d8e0de1469",
            "7935ae4853ec4098b053356e17fe4549",
            "ab199723cfc640f8a10df4881e661723",
            "d0ca9d3a5da24713ab3ab21458f26f69",
            "a3c76b3ce3b04d8ea89f207f618ce2c3",
            "16fb23ce2dcb4acfb5b092bac68ca0b4",
            "207d659cef8d49008628313523b7eca4",
            "753482a289a1447fb60042c18ad21fd7",
            "c6870a334a6f47d99a5a4cbbfe117f6a",
            "76470fbc59f043939c39979e4f837749",
            "bf4874d4a09a40e8be35f7a7e4fc7e2c",
            "800706b98641445b917d171c0aec93c0",
            "c9690ed07f7e446d84baccf915ed50de",
            "f98b53e4e8834bda8d3255d7dd448360",
            "3fb4f09d162c4f6eaa581d9f4c6b978e",
            "2d22dd2149c449009e65108824a8edc3",
            "3ec07f3ad56c4f6b9dd6a851d718505a",
            "3dcb7c6325a3424da19256190ae7f46c",
            "7dbb7e99fbc64cb498597287f54920fa",
            "89af8a85850c488a9733be9b2c8e2e3d",
            "95329581573d4a52b0274ff7f7d003bd",
            "f14722aa1e014eea9debb4b320fec12c",
            "6418c3a05009401f94fa9d4daaa65ed8",
            "b13aa466c6954fb5818695262b8ee3b3",
            "2c314cdd0111473e974c94ee2c272968",
            "c6e5c9719c1943c989729f79e79e2646",
            "44000757cbc4498583911963d593966e",
            "2d458b186f054164a370a0af716af174",
            "467417892fba4fa08f67e018da47951f",
            "96f5d1c886834069a4c42d054e1ebc19",
            "1b2c3290e41040c2b6f6bb2a85f28a93",
            "38b5cf7c65c94911bc54ec65bf0e0ef8",
            "df23ee9ee31e496f9f17493e77b7fa88",
            "4a6b8f0ae4bc4853a01b9d4f2912b177",
            "a5bb7bb8f26f4decb7f896d6a5075ee5",
            "6504df2a8c3a4dfbb39983ab549fe59c",
            "bc0ae25afa584714b4be7de3438f2cb9",
            "c11c24cf805c4181a6789346dbf83270",
            "eba1c94895be49bc967693f051041505",
            "b039b2eae43047fb9c8d5f6cfb0c64b1",
            "90f5892bcf074267af7eadb8e87667bd",
            "de7beb07a779411b927eddd2cee87cfc",
            "164f73cd40c348aea3d58752bb2919ed",
            "0adc0c8b75324ea6b5371a6598ba6e38",
            "07c6c55b7ad7489499554f3fdf14eb54",
            "105efdaf9b424c61b631b354277849d3",
            "f9c0bbc4a05043afbc6e556f1a11e26f",
            "fbd653cec6844d1089bc7682354c2eff",
            "1c4bcbdea3d64523b8647fcc79c67fe5",
            "6d2388c4898041ac91514b82148b6b89",
            "07e1de84f9484094b1ae1ba0570c3dbd",
            "e02feff2bf1e45dfb092bca1fda21595",
            "e308378238704a7cb4a0516e95193c00",
            "3cf4e14744184df8879727b18f9c5d34",
            "c972acdf63fc4c8e8d01940cbc5387b9",
            "10813250a2744e37ada47f2641ad40ba",
            "8dfd832284e542d4bdfc418c05acbe04",
            "fb2db5423a8745519f0da2a142f1e82c",
            "665a2b33d7d745708e0f6b92df4a4346",
            "f429edc6ef02484ca10b907740338ddc",
            "a2cf71dffa16474591b97e3044301d83",
            "222fdae394574bf7a0cc004ae4014ecf",
            "ea3557aa3281487b9a924bd864f763fe",
            "703a9bdea13d413bb38e7492c5524a81",
            "54fabb15f6f2420cb3319bdcf2f6c7d1",
            "78d90e1c08e9492489443c92e5321a20",
            "cd777d7edae84d4dbf491a63051081e7",
            "599dfffc09e4422eb93dd0c7bc5e819e",
            "1d825cfde70349eba4d448df970a330e",
            "69c9e611d8784c3d89620282256939f2",
            "8fd7f81ec932408eae0a060d4af8a9a7",
            "14ffd464fa6a4716829c9d808a9cc4e5",
            "b1d4b6cc85bd422f8a62c0308949444c",
            "9515dcfdce59425a94df198b9d2311f7",
            "a5832e1747684f018aaacb454ad4c02f",
            "9a3a7d6bcf374eb181171b3d205e20f2",
            "23601cd6c4d1418eaa8bc93ce38a5c26",
            "fc3fcc718ac94fc9a340cd4f03cda382",
            "2581863a2c014bfdad636bd1e56490e2",
            "ab4a05a7c237425bbe9e539d53316691",
            "dc6c2e4b41b54947bb5085354549406a",
            "994b730381ea4366b083699636ec2a12",
            "d2d25893085f466f8a8bd5415c875b5b",
            "a1d44e4e777f486e9a5107a7c40be1c1",
            "ea90174a5c1644539ad0b15f7c3e4c4d",
            "9efbbfd6a0994d26b3feafb84673eb73",
            "891930e4a2f34b1c9f6d9166b4b78078",
            "aa3e5c2c51584b71aa2fe1d5ab293121",
            "c615154df3654465b858736771ce3d78",
            "a4736b55d0cb4a28bafb9ac3cd982c2d",
            "99ce822422ee4ef3a5c7c5df4c60f76c",
            "f301e2b1339c4bc89995c33202095926",
            "1d64065f2067460b8ec80d3d7c3503be",
            "1e82f4c9a748459cad69ad7fbf3eb184",
            "cda588d4dac94cb6900ce4fcbf2de94b",
            "ef7f9ce3f3b547ee848e73d06edd84c0",
            "4c2e1857f3a04f27b1e19ead13c5617d",
            "db427135ac11406685f067a39df8ed04",
            "b77b953787784e35a979baaf1dbb1b52",
            "a9af7817c2f34aa990cc859380d7a21e",
            "1a3fb5484def4e5092944942e622739d",
            "7b158fa5127b421aa376ce488410751e",
            "1dc220a2a45d44f1bbecb0c0f99a79fc",
            "021ee1001084443bbb145dfb7cff0864",
            "52d5fcad3163463b921512583c4954b1",
            "0a18719f804d4f48bb944c75702f9c95",
            "77e19ef08aba43cfa3a6555c6238d402",
            "32dc56080af3488ebf5720da2308769c",
            "dd73942703f5486bb8f218a7698dfcc2",
            "735c8d0f49e842b793f2419286643d41",
            "d51a9482de5d4b3b8824ff53a1b2c0df",
            "c6598f28d9ba4540b7958f70d775ba5b",
            "bc47d48765f9427a801fd5d34617cf1a",
            "73e9401b5af1451a84ef6ff9ebff1973",
            "23e205587ce44a14939a6f9b7be729d5",
            "1563243e309f4d39b479c9d488ed4885",
            "3a00956b57af48b980e0c077a1c3dcfc",
            "61d9fb89d4c64139923cf720f66b6f3e",
            "69956a43d52f4b408c3e10ab3d5559d9",
            "85a655b3442c4e96943cfbafe9906b84",
            "f78839c8fc2a4c0698ce88e3266c330c",
            "5ae26b4b374545a98cb561c606301baa",
            "ea1bdc20ee11421088a6c6494e392c33",
            "c0d525ea91de48dd858b6b278338a4c6",
            "f438b6b5c4ee4aecbfe11be52577f4cb",
            "2bb61ef703e84961b2538d8903b75c07",
            "04df4206ac6a433684204c0ab13dac5a",
            "91d1105d5826479aab55c2cc85ea56d1",
            "f1e6d68f902a45fa8ebae4cc9192659a",
            "ca7a86c4eb5844b1a9dcca14c880efed",
            "df64ccb9b1064bdba8dbdaff8fac73fd",
            "66a74fbc34314990b5924a3b5b56c90e",
            "2cc85aaff301466190c8f25cdadff0e2",
            "06c6caa06b52462293450a3cc9c1a7bd",
            "644e60e8d3e54834b4c89508121ff7cb",
            "76b76717ae8a4e5492ad3648ae0418df",
            "05bc9c3fd12c4edb94c8afb084661616",
            "ce81828c48c344b18b94cd4e10687bf2",
            "26922db96a6c4640a8c146e172916f09",
            "70217a1bc0e74ef3a01395047da73c29",
            "78c8110fe4644657a1a2d3f242949677",
            "16e71a69dd67430585280f5ebdc2ca63",
            "bd44c9794ab640c49480bc68cbe48440",
            "c9ab2ed11f4241838f6a3ca23421ba59",
            "95a7c74f088348fcbdb3b7bbf3aaf752",
            "552c04a46f9a478db85457884d58d688",
            "ebf625223372488185b2013050b463b2",
            "6118f8eb3154479db292b3b930ed1c36",
            "c68da9a2b39e4f89a33a6d66f1cd613b",
            "17b0eb8ce2c741609b812486ece1fe5f",
            "786172c4e9ae4ea7b2a01befe7c678c4",
            "5e5799311f684e7cbdf55271c30c454a",
            "19f842504e0b4a2f8e29299f66f2917a",
            "87dfeb3fd3ed45978626f14086a66b96",
            "f65fd06e45bf489da09aa04370ee2eb4",
            "7910a42cda864abba6ef7f1ae734f948",
            "c125da5ee62f4aa7811827ee88a14f83",
            "02fb35b0892348bab2f9d14556dca3f3",
            "4124fbd09d1542c8aeee7824b6673489",
            "ed9c9f476db84ccc8be0d7d0a429ac85",
            "4b6f208d86c94ce1bf391bc68ffa5745",
            "4b63227f3b104ea299e8877c8472143f",
            "45671506cff24a0c950633de135b937d",
            "69741d93de06422c84d06782163a3da0",
            "ce5ec42f956142a7975e1276dc748ff4",
            "f557258c635c4bcf9fe088de297e4e02",
            "afff166b2bca431facc0f033ca24cc38",
            "a96dd6e228f64d5eb7002c312990c0bf",
            "989318a7d3de4516908fd69291eab91d",
            "228432bf0c1f4ff6badc6a0da1931c40",
            "4878375c184e43e0b04b2f7a9fef0eb3",
            "ddb950bbc2834042aa5cfadb54d2801d",
            "6e0f6d61713c4713ab29d0cccd736d1c",
            "2852a7ef46134b4bbccea9029c575964",
            "204a5cb64b5e46ef9dc4c805f03d5353",
            "428cc07ce37f4f5c9ceed9ac0d95cb06",
            "0473be07d72c4264a519ee72dee71317",
            "defe9ae04df644c4b6cf78916c1bf8ab",
            "a5842134515343929b8d7ab92b9d409d",
            "34c2186cb7414616990348aa16a5e285",
            "d7194dae3f8249c1b8d22a83a689a17e",
            "38d81ab8112f4be5891bf88088e01f24",
            "c82d9b61f19c42a1baec259920a5c6fd",
            "87f7b12de5574a7188cdd9d8be8c904b",
            "36a3390c363844cd8f24eebbcd7028e1",
            "098c4182844c417899d92c5ff2072e02",
            "74252e2ff78b43d8921c4fed3e70069c",
            "9455f660c825420aa743a1c6f77abeca",
            "61b17ed0b3a1452a86f4c251bdfdd84e",
            "11de21b8dbce4edeb88191a85e600aa9",
            "27c43184eb954322b5c7c4df5caad707",
            "48a03ffed60149309b027b2078d46f57",
            "bebed07316a84eed8f7c573d5c382ad5",
            "1b59249261754b558200932895e5fbd7",
            "7a7c64dcef23464fab4d78b6ad696dd8",
            "ecc1cb3779654909b690bd20dd9d99ef",
            "9ca6961541fc47c19d05d297ec78858d",
            "bb7c8d321b5e45b39dd6ffe209f8859f",
            "0e40dd15f13b4ca3a534a6bd1ee20438",
            "f8d6e5d56d2d401eb5a6e23f7cb1385d",
            "6cc76cb594bd40349819dc0e2ff0cd8a",
            "209bde4ec72a49cdad753230efb7edc7",
            "07691538cc074085aab7aec09e076b71",
            "16db33eeab5c4f659cae7880b70c8deb",
            "a518ac474b624f43ae526968c772f6d1",
            "a54244dc5a26429cae122ffdb06e93cf",
            "481a954b7fe04fad8d51df2b5248963e",
            "987998236c044141b10c914efaa8756c",
            "44e980fbb77746c6a4186d98486f2f0e",
            "e05d1ebaa3d844d28a44bab190b47fb2",
            "2a07afa4365541afb06df66c364a9231",
            "df2b1b718416453d829a3aa0ae767243",
            "12d5b17be11143aca229c6780c33f6ee",
            "c20766ae7ad54f9d8463bf7d3c2d8e2e",
            "f2f527a695b447a490f92adb3ecc9543",
            "d43219f2a238466884fef779b0791095"
          ]
        },
        "id": "0JvO1Ni42Dwj",
        "outputId": "30c71484-75ed-4230-922d-a2d929f6e499"
      },
      "execution_count": 71,
      "outputs": [
        {
          "output_type": "display_data",
          "data": {
            "text/plain": [
              "Epochs:   0%|          | 0/10 [00:00<?, ?it/s]"
            ],
            "application/vnd.jupyter.widget-view+json": {
              "version_major": 2,
              "version_minor": 0,
              "model_id": "5fed9d87a9cf405a89c3b934c87ab1ec"
            }
          },
          "metadata": {}
        },
        {
          "output_type": "stream",
          "name": "stdout",
          "text": [
            "\n",
            "Epoch 1/10\n",
            "----------\n"
          ]
        },
        {
          "output_type": "display_data",
          "data": {
            "text/plain": [
              "Training:   0%|          | 0/180 [00:00<?, ?it/s]"
            ],
            "application/vnd.jupyter.widget-view+json": {
              "version_major": 2,
              "version_minor": 0,
              "model_id": "c987f4da18be42e8b26f8dff30eb1ea3"
            }
          },
          "metadata": {}
        },
        {
          "output_type": "stream",
          "name": "stdout",
          "text": [
            "TRAIN:\n",
            "loss 0.4520496050516764\n",
            "accuracy 0.8912532996485774\n",
            "f1_macro 0.1376343231661694\n",
            "f1_micro 0.8912532996485774\n",
            "f1_weighted 0.8570823123407555\n",
            "\n"
          ]
        },
        {
          "output_type": "display_data",
          "data": {
            "text/plain": [
              "Validation:   0%|          | 0/20 [00:00<?, ?it/s]"
            ],
            "application/vnd.jupyter.widget-view+json": {
              "version_major": 2,
              "version_minor": 0,
              "model_id": "753482a289a1447fb60042c18ad21fd7"
            }
          },
          "metadata": {}
        },
        {
          "output_type": "stream",
          "name": "stdout",
          "text": [
            "VAL:\n",
            "loss 0.31119976565241814\n",
            "accuracy 0.9051360395751491\n",
            "f1_macro 0.22430242944157208\n",
            "f1_micro 0.9051360395751491\n",
            "f1_weighted 0.8792909530903161\n",
            "\n",
            "\n",
            "Epoch 2/10\n",
            "----------\n"
          ]
        },
        {
          "output_type": "display_data",
          "data": {
            "text/plain": [
              "Training:   0%|          | 0/180 [00:00<?, ?it/s]"
            ],
            "application/vnd.jupyter.widget-view+json": {
              "version_major": 2,
              "version_minor": 0,
              "model_id": "7dbb7e99fbc64cb498597287f54920fa"
            }
          },
          "metadata": {}
        },
        {
          "output_type": "stream",
          "name": "stdout",
          "text": [
            "TRAIN:\n",
            "loss 0.26248329190744296\n",
            "accuracy 0.913666618082884\n",
            "f1_macro 0.29868653777162024\n",
            "f1_micro 0.913666618082884\n",
            "f1_weighted 0.893890643569514\n",
            "\n"
          ]
        },
        {
          "output_type": "display_data",
          "data": {
            "text/plain": [
              "Validation:   0%|          | 0/20 [00:00<?, ?it/s]"
            ],
            "application/vnd.jupyter.widget-view+json": {
              "version_major": 2,
              "version_minor": 0,
              "model_id": "96f5d1c886834069a4c42d054e1ebc19"
            }
          },
          "metadata": {}
        },
        {
          "output_type": "stream",
          "name": "stdout",
          "text": [
            "VAL:\n",
            "loss 0.242949790507555\n",
            "accuracy 0.9138658518841845\n",
            "f1_macro 0.3784279266424529\n",
            "f1_micro 0.9138658518841845\n",
            "f1_weighted 0.9066918729993159\n",
            "\n",
            "\n",
            "Epoch 3/10\n",
            "----------\n"
          ]
        },
        {
          "output_type": "display_data",
          "data": {
            "text/plain": [
              "Training:   0%|          | 0/180 [00:00<?, ?it/s]"
            ],
            "application/vnd.jupyter.widget-view+json": {
              "version_major": 2,
              "version_minor": 0,
              "model_id": "90f5892bcf074267af7eadb8e87667bd"
            }
          },
          "metadata": {}
        },
        {
          "output_type": "stream",
          "name": "stdout",
          "text": [
            "TRAIN:\n",
            "loss 0.20605039253003068\n",
            "accuracy 0.9253267259388817\n",
            "f1_macro 0.4041269910943394\n",
            "f1_micro 0.9253267259388817\n",
            "f1_weighted 0.9148555763409839\n",
            "\n"
          ]
        },
        {
          "output_type": "display_data",
          "data": {
            "text/plain": [
              "Validation:   0%|          | 0/20 [00:00<?, ?it/s]"
            ],
            "application/vnd.jupyter.widget-view+json": {
              "version_major": 2,
              "version_minor": 0,
              "model_id": "e02feff2bf1e45dfb092bca1fda21595"
            }
          },
          "metadata": {}
        },
        {
          "output_type": "stream",
          "name": "stdout",
          "text": [
            "VAL:\n",
            "loss 0.2259575616568327\n",
            "accuracy 0.9252146078859305\n",
            "f1_macro 0.4494266682278028\n",
            "f1_micro 0.9252146078859305\n",
            "f1_weighted 0.9191505459090183\n",
            "\n",
            "\n",
            "Epoch 4/10\n",
            "----------\n"
          ]
        },
        {
          "output_type": "display_data",
          "data": {
            "text/plain": [
              "Training:   0%|          | 0/180 [00:00<?, ?it/s]"
            ],
            "application/vnd.jupyter.widget-view+json": {
              "version_major": 2,
              "version_minor": 0,
              "model_id": "ea3557aa3281487b9a924bd864f763fe"
            }
          },
          "metadata": {}
        },
        {
          "output_type": "stream",
          "name": "stdout",
          "text": [
            "TRAIN:\n",
            "loss 0.17981201969087124\n",
            "accuracy 0.9331001311762134\n",
            "f1_macro 0.4732108032181569\n",
            "f1_micro 0.9331001311762134\n",
            "f1_weighted 0.9258300203392238\n",
            "\n"
          ]
        },
        {
          "output_type": "display_data",
          "data": {
            "text/plain": [
              "Validation:   0%|          | 0/20 [00:00<?, ?it/s]"
            ],
            "application/vnd.jupyter.widget-view+json": {
              "version_major": 2,
              "version_minor": 0,
              "model_id": "9515dcfdce59425a94df198b9d2311f7"
            }
          },
          "metadata": {}
        },
        {
          "output_type": "stream",
          "name": "stdout",
          "text": [
            "VAL:\n",
            "loss 0.21309297904372215\n",
            "accuracy 0.9259420922450168\n",
            "f1_macro 0.44815266827354616\n",
            "f1_micro 0.9259420922450168\n",
            "f1_weighted 0.9191783912516566\n",
            "\n",
            "\n",
            "Epoch 5/10\n",
            "----------\n"
          ]
        },
        {
          "output_type": "display_data",
          "data": {
            "text/plain": [
              "Training:   0%|          | 0/180 [00:00<?, ?it/s]"
            ],
            "application/vnd.jupyter.widget-view+json": {
              "version_major": 2,
              "version_minor": 0,
              "model_id": "ea90174a5c1644539ad0b15f7c3e4c4d"
            }
          },
          "metadata": {}
        },
        {
          "output_type": "stream",
          "name": "stdout",
          "text": [
            "TRAIN:\n",
            "loss 0.16075545895016854\n",
            "accuracy 0.9391892986121233\n",
            "f1_macro 0.5270604860008782\n",
            "f1_micro 0.9391892986121233\n",
            "f1_weighted 0.9339036787753053\n",
            "\n"
          ]
        },
        {
          "output_type": "display_data",
          "data": {
            "text/plain": [
              "Validation:   0%|          | 0/20 [00:00<?, ?it/s]"
            ],
            "application/vnd.jupyter.widget-view+json": {
              "version_major": 2,
              "version_minor": 0,
              "model_id": "ef7f9ce3f3b547ee848e73d06edd84c0"
            }
          },
          "metadata": {}
        },
        {
          "output_type": "stream",
          "name": "stdout",
          "text": [
            "VAL:\n",
            "loss 0.21063873916864395\n",
            "accuracy 0.926669576604103\n",
            "f1_macro 0.440763068450469\n",
            "f1_micro 0.926669576604103\n",
            "f1_weighted 0.9197219163277457\n",
            "\n",
            "\n",
            "Epoch 6/10\n",
            "----------\n"
          ]
        },
        {
          "output_type": "display_data",
          "data": {
            "text/plain": [
              "Training:   0%|          | 0/180 [00:00<?, ?it/s]"
            ],
            "application/vnd.jupyter.widget-view+json": {
              "version_major": 2,
              "version_minor": 0,
              "model_id": "77e19ef08aba43cfa3a6555c6238d402"
            }
          },
          "metadata": {}
        },
        {
          "output_type": "stream",
          "name": "stdout",
          "text": [
            "TRAIN:\n",
            "loss 0.14826092523419196\n",
            "accuracy 0.9434160877099225\n",
            "f1_macro 0.5633700839883822\n",
            "f1_micro 0.9434160877099225\n",
            "f1_weighted 0.939494214738431\n",
            "\n"
          ]
        },
        {
          "output_type": "display_data",
          "data": {
            "text/plain": [
              "Validation:   0%|          | 0/20 [00:00<?, ?it/s]"
            ],
            "application/vnd.jupyter.widget-view+json": {
              "version_major": 2,
              "version_minor": 0,
              "model_id": "61d9fb89d4c64139923cf720f66b6f3e"
            }
          },
          "metadata": {}
        },
        {
          "output_type": "stream",
          "name": "stdout",
          "text": [
            "VAL:\n",
            "loss 0.21717401519417762\n",
            "accuracy 0.9271060672195548\n",
            "f1_macro 0.4290832617760361\n",
            "f1_micro 0.9271060672195548\n",
            "f1_weighted 0.9177568444632302\n",
            "\n",
            "\n",
            "Epoch 7/10\n",
            "----------\n"
          ]
        },
        {
          "output_type": "display_data",
          "data": {
            "text/plain": [
              "Training:   0%|          | 0/180 [00:00<?, ?it/s]"
            ],
            "application/vnd.jupyter.widget-view+json": {
              "version_major": 2,
              "version_minor": 0,
              "model_id": "f1e6d68f902a45fa8ebae4cc9192659a"
            }
          },
          "metadata": {}
        },
        {
          "output_type": "stream",
          "name": "stdout",
          "text": [
            "TRAIN:\n",
            "loss 0.13451889720227983\n",
            "accuracy 0.9475457092422549\n",
            "f1_macro 0.6169163810963967\n",
            "f1_micro 0.9475457092422549\n",
            "f1_weighted 0.9445401157099818\n",
            "\n"
          ]
        },
        {
          "output_type": "display_data",
          "data": {
            "text/plain": [
              "Validation:   0%|          | 0/20 [00:00<?, ?it/s]"
            ],
            "application/vnd.jupyter.widget-view+json": {
              "version_major": 2,
              "version_minor": 0,
              "model_id": "70217a1bc0e74ef3a01395047da73c29"
            }
          },
          "metadata": {}
        },
        {
          "output_type": "stream",
          "name": "stdout",
          "text": [
            "VAL:\n",
            "loss 0.21525747366249562\n",
            "accuracy 0.9281245453222756\n",
            "f1_macro 0.47264956454176005\n",
            "f1_micro 0.9281245453222756\n",
            "f1_weighted 0.9239737057304271\n",
            "\n",
            "\n",
            "Epoch 8/10\n",
            "----------\n"
          ]
        },
        {
          "output_type": "display_data",
          "data": {
            "text/plain": [
              "Training:   0%|          | 0/180 [00:00<?, ?it/s]"
            ],
            "application/vnd.jupyter.widget-view+json": {
              "version_major": 2,
              "version_minor": 0,
              "model_id": "786172c4e9ae4ea7b2a01befe7c678c4"
            }
          },
          "metadata": {}
        },
        {
          "output_type": "stream",
          "name": "stdout",
          "text": [
            "TRAIN:\n",
            "loss 0.12727109071695142\n",
            "accuracy 0.9494728659573435\n",
            "f1_macro 0.6274680514263657\n",
            "f1_micro 0.9494728659573435\n",
            "f1_weighted 0.9470206912752538\n",
            "\n"
          ]
        },
        {
          "output_type": "display_data",
          "data": {
            "text/plain": [
              "Validation:   0%|          | 0/20 [00:00<?, ?it/s]"
            ],
            "application/vnd.jupyter.widget-view+json": {
              "version_major": 2,
              "version_minor": 0,
              "model_id": "4b63227f3b104ea299e8877c8472143f"
            }
          },
          "metadata": {}
        },
        {
          "output_type": "stream",
          "name": "stdout",
          "text": [
            "VAL:\n",
            "loss 0.21182425804436206\n",
            "accuracy 0.9292885202968136\n",
            "f1_macro 0.471910514013214\n",
            "f1_micro 0.9292885202968136\n",
            "f1_weighted 0.9251476358947281\n",
            "\n",
            "\n",
            "Epoch 9/10\n",
            "----------\n"
          ]
        },
        {
          "output_type": "display_data",
          "data": {
            "text/plain": [
              "Training:   0%|          | 0/180 [00:00<?, ?it/s]"
            ],
            "application/vnd.jupyter.widget-view+json": {
              "version_major": 2,
              "version_minor": 0,
              "model_id": "6e0f6d61713c4713ab29d0cccd736d1c"
            }
          },
          "metadata": {}
        },
        {
          "output_type": "stream",
          "name": "stdout",
          "text": [
            "TRAIN:\n",
            "loss 0.12258096591879925\n",
            "accuracy 0.9526955902119872\n",
            "f1_macro 0.6558718670702793\n",
            "f1_micro 0.9526955902119872\n",
            "f1_weighted 0.9504800746636702\n",
            "\n"
          ]
        },
        {
          "output_type": "display_data",
          "data": {
            "text/plain": [
              "Validation:   0%|          | 0/20 [00:00<?, ?it/s]"
            ],
            "application/vnd.jupyter.widget-view+json": {
              "version_major": 2,
              "version_minor": 0,
              "model_id": "87f7b12de5574a7188cdd9d8be8c904b"
            }
          },
          "metadata": {}
        },
        {
          "output_type": "stream",
          "name": "stdout",
          "text": [
            "VAL:\n",
            "loss 0.21004395391792058\n",
            "accuracy 0.9300160046559\n",
            "f1_macro 0.48443240401319104\n",
            "f1_micro 0.9300160046559\n",
            "f1_weighted 0.925417715417972\n",
            "\n",
            "\n",
            "Epoch 10/10\n",
            "----------\n"
          ]
        },
        {
          "output_type": "display_data",
          "data": {
            "text/plain": [
              "Training:   0%|          | 0/180 [00:00<?, ?it/s]"
            ],
            "application/vnd.jupyter.widget-view+json": {
              "version_major": 2,
              "version_minor": 0,
              "model_id": "7a7c64dcef23464fab4d78b6ad696dd8"
            }
          },
          "metadata": {}
        },
        {
          "output_type": "stream",
          "name": "stdout",
          "text": [
            "TRAIN:\n",
            "loss 0.11800581376171775\n",
            "accuracy 0.9535215145184538\n",
            "f1_macro 0.6585590700344078\n",
            "f1_micro 0.9535215145184538\n",
            "f1_weighted 0.9515052400098292\n",
            "\n"
          ]
        },
        {
          "output_type": "display_data",
          "data": {
            "text/plain": [
              "Validation:   0%|          | 0/20 [00:00<?, ?it/s]"
            ],
            "application/vnd.jupyter.widget-view+json": {
              "version_major": 2,
              "version_minor": 0,
              "model_id": "a54244dc5a26429cae122ffdb06e93cf"
            }
          },
          "metadata": {}
        },
        {
          "output_type": "stream",
          "name": "stdout",
          "text": [
            "VAL:\n",
            "loss 0.21539019979536533\n",
            "accuracy 0.9307434890149862\n",
            "f1_macro 0.4907820517576037\n",
            "f1_micro 0.9307434890149862\n",
            "f1_weighted 0.9262799252639442\n",
            "\n"
          ]
        }
      ]
    },
    {
      "cell_type": "markdown",
      "source": [
        "\u041d\u0435\u0437\u0430\u043c\u043e\u0440\u043e\u0436\u0435\u043d\u043d\u044b\u0435 \u044d\u043c\u0431\u0435\u0434\u0434\u0438\u043d\u0433\u0438\n",
        "\n",
        "![image.png](data:image/png;base64,iVBORw0KGgoAAAANSUhEUgAAAZYAAAGkCAIAAACdKJRnAAAABmJLR0QA/wD/AP+gvaeTAAAgAElEQVR4nOy9b0xbV7rv/z2/g7Sr0ytHd64cKVKt7Ss8+Go8+KgOVMIDGhx8BwpqHKzD8YA6BNQ6QQ3BCqLQXBeKCD6IQCOlIRXgRBCmgrhIHlwNjVFdjERipCJc1YOrWjgaK66aEVY7YquR2ApH/F7477a3jaFpgtP1eZXYaz/rWct7P3utZy3W9192d3dBIBAIucn/96wdIBAIhINDQhiBQMhhSAgjEAg5DAlhBAIhhyEhjEAg5DAkhBEIhByGhDACgZDDkBBGIBByGBLCCARCDkNCGIFAyGFICCMQCDkMCWEEAiGHISGMQCDkMCSEEQiEHIaEMAKBkMOQEEYgEHKYX2gIC46pxWK1OfCs/eDl4ZRWLC674n/WfhAIOcBTDWHBMbWYh8MaSrLkkd95paVYIhaLDU6+79mA3VRfJg23VV5jmHQzGe15/2x2Q6GvlyTbue8cPlssFovF7fz1BOdNDeXRek4apr7MXA+B8DyQ96wdyGV+8FqGOntmvGyGMp5h9cmRYOy/jNfWq3V6Ju5eUQl4yz+yXfswiMoO3bH4Z8zXFlNHj+XrTPV4r6hrPkiox2PrqXWu3bh7Vc1fD4HwfPAMJpKaGwEuDr346XvxBHBd0XbNeNk8ie66sYq3xI53+K2RIKBom171BQIB3+pMqwxgrIbhVX6bodlbdohaz2mouBHXcG2X5WsW+brRi/z1wDPc8kEQeYrWmUg902/JAMbWPuze+anNJBAOM4csF+YwiMXSnlWEFqJzIom85qI9xH0OOVMzaXHNRXuQZ4DCBudNDRXySKnyFvNq6sSKDc531YQNSWsM1v2ln5Q1jYr60WWvY7BGQvGWWBof+RbUydHJdqWQAkAJSzomexUAY5l3813gv3XDjZf1p+UJn+Upq15X6K4v+z4frMrnr8c5ORIEpbk+2VESqUfZOdn3MsBY5r7cV5sIhBzjEE4kWdelmimPN/K/HcY701JBWT29ivAHjMNQ+qYtHo3YkHempWxeM3H3asLcjHG2lzZbE0oF7KY6ShK4qopXtDV3odT0ZShawmtr1x4RefqKs/a0xGgtyfS91+0CKN2fqqJ+saGVqe4xNwB2ZS0IhSip5Z8Mj3yLqk6dkPu5stuqzFjP2jJA6U5XxutxTXZf+xsA1uUOoliU6WoCIZd5BqMw25tJ6fzkLLjf4xWUGadXfIFAwPdphwxgJq/ZHgEAHjm7z9kYCKqGHB5fIBAI+FamW+UAYzNcjY9rQjMtzVYGAmXrpMPnDwQCPs/CRGv5UW49Ie+XIUHloMMbCPh98+0SgJn6mDdTfkA2/xECjsvEAMB8bemqkBbXm+wPAQC+9ZQhX8gyYYeg8Uw1/1ArQz3BEKCQiQDsMN7ZLrWsuGEgMnT1+8jKJuF55pBNJAEAoten7/5ZrzxGAaB+03r5LSHgdK0CAPv5lI2F6K2Z0TqJgAIA6piy46OrKoD5ZDE6cgvOTboAScdfpjvKJVQeAEogVXVMGlXcioR1E3fHdJIXgTxKVq9XAvjvJ94a4ZFHdlNdsby6y3IfEKqMM9MdUr6CvlvmL6FoP6842Mj42JHteZO2RF7ztsW/A2G5cXqmI3lRk0B47ngGE0nNjcBVdaYCinJl4iqa7N+VgG17BwA2HwYBSqWScS4QKJRSOH3BTUAGAP51HyDXafIzOyI5cy5h6ik8KsxQ9uDYWsptACBU6HuvdtSIKATNAPACtxjrHDMHUdVRd1AvrC1lVgAQFusvDXVUiSkEzADwrwf2nEDIAQ5hLiwZlk1KwwsE2cy0XhS8sHehn5cjAgpgkSfRDVw11soE4c7e8a77ALmEM0R6aLlmZQVNZzQvHqSeIxTAAvm6wWtG3W+iYdm37gdk/4cMxQjPM4dxIsmFtc87AaHoKAC8IDgKhGwObn6Hcbt8gPS30Yf1qEgIrNhdz3prp0yhAkCdNPbVReMXwHxqsQGU4nhijt0/Y3ZD0XFWcbB6jpcDoDQX++LxC4xt1gZQx+Ukl094njmMIYz5R5CJJO/9zkv1hgVAekYnBwBheZUCCH5Q3zLrZ1gAYO/bu04anICi/lT0YZWdqBEATsPJLosnxO4AAPvQZW4yPclcfRZQFToNBdZqaB5zhVgAbGhluL7NCUg6mhKi1Y5raiyIytOJ21n3VU9VnYYCa2tvNq9E6nFdrjc4AGmHPvsFVgIhB/mX3d3dp1ZZcExdNpC6QCYxLkV3tzoM4jdtKQVkxs/n9dHEln+sRj3gTS7ystExq5fEpsWMs6ui2RJKKqSZiG6qCI6pywYQrxcAnAZxs007EbiSlPRPD7+3nBYlbwEJt+eiY/5sfH4XmtQW93obZ3x9abZoONvFzVa+L6TG5QW9CEjdRBKuJ7HfCITnksM4CotDCWXaPqub8xxKzs6vjumV+dEZk0Cm6bV6EuMXAIFq8O7y6BtKSayUXNM3eynr4PTEEKiv3p3t08gjflBipX5sNTF+RbezGs9n3GK2Zz2qy3etvRpZtB5RiX50hcQvwvPPUx2F7Y3DIH7TtueS5XPFSo+0fkr1gW/05H63gxEIhEM+Cnv+CVk+mGKpxsZ9b2clEAhATmyqeK4R6mYCumftBIGQu5BRGIFAyGEOWS6MQCAQ9gMZhREIhByGhDACgZDDkBBGIBByGBLCCARCDkNCGIFAyGFICCMQCDkMCWEEAiGHISGMQCDkMCSEEQiEHIaEMAKBkMOQEEYgEHIYEsIIBEIOQ0IYgUDIYUgIIxAIOcxTPvIwaK4sM/k4HyUfM52qqREXucjaSFjLg1NEwhX74NMiSdb+ODxGsmkygfBLhIzCCARCDkOOPCQQCDkMGYURCIQchoQwAoGQw5AQRiAQchgSwggEQg5DQhiBQMhhSAgjEAg5DAlhBAIhhyEhjEAg5DAkhBEIhByGhDACgZDDkBBGIBByGBLCCARCDkNCGIFAyGFICCMQCDkMCWEEAiGHISGMQCDkMCSEEQiEHObphTBnuzg9anMAAOAwcD6WyNX1JnuA5TH3cEobLnPWlvK108BTRUItsQLca4Nj6oQyBAIhBzjco7Adxr9ibinXmu8nfxNamHNDpdFSWJizPzqo/YXha769SxEIhEPL0wthqiuBGBNaABLjUuwDjqKP5OJy+FPf6rSxTAB4TdedXGPBuRk31Kcu1ekoOOc+TxqHqa5GzC4bpQA0E3y1IF+hoILmP7t+ltYSCISnwqEehVFCpb73jASA1x9M/CJgt/igrFAKilVVgPMTO99Ucy/yXj19VsR+NGJ5mLHYQ1tLsVhc3OVkDlAHgUD4eTnUIQwAHm1vAaA4nwUXLH4oqsqFyFOd0gKOA84lFfV6BVwjM/4MZYKfXLOHgJDlmjV0kDoIBMLPyWEOYSzjs3e1jYQAZf2pRClcu9UP6auqYwCgLK8CnJZPDhRfjunOa6ng2DVn+ggoqtSrhIBQd14rPEgVBALh5+QwhjD/QJlYLBaLpfLKFksAwrqJ0fqE8OGzTPkg0VaFgxpV8aoKcH2yeKAYRqnO6kWs7dps+qvFuonVQGB1UCU4SAUEAuFn5TCGsERUA8t3hzjRwz9vC0JUVR4dlr1YdUoNrNgOFsMgPdOhhvvKNffOT/aVQCA8dQ5jCAuvSPpWp1vlcF6s6XQkJtL9c9YgEBypjO32khocAFw2x8FimEDzRiPFTI1/epAlAQKB8Gw5jCEsDCVUdnxglICxneuO56p8c7Zv+csfdC4JlOg7pLBPWIJ7FyUQCIeLwxvCAECsv9wkAGvrGYssGvrnbUFQjbMBLqt9LwMrljuZt0ekRdR4rgpfmqfcfF+STRUEwiHmcIcwQNF+SQUEPzDZGADeuZkgKN2p4qRSQlWVBHDPLYTHYbE/MCoz+QDYmpP/wCgZqvp860tB+wLP7gqyqYJAOMwc9hAGgabvogRwdl9xw3PHEgJVV6VIKSWq1EkAt+3OAcNMnuz0m6lWw5bJpgoC4fDyL7u7u8/aBwKBQDggh34URiAQCOkhIYxAIOQwJIQRCIQchoQwAoGQw5AQRiAQchgSwggEQg5DQhiBQMhhSAgjEAg5DAlhBAIhhyEhjEAg5DAkhBEIhBzm6YYwrtKtwfFUKycQCM8fZBSWCTZgN9WXScMRV15jmHQf4NCwvY384J5qr5FLwmfQljVcsgd5T5Blg84xQ02JPPIGqDQHk76eNzWUR+s5aZj6MrkeZnXKcDJyubS4pms+pR42aL/UoI7WIJarGy7ZQzucAs4xQ020gLyiwZRqJMmTihbzKteTgFmdSWsdSKf93p4kJxpt14IhXJl6LN4lwTG+SlLt7DDuyViLpGX1JnviqXOONMLwSf3PBu2XGiK/sUSuPmt2/5DcJXv2G/O1JX6fSItr2qc4RrL05JfH0w1h6qhG7Q3NU633YHiG1eUt5pXorcZ4bb3a0vZ9Hn24lxF21VSm0PZYvUw4UrBB182Wsrrkm5L5clgrK2sesHkf8tfvvaIuO2d2BaL1eGw9taWGhDO7g7MNpXU9Nk/kEzbktZwr044lHJG24zaVlrXcdPljFzF+182W4j9ZYkcYBSebmwds3mgB5r7LfK5MezPRWdZ9ievJfbupjuPJE+ahpeWs7aCnhods50q1vbEWscEVc0tJTap6fCYeuU2VZS03XZHfeIfxL5i05YbEGyWLfnN2V3fF7xM25LX2aMu7MmhrESLsPhM+a6Npuu2zZ1N5VjxeH/odTdN07fv3Nrd3d3e3N11D1TRN04XdXzxRI1uLna82DTk3th8nFijg1PLd7Xqapumi2r7b68Gt7dSKvhoqpWk6v3bIFann3mCknrXHu7u7u7s/zp2NFXi8u7u7vfXN7bOFNE3X3vouasTeRtN04ZnbG5EaYmXqb29GijyYOHv2/cVIge2tjY/PFtI0/YfxBzFPvhkqpWm66Oztb7a2d3d3H0dbVNB973G0zN/HK2i6YjR+USqLF2iablvcu4c3xl+jabr+9kQbvZfN3d3dB6MVNF3Q9lmkC7dsTXTYW//27u7u7o8bt88U0jRN/zHWYh62P2srSKhr4/1SmqaL3or224+Rzi8w3ovXu2e/7S52v9p5+6vwr7O7/d29odfoPZ+RJE9+mRy+EPZ4a22irbqQDlN44uz4F1vJZb67N36hujCfpmmaLiiqfuf2RkqRrW9u9/+xtCBipeLs+/c2HyeX2dPDgvN3Eg1vTtTSNF3w3trPamR9sCjpabxnLKDpwrbPUhoZZfECTdMFbXZOPbdOJYRCextN07UT3AfT1V1A09U3IhVt25pomm76ONHI1u3TNE03zf2Yrua1/pdp+rX4o7hxvYKmC7pdnELhJnc6o/9/ciFsY7Q60jOfZRHCtuaaOIHjwfgfaJquuOZPKPP4XncBJ2onE34tFbQtRvpk49oJboDe3Y12fmd6/5P7jcfZj5s4nba3J79QDlkubMdv1soTBvbhaYi8JnG+89DSUNJgis+8Qt6ZrpYZ7sRrtae0MmFYzvjtHzT0L+3DEa/bBVC6P1VF9d/Y0Iq5e8wNgF1ZyzL18FOMyMQx8V+3fZZFifFddTolS+/aMkDpTlfG63GNdV/7GwDW5Q4CCP0QAnDkV1wL8uNKwOuN9C1V0agTwPm2XH3R4g2xbMg1da6mawmyi0bNi3zVPgq5LnebfxBo2nQxX5nNICAQcMsLFUohsOZ70hkbz3DzgFdQd/Vy2p7h4B0ddoJq7NVHvH3kdvmAEr0uP1rikd/ebbKwAFyur/iNMJ8Oj3wLxcV3VZE2MpvfAgLBkbzEUsLjJUJgzR/gM8HXb1xYxmfpvOSE3KgvTducFE9+oRyuEBa82WLyAPLW6RVfIBAI+DyOoSoB4B3oieVjgp9OuQBV/6rPHwgEAgHv6vyQTkZx7Dg/nmIg1P/Z4wtEzEy0qY7mpVaYls1/hIDjMjEAMF9buiqkxbFEr2+d54z9J2Vkx3vnkxBQdSJ27367tsZC8vLR9cR8MCdbvxkMAQqZCMAO453tUsuKGwYiaXi/zw9AKJFQgPNdg8XHsAB22JDHYmrq56THX1QNLk3o8+Gf6aoplkqLG3oWKN31ZetZCcfDWDJeVtwwDv2f715NiCAi6XEgNPLusOshCwAs418yGy6MpB4IHhU8FkuL1Q2XLN4fUkrERA8k8uKTBvMSN//9yNn1+khQ2mEdUFGpl6by0GL6MIiXjedLop+ENoMAJf21EAAbdF5pLpapW2a84Vq89/kC7o57+F0nqMaO12OnkItkCiA00nnZFXoUabFzzGAYT2lxxn4LE13EkMoru1yvDDpm9ZJ0Ny2PJ79QDlUI81pu+AHV1Y86lMcoAKAEkrrRmbdEgMu+ErmBjwpFANYW5iIjtReFsrrBq02c95nomAgI2T9xbbIRM6r2CWP5fv0RHnlkN9UVy6u7LPcBoco4M90h/VmNMM7O+pFvBZobl+MDnx2wgP9Dbj7YY+upLe1ZTbj02JHteZO2RF7ztsW/A2G5cXqmIx57is/3lQCMvatSLhWLxRJp8cku82rKY/ai5PgrCQFrx7/m9rMZRIJ3vOY/VbR8ErcjrOtoFACekYYSafhhVDeZbBmz42zI77rZVfOKNm0SfYcJeWymprLSt2MpcsbZbbAwMuOHrWkfci6u6z0uCBr/X2PSEy86CvekQS0ra/7AGQIk9aOOD9KuNYU+6p9ioOw9r4xXKtS1NwoA74cNxbJIi5sHbP7Mysop/ZYK4+hS/3E43RI4nye/VJ7N/JU/F7bYxptJTU5zbC12FIVzXAW/r+8cXdxIzQU83hg/Fc2mvdY09PH6Jk8OPBOLF+g4RbX9f32wvbsbzZ5kyHH8FCNba4PVNE1Xj25wPv77eAVN0/kVbRP3HnATxvSZue3d3Ui/xer5j/47f9+OX9gRrefx5p2++mh2sKD0j/23/9rPLRBOjdNFp8fXNrc2/tpZkU/TNF14YZE/CfdjrEzp0DecdtyKZSrzC6svjC9OtNEJSTcOj7e3vlnsD/9YkeYks731YP3PZ4voeEVb9rYCmq6fTrhTMufCwl2RdGuFP4xSceHW2vdxUzze/rjYVpCwQpLYYvetttdi6dvqttHFW+dpmq4eD/I5k67fElscvDd+uihtn6T35BfI4Qthb6T8Znx35/bf7916vymW9a+9sbGbwpb3zvg7sYe2qDN9OjyVtfcKaJqm8ys6P17fit0oj++00XtkYQ9o5PHWnY4imqZrRzeSmx9Ofl9PauD6UFEsM73WHW7jic7b3oQ22tMHjjCu7sRAEF5Z4yw+fH+nrYBOXh7lEl4EyJxH35yozWxk13+tgk5aoUvmznk6ds9w3g2pJNvZXrxQwLOUvBle56WLTg8t/j3e6xvXK2i+PPqD0Qo6KW6mb/GtUzRd0J1h3SeLflsfKqJ51zT248nzz6GaSB45QgGOO3buXhiv2w1Als+ZKlJiZWP7xLwn4FsarBLAfSmeLIsh+E2VfmB62RfwzLbKELKcG+bVuuVFplABoE4a++pkguhYnfnUYgMoxfE0WdiDGmH95jp5yyyrHHBYz0qSMzsviWSA/4s1zpRiZ4uJ/192vBwApbnYp/tNLL3C2GZtAHVcnsbZHb95YIqFUqOOTK2C3wa5iw/Ar6pO11MA6w+k3dVFUQIAVIbpDOPsv+KGoDFF/TOxzNYWgF8JXshQggFAHTmS3kg6PNd6rCzUlzqSHBAeV7wEQHKmt0Mljvb6jndu2g8oFbKk+m09A3681Gqs2zv3xDj6h7+E4PVT/Lp+ALLpN1AvCACkdMl+PPlF8GwiZ5pNFfeMBTRN06eG7n0X3kGzeW+0vpDmLFovvlfdNrq48X30tfnj5tz5ApquGP97zMyDW2fq+z9efxDdQbW9tX7tD/wvtLSEx+p0Yf1o0pauxIrCRCa2Radvbzzev5HvF7t/T9N0Uac93SBxe+5MopHd7a3I9qXS9yNDs/D+ILqwfjxpXxjfuGb7+wfrfx1qKqJp7qR1sYOmabr0wp2EfWF32n6XfhT249YD13hTEU3T9be/S/16e2tz496fwzOm9DtCtrc2nEP1hTRN0002/jLb363f7iilaZr+3dB6uqlT2onk1twbNE2XDn3Fc1F4OEP/vvMOd19YwYXFpLHw+mBpBg9jbdn85t6tdypomqYL29JMv/fst7ChjTvvVNA0XZiy+SYrT35JPE0dyaC5MiyvnYzk4rLjrAgAGKehtNmW/MoX6m58PhhdvnG2i5utKSbkxuVPoovlaSoS1E2sDmW3egUAYByG0jeTfZFddMynrtCVm/wAIDEuOfTi/Rnhb06StfvmmgqTN+l7udFhja1YMc720mZrcj3Gz+f10R0DqRWJmqbne5XxMRdvLYBAO3H3ikoApOlYzq/DV0agHLBO1yd0msMgftOWZIXrDF9FAuXgX6bjGyCScBjEb9riN1KM1R553RSjvuq5oeHZebHjN2vVJk9SRZqJu1dViaUfWhpKulwvtc4vdchSx03xGyCdq1n0G1+f4GVj8qJkZk9+kRyqiSQgUF29a+3TyoSRSEOJSvSjS3cTnhCo3p0ffEMpiX5ACWWaXqvHqk+4c0WNYxPGuBEI8pX668v7il8ABOqrd2f7NPJITZRYqR9bTY5fAMQ6Y70QgLBcr3rpoEYyk6+3Lo3qS0QR/wWSqrbpVWvizS1QXb5r7dXIovWISvSjK/H4lQgllCjrjROf+5YT4xeAfP38ynRyvw3N372s4t92JZAo6/umVzm/Duf7YzJV2+D86ionfqV4I1O3jqY6k2gnX6nrnV5dTR+/0hKa+q8pBqLWNr74BSBPop9dHn1DGenZPIFM22dNil+R1UyoOs/sETXyBEK5qnVofg9X9+o3gBLKVa3XHb6UTRXZevJLgqh5EwiEHOaQjcIIBAJhP5AQRiAQchgSwggEQg5DQhiBQMhhSAgjEAg5DAlhBAIhhyEhjEAg5DAkhBEIhByGhDACgZDDkBBGIBByGBLCCARCDkNCGIFAyGFICMsRUhS/Q5lPZ+cjSzXvTKrUe3mSrYZ2uLIls+FkccQUV807zo5/pDJcwJCs5b2nCvoPXkusOWJp8UnD1Grasxt5JcF5+q2cV8A8yv0RNW9jn4qadxad70xvJU3/H3pICMsFHtpaypMVv4u15j00JrjsreadhSr1E/EEABj3cK20rMlk84SYjNe6+7XDfGfMZaOC7uyv6Yo1B2zIY+upK+1a4os/aSXBWfelMnlivwVShbij7Lh7aod5hamImvfPyLM+c5GwJ+FzR+mit26HhU62/WGR7f2cnp6FmncWqtQH9CRJQ3t3d/P2H2mapov+o//2Vw/41Mmj9X3WVkjThe/d5jl0NwsV9MX3qjs/Xt8Mq8PENFMupJzdm1ESfOuzzurTQ4v+6DHCg5F6Us7F31q8UEjThd3T1ypSanmGat4pnZ9C+GzhjMIFh5mnHMK2HzjH214risroFFXHZGO4pe701VdEpD0KSs+Mp5bZ+uJW3E5hdWdEHCjMYlvqPTRawTnuOSYovf3gzjsRuZ2CVzvvJB4E/Hhr/eP++hMxZZqK+r47D1LvhO/Xbl2ojriSX1j9TqxMWNI5RaUmrBedrP+cnrDQzh+ucU61dnUX0HxqT+nYW807C1Xqg3mSrKEduSStMFL8wsW2Qpp+bXzjcVjzaY9zw1NV0FMM3m6iExSbouxPEjyiypF8/ng42laPbkR6KTVQcnhaat6pnZ/C+mDpHjHucPN0J5KOzvDcgTNaPjnsTZxKME5DcVnLTZc/OnIPLpi0XM1W/1iNvK4nbofxWs41TwX2788P9q7SspaZyGSE/drSUtnjjjoTvKmtedvsuh8b/ftdN1vKznFPkb5vrlFoe6zeUHTy5Z1paZ4MTxCEuuYqIGixcQ9zXrJMsRCdbcxSAZD1uPyAskkXO8CTvW/vumRhAay41rNraBZq3nurUh/Mk2QNbcC9YGGhNF5McxhsBMbW3mxjZMYP0svB8pGggs6BZfyWt01OyIwtKs4X+5QEj9UjSjyhl7EZ3rQxcuNoNufxPkU179TOT7FiG/4wiJeN76r3daTxIeIp58JekGiNEwuesBC3b3W6VQ58a7Z8GSsQspxttjEQlLVOfB4V9J5sVSVqtaz2aAe8gEg3NL8aLrIyP1gvO8Av4B8zWf4p0V13+PyBgM/RIQcYy1zMmTyR4o3B+btRSfDPB6sEgMNyJyaVtOPuqTV5AVHdYMQVrrQ4Vd3YSCF00+KKx2jWNmsDlK0ZzmLmsvkwCFASiRAAG3AONxVLK1osX0c0p/kl71PIQs17b1Xqg3iSqqGN4JqbRb7iqNccy5GL5TWGSY7qa/BmvcFBacZmkrQI0pKqgh4mmgWXytVdq8cHP7dyDuPeryQ4AM8dWwioPKGKB9ag+XWDk9KMfpQ+UuBZqHnzdH4y7ivdTlCNnckKwbnEsx0EhiVk4hN+3qkKl8ULNE0XtKXV+9nNfiJJ/657MWGK+uBGdebsw+IF7gziszY6SXgxhY33S2m6oNsV/f+Pc02c7NLehD2/9sXarQtR5db8is6/bsyd55VTSkck/cRDrKO+6C7kLxGp5QCe3DOmCjiGZ4U8xNV6/OPVnJnmnhPJSB6KRyfpszZOHfm1Q+4t7lXV435O4YxT0cW2wmR1ovg8NEy6iSRXeZemi87akiffyfqYp4bW0txbmxO19F4pSL7O5/LdrVp6P+mIQ8lTHoUx/llTQ4U8tpBbNsBdwPGv+wHZf2rSzx2Cfi+AU6cq9zXsT8MrKtWv4v8TvTEfCASuqqP/3wm5xgw1xdKYt0kKQMH7XgCntFUZXJHU6xVgpyYjq12h2VtOiPR/Uu7TUf9wnbbH6keeRNNr9XzjGKyRCPIAUMh2kiXU/Xk1rnMBSlSiH7yulwD412iR4r67f4krlUAg01yc6DuZVMt+PAmYez5iUWI8z6cgKfSrho0AACAASURBVNH2TYdHuH7f6kyrDGAmx22PgB3/yFsmr6BxMp3sSDKM+3J9s5WRXbSmjmugvhoID6I9y9MXVcId90htp+0RADAL3S1WRjkwySuSwlvP8OvNNkZm/EuCPsj9kZYBr6BpkqfqJMR6R9gVr8dxXSfJC9nbkhdbVVeizt6dNpYL8eWI9m2+ddJHzv4BNwSNHRmkJDN2PgCAdQ6Z3BA0tutyeAiGrJ+AJwHrfLu0eTbtxpwYR/4tvSJqGIo6gCLqPgmatWXJ8ly8rqTPRADAMd3pyh73wh37I43mxdAdmxsv952W7sOPFwRHAT8gVLVd7junisYgv/crAL+VpGgmpSVPWNU9XdWd8MlKTw+gVPw29oHg5carnzRejZcITdUC1PHjLx3AE9b5wbA/3ROS3zF6pTEyl86jhCUdl9+y1Hzo3wwBcM75AExpJVPca2zNYhsAzY3E1wxjv1jRMhtSXHTMZMxDUQKR8uzE5FZxzYf2xRVo1FhbsLGA62Kx+CKnpH+gTDwASI3LCwkTwx/sXZUtln8qjAsziSEv6JjzA5jUiie59VmbxVYAmonAVW7uDXhRIKkZnP/vTWmb074U7JCmzj4pwUtK/eTkVnHNyMKiC5okC8GPTDYWyt7zirSPb8bODxOYMllZlPSlj3G5wVMchT2yT80ygKx1ZjWcCwsEAssXubfdUZEQcH3uSh/njh4VAaxzcc/g4vfHd90wbss8736d9Hgs4x5AUDW4EMmFBQKBCS3XlWMigHU6U6UXE6E0TY0U7JZPQvDdMn+Jqub9vfSECoUIgPRMX3ssagCeOct9oCQh/OyXFDXvVJJUqffnSToNbYhEUuD+GledHInq5NmSWQWdD+p/HAHwwj5f3KzPrH2lxcIqBxeseumTSXv/vGreaTs/wUq/yQ9R68XcHoIBTzMXFhyvpmm6oG1uM7LtaP3j/toimpN+erwWzseUdtxeDwt6P97edI03/Vc8s7A5XU/TNF1YP+SM77O5807brb/Hiqx1F9A0XdH/xdbu7u62/07n7zk5nd3d9AmLGM5OmqbpP1xb/zFSxeJoW0U+18h3tyOuJG75+Wtn20RSMmVj6Hc0/YfxufdLM+lRpyWSPCrtuMPdjcWzEL5xo5amafpE/730+bl0at4JJdKpUmfvSSYN7W3bWZqmC18fj6uTh/dJ/W6Iz5td/lzY3iroyW3a+GtnRT5NF3av7UcSfMvZXUrTdFHnndTdP7zseWv97GremTo/wldDpTRNvzH3HGiCP810fto8bmIGfeuzzqLUEok3xOON8VOpJTjp5LX3khPTtaf40vmZ7rPFtgJeZzkVRUJGUomUfHA4+cr7VVb4x6tTauHbV7UYy12nLkokp4ppuvQ9bqBLzjfTdGH9bT/XSpaehFcG0j0hka2kSSSk1ZPhCWGpzUn5gRbbUr/Mr01fC28I4zMSJt1mK55bi/fOL+pMXHz4jK+eU+PJ61rht2bmF2Hmzt/dja7tZIxxucPTTOeL9DMTrXFJapnm4sTyZGPSuFygHry7NKovCSeJowLL7yZkA/Ik+lmPtVcTl/wWK/XXJxrF8SKKd61XtZG9DZS4yjjrsZ6T7c/ZF1WXPxnkqHAPzTt6k9Pwkjesntk+jTyuPq58Y3SiKTm7Iaw7XQUAisaTmZbd05Ks5i3T9FrvXknNdqvOdysoAPl63StpjaVV846RQZU6K0/2raEtqWydTqM9/qSghDJV26jjK+vPWktW/Lxq3nt1PoCVaz0rgLrjjPxgDThcEDXvp8L9EXXFcFA74bmS9f4jAoGQBeTPvH9mdtjQyrC2ctgPWUcbiV8EwhPmaW6q+KXhNIibbZF/CzQ3st5oTiAQsoaMwn52BHJN3yzPX5MQCISfDsmFEQiEHIaMwggEQg5DQhiBQMhhSAgjEAg5DAlhBAIhhyEhjEAg5DAkhBEIhByGhDACgZDDPKMQthOyX2pQx09vFRscz8YRAoGQ0zyTEMbYzhUnaBSlwIa8s1010hxWGH7yPDE179hB2tLik4apL3l+A+Zri6leHSuX+nZh7zuHzxYnaESnFAjY48LUKdIecSGMbNSk06l5Z2WEDc6bGsqjjlS0mFPVvDkdW1xzMUUSPJt+y0IFPQtJcK63fL/O3nrsYSOxs90lcnW9yf6Qp8kJ7Un5gXKKZ7E7P2BWl5v8LzVOzBpVx7h/+MwGnddNnR/Gnk+JcclB/rQQD20tlQZ70l0mNzqs+xAoC802FL/tSvlY0Djr6Yud7bkTshmqDfOhxBKJBz0zX1tMHT1R1SJAOxG4knyuMjzDZSdHktSuBdqJ+Jk84Rsg+TL+39rdK9dOhlvOPcR5byOs+5I6RXZboLmR8MdeAUvDya7kM4K5Hbt3vz1ym2q0yfFXoJm4Gztin9cTyLqX59+IH77kvVJW80Emb4OzDTVvJzsru+iYTzhx232pWHszhGSUgyvTumMAgIeWhrIuV8r7T9Bk9fQqUi7MBZ7BGWWftdFpxFeiRwMWNY3e7j9B70eh5znmSah5h5Vu6eqomneCWHfCuaCRoyJPtI07N7ZSBVbDIr40TZ/ovDN6lk4+2C9cZn3odzRN07Xvh89kjelsJ0jpxHSI92x5BjXvPY18M1RK03TR2dvfbG3vho//HaqmE+V+t+fORF2Nns17+0whzdEM3rvfslBBz0ISPHyMalhuPbFM7IzZLPTYdx/faaNpujDa5IQWxW6VjesVNE1XD0aanNgtKfrkucEzS+cLhTxndgsrdVXlRqt7deKs8ugBD9EImivF4nYns2JSS8RicXGXg8F9s1YqFouLm2fjbzk24DTHh9PS4pOGqdRZBndYLi3nzkQCZrVYrB4Lgg3aL0YmI9LqrqRxe+LgXyxXt4y5mX3NAQOWaw5A2jFzVSd5EQCofN3oWCMFuD5ZTH3hpoHdZgCh8kSxMHJe+4tC5f9VCgHBv0UHwg+n+icZyI2Ohav6cokgVdYkT1n1ukJ3fdn3+WBVfppzg5bGR74FdXJ0sl0ppABQwpKOyV4FwFjm3ftpNsA4u9ttjNxofVd5EJHQz+1BUI0fjOqkAgoRkZHJXgXYKdtdAMCOc3EBeLlvrF0pDHesQKK7PtpIwW2di94oe/ab3z4fBNV49apOIqAiBTon+14G+5EtNvMVqAfnJztU4U6jhMrOy61CgHWtBSIFnJMjQVCa65MdJZFuCxuJC5veXbQDinfHOkrCnlACafg2cFs+jTnLMgAUqlfDTQYogeRV9XEA1IvRAeGPW4BQ+X8jTUYeJSw+oRQCAkGOngT19EJYVOZTLH7TBsD2ZkIGo9Ic+RGO6UYn9YpfZTSUDV5zS5PZvwMgZLne2VJrcrMAQs53zdHHyNlZ3myKqXCDDXlsPXU1wxxVEcbZXlx2Li7ozQbsprru5PRPRknwqPB4XBLcPqCVa8O+ZcUTUfMGZLoWGUJmbUnz8JKfZVn/vEl72hwSaC63RM6zDS3Z3aAauzNNTpXd1sEaUYZ73et2AZTuTzFhOja0Yu4ecwNgV9aSp1KZOKCad/z6zSAgSArEQoVSCKz5ggDwz60QgP91hHOESN7x42WAZz06Rd2z3/ZWQU9PTBLcu7YMULrTlfFuc411X/sbANblDiIrPXbgxarGOgGWuuQVXRZPiGVDrsmWmredkBuN1ZEfTfafZ2QImWuLm684/Y9Y9r7dVNdkDgk0A2f2ea7xYeE53VThc7mEeqvP0ZEPfGm3QzPh8QyWA+za2reRIi/ka4yTDo83EBEWf0sGBM3W+EghNNPSbGUgULZOOnz+QCDg8yxMtJYfTaoqkyR4wNwy4E0QbfJ5FgarBIDH1POXbMdPT0TNG4DoDaujVyUMOUea1FKpVH3OHFQYrUtxScR1twtQSShLPBO//3WDzX+EgOMyMQAwX1u6KqTFsXSybz0xdeUfKIsOgNUNlyxebv47SzXvDEZE0uNAaOTdYddDFgBYxr9kNlwYife78NcSCnB0G2b9TLjIQ6/lUn0/d/lir37bWwWdh2RJ8M1gCFDIRAB2GO9sl1pW3DAQ6Xm/z4+s9NgBUKqBuxNvSHDf0nWyWCotbui1U/Wjy4kHWIv11oU+lTDk/KBZLZNKK1rM3x435vJhUE8vhEVlPgOBGxoAmhuBOAsZldwPAqXp7VBQEtm/A4Cq/5JKIDj6KwAsIg+kavDzhOkSJVT+5ykJwDJbUQvBuUkXIOn4y3RHuSQ6dFd1TBqT09cvNU584RiskVB5ACXRaGQAu7UFAN6Px/2A6oMZzuD/o1YR4Fpw8UicpkV0FO6pdrW0vHlkKYQ8ie664+rJfffJUZnytwnT95DXtR5K8OK/Adh7TnaZV6LrXGzQdbOl+E+WrKerYYRHHtlNdcXy6i7LfUCoMs5Md6SXzmRDftfNrppXtOb70Y/um1sueQXa0UtZCx6nGhHWdTQKAM9IQ4lULBaLpXJ1k8l2P/EixfleJcDY31bLw0VKarpuulMam7nfhLr2RgHg/bChWBapp3nAlmmUzTgNr48EBZqJIQ1nPHvsyPa8SVsir3nb4t+BsNw4PdMRT9QXn+8rARh7V6VcKhaLJdLik13m1RRn8yiJ4njiuNX/xZr/Ebc9wt8qZYntWXd5N/dzNx4untNRGKpOqWO3h6bxJM+TwPgspnp1ZDVdLBYnL2/5132AXKfZUy0ivST45j9CgLKqJHnwrwAQ3NzcR3N+upo3GIehtM7k/KdEd33ZszptLBci5OypTAgcAABhsX50wcMZM66M3PKlMcqPraW8xbwaglChv77sW52IyoVEJRFjutaBQMDv8yxM6F8GdtymyzYWWat5ZzYCIE/Rd9fap5Ul6MgYJ3o1SFBvFNZPr47pleIEHZmhUb0UieqNe/dbViroMXN8kuBhrC1l58zuEITF+tEl3+qkXhler4/IrWehxw74x7Rl5yz+/6kyzq56Ph/V5QP3zc3lBmcshcs4DeVa01JIUj+67FmdvqgSIuTsVWvH9im0enh4BksIn7XRfCphXMK6VQdYkeQIdi1eSPp3xOC2szNZpi1MfIltsY2m6T/ezrTmt5eS2+IFmqab5pKX9hbbMkh4pRDRzaSLmt5ffBBXawyvlHWmV5HjEl7PoiuuxSXItjeuVtAJbQz31R2uute2rYn/xwqLhqW0fe29Apqm6fyKzo/Xt2Kmwitlr6Vvsv9aRaxPUrXguKS9cxKNpGFzopamC+Jro6mEV11jv3sW/cZbz61TfGt839/pLKLp/Nrxb5JkN9diS723vQnaafY2mqarb6RvkKu7IHFhOrwIW9B2J2bj8dad8wUJ66eRRdiK63HFzu1vrlXQNE3XZ7zXDy/P6ygsM6z9IwsDyN6aXvVG3+RLRh5h8RV7BmHxPTkioADnnc+5g3TPmhuATJLl3PnJqHmHNv0ASvQJomqUpF6vBOCNyJ6LJBLAtfY3znXMD1vYDzKFCgB10thXFx3+AMynFhtAKY6nbTKztQXgV4IU6er9sKcRxtl/xQ1B46m0Gtfw3zRNsVBqT0QmWln0G089XBX0MBklwWXHywFQmot9ut/ExmaMbdYGUMflabotVY89GAwCVP3p2GIK8gRVf9JRAHt/gwGAzc0AAKW+Ln6zU1KdvgTAuv9b5CK/zBC2ubkJgJL8n18LXoxmRt8e546kZSdqBIDTcLLL4gmx4dXGhy5zk4l/QzofikodBdjb64dXwhbY0Iq54fWRIKjGupQdoemQ6hqlgM/U8LY9nNRg71taXh8JgtK8cSppZ4r/plYsFosrTMmRNw8UALfNEvEEeBRyzdrWEA+mkooqEULmC132+ywQ0V5q6nUDVSdKsnWWqtBpKLBWQ/OYK8SGmzxc3+YEJB1NfDsnWca/NNxw2hwCVPWvCsGdIUZYNkoBaCYCgdgkfQ8jSV+H/K6PutSKZhsj0Fw5z+PHIybosQ83FasHvJAb+2qjNrLoN049PtfURbX8TRsj0Fw1xOthlnrUlSb3/9SNLqVIcwIAVVWnocDa2pvNK5Fuc12uNzgAaYc+JeCyPwS988PNJWqTB7KLfbpYg/NeAMA6btnDKX+AZfz2GScLUPm/jkqiAlizzUYWH7DDhlYsNjeA30peSnUsB3gWu/MdBvGbtsQ933H4t1wD3D3iGQmaK8tMvshObme7uNma+O/I7u3gmLpsgK+exO3mjLOrojkllZ2wRzzsLe8O9ZiJ9tJma/JATlg38flQxkRPEvfNNRUmL/czzn73CHHNpJTu4vcEkBk/j2nQ8pbhbBB3toubrXweSo3L0TUZxmEofdOWaRO5wxDeWJOIqGl6Pp00L/c3zdpI+CpOW5QD1un6hNF2qhFx4/QnfQl+ZNFvqTetQDn4l8RQlahlxSXeb7wVJf46PJ2f3Gk7frNWbeJsDAr7E/9TAd5fBym7/HOIX+YoDKI3rBNtcTVpmdY4sTSRIiyuGry7PPqGUhJL1Mo1fbOXsh4+ARCortxNER5fvruv+IUnouYtUF256xjSK/OjF1FCmdY4sZSobi1QXb5r7dXIou9roVw3uLDv5XaB+urd2T6OEPrYatrHgxLK1K2jGaTFs2EvI4JjMlXb4PzqKid+cS1ISnTGSYfP0cc1kU2/Rcmggr43yZ0vKtGPplE4T6vHnifRW1enL8bvNwgkyjcG5xO2zgjUV+8uDOpLJNFpPiWUa4yTy9bcjF8gCkYEAiGn+YWOwggEwvNBLql5p01gxeGmSwgEwvMOGYURCIQchuTCCARCDkNGYQQCIYchIYxAIOQwJIQRCIQchoQwAoGQw5AQRiAQchgSwggEQg5DQhiBQMhhfukhLDipFYvFxW87f8KxYAQC4ZnxjELYTsh+qUEdVSYT80lGPxWC9hk3gNDs3NozqZ9AIPw0nkkIY2zniltuuvzpRj5syDvbVSNNL1L/xBBV1SsACOtOHf9Z6/np/OCeao9IVR5AWCjM3nL2bNB+qSGiXySRq8+a3T+kWMnoSXBMLU5He9JhkWxwyWw4WRyVL0jzW+/4Ryojr7kU+btkT5Lb84PXEmtOWqnQaOcsGMIF1WPJp7Fy+q28wZTabzHuj6h5G8sGnWOGmpiaaAWPEebrRO2o4pr2KU7nOwxpOzaqYZhF5zvTW/m5n7Wfi2fxZ94By7UF4KXGiVmj6hj3jC426Lxu6vzwIM/nwRA1WQNNT6mug/PQ1lJpsMeevrCw0KrRYd2HxmKSnD0b8lrOla1/m3DQ3SO3qUYbv493GP+CSbuyHjst70l5AgCMe/i0duTLvQu6+7XDfOIj7KpJXWdOUDYOum62lK0alz+Jq2E5+2u64mcEhqVCnd7J1cHyFCXMh5aWsza+wMS6L6m1NxMVlF3mc2WufyzPv5FyHvSOu6d2mPccguBkc3PCCQXM/VQjzu7qrvixiGzIa+3ROrwTK4OqVE1iQiLP4Lz+z9oSFdIT2ZyojUhdjN7uP3Ew+Y/nj625N+iI5P2Pu7u7u9v+sBI9fx/yk4Wc/cb7pZFawmr2P27eG6ymabrAeO8nevJgtIKmC9o+i2lebN7+I03TdNF/9N/+6sHWdtoLtz5rK6TpwvduX0uQdIl+t9j5atOQcyPcnE3XUDVNJ0l7LL5X3fnx+mZYfiXaHB65lscb46/RNF1/e6KNpumKUY7cxtZnndWnhxb927u7u7vbUSOp0h67W4sXCmm6sHv6WqoozIOJs2ffX4x07PbWxsdnC5OVSha7X+28/VX419nd/u7e0GsZtU52d3d3d7c/aytIcTiJlM5P4cfFtoJ96NEcNg6ZgtF3t8+eHl/7fvenKhhdWNxy9Vfk0zRd1PnZ1q5/vLaApumipo9jP9NiG79wURLbD/7aX38ionZU8Puz418kCMz8fbwifANtP7jzTnVhPk3TdMGrnXe+45jY+uJW22tRvaTCirOja1uPd/dBWNHnD9c2Eq9ydRfsKbCUiL2NpunaCW5xV3dBXCBn49oJmi7ovsfxbfPWqQSdpIN5sjXXlPS4uroLaLrwwuJWuksiFy62FdL0a+MbjzmqVOlYHyxKDUBcg7ebaJruSDazMVpN04Vtn22F78zMEWF3d32oiOfODEfb6tGNPXWtdnd3d3fX+l/OKOm0u7v1cRNN053O9CUerw/9jqYL2haTJbISraR0fgrrg6V7xLjDzdPLhTnbo5PuN20AbG/yTOZxTDc6qVf8KqOhbPCaW5rM/h0AIcv1zpZak5sFEHK+a3bvdWkCjLO9uOyc2XU/MnFiA3ZTXXdKRsbeVVrWMuNlwhIhX1taKnvc0Ymwf6xGXtdj80SnXozfPqCVa82ZpFK5sB6XH1A26WIzNfa+veuShQWw4lrPzkgWcvbM5reAQHCEMx8UHi8RAmthzfCDeeIdHXaCauyNz+/cCxYWSuPFzKdvM7b2ZhsjM36wvymqTMyv98MyfsvbJidkxhbugXKe4eYBr6Du6uX9na8tEyWKZTA2w5s2Rm4czeb45kch1+Vu8w8CTZsujTYRy/gsnZeckBv1pWnNMJ8Oj3wLxcV3M8w0Uzs/xYpt+MMgXja+q06ZXOcIz+mmCp/LJdRbfY6OfOBLux2aCY9nsBxg19YiSlOqqxF1nAlNGhuhmZZmKwOBsnXSEZWGnWgtP5pUzD9msvxTorvu8PkDAZ+jQw4wlrlwlidgbhnwArLWmVWOuKzH1POXbBWyNx8GAUoiEQJgA87hpmJpRYvl63DexhsOLnuShZy9SKYAQiOdlyPaNizjd44ZDONxPw/iyUOL6cMgXjaej2sgBdfcLPIVR73mWI5cLK8xTLoTM+3Bm/UGB6UZm9GLs2ogdrx3PgkBVSeSnvloFlwqV3etHh/8nHvm/SNn1+sjQWmHdUCV7RPsuWMLAZUnVPHAGjS/bnBSmtGPMorSB8yRZLusuGEc+j/ziBJEX/NSeWWX65VBx2z68L3jHn7XCaqx4/UUwaYYPJ2fjPtKtxNUY2djeiuHnacXwlRXopJaNzQANDcSRLYWMv72B4HS9HYoKIns3wFA1X9JJRAc/RUAFtkOf4Jzky5A0vGX6Y5yCZUHgBJIVR2TxuRTYV9qnPjCMVgjofIASqLRyAB2awsAvB+P+wHVBzMdJcKoBd3oR60iwLXg2o8EvOgo3FPtaml588hSCHkS3XXH1ZP7uD4LOXuhrr1RAHg/bCiWRZ755gFbymhxf564rve4IGj8f9wnhAXujzQ3mRIGp15br7a0NzpEvm9uueQVaEcvVWY5MmKcnfUj3wo0Ny5rMiS/f3B2VdYPf5kgbN1tsDAy44et2Q70GKfh9ZGgQDMxpImFPP9Yi8kj0Fy/VJX9MG7Ha/5TRcsnmV5jjKNL/cdhd5oV1NBH/VMMlL3nlek95+/8RB5O9U8yKOnLEOMOP8/pKAxVp+IDY03jyQOI4/jXfYBcp9lTiuYVlSph5it6Yz6mdbj5jxCgrCpJnr4pAAQ3N/fjzHCdtsfqR55E02v1fOMYrAkr0PBJ3vOThZx9cd/dv8SVhyCQaS5O9J1MqmU/ngTMPR+xKDGe55OelWj7pu96fIFAwO9bnWmVAczkuO0RsOMfecvkFTROXs5S54lxX65vtjKyi1YesSV1ZLTt8yxPX1QJd9wjtZ22RwDALHS3WBnlwCSvShBvPcOvN9sYmfEvCUu090daBryCpsm9dZ5i+phej+O6TpIXsrclL7ZGX/M+z91pY7kQX45o3+ZbJ33k7B9wQ9DYUZd+8JSx8wEArHPI5IagsV2Xu0Mw5NbZ+c+AF3+avjQAUC/820+6/gXBUcAPCFVtl/vOxQS9/d6vsD/50jxhVfd0VXfCJys9PYAyQRFc8HLj1U8ar8ZLhKZqAer48ZcO4Anr/GDYn+4Jye8YvdIYyRvlUcKSjstvWWo+9G+GADjnfACmtJIp7jW2ZrENSRKZO4z9YkXLbEhx0TGTMQ9FCUTKsxOTW8U1H9oXV6BRY23BxgKui8Xii5yS/oEy8QBHGRMAfrB3VbZY/qkwLswkhrygY84PYFIrnuTWZ20WW8Ev5vCiQFIzOP/fm9I2p30p2CFNnYFQgpeU+snJreKakYVFFzRJFoIfmWwslL3nFWkf34ydHyYwZbKyKOlLH+Nyg+d1FPbTOSoSAiv2ZFns/XBEQAHOO59z36OeNTf4tKDTIFQoRACkZ/raY1ED8MxZ7gMlCeFnv6TK2afAOPqHv4Tg9VOKA3jiudZjZaG+1JH8hIhEUuD+2hq3Y7eY/Xc06zfXyVtmWeWAw3pWkk0yi/ofRwC8sM8XN+sza19psbDKwQWrXvpk0t4UJQBAZfKEekEAIOUdyth6Bvx4qdWYYQiWtvMTrPSb/BC1XsztIRjw7PaFZd7w8lM3VUQX4BcvJP071eBiW5ol8LX3Cmmapn/P2a0zfro/XnTP5fPwhoOE3VibrvH6QpqmC7pd+20RXdpxh7sbi2chfONGLU3T9In+e+k3LGx//2D9r0NNRTQd3gTAU2Jr85t7t96poGmaLmxL2PuQvSfhHWSlQ1/xmbedpWm68PXxe5vcfVK/G+LzZjfpN43w/WL372maLuq077E3I9amjb92VuTTdGH3WrpNLXybKrac3aU0TRd13vk+m3qyuCt+3HrgGm8qomm6/vZ3vCW2tzY37rxTQdN04XvJ+8/WB0tpmm6yZWh1ps6P8NVQKU3Tb8xl1XeHm0M2kUzWdvebysUmAEnTh59Msp5bZNjPmT4o2q/q5pstAUvXSUtXvKhmIvtqSjpGtXPNVvdIffFIwsfCutGOfSRQRfoPjXMVJu9si3o2/qlAO3opeSHcee2SGwDumy1fGJXc7uKVs+dMvpI7HxAoBxPzPtl7sjrc7QDUHWfkPO2hqjuMN+ymZVNDsSnhY5nxVkf2itLO/uapAICQ5azcwvlGYlxy6MUAnAZxsy3psjyF8S996edfPPV0N00FAYQsLQpuPUkzzUwEW3e7lwAAIABJREFUzZVlpuS/MRDqbozqjkX/5zCENxtxeNlofVfB+SS8yPhSa0d1+tRbxs4HAIQsAyNBiFrbNAdXUD80kIlkegSqwbvLo28oJbEEt1zTN3tpPzqVAtWVu9beuEA8JVbqry/fHcoyUR0lX29dGtWXRGdvApmm13r3SqoR1fluBQUgX697Ja2xtHL2MfIEQrmqdWh+dXVal5TqzsqT0NR/TTEZnpA8iX52Ob62kCeQVLZOr8xnm1Y/EJRQpmobdXxl/VlryQqBRFnfN716dzDtCgAllKtarzt8KZsqXNd7XICq84wsbRTeq/MBrFzrWckc43IJIsJGIBByGDIKIxAIOcwhy4VlJDmBxQPfGjaBQHh+IaMwAoGQw5BcGIFAyGHIKIxAIOQwJIQRCIQchoQwAoGQw5AQRiAQchgSwggEQg5DQhiBQMhhSAjbi0fOrmKxWKI133/WnhAIhBR+4WreWbAyZwkBO26LI1khNQuchlRV1KeE05Coq0IgPKf8wtW8s6DklE4I5Cl06id9vn8C3skGtVz77BsLNjhvaiiPSErLTxqmvjzAkY9cIxUt5lQNbY4Qd3HNxRQh7rBeVEzdOlkfJFtV6oxGsvWEWZ0ynCyOGAmrgvN1C/O1xVSvjpXjeSuHNb1Loq9uvhdMZiN76orHdcISib9Es+q3vYwktCeTHnvKvZReSv2n8EtX896bF1WDq4HBn7mSTY/Lz2R/WNbPhfeKuuaD+GPFeGw9tc61GzxaO+lJlr9m7ttNda71RCMBS8PJLo6w+ExLmZcrCe4ZVp8cSbDitfVqnZ4JviOG0rOnkSw8Cc02FL/tSmxgyGPrqXX6Zz19sTNRd0I2Q7VhPqOcx5fDTXUj7gw39h5G9qMr/hTYQ489aPlTTddyPGYxGaTUfyLP4JjFX5Cad9ojYZPL8Z8o+5Or3pdEc/gkz/AZs7sJytUZjjlN5ZuhUpqmi87e/mZre3d393FUZzsusrs9d4amabr2/Xthne3trY3bZwo5Sr1hkddwmbArEbHuwkSx7mSSVKn3NpKFJ2GFYLo6eu5ugsh5wnmqkQN+T7SNOze2eIVpv7tdT9M0XVTbd3s9yK9fvqeRbHTFE48pzpYUNe8sjOytx74xWlv9zu318MG8P0Y6dh/izVlzyA6e/ulq3l8NFaUTZE4KnY+31ibaqqNC3aVnwvXGeTBakaD3ncaT7Qd33qkuKqCTiYStaAj7fm38TFH4m6I/DsVOheZWwSUp+ny/dutCRDCcLijlkwTnCI/TBQU8RjKyeIGm6YI2zjnOYTXvgkyBg8vG9YrUY7XDb6aIMPXjO200TZ+6xbmVH9/rLkhQt/6sjabpgvN3tlKMFKQcxBwjWZV6TyPZeBLW7i7q5wRxd38RTRcNrkf++92tWjqsOp62W+4ZCyKC4enIwkgKPLriBwhhqWreexvJUo89kR/nmuj9h9cseO7UvI+Jfg34/Txn8oRCoZiSKxC0NJdqe23eqFB3cMGkVdTsLxu14zfXlbXMeEOZJSG917SvaE0LkQlCaGWk4awlWyHcMAFLQ7m2xxoRDAcbDEuCJ2RSGOfbpYnC42D3I1MJAN61ZYDSnY5JN7Ih11j3tb8BYF3ubFcFmM0gIBBwxRyFCqUQWPMFAeCfWyEA/+sIZz6Yd/x4GeBZD/9sXrcLoHR/qoq7smLuHnMDYFfW+F1JUaXe20gWngAyXYsMIbO2pHl4yc+yrH/epD1tDgk0l1tk4RKhJbsbVGN3BtVxt32WRYnx3fTz8SyMpIOrK75fDqTmnZ0eOx/5v37ik97nblOF8KgIwD8ZFgBY25ticelw+Hbc+ucmIBEdA4DQTFfXMiOo7Jtf9QUCgYBvdb6/SgCvaSAu2yc6G9H9W77In6ViPx02eSAoM06v+gKBgM/jGKwUAALdpC9wJeHUMp/bvSNrnVn1BQK+1asaCliZmvuWU8WEFoDEuMQrDxyyXOxyMYKq/rizfZUCeEymT6LOrgy3zIYgrBpc8PjCSoTuq1X767jNYAhQyEQAdhjvbJdaVtwwEElK+n2Zj2mLI5IeB0Ij7w67HoZ/Aca/ZDZcGImHbOGvJRTg6DbM+iM/0kOv5VJ9f0LeevMfIeC4TAwAzNeWrgppcb3J/jDcmeu8rqSqUu9tJAtPAIjesDp6VcKQc6RJLZVK1efMQYXRuhSXFFh3uwCVhLLE1w2kZQ2XEvK5366tsZC8fHR9zFAT0y/nrgnsbSQVHl3xMLbmsAWJvPikwbyUuj6Rqd+yMJKVHnsSzOdzTkBUU/XEM77Pn5q3RCKPCs3uuBYdwLd2ZwAAgn4/IJG8BCC0+IkLVOPo9cbIqfaUUPb61UtqYMHlymCby+ZDP4BTb+mVQgoAJZDo2s+IwKz5uCq3eQrj5/MdJUIKoISa0/XUfkTFgdCibQXU66Ojr8edbbxySQXYlyPOOmenWIhaPxrVSQXhlyn1K8FBsqbHjmzPm7Ql8pq3Lf4dCMuN0zP7kOQAIKzraBQAnpGGEqlYLBZL5eomk42zpU5xvlcJMPa31fJwkZKarpvulGGp8Mgju6muWF7dZbkPCFXGmekOaZpa06pSZzaSpSfUUZnytwmPeMjrWk8ceP83AHvPyS7zSvQ5Z4Oumy3Ff4qOtXfAAv4Pm5sHYqP+8FJJac9q1kaS4NMVT2aHCXlspqay0red/MElGzVvXiN76rEncd9c3+aE3DjR9uTXrJ67URhEEkn0Nful0y6sqpL7LQtBILT5EJD+VgIA6+4VgJ1qkCQuGksNDgDr/m+zrekFwVEAcx9OeRkWAMt4p/rHg4Do2FFOuZPnEyUnhMf2Ga69bhfAftTAWeGWGZwAfP4gAAT9XgDK4+me8OyxtpSdM7tDEBbrR5d8q5N6ZXjJ+F/3ujBGnqLvrrVPKxOEhwZ5ApnWONGrQYJmorB+enVMrxQnSKIMjeql4Gom2lrKW8yrIQgV+uvLvtWJqOZIqjZxBlXqPYxk4wnjMJTWmZz/lOiuL3tWp43lQoScPZXJW52FxfrRBY/PHwgEfJ6FwSoBsDJyK1G1KE+i6Z1eDo+SvavTb8kAZuoGR6x7byMRn/h0xQEkDhQCAZ9neb6/SgiEZnvGU42k77csjaTVY0/ioa2l1uQVaCY+OsA0eW+evxAGiVQChDZD8DrvoOZMR7nIb3eGsM38EBeg3X4SFQnr+jrywSz31MilYrFYKq/pWWYgNxqrn+iy8U52zlLUkZ9UzZEjYa/zdYOfelZnjVXhB9u37gdk/2c/L0+BovHKvMcfCAQCAb9n/or+twgC1HF5PHYLK43TS77IQ7I0bawVsIG4nu6R8AgyT6IbmvesWI01IgrAjnfdB8glya5EVKmNSarUWRrJ7Ake2TrftDGQdCw4BmtEAqFSP3nX0S4BvKZ3E8dHmkszxiqpgMoDQAmkuqv9KiAYTMjbSdpHrzYpRWGvXhQqOy+3CoHA5uZ+jADAD/auCu3I1wrjwh5qTJRAJHt99NJJ8BhJ32/ZGsnvGL3SqHxJQCGmxy4EwnrscVifWVtmsFO60aXkaPukeA5DmChfBmwEHwZdn4eqShUStUb4pX0x5F/3QRKJYJLfSgFh63wglXl91slR9q55/D5Ev4lKrFFCWf3ocopw1k9F8lsJIHyLz9lPwhPwFwS/AthgMOEFyDjm9vk3AbLj5QAozcU+3W9i9xpjm7UlRZ99wzj7r7ghaDyV/lHx3zRNsVBqT4SHAzKFCgB10thXFx3NAcynFhtAKY5zXUmrSr0fI2k9QWjTD6BEnyBGR0nq9UoA3vAQODzsd639jevWD1vx/7wkkgH+L7j65Tsc/fK9jQA4iK44s8UAoI4kv9/2peadZCRbPXZmoau00uR+qXH688Gqn7JGl5HnMIThf/9aglDwrs3iqzpRAshf1Qld5uvOECB6KXzrilSVIoRGms5Neb9l9rt0F8P1iYXJq+oYn/w0PJz2rc4PVIkONAI7IqAA/7UBiz91HC5WVb2E0IdNLR95g/zOCo8XiwBnd7slyIZXEhtK37Ttcys0VVWnocDa2pvNKyEWABtyXa43OABphz4p+jDOrmKxWFzcPJMhzc8yIb/roy61otnGCDRXzitSizxigh77cFOxesALubGvNvI0URU6DQXWamgec0VcWRmub3MCko4mrhnP+HAa2dd9GEnvCfJAAXDbLCshNpy+fBRyzf7/7b1/SFvZ3uj9fbnCPtxCyjOXFAoNKw/m6OXJmEutHjCjHFPDmFGmacP1yVE6jtKxhqlVWqwe31SPqHkk1Sk4tUNqWrSeQZsRckw5jpFJjWAbYcQMk8cMk9fICU2ZHgwzD4bpi5t6yf1j58feyU6yY61tnPX5q43b715rZeeb9cv1saxBrEcvqlAIIGC80mndJAEAdsnAynBDrxNAcZqaY8qRna4EWNJpwiUBMug1XdJMkiColHENAhBc6pFX6pz/ojYsJfg9Wd+A527TterOJYATTeqTzJ8lbzcuQWRyBYBdd8kYq8+MRvMlCScUMmH497wTdaXNpsBJrW2hL4mvdH94E2fn29qEn1jY7dyJQukIGdi8d61tIo0FAOQjnrtKAsDZm6+aIAGI+hlPeEf1C3tneSPLTKlqPLKYyOaCZpbE2S9R3YtPFIRQWt81oq3kx4LEYgKEPUwQMU5HWO2R1EwyYtFk0eRSZ2kDS2FjbfLcVFfSyViIOKlWBk2WHO7GaQAI2q+WNprjaiTWPoqX1MZUUixG60RzNU86aJ6qpY3/Es3Vwvqph4wHPWhrS8zC4i7bHF0/DgFTbXHniqDl4XI720cxfZD0JWFtE2A2C+s1PCX9DxI2jdUVOndcDAn9zwDSBkn6QNLeBTZtOE+q/1tcykvdbhyC7HqNKrnOFfeLtDZJ/kEG5sfh1TmMvbAcgYAPACCtkFJdosJqNQEQXWIHADgSb+reA4WX+hU5AEDwj8eikD6HsblY8zDDvl1x36M7TdJc9tIQ5frHS4amEhEv2RD1uHp8oS88e0UIFF1m10zLuxmPZ3myG4/NvUpxuBSEoKTJwCbZFtRq1ccBgC9rkKXIj7zjYlmrfm51lZG/6BB8UYlaO2Hz2OK/qHnykcczfUpJpChCadOdVWb+Sm+l5hQkTUl4spuPbUO0t4bgi1Xa8SX6PFR8u/Elav0C86+y4i3oIkXr1Cr9D6q4BMkQXq5U3TvFomTPxObNHuRN+NiTgQ1Ge8ZvPFOm8ygNKyOxcf4u6f6iuvqmd9+/ajAYDCuHsRd2MPisJhcABLcDwfAsCZDBf67ZV/wQXhXFYDCvnWzqhb1dNu9dZ0+hapJ1zlzYZJ7TFh5h+xEGg9lXcC9sr+QU9i3N6S9IRfzYGiQvV6ruNbtsOH9hMAdENvXCMBgMJg7cC8NgMFkMTmEYDCaLwSkMg8FkMTiFYTCYLAanMAwGk8XgFIbBYLIYnMIwGEwWg1MYBoPJYnAKw2AwWQxOYRgMJovBKQyDwWQxOIVhMJgsBqcwDAaTxeAUhsFgshicwjAYTBaDUxgGg8licArDYDBZDE5hGAwmi8EpDIPBZDE4hWEwmCwGpzAMBpPF4BSGwWCyGJzCMBhMFoNTGAaDyWJwCsNgMFkMTmEYDCaLwSkMg8FkMTiFYTCYLAanMAwGk8XgFIbBYLIYnMIwGEwWg1MYBoPJYnAKw2AwWQxOYRgMJos5qBTmGi4WCoWVRn/ij15YGoVCYemwl/aa43q+UCgUCsuGPQnX+4xyoVB41f76CovBYLKFg0phkg/UfADPvP15/E/IR7N2ANFHalH0pV2HdYbkq5RS8Jss7gMqIQaDyUIObCAp/qCGD+CcXQgwXyetD+0AInWlIPbakmmS5KsbritOQmBmHucwDAaTjIObCxMr1QIAp2WekcNeWGdtACfrzwpjr9m/tgDxwWkJX6YQQcA079rrLZ9bNMVCYXGnPbjnUmMwmLeaA5zOzz+rPAHw3ew8bSxJjSILlR/woy/t2mfNQNQoCgEElWoRBEzWPfbD/A9vWQMAAdMtcyD91RgMJgs5yBVJ0VmVgDmWpEaRUnV1LIPB0qwFQFEuBQAQyhQnIHDP5NzT/QSVTTI+AF99WcVPfzUGg8lCDnRThahayRhLUqPIEuXpWIYhLTMWAOXZ8vBvfHCGD6RpdnVP9xOqx1d9vlW9jPeKBcdgMG8pB7svLDyWtC4GACKjSFnt2VgGe2GdXwCoPC3NCb8gVqj5QJrm9tYPw2Awh5wD3toqUn8kAnBYbIHIKFJ2toKI/ph8NG8FgIU2aleYUCgUnhkNAJDTsziHYTCYRA56d76gUi0CcDxcDFCjyMqziiPRH5LWOSv7r+15LInBYA41B/4HRkKFOh9gxTr/t1k7gKJaEeuDUaPIEv2qj8l0PQGkyeLI+F54UwUGc9g5+L+RFChUIgB7z3U7gFJdRR9FzloBpGdOxy8fFssUAOSM1bFLe9HcKIwj4U+O8KYKDObQ8wb+zJsaSwIAqM7KcqIvU1NjhYryhA0QObKzKgDSZM1wLIk3VWAwh57/JxQKvekyYDAYzB7Bh+1gMJgsBqcwDAaTxeAUhsFgshicwjAYTBaDUxgGg8licArDYDBZDE5hGAwmi8EpDIPBZDE4hWEwmCwGpzAMBpPF4BSGwWCymINNYbY2+tESbbYDvTkGgzl84F5YKkifVVdbFj5CVlLdNuHM/OQx0j+nqyuPxDjTNrlKj2Fviz8zKIrc6IuPZL/TVl0iCf+coUZnj5P4JUFu2oebi1nPJqJuYe2vC1dYJJE3G52/MH7uvyNnuQ1T0m6/ylaUuNv94py8Wi0RCYVCoTC/rK7f6ieTtN+ud7QyXBtaCI7tRvrndHUVkRYTSeS1OitdxkyZ4dO2PKRu/DDBH0y6Wnlx5MThWOPbkheW1W+/OSpnbTQMGznpL9lH5CM+3wgAgK1N+InlQG+9B1zD8jOjsScs6Lb0quyu8cc3uetE/KaPqjuXYzkr6LL01NjdE6v6ciLFryUS/G64oWbUuZv+yqQRfjDp2ntMPyRLFQAvnLpqVezTuxv0LuhUK+vjj0f2159CrurkNbSPLul33NOUrWqXHzYJEi52DqiGPXu8kbO/VHWPdlTcbtC7YtSUuPUrU+rjGcRJ3/i7AUtbVdvcfhxLt+vsOTfs3YdAvxlCb4RvWhFCrd+8mZtz4uX60HsIIXTusydbO6FQaGfLMVSFEEIF3d9mEGbDcK7qzw/Wt3ZCoVDo140HFwsQQuhPD7ZS/M6vi615CL0/9jT6yk8PahFCqOhc34N1//YOy+8stiKEriwmr86T7jyEEEKnO+YNzYjt4o3PShFCRZ8+2KDu8OvWE30VQihP+yR6zVNDBUIVY/9IVeXFKwih1uRFCYW2Fzs+aBiyb+y8DNEaNi+xYbe/aS1AqOAvD269ny5mKKHdXs63IoQKmh/8GG6xne1w+9dORZr/H2MVCFUYnrIHpEjf+KG1vxQghNDp1jH7xvavqUsZZueb1jyWW28vXilAqKB76lZF6jcUE+HtS2Evt9fGW6sKEEXB6eaxb7fjr/npydiVqoJchBBCeUVVf36wkXDJ9o8PBv5UmheOUtH82ZOtlxmXMO/yPD3w1vg5hFDeX9YyCcTk19kGlObTuK4vRSiv9ZvYh+WJNg+hgtZvEioZI10KC4We9J3r+PvTnVC4agkXb9w6jVBe9xNGK23dP4sQ6oheuj8pLIF1fRFK/DxvL7YWIPTh2MbLp2McUlh8u1FN/fEDeqttf9WAEGqwRK7hkMLSN/5P988hqpwpy0eH+oLMa11k5jsqZVcZNqiC4RTGhbdsLmzXa1RJVL0Wd2TsFdy06mok1XdoPevnprqSOp3ZHaQ69mTAPd2pmWZOKaz2lFZ2GlciEyxBr/XzuoGlDAridjoACPVHisgQigysGLvvOAGAXFljmb/IiNzfJ46YwgQtw1/44aT2ujw60nRaZ0go0V6Xv9JwTtpt1lcLkg9fg1vPAHi8o4ypBf6pEj7Amtf3KnfmilhIb5Wg5WqjJSjWft4k4jLbkdhuRxT1NTxY6pRUdJpcAZIMOCY01dfsINFqq7iP4tM3fmDJ6gSivptbOanCfj08+gwKu67LjtBftbR9YglKtIZmEefiYd6y6Xz/PY3OBSBpmVrx+Hw+n8dlG1LwANyDPabIPIP/60kHgGxg1eP1+Xw+n3t1bkgtZj6T9q8mg8Bv+qvL4wuHGW+VHctk3m/rnwGAU2IhAEDwB1NnRX5xdCbYs77nqYrgo1k7gKBakewhdd7stgNR31EfOyr72doaCaKTx9bvtFVHZpMlZ9omv0tYWoj6BCTF1VeNdl/yaS8WBOJCgMBoxw1H4AUAABn02u+0tY0lzu94deXUbfKLK+p0M5HvEgaWxsgMevGZNuNS0sl6AIBd9/zDAIDidGnsNf+92jYbobwz3STkVHqWdgNCNvh4/IIINk2dZ4rz84vreq1ErWF5Jj7XeAfLIvWR1/Wb3PQVDA6Nv+50AMhEhCm28pNfVtdvDSSbO9t1Dl+3A1Hffp5+HrrfeL7NTigNX7JMCGJS8FalMLfprhdANvJlu/Q4AQBA8EQ1hulPBQAO60r4U3CMLwCAtYXZcE/tCF9cox9pYLzvguMCgID1oWOLDIeRXR3XlmdaHv7RF1ZdTbGkqtO0CcCXaaen2vNfoX6bxtpWO0i0461JMtjzyYGJIJT0XS6hvbgLJID3i8bGQVrn1GXpOVfak0wmEAy4zbrG8tJOG/cVVL76aj0PwP1FXbFYKBQK8yXyxkGLN9UCAhnYdBivVUtqjEkv2w0GXBZdQ1nptWQaqaC9o3b0GU9594Yy2iXZNGr63TyVob+SW8eTtd0AIIcQFZ6iJyzvt2veFynq43Xc66z+g8q4GS0/h8b/PwBg7TlD6/WTfsc9TfFHJtbp/cCXA5NBkPZeltILdkejc/GUt/sV2DyfKW9m/Mo+F7bYyjrV/U0rc6Jke7G9iJrjyvtjbYdhcSNxAvXlxtjZyGzahw1DX4Xn07mzeAXFKDo3QM0ihahJmY69TFH8NNtcgFBB62LSSZWdxSt5LMsF1LRIbkXr+JOnzIl2dHGWrVo72/71+58WIYTQe0MbiT9nnwsLhUKhbef91g+j05BVrYbF+5cRQlVjfrby/rq9YR84l4sQQs0W9vbd2X66/tfmIoQQKh36keWGa/oqRM3+RHm5cet9hAq612JTS6nnwpK0Wyi0YahCCKGihrFvt7a98x2nqXoleQte7mz/uDhAPTbRhuXQ+NSjUvS/B+Z/3KYWKLZ/fNBckKTK1JoDo3ahkPdWBUIF9DlWPBfGmbcvhV1I+FjGp7BQKBTa+ceT+581RGf9z91l+ahuu+fH/lwbmdIv6kg1HR7P2l/yEEIot6Ljq/Xt6NNGLXJ9OJZyBYuFnR/HzuUiVNQx/3Pyi6inNjGDU1POt+MquD5UxFy1jIMqKuvHPnkKS2Dr/lmE8rpTrF9s3K5gmYlnMn8ZsbzdL7fn24sQQucMG4x3nGqH5MTHSdZuPw6VIoTyWmMrMi+35y/npVmQ8d6qQLSG5dD41PLFPHMuf8fSwPaEU+shtCVR2ospaowzWQreqoHk0aMEgG3eyuzqu51OABDnMoaKhFBaf3V8zuXzLOkVPHD29yT22nn/pmganFr2+FwzLWIImC4NOzkXRVwoAwDijLavRsyLdPiDX5ssAEThqYxmK4ILnaWVOueJ+qlHesU7Sa+yDOi8IGjpUscL404IxADeb9cYA7Hd7WDqMeL/vx0EAOLo0UyKGl8m28Dwd8A7f7YwxTXb2wBwjPe7VJckFoX0GmskmhlSOmgzN4sy2yPHDJ603fx+PwBR+3FsaJbDU3ykJgDIzY2kjUfV551IfTg0vkAkAnCs/SczzC/brIXtGfTCiRZtDbYC7h9vJnMm2VTxRJuHEEJnh578tBMKhUI7W08MtQWIsdi/+JeqVsPixs/RtfOt2ct5zJX+p/cv1g58tf40solnZ3ud08YiOlSHHxXUGuL2hSVuKQgPbIs+fpCwrL6zMV5bgBA6O7aReiT7/VApQujCLFtHcWf2Ir0ksf1NpZ+x9D1DL3e2vn/Q8UeEECrVr7NckLYXtrO99eOT+3+uSDXsCoV2tjcWP6stQAihBtZyh0KhnZ/WH7SXIoTQe0Pr0cb5ebH7jwihog4rx35x8oFkinazdyCE0Hut87R9YfNXSpP2wna2N+xD4fpYovE4ND7V3ftjx7x3JxQKhV5GH5XmWeYUx7q+lBk8OXggyZmD9Ej6jZVlOrad1qKuZVuzAAAgaG8rbbTEf0Xy1Xcf6SOr2varwkZzQggJfW83+414NeOrQzLuX/hBW1vpJ/FlEXfZ5uLWvH1GebnOCwAg0i7ZGCtosR8loBr33ZRF/hMw1RZ3rghaHi63S9gu3jRWV+jccS9KtDZzZHGN7Ua8Mr15XB2dzGZvNwDI1y4vNAlYg/Ck+r9NqXNjL7AFEdRPz/WVRLs6bI3PjJO0JIkNyIipHPeNyBivp2y3Xa9RJde5El7nKWN/b8D2VyKChqm5XmlsVj1t40PQfrW00Rz3pPCUdx+P0LdiPDfVlXQ6TrTMLbWL0y6OU+8F4yHBsPNWDSQBeLKRx+Y+lZgfzjSEoKTJsPRYT3sUZNfn9BekosgLBF+s7DW7zPSlaEH9nXFtLAjwcqVNt5czyl8AwJOPPJ7pU0rCdyKE0qY7q/H5CwCEam0tHwD45U2yE5ncIMrKrZ4VAHn7Rdb8BQC5TeYlQ1NJZFcXT6RonVo1J9mIlMMTlaj7pldX/6rmvlMpLgJfImsZmltdZeSvOAi+WNZqsLmXafkrHl6uVN07lTrO3kndbjmiJvPqVJeS9hyIpBf0c0tJ/l6K4IvlLYZHnmV6/gIujc+T3Xhs7lWKI08KX6LWLzDzF4Djdo8DQNZxMX3+wmQCtnkrFFAXAAAgAElEQVRjMJgs5i3rhWEwGEwm4BSGwWCyGJzCMBhMFoNTGAaDyWJwCsNgMFkMTmEYDCaLwSkMg8FkMTiFYTCYLAanMAwGk8XgFIbBYLIYnMIwGEwWg1MYBoPJYnAKyxIS9NdJ7RLJCa5Otp2RRFQX1Z1zya0cyYXSGQRhF3Ezoy20UcoM+Z2YFordGc5eHtK/ZGw7UxxuGVYR9y9uU39dzLLN5hWP/jC/mMXZnrLKfmNl0sJGhd5cLOiUSl0ekYwIJfLk73LQ2pqfWF+u7cZdpZ4N4IM/soHnFk1lmzX6waLsEqv0I6vS45+pq77miMUIuE2XytafJRx/BqmE0hkE4SLifm7SNFv2/vEJOoc/Vo1+l+qSwENNVas1qWX7uamurNNBSxNkwG3pVdl9Zldv+KjajKq8d3adulKVkV7QoNdxT1P8g351Ov5A2sC0RvNwj82WkUo9O3jTZy5i0rI9ewEhyrP9aygUCu14KbtE/BHsqfh1thkhlHtuyLHFVFScu/9T/O2SCqUzCMJBxP1yY+xDhFDtg3EWN0IiTw0VTEPw1oM/IYRQ0f8eePD9U3bL9rfdBQih3ArGMb80qIP/q/RPtqjjVaMHrkZ1AZlUmV7YsfcZptv0CmFrK0Ko4GJEpR67UW28FMA7VoUQ+tOD+1dYzxBOKEpcu3FWqWcLB5zCdp7ax1o/LAobOfKKqq7cX0s0Yuw8ne+rrQirPfJKL44lXrP97f1YnIKqsKc6DIvaOv4Zimqcd57O/zksBs/7oGOe/ly+3F7/aqD2dNToU1HbN/808YPw89r9K1XhouQWVP05eg2lwk7Q2Lx80p2X6M1ODnUG8fu3GKdaO7rzWJ0XybC2IoTOjTMvd3TnIVR1l5E7UgmlOQfhIuLeMFSFLdlsepd4tmcbEFN34ujOQ6jgSnIhVLj9q8a8Sa9Y1xchVDTgpL30cm2gCKGiofCJ3dyrTC+spSGuRmlTGKULafiKoR5/8DFCqIFxejWV9wtaF7cp7Ui6FJbYbgmwq9Szh4OdC7N1lDXoLK5ARLcXcJt7VGeG3fQBf9DeVlymuefwhvvupH9BpxpgzF9471RLanpicYJu06XGSV/m5fnF2llappkOy1zJH0yayh5npDD+e6rqa0bHZlQf6HXc05RdYh5FvWmsLlT1mN3houwG3dOaxgmqn85XNyoA/CYL89TiJdMkCYLmeim3MSDpcngBpA2xI1jJTWtnv4kEgBXHOreKBn4JAMDRd5jHlUpOSQHcbtqQMaVQmmsQLiJu13DjoJtXM3KDm6LcbRi2A1HfGxvsOBdMJEi1XewnsAIABBat3wHR0N+U/MBY8b9fFEPAeK648abd+4IkN626mgZjgKccvCimYnCtMo1d99gNOxD1fRcyGJkRFfVqHtivSeRdJneAJAOOyUvVnUsg7tIqacZv981GnYun/vxG8mozSGy3ZDBV6tnEAU/n/06k0o4vuCgRt2d1qkUC8Mxoik1nBEzNjZYg8Mpaxh9FhN4TLTL6ZMBqj2rQDSBQD82tUpeszOlrxXuw4Hjv6Ez/JVLftnm8Pp/H1i4BCJpmo4XJERRe0M89jijBH+kVPACbaT46YbHr7DmncwMIavThojDV4kRVfT0BgXsm2mwLaZmxAEhbarnOpGw99wMQIhEfAEiffbihOL9CY/qBSplur49TEL5IRADYr7eZPEESAHbJgMuka2B+M6QTSnMLwkHE/cLeeX7Un99uHuR2FPhzk+4LP5zU0ky3/jUnCbmFx9zG6ES7UMKciXdHLNv9dTHLdlTJTiFsMi/0yfgB++eNcnF+foXG+OyUdiZ2ZjTHKtMJzOhGn0Fh1+WEr6iUFvQjMv3SeFMueKc7q4vz84vrehYI9e1lM+27hFzqrP3CL+ow68u5Pews7ZYAm0o9y3iznUDKoBdTGbEOmpgsXkEI5bWmkt9wHUii97oXaUPUp3erWL1KzFvTgnzTihDKuzyfoigbn5UilNftiPz/19kGhPK0T5L/RjxUyW99u3b/SsQ2mFvR8feN2cucpkIihGeOWIg0VGxkR8Ei0UkfhJqpoY3vEgeS1FwbbXyXbiD5RJtouqXCshATylKiJhZqH9CnC35eG/u4iPbTooZxum2KQ5XpULMEcabbZKbIs2OM53zn6fyfGZdV9C3GHKaxsXn4hbQDSbZ2iyM879maiWL1beOAe2FB74yuriK6biwsG2T2xr3rXgDxvyuTL7T5vW4AOHuWo6o+NX+QyWhiR8GFOZ/PNyKP/H834LjTFltvF8Z7d/ybbgA4q0rlkBfVNhUCOTkRXncLzNy3g6DpI2mGBfUO16h6zF7IESl7za4fbfpqES8HAAjOS8p89V9XDRekAppXRX+7SQQA/w0AADZHNYNuXsPESKqRXbogu97RT3VuXv1E8oFOcKFbYw5KBydSjO8Y+Iw9X5JQor1czPJDkapviuomez2r0y1igODEmIXuIeUXNt22udzhDr2+kgfgGJ2OPHVBe1u5SrcUENUall2rU10yPgTsvXLVnehjma7KTPz3eiZJkHZdLmS+L4Jmmy+K22WbaCrMAfhON/x1ZGFx12usKdNMe/nlWvOqy3ZbLcoB773G0g57EAAgaL2usQSl+juc16BTthtVeeeN2kZzUNxlTvmmv/UcYLrcWWwvYPkuond8vmlFaRbaqLWeVH7pDHphqTx9T8c+ZC1sLAi11pNuKYcSEVJKwa37ZxE6e5/zOmIoFAptTdWGewefLdIWEzZunUYIdbySaNDRnRdp7b0LpWlBuIi4F6+kvCJ+4nln8QprV+Lp2PsInb4Vb9nWF8XeIMpVamVe8etsQ+x9p94ahqx758dbFQixrAMmqzIj+GIrWxeMlTgL+sZnpSiuR//zfGseijxgi8m6lOGHMr4Pm6zdIiRTqWchB9gLe2GdnAkCiFumV6m5MJ/Pt9zFnBI6JuADOB45kpuqjx0TAJD2xUQ/YBxeb2zzS9Bpmksy+ZoMl2nMBcBT6BfCc2E+n29cxSzKcQEAabfHOwaZEMqGegKspocB8Nw3fgeKxgTvdEr4hYUCAMi/2HdVJojOgbhmTZsAJYXvZhKKwa7XODhJglQpfwWz9L4ESYHrVo+ZBHl/e3xXQiDIB9hcY1q2gWHZ/tffiwAcTqbBnZJ1h9na8gGAtKkm9hAS+eqmEgBY9z5LUqTkVXbf7rGQIBtoL+TQUYqzoPuf+QEI9Ue0Hv07io9rCQDS60vtbWcjabsBwD6q1N8ODi5b+seqEEJ5rbOUFvnXrfWvBs4Vhb+cw7xc6y5ACKHS9gfrP0XdyGMN/xHrBIR7JQW1Q/bwHpqd7Y35P7fe/0f0krXuPIRQxcC326FQaMc7T6mtM+uFUS7o92+t/xq+xaKhtSKXGeSnB+GifLYYK8rfO1rH474SN4beQ+j9sdnPShlSa66E531K2+eZ+8Lom6Qid7p7DiGETg88ST65sfPz0/W/DzUUIURtnkhGyibiGiSFiDtK0rkwakNc6dD3bAWwNCOECs6PxSzbXzUXIITeG4qUZmPoPYRQacffqT1QoZ2fngx9iBBCzZadcNk+RAjl1d6m7wu7VZvH3gtLU2Vq+wKH95fVgr7YjhBCpVfmafvC5lvfQym6+cnnwlK1W+Yq9bedgxxIJp2Cpc+gb3/TUZR4Bf2D9HJj7CxLV5r+Xq79JX7Eeu5shgNJalDAAuNG4ZQRd0XCp3Fr/FyyH3GC2s3IhG1LVGy4kbgokTiCK/1LikTH3kQZB3mVFEZtTL0wyx4/vDM2DsYuMGqPW4p2Y70AMTMUxypTj1yDhb2wbMPn0m4H7WK2txil3PiWNIWlbLfkA3nuS0NvFwc5nS9omh5viVmRxcqu8eWJ+rh+LE+uf7xkaCqhpqsBcnhiVZ/5Ok3LniNqmnGZe2OWZkIobbo9Xi+MXVJ43TyiCu9tIIQK7YzLfEmcWWGPyG481DNU3kNztt74aXjRBbNrpk8pidnHpRcM4w3xexL4NR8rAAAK68/safdNvFBarOw1P76ZOGUuu9xdSABAbpP6D0mDEXyRtFY7nqitzoR9CZKSwOR/TAZB0NKqZI+fI2qaWY5NtOfwRJUtUytz9FWCeB87X6westHbjScfebygjz1sQPAlSu0EYytDlFRVfj45MBGEEy3tVekbg92Cnts0tzIVr6AfmnvMdQdYlHTtdujANu8DYXNUXjHsV427bnLbCYXBYLiBT6p4zeySgZVhVeWwF8TtrTh/YTD7DD6p4vVhbxM2WsL/5invJt+tjsFg9gruhb12eBJlH+1vVjAYzD6C58IwGEwWg3thGAwmi8EpDIPBZDE4hWEwmCwGpzAMBpPF4BSGwWCyGJzCMBhMFoNTGAaDyWLeUArbDTCsnzRpKAaDwXDnjaSwoOVSMc1RlAAZcM90VucnkTP/Ntl3m3d5nS5RxE36rVFZhkgibzY6f2ELRPrtd9qqSyJfQUwrtf1qOpt0NMreRdz2tqTearY4KbziHGzeAEBu2oebi5NUBII/mHS1UcdIcfXVSfZ2A0gm4mbAqlK3Ja8xo/1J/xztbHeRRB5nPDl0vIm/kfSZbi0AnKgfn9HKjjP/8Jn022/rOr7Yy+fzMLMPNm/S2S9X3aNZnH0O46Uyxz+X56KusBdOXbUq9rnaDXoXdKqV9fHHI/QDX4LfDTfUjDpf8Q16dRF3JiT1inOweQd/MOnaeyLKKFbs3VWdluj/KLWgzT2+opcdib80vYg7uUqdC87+UtU9WpvtBr0rRk2JW78ypT6+16BvOW/gjLLkB+RHjgYsajA8GDidxcew7Sv7YfMOhba/6aj6eGjRS51xuvVEH7Y4Ry0E1PHtRZ9GhNK/hq9h+JbCB9UWnet7sO5nV2gvXkFpzjjcDxE3C9QplQna1xRe8fQ2b8pIhBA63TFvaEaI9ZjMxe4POh58vxV3NiyLCiu9iDu5Sp2NnW9a8+inRb6cb0UIFTQ/+DF69uvGg4sFmT4q2cUbS2HsrrOfHjR/TLm7qdM+95DCno69j9CVxW3HQEUuQqio45vtkHfsXB5CqKjhq9jjvfOPxbGohRvlFX3Yev/bxHMud57+PSb0zvtj8xj9Gi5K8LB4PKYEbzasbWd09vS+2LxZWB8qorfwxq3TiY5xSogdk4xQXq/Uzq70KWw/RNyJrOtLWQ7jTukVT2/zDoWe9J0Lu+Ipq1u6tBIKhba/akAIddiZr3IQcadSqSfycn3oPYTyWhejum9KbvLxA4YT/KsGhFCDJdstH0k5uLmw2BTJJxYAsHzCNpg/rjZMNBW+kzIQF9xGTYPRuwsAAdPtDs05nZMEgID9ujFig7B3lDfqohZuIAMuS09N9TDDKhK0Xy0uuxQTepM+q66mO2EyJZUSPCIejynBrYMqiYoqGyf2xeadHLHgRLhkW88AeLyjjJEp/1QJH2AtItx1WmdIKNFef7VTN/ZFxB1P0DL8hR9Oaq/LCcarKb3iaW3eACDtNuurBZwPeiODHlNHvx0k2iamXDa9iDulSp3l8q+HR59BYdf12HD1iKK+hgdLnZKKTpMrQJIBx4Sm+podJFpt1aE9qu6QbqrwOBz8JrPH1p4L8J3VCspxl0tfDkCurUXMNL/LVWonwoZBn2d16lMxgN9ojglvAtOaRnMQeNKWCZvH6/P5PK6F8ZbyY3G3SqUE9xk1g26atMnjWtAreAAuXc/fuE7y7IvNmwXXvCUAUHlaFv5sC8SFAIHRjhuOwAsAADLotd9paxujlfPZ2hoJopPH1u+0VUcV2mfaJr9LnP62NEamk4vPtBmX6OsG+yTiZuK82W0Hor6jnq4VSu8VT2fz5k7kGzpfUtnp+IPeNsNImhxE3GlU6vHsOoev24Gobz9PrzEhG3w8fkEEm6bOM8X5+cV1vVai1rA8w33ONPs4uBQmuxlxmd1VAoDybswN6lvg9rZlAKHsbS8kROL/BQAgG+iX8XjH3gEAEsLdH5n+0UhTuYhHfYMRfOm/nxUBkMGoo8s/O+EAELX/baq9XETkAADBy5e1T2hlcbc6UT/+rU1fLSJyAAiRUikGICnVl/urMS+A7PPp9hJ+JILa8GWLAMCx4Eg5qRuH4Bg4J6/K88sbR5cCkCNS37aNnNlr2wBA0N52ftTPU44PKSMfKb76aj0PwP1FXbGY+izKGwctjN7iLpAA3i8aGwct7mi30mXpOVfas5rkRrvBgMuiaygrvWaPZSgSYHO0sUFH65y6Lb2q0t7I98fuDgBYr1d33nNEkh/pXzFqSupMrFmMOrq+pO9yCe3FTaOm381TGfpTWpMJ/rtSMS0LBNYd7q1M3hoWgrZO+Z+GYyk5aO9oNQUlWsPFpN0r7x2NzsVT3u5P5VWmEfhyYDII0t7L0rjclEOICk/RE5b32zXvCzjEHNJeGCjOxgYUyvozLM9F0GPS1cojK/pCYbkuXizuAZColWnHMsmV4Fv/DABIFSXMu0tOFQKAf2srg+q8us2bRtA5fL7REhRr/8ZYaoTivsd/i8kyKD9L35mEu+SIlL1Ty5Rd0031XoOTdy3Rj33su8rn87iW5wYUfIDATM8Yc03wVUXcMUj7kM4JvPqrNEEnB684ABebN1citfa4Hk9py/nw3ajqGtUmHETcnFTqNF7YBwadwKtvr4l3WXrvqMoumbz/ItPOrLoeGdS5AJvGxvI2e+YuymzhsKawNJBLnaWVncYVbzD1nNSRiKp07xC/+++v9Pu/41FDV76sdXzZbRtpKOTlAIDX/T0AvCs6kWG4X6ydFarRHwq1C+bEmSbeyfqRh65w+nHNjTS/C34A4tQp2l1EVw0jDVIBjwAAOMKXdtxo4QP42DMywROIzxv6zwCA30/fPJbbbrhZLz3BIwAgh+CXtN/4lA/g3aINW5UDZm11uJtM8ETqm/2ysDKWiW9SZyahRHuZrn19Zp/1AAQnVdGvKGGZzgPREW6bDQBIy7VGSxBEHTbboELA40ubxx8vtIsA3IM9pj3u5iB4J6RNExMtfICFRQcAwNr8QxLA0VkSm/ttNAOAV1cuFAqF8jt+v23WCxCcUMWuoL5QzY2se9n8X+osJEi7Lsc7dz3DjYNuIJSGR+NNxXxerkK/4DKcISBo0dxkKoEPEb/NFEZavzQFAcSfTq26Ix2GJS2LWHzFmkIsnpajPALAPv+IOS5xrTkBQCziOHbeR5s36TGq/qAxkVL9grkpP/38btA2MPwd8M6fDW+ROiEQA3i/ZSq0dxkKbdYw20EAII4epf67LyLu2KuWAZ0XBC1dmTnSAWCPNm9OEL/jAcArf/2xErT0DHrhRIs2oQtGfU0QtR/HRqM5PMVHagKA3Nw4rP2w32YK29raAgBC9D9/zzsCsEsGXCbdtTHm4EF8upoHYG8702lyBUhqtfG5w9igY9mdnYTCSjUBYL1aO7xCRSADK8a686N+IOpr4qfUkpKvrs8H8OjqrlmpSQ1y06Q5P+oHQnnhbNxT7L2nEgqFwgpdYuYNLvXIK3XOf1EblqbUqUfHZDDgcUx2ySWfWII85UhbOINBjux0JcCSTnPHQa3kkkGv6ZJmkgRBpYw1I5PP3aZr1Z1LACea1CfDL8rkCgC77pIxFmVGo/mShBMKmRAAAHIVihMQuNPWOeeNtvxwc48TQFHOVHm6xoZtAPL2ixLmjYVNNl8cy9p8AFCO+3zRkT4QALBmmQmvYMAuGVgxWZywl+5trO281i7N8CbwGtQyAADZSHxJfOMqABBpl3w+n8/WLBA0JxSW+kJVhQtLf1bchmE7gKzjojhxWJrzOwAgbfetniAZLo3XOm0nAYjc3x9Wd8NbtlDhM8oZc1JeXblQBwAAyruRx24fECiqRTqX19JabGlNelHh1RH1XKPJZ+o8Y+qMvawc536fknaDarbR7BytLR6lvcyvMbSXJP2lxNI2faGdrdC5ZzTymdirPJWhXx7Xk7Lf6ncCAGwaTd9qpYzmsnc3TPoBIGDSFJoYv5SvXaaWU+IbH4An1TPmywhlh3ZsQecYrCsepF0m0Y63RjsyfmMlNWRjxrnfHv3IEVXt2rtW3bKurlhHu0isvd8eiSK62Kuc/MRiuiSnl5WnGr9xhl7lgGlw1L937atA3aq89YnFcaOu+AbjB+Kuvminzn6VGvdFMDcKqf9G283WRu0TYnBSa75eGP/iq/PcpPvCn9S5W9qklZh0LoumklkentJw9TUU5u3gt9kLA8EF83hrTAQtVmnHl8YTxOIy/eNlwwWpKDrBLVH2zfRz7j4BAE9283GCeHz58VCGiuZ9tXmnJ4fHl8hahuZWVxP6a/ElESlap1aT/50TL1eq7p2Kj7MfIm4AgJVbPStsXTDOZGTz5gbBl8habts8r2cfg+N2jyNZFwwAckRN5tWpLiXNCS6SXtDPLY1k6gTPIrDBCIPBZDG/0V4YBoM5HLxlc2Ep8d+Rlw2m3rCjHGfOfWIwmMMN7oVhMJgsBs+FYTCYLAb3wjAYTBaDUxgGg8licArDYDBZDE5hGAwmi8EpDIPBZDE4hWEwmCzmt57C/BMqoVBYfO0QHwmHwRxmfuM2b7912gkAgZnZtTdyfwwG82r8xm3eAkVtIQDwa86eeq33eXX23eZdXN2ZaPOOwiqUzjRICod2NNpCW9htfSd2HKv/jlyYjPjyvIoSnPppept3yir7jZVJCxv9YmavEdOCTqnUY9/rEnnyd5ldCc613RKepeRvYRbwW7d5CxrMvoYDutfe2QebN/hn6qqvxU5CJANu06Wy9We2ucSDZZILpTMIksKhHeW5SdNs2fvH59WV4Bxs3hlVee/sOnWlKiO9oEGv456m+Af96nT8gbTpleDJIVd18hpa6iT9jnuaslXt8sN9V/AcFG/AXYlt3pmxHzbvX2ebEUK554YclHR6Z/tHKsi5+z/FXZpcKJ1BkFQO7TCUGhbVPhhvRXQldRKeGiqYptt9UIKnt3lnUmV6YcfeZ0hqnxoq0jzM1laEUMHFiEo9dqPaeN1xeiU4syhx7ba92PFBw5B9g6pOuL4or/vbNHHeWn6zNu/FVkQjqTb5sNi8ra0IoXPjzMsd3XkIVd1l5I5UQmnOQVI7tCk2DFVhMfg3HFLY9mwDQuj9sdhF+6EET2/z5l5lemEtDXE1SpvCdiwNCKGGrxge7gcfI4QaZn+lvcZBCc4sSkK7JbCuL+LyFfLW8pu1eXPh8Ni8A78EAODoO/E6OCmA200bMqYUSnMNks6hDQDgGm4cdPNqRm5w0465DcN2IOp7Y4OdfVGCp7V5c64yjV332A07EPV9FzIYmREV9Woe2K9J5F0md4AkA47JS9WdSyDu0iqPxC5LrwRnkthuyRALs3UceUg3VaS3eUelDOPKJDEOk82bLxIRAPbrbSZKDEEZTxoGmOk4jVCaWxAODu0X9s7zo/78dvOgLL1GCSIHxp/U0ky3+6QET2fz5lhlOoEZ3egzKOxKkNRGrGtCYX5xRZ1uxs0QAB6R6ZfGm3LBO91ZXZyfX1zXs0CobzOOwOagBE/bbgnsuucfBgAUp0s5hXwL+c3avNNyuGzexZf7SgCC1s5KSb5QKBTlF5/pNK4y0mh6oTSHIBwc2kF7d5spKNZ+0cJxLcJxu8cBvPr/t54xq71PSvA0Nm8uVaaz67jV6wBe/fXzKZxwZGDTYbxWLalhdsaPiE79gdb53fWuOcMCJwBOSvA42NuNQdDeUTv6jKe8e4Pe18suDmkvjIPNOx2HzObNV/91NWbcAEJQ0qS/3SQCgP8GAByF0umCcHBoBxe6NeagdHAixfiOgc/Y82WC6TbCqyrB09u801WZif9ezySbpJahWXO7bBNNhTkA3+mGv45ky12vsaZMM+3ll2vNqy7bbbUoB7z3Gks7qE3XHJTgmbQbVXnnjdpGc1DcZeZqEX8ryaaDp98Ab4vN2wvAl7Xe6LsUteFmbvPO4Su6pxTdtFdWenoApIXvAgAllIYJlXCC+Vth51jkRO+UQcIObZhUiSaZUSyNQgsAKO/6zi5YSABHV7Gwi3GFd7BMOEgzm4Uh7Z8Pe4FXf5XNdJvbbrhZH+6ThJXgpuovvFsBgEifQjlg1laG/00pwa3iNvszP4CIYfP+VAQAgubxx+Wj1ZXD7sEek2oqfMvUVabzwj580wu8+vZESS2dIzxRufbGVbv8htf7fAtAAADezxt1LiDOGB59ruABQLXeViJrK9FYzJrhWk9fcUwJ3smIFbYUirqWbc30kUzKdgOA3aC1q0IzEyjssk3v7+6QA+ew9sJenUNo82aw6zUOTpIgVcoz12Dvb5AUuG71mEmQ97fHdyX2RQm+J5t38iq7b/dYSJANtBdy6BhQBTkW+Yr0P/MDEOqPaIP4dxQf1xIApNeX+SOYtN0AAID0GmskmhlSOmgzN4u4zau9xbyBVdAUmypivNqmisgq/uKVuH8nBlxsTbKpYu0vBQgh9MeOB99Te4JCOz89Gft4IHZp4raDOKitD7RdRVuOsdoChFBetyPTGqHS9nnmvjD6JqkwG3fPIYTQ6YEnyfca7Pz8dP3vQw1FCFGbJ5KRsnZcg4SSbqqIkXRTBbUhrnToe7YCWJoRQgXnx55s7YRCodDO9sZXzQUIofeGIqXZGHoPIVTa8feN6Ns39CFCCDVbdsJl+xAhlFd7m74v7FZtHtturLRVprYvvDe0nm7HzM72xuJntQUIIdQwG3mbFtsRQqj0yjxtX9h863updmwl31SRqt1CPy92/xEhVNRhTf6IZBVv2UDygGzeCTKkREXzYbN5J1ipAQQNU5kOIvYlCFdWh7ttSU23+6EE35PNO0mVnTe77ckltYlBAAT10yNRC7lMoxXP6NxmjZx5GU9lYO9JpSBlu9kHGid9ABAwNUuYVneRdsmWdBH5LQYPJJNzSG3eBF8krdWOP/Is90r3PIu7L0FSEpj8j8kgCJo4LrIAAA5HSURBVFpalezx90MJnpHNO1WVn08OTAThREt7VfrGIPhiWavB5l7uo6/z5DbNrUxpVTQPd660aWjuMdcdYFHStduhAxuMMBhMFoN7YRgMJot5y+bCUoJt3hgMJg7cC8NgMFkMngvDYDBZDO6FYTCYLAanMAwGk8XgFIbBYLIYnMIwGEwWg1MYBoPJYnAKw2AwWQxOYel4Ye8sFgpFKuPmmy4JBoNJ4Ddu8+bAyqwpALDrNNn86S+Ox96W6F49IOxtibJVDObQ8Ru3eXOg5KyaD5BTqJa/RsWLe6JOLlG9+coC6Z/T1ZWHbRmSM22T3+3hyEdmkAqNcTVpEFabN9B9V8mU1D4jm7qa8cCkDwIAu0HnRFt1xNUd7weh4KZSD/5g0tXGrOGJ38rkpn24uZilDLErkj/5tja2ygiFzC8qTlVmVKe4uoth896TEjw+yEHyW7d5p+eITL/q07/mm2y5HN7gmz//131TXv15LJUEXZaec/a1u48zOVuddPbLVfdoQTatuhrHOmuQV7R57wMBy6WKtgWaJ33FqClxaB/RDu3holLfDVjaqtrmkmpBgj+YdO09Ee8UGwf25PtMdWc6GXbyaU2ZOzMz/P4E2S/ewDGLvyGbd9IjYeOv42ZmzvjWKR2o8Xw/VBo9YzYUCu1sPdFXIYRQQfcad3fvj0OlCKGi5gc/bu+EGH7sJ3FBUtq86cftshP1ECcnbRDKWYuKmh94d0KhUOjXjQcXCxDDMcxJpR4+4Pd065h9Y/vXhNu8fNKdhxBC6HTHvKGZVb28tyd/55vWPGYjpKvyzuxFhBA691n4oNqd7XCV43W/TJhK8D0GeU28sel8Pp/ltHV+pVpRrjU7V8ebpcf2ls5dw8UJo5IwtjahUFg3HfmqjBtBNBudvzAuZ/aokwxpSb+1qzo6dkjRdTdSIwihsLh2OPr1Fb1FoxlonsH40QEVgT6W0dxxBuO/rkn/nK6uIjK/mK+xcGuwKPaJUT8QytsT7SV8AgAIvrRjou8kTYvJAe8jqx+I+s8N6nweAWErx0RvIZCTlsfMK++16Vw85V2DmrvBZJ/xm27bAUTtDwzqXAIA4IhIfdtQTwCsWBapx8RnumUDyG+fHlGLjgAAELlqw516AsDxMHxJ+LxDida2MNJULuIl2sxypIrzherby55HekUu+1H1e3nyd923ei0kodSe5zzFsWtfXAA42XfnqpRPVYcXrrLTPJt02jRo6Rn0Qn57O3VK8N6CvDYOnc37uOD3AF4vy5k8gUAg6pQF8JsaS1W9FndE1O1f0KkKqzObjQqLs9yB1GMh9y3VH1S6hfADH1gZrWs2cRXhUvhMdeWqHnNEnkr6KSU47XEJ2q+V0sXjQGY6PnOvLQMQ6o+j/kcy4LjTfes/AYB0OLk+mcEtPwAv7mPML5TyAdY8tCAZ2rxfCy+cDg9ASZM6OmZ84bV260wkADgc3wNwU6kHlqxOIOq7U42hpN1mfbUglWgj8yc/+PXw6DMo7Lou466A/K/tAAD8j6OMRs85daoMwLWe7ByreCX4noK8Pg7dpgr+MQEA/FeQBAAgLZ8IhaXDVLNu/9cWgEhwHAAgMN3ZuRzkVfbNrXp8Pp/Pszo3oOCBWzcYm5qJuv+Wu9hnqcivh3Uu4JVpp1Y9NE0hTz3h8d2knVrmcTp3xS3Tqx6fz7M6oiQAViZnnzFuMa4CAJF2iVUPHDB1dTqCPMVArLB9lTxw6XQPI4VdGdbMBICv0C+4PD6fz+fzOEcUmTXclj8AUCgWAMBu0D3TKRcX1w2Gp2a8Hq5PpiD/FEBg9Pqw4zn1DgS9S8a2K6OMlM3V5m1ppL7hRJLiM23GJZb5Yu9gWbjTWSyv6ze5f8kkSGDLD0Dk/54PAKTffrOxWCzXTLvDnvRNP3BTqa9HrOG62pg1PNmU/76x6xy+bgeivp3FuZu8yvzfiwgAW3fbjDf8CXnuNvXXDqTYD5CoBN9DkNfJ4bN5i0SSiGh217FoA3hmtfsAAPxeL4BIdAIAAosPHUDUG27Xh88qJ/ji8yP9coAFh4PznbaeewHg7KdNUmrgxROpr14UQHDNw7Tc5hRqH81RozOCr6TMWpyl4gCBRcsKEOcNhvOxwtbf7JcBWJfDhbXPTJIgaPkyMnwDIN7h7UWudfzozpxOVSKpvmby7gK/XDs13Z7RKgO/pr2eB+AarSvJFwqFwnyJvEFnYWypy9jmDbvBgMuiaygrvWZPvojtddzrrP5D8u17SYIIjoFzok0uLmv83B4AENUabJ8rmb+ZTqX+fwDA2nOm07gSs4Y77mmKP8qwr50JgS8HJoMg7b0sTdGGLFUuvNwrBQhar8kl1PtTUt15z5minGxK8IyDvFYOXS8MBCIRgGfdCwDf2a18hULiNS34AQJbzwHy3xUBAKw7VwDIyToRffoqv80GqQSCCfyOdwwAZr+YdAdJACCD7smBMT+A4PgxxnVnLtOdFPzjGaZrt9MBQH5Zx5hrE7fZAcDj9QMA+L1uAJCeys8sMAtmTdklozMA/OImw5JndaJJSi0Zs5mr2ckp7Hts7lOJw0KNHJ5YpR3vVQIAkQPA2eYd+8Lz+Tyu5bkBBR8gMNMz5olcIWyKCbK9HtfCeNNJgF2n7kasH50+CID3hkrVa/HugkjVZ3b6bIMK0X+HaGmpS7io1PnFTYYFl8fr8/k8rgW9ggewMnqfdqP95IV9YNDJ6txNW2V+7dTqnSapkOajGTI05QMAm/Q5iRI8syCvmcOXwkCULwIIbAXAbZ+H6ovt5QKv1R6AneAvMQHtzn7ciF/T154LweWeakm+UCjMl1T3LAdBotVW7atddJdbYQni6Cvd5uhRqtS5av3XrtUZrYJ6QD3rXgDx/8ykK8YrrL855/JSycU1d7PpXfADEKckAgBYi9q8o3xigeiQkG0vLsETiM8b+s8AgN/POimXQ/DyZdrhdhEA+La22C5hCXKER33V8Mtbxpc8tpv11FSU9/9zA8C7uQKIfEsB8GWt48tu20hDIS8H2FTqyv5prSKfR+QAAMHLV48MyJKW9pXxf6mzkCDtupzauZus3fiV2qklTzjNLU1pz/FIH6tWOZUSnHOQ1042nZ3PEUGuGMDhf+4PPgoorhWKjin5n1sXA4J1D4iUVAYTvZsPll9a5lbbxa9wI/KxcWwTBP8m3tl0B0gAgi9W9Rt6FYL9bVTRuyKwbH86t9qRrLC/470D4PH7X0BhZGY3aJvN8G8CxKfKYXKBUHb1qf8tmoKDlhlLNPvskaB94KYTeE1nM/UhMqNsBwGAOJoiT1OC7Hd4yXsCzCD8U4UnwPFMdLG3XSaMXLLrnp3yAkgLxQBhlbrDT6nUo2GYKnWBSATgWPtPUJyk3ekXmjV8f6HWB0+0aBO6YKxXp2037z3dJAlS1en4cGEl+A0uIsukQV4/h7AXBv/6exEE/I8tJo/idAmA5AM132G8bQ8ACE5Qz6FAVimAwGjDpUn3s+Cet1Y6HpqCOYr2sYmvH7s81DT7oCLlslNSjvIIAO+tQZP3RcLPhDLFCQh80aD50u1nLyz/VLEAwN591eQnqZXEutJPLBluqycUNUoCSMvVRuNKgAQAMuC4UdtmA8hvb4p7iIP2zmKhUFjcOJ1imp8MBryOLzvlhY2WIE9583IhADBHOvS5UVHXcrJZUfK523StunMJ4EST+mTCj4FaNBiu+9gYAJDVfsD6KWILIlJ/JALw6ho6rZskAMALr+lS7egzIFRNZ6ko+er6fACPru6alXpryE2T5vyoHwjlhfAlogqFAALGK5Egu2RgZbih1wmgOJ2B8JgrbsNwCuduuirTeBH0u6zDDcXyQTdItH3n4potaPl81J/WR5kmyEHwJs7Ot7UJP7Gw27njbd4xMrB571rbRBoLAMhHPHeVBICzN181QQIQ9TOePurT+MLeWd7IMt2qGo8sJtrbhI2sW6uiJXH2S1T34hMFIZTWd41oK/mxILGYAGEPE8Sbk1d7JDWTjFg0rzi51FnawFLYWJs8N9WVdDIWIk6qlUGTJScWhANB+9XSRnNcjcSMreqxKnjjChn9obGyTMeYA+JJB81TtcmHorY24ScWUdeyrTkaKTEIAE+q/9tUbAOErY0agdIRNEzNxTy1HILseo0quc4Vd41y/PFIzEC7aayu0LnjLlGN05S6rO3GU9L+IIHN5g0AtAbk+ORTb/SJlrmldrYUtqd2E9ZPPeyLt/tSD6R8xHWXLYVxDHIgHMZeWI5AwAcAkFZIqS5RYbWaAAA4JRZGrjkSb+reA4WX+hU5AEDwj8eikD6HsblY8zDDvl1x36M7TdJc9tIQ5frHSwaadDqB4+rxhb7w7BUhUHSZXTMt72Y8nuXJbjw29yrFEfu1oKTJsBKfvwBAUKtVHwcAvqxBliI/8o6LZa36udXVVPmLS7FypereqdVV2ucwDoIvlrcYUqrF2YMkKMHFqj4zPX8BF5V6fLvxJWr9QkZ/lcUVx+0eB7cuGKRtN4IvKlFrJ2weW2Lq4awETxXkgMAGoz3jN54p03mUhpURRXRH4i7p/qK6+qYXmD0vDAbzmjiMvbCDwWc1uQAguB0IkuFNXmTwn2v2FT+EV0UxGMxrJ5t6YW+XzXvX2VOommSdMxc2mee0hdz/7AODwewV3AvbKzmFfUtz+gtSET+2BsnLlap7zS4bzl8YzAGRTb0wDAaDiQP3wjAYTBaDUxgGg8licArDYDBZDE5hGAwmi8EpDIPBZDE4hWEwmCwGpzAMBpPF4BSGwWCyGJzCMBhMFoNTGAaDyWJwCsNgMFkMTmEYDCaLwSkMg8FkMTiFYTCYLAanMAwGk8XgFIbBYLIYnMIwGEwWg1MYBoPJYnAKw2AwWcz/BQoHbso+ETkzAAAAAElFTkSuQmCC)"
      ],
      "metadata": {
        "id": "bsP8j42S4aud"
      }
    },
    {
      "cell_type": "code",
      "source": [
        "set_all_seeds(4036)"
      ],
      "metadata": {
        "id": "VXYC51m6O9zw"
      },
      "execution_count": 72,
      "outputs": []
    },
    {
      "cell_type": "code",
      "source": [
        "# \u0437\u0430\u043c\u043e\u0440\u043e\u0436\u0435\u043d\u043d\u044b\u0435 \u044d\u043c\u0431\u0435\u0434\u0434\u0438\u043d\u0433\u0438 (\u043e\u0431\u0443\u0447\u0430\u044e\u0442\u0441\u044f \u0442\u043e\u043b\u044c\u043a\u043e \u0441\u0435\u043c\u0430\u043d\u0442\u0438\u043a\u0430)\n",
        "class NERModelWithSemantics(nn.Module):\n",
        "    def __init__(self, bert_model, num_labels, num_sem_classes, hidden_size=768):\n",
        "        super().__init__()\n",
        "        self.bert = bert_model\n",
        "        self.num_sem_classes = num_sem_classes\n",
        "\n",
        "        # \u0417\u0430\u043c\u043e\u0440\u0430\u0436\u0438\u0432\u0430\u044e BERT\n",
        "        for param in self.bert.parameters():\n",
        "            param.requires_grad = False\n",
        "\n",
        "        # \u044d\u043c\u0431\u0435\u0434\u0434\u0438\u043d\u0433\u0438 \u0434\u043b\u044f \u0441\u0435\u043c\u0430\u043d\u0442\u0438\u0447\u0435\u0441\u043a\u0438\u0445 \u043a\u043b\u0430\u0441\u0441\u043e\u0432 (\u043e\u0431\u0443\u0447\u0430\u044e \u0442\u043e\u043b\u044c\u043a\u043e \u0441\u0435\u043c\u0430\u043d\u0442\u0438\u0447\u0435\u0441\u043a\u0438\u0435 \u044d\u043c\u0431\u0435\u0434\u0434\u0438\u043d\u0433\u0438)\n",
        "        self.semantics = nn.Embedding(num_sem_classes, 100)\n",
        "        for param in self.semantics.parameters():\n",
        "            param.requires_grad = True\n",
        "\n",
        "        # \u043a\u043b\u0430\u0441\u0441\u0438\u0444\u0438\u043a\u0430\u0442\u043e\u0440\n",
        "        self.classifier = nn.Linear(hidden_size + 100, num_labels)\n",
        "\n",
        "    def forward(self, input_ids, attention_mask, token_type_ids, semclasses, labels=None):\n",
        "        outputs = self.bert(\n",
        "            input_ids=input_ids,\n",
        "            attention_mask=attention_mask,\n",
        "            token_type_ids=token_type_ids,\n",
        "            return_dict=True\n",
        "        )\n",
        "\n",
        "        bert_output = outputs.last_hidden_state  # \u043f\u043e\u043b\u0443\u0447\u0430\u0435\u0442\u0441\u044f, \u0447\u0442\u043e \u0437\u0434\u0435\u0441\u044c \u0443 \u043d\u0430\u0441 (B, T, H) - BERT \u044d\u043c\u0431\u0435\u0434\u0434\u0438\u043d\u0433\u0438\n",
        "        sem_embeddings = self.semantics(semclasses)  # \u0430 \u0437\u0434\u0435\u0441\u044c \u043d\u0430\u0445\u043e\u0434\u044f\u0442\u0441\u044f (B, T, D) - \u0441\u0435\u043c\u0430\u043d\u0442\u0438\u0447\u0435\u0441\u043a\u0438\u0435 \u044d\u043c\u0431\u0435\u0434\u0434\u0438\u043d\u0433\u0438\n",
        "\n",
        "        # \u0432\u043e\u0442 \u0442\u0443\u0442 \u0443 \u043c\u0435\u043d\u044f \u043a\u0430\u043a \u0440\u0430\u0437 \u043f\u0440\u043e\u0438\u0441\u0445\u043e\u0434\u0438\u0442 \u043a\u043e\u043d\u043a\u0430\u0442\u0435\u043d\u0430\u0446\u0438\u044f \u044d\u043c\u0431\u0435\u0434\u0434\u0438\u043d\u0433\u043e\u0432\n",
        "        combined = torch.cat([bert_output, sem_embeddings], dim=-1)  #  # (B, T, H+D)\n",
        "        logits = self.classifier(combined)  # (B, T, num_labels)\n",
        "\n",
        "        loss = None\n",
        "        if labels is not None:\n",
        "            loss_fct = nn.CrossEntropyLoss(ignore_index=-100)\n",
        "            loss = loss_fct(logits.view(-1, logits.shape[-1]), labels.view(-1))\n",
        "\n",
        "        return loss, logits"
      ],
      "metadata": {
        "id": "TyOpbksh1sXP"
      },
      "execution_count": 78,
      "outputs": []
    },
    {
      "cell_type": "code",
      "source": [
        "model = NERModelWithSemantics(\n",
        "    bert_model=bert_model,\n",
        "    num_labels=len(tag2idx),\n",
        "    num_sem_classes=len(sem2id)\n",
        ")\n",
        "model.to(device)"
      ],
      "metadata": {
        "colab": {
          "base_uri": "https://localhost:8080/"
        },
        "id": "yDHX23VRPgWH",
        "outputId": "8caefa2f-4abc-4724-b195-7199496f8f76"
      },
      "execution_count": 79,
      "outputs": [
        {
          "output_type": "execute_result",
          "data": {
            "text/plain": [
              "NERModelWithSemantics(\n",
              "  (bert): BertModel(\n",
              "    (embeddings): BertEmbeddings(\n",
              "      (word_embeddings): Embedding(119547, 768, padding_idx=0)\n",
              "      (position_embeddings): Embedding(512, 768)\n",
              "      (token_type_embeddings): Embedding(2, 768)\n",
              "      (LayerNorm): LayerNorm((768,), eps=1e-12, elementwise_affine=True)\n",
              "      (dropout): Dropout(p=0.1, inplace=False)\n",
              "    )\n",
              "    (encoder): BertEncoder(\n",
              "      (layer): ModuleList(\n",
              "        (0-11): 12 x BertLayer(\n",
              "          (attention): BertAttention(\n",
              "            (self): BertSdpaSelfAttention(\n",
              "              (query): Linear(in_features=768, out_features=768, bias=True)\n",
              "              (key): Linear(in_features=768, out_features=768, bias=True)\n",
              "              (value): Linear(in_features=768, out_features=768, bias=True)\n",
              "              (dropout): Dropout(p=0.1, inplace=False)\n",
              "            )\n",
              "            (output): BertSelfOutput(\n",
              "              (dense): Linear(in_features=768, out_features=768, bias=True)\n",
              "              (LayerNorm): LayerNorm((768,), eps=1e-12, elementwise_affine=True)\n",
              "              (dropout): Dropout(p=0.1, inplace=False)\n",
              "            )\n",
              "          )\n",
              "          (intermediate): BertIntermediate(\n",
              "            (dense): Linear(in_features=768, out_features=3072, bias=True)\n",
              "            (intermediate_act_fn): GELUActivation()\n",
              "          )\n",
              "          (output): BertOutput(\n",
              "            (dense): Linear(in_features=3072, out_features=768, bias=True)\n",
              "            (LayerNorm): LayerNorm((768,), eps=1e-12, elementwise_affine=True)\n",
              "            (dropout): Dropout(p=0.1, inplace=False)\n",
              "          )\n",
              "        )\n",
              "      )\n",
              "    )\n",
              "    (pooler): BertPooler(\n",
              "      (dense): Linear(in_features=768, out_features=768, bias=True)\n",
              "      (activation): Tanh()\n",
              "    )\n",
              "  )\n",
              "  (semantics): Embedding(457, 100)\n",
              "  (classifier): Linear(in_features=868, out_features=8, bias=True)\n",
              ")"
            ]
          },
          "metadata": {},
          "execution_count": 79
        }
      ]
    },
    {
      "cell_type": "code",
      "source": [
        "EPOCHS = 10\n",
        "optimizer = AdamW(filter(lambda p: p.requires_grad, model.parameters()), lr=0.00001) # correct_bias=False \u043f\u0438\u0448\u0435\u0442, \u0447\u0442\u043e \u043d\u0435 \u043f\u043e\u0434\u0434\u0435\u0440\u0436\u0438\u0432\u0430\u0435\u0442\u0441\u044f \u0431\u043e\u043b\u044c\u0448\u0435\n",
        "total_steps = len(train_dataloader) * EPOCHS\n",
        "\n",
        "scheduler = get_linear_schedule_with_warmup(\n",
        "    optimizer,\n",
        "    num_warmup_steps=0,\n",
        "    num_training_steps=total_steps\n",
        ")"
      ],
      "metadata": {
        "id": "QaUm6-p7PmEy"
      },
      "execution_count": 80,
      "outputs": []
    },
    {
      "cell_type": "code",
      "source": [
        "from tqdm.auto import tqdm\n",
        "def train_epoch(model, data_loader, optimizer, device, scheduler, n_examples):\n",
        "    model = model.train()\n",
        "    all_preds = []\n",
        "    all_targets = []\n",
        "    losses = []\n",
        "    correct_predictions = 0\n",
        "    total_predictions = 0  # \u0441\u0447\u0435\u0442\u0447\u0438\u043a \u0432\u0441\u0435\u0445 \u043f\u0440\u0435\u0434\u0441\u043a\u0430\u0437\u0430\u043d\u0438\u0439\n",
        "\n",
        "    batch_iterator = tqdm(data_loader, desc=\"Training\", leave=False)\n",
        "\n",
        "    for batch in batch_iterator:\n",
        "        input_ids = batch['input_ids'].to(device)\n",
        "        attention_mask = batch['attention_mask'].to(device)\n",
        "        token_type_ids = batch['token_type_ids'].to(device)\n",
        "        semclasses = batch['semclasses'].to(device)\n",
        "        labels = batch['labels'].to(device)\n",
        "\n",
        "        loss, logits = model(\n",
        "            input_ids=input_ids,\n",
        "            attention_mask=attention_mask,\n",
        "            token_type_ids=token_type_ids,\n",
        "            semclasses=semclasses,\n",
        "            labels=labels\n",
        "        )\n",
        "\n",
        "        preds = torch.argmax(logits, dim=2)\n",
        "        mask = (labels != -100)\n",
        "\n",
        "        correct_predictions += torch.sum((preds == labels) & mask)\n",
        "        total_predictions += torch.sum(mask)\n",
        "        losses.append(loss.item())\n",
        "\n",
        "        loss.backward()\n",
        "        optimizer.step()\n",
        "        scheduler.step()\n",
        "        optimizer.zero_grad()\n",
        "\n",
        "        # \u041f\u0435\u0440\u0435\u043d\u043e\u0441\u0438\u043c \u0442\u0435\u043d\u0437\u043e\u0440\u044b \u043d\u0430 CPU \u043f\u0435\u0440\u0435\u0434 \u043f\u0440\u0435\u043e\u0431\u0440\u0430\u0437\u043e\u0432\u0430\u043d\u0438\u0435\u043c \u0432 numpy\n",
        "        all_preds.extend(preds[mask].cpu().numpy().flatten())\n",
        "        all_targets.extend(labels[mask].cpu().numpy().flatten())\n",
        "\n",
        "        batch_iterator.set_postfix(loss=loss.item())\n",
        "\n",
        "\n",
        "    accuracy = correct_predictions.double() / total_predictions\n",
        "    avg_loss = np.mean(losses)\n",
        "\n",
        "    f1_macro = f1_score(all_targets, all_preds, average='macro', zero_division=0)\n",
        "    f1_micro = f1_score(all_targets, all_preds, average='micro', zero_division=0)\n",
        "    f1_weighted = f1_score(all_targets, all_preds, average='weighted', zero_division=0)\n",
        "\n",
        "    return accuracy.item(), avg_loss, f1_macro, f1_micro, f1_weighted\n",
        "\n",
        "def eval_model(model, data_loader, device, n_examples):\n",
        "    model = model.eval()\n",
        "    losses = []\n",
        "    all_preds = []\n",
        "    all_targets = []\n",
        "    correct_predictions = 0\n",
        "    total_predictions = 0\n",
        "\n",
        "    batch_iterator = tqdm(data_loader, desc=\"Validation\", leave=False)\n",
        "\n",
        "    with torch.no_grad():\n",
        "        for batch in batch_iterator:\n",
        "            input_ids = batch['input_ids'].to(device)\n",
        "            attention_mask = batch['attention_mask'].to(device)\n",
        "            token_type_ids = batch['token_type_ids'].to(device)\n",
        "            semclasses = batch['semclasses'].to(device)\n",
        "            labels = batch['labels'].to(device)\n",
        "\n",
        "            loss, logits = model(\n",
        "                input_ids=input_ids,\n",
        "                attention_mask=attention_mask,\n",
        "                token_type_ids=token_type_ids,\n",
        "                semclasses=semclasses,\n",
        "                labels=labels\n",
        "            )\n",
        "\n",
        "            preds = torch.argmax(logits, dim=2)\n",
        "            mask = (labels != -100)\n",
        "\n",
        "            correct_predictions += torch.sum((preds == labels) & mask)\n",
        "            total_predictions += torch.sum(mask)\n",
        "            losses.append(loss.item())\n",
        "\n",
        "            all_preds.extend(preds[mask].cpu().numpy().flatten())\n",
        "            all_targets.extend(labels[mask].cpu().numpy().flatten())\n",
        "\n",
        "            batch_iterator.set_postfix(loss=loss.item())\n",
        "\n",
        "    accuracy = correct_predictions.double() / total_predictions\n",
        "    avg_loss = np.mean(losses)\n",
        "\n",
        "    f1_macro = f1_score(all_targets, all_preds, average='macro', zero_division=0)\n",
        "    f1_micro = f1_score(all_targets, all_preds, average='micro', zero_division=0)\n",
        "    f1_weighted = f1_score(all_targets, all_preds, average='weighted', zero_division=0)\n",
        "\n",
        "    return accuracy.item(), avg_loss, f1_macro, f1_micro, f1_weighted"
      ],
      "metadata": {
        "id": "9Ai8qTgtNoeJ"
      },
      "execution_count": 81,
      "outputs": []
    },
    {
      "cell_type": "code",
      "source": [
        "history = defaultdict(list)\n",
        "best_accuracy = 0"
      ],
      "metadata": {
        "id": "0_HEbJPwNrhu"
      },
      "execution_count": 82,
      "outputs": []
    },
    {
      "cell_type": "code",
      "source": [
        "# (\u043e\u0441\u043d\u043e\u0432\u043d\u043e\u0439 \u0446\u0438\u043a\u043b)\n",
        "for epoch in tqdm(range(EPOCHS), desc=\"Epochs\"):\n",
        "    print(f'\\nEpoch {epoch + 1}/{EPOCHS}')\n",
        "    print('-' * 10)\n",
        "\n",
        "    train_acc, train_loss, f1_macro, f1_micro, f1_weighted = train_epoch(\n",
        "        model,\n",
        "        train_dataloader,\n",
        "        optimizer,\n",
        "        device,\n",
        "        scheduler,\n",
        "        len(train_data)\n",
        "    )\n",
        "\n",
        "    print(f'TRAIN:\\nloss {train_loss}\\naccuracy {train_acc}\\nf1_macro {f1_macro}\\nf1_micro {f1_micro}\\nf1_weighted {f1_weighted}\\n')\n",
        "\n",
        "    val_acc, val_loss, val_f1_macro, val_f1_micro, val_f1_weighted = eval_model(\n",
        "        model,\n",
        "        valid_dataloader,\n",
        "        device,\n",
        "        len(val_data)\n",
        "    )\n",
        "\n",
        "    print(f'VAL:\\nloss {val_loss}\\naccuracy {val_acc}\\nf1_macro {val_f1_macro}\\nf1_micro {val_f1_micro}\\nf1_weighted {val_f1_weighted}\\n')\n",
        "\n",
        "    history['train_acc'].append(train_acc)\n",
        "    history['train_loss'].append(train_loss)\n",
        "    history['val_acc'].append(val_acc)\n",
        "    history['val_loss'].append(val_loss)"
      ],
      "metadata": {
        "colab": {
          "base_uri": "https://localhost:8080/",
          "height": 1000,
          "referenced_widgets": [
            "5cbc5f2d54d74178a518cb5e2a407d5e",
            "45c98f9838374cbebbeefd1d6b823358",
            "31d52bf81abf484aacbe3c73e0be89c6",
            "e5a755eb6de149d1b4d8c26c045188ae",
            "3e496aaae8d94f0a9fcc59c73c887509",
            "dea07376ce554aff835527733a7fb1ea",
            "8220e0abecf8483c925bcf1a698412fb",
            "6feaf098bdd24b90989ea16adde6abd9",
            "4aa94dee612f4f9abddcc0fd0c7e2ada",
            "e191518be3fa44c9ad1ed2e60b6f7a9e",
            "1ee58595095544ea9e98784ce553de95",
            "05b6fc799f49417c87f3f30daa22c905",
            "1a6c68264e714ae29e994d02341c2664",
            "4557db302aa54beb9e692474fb90d205",
            "53fbc0f34d2d4813b440a708d40141b9",
            "faea39c977a1498e9a50622b771be1e1",
            "1450418cf2f940ed95bf9c60770afd3a",
            "b36e6c09b3b64aa88af5199d7d7d5e77",
            "dd5ca132a6cd4121808a7194782c419b",
            "4f02a3a33e10455d8dd9e70b9e98165f",
            "8373996ac08a47be9a0435597575349f",
            "47cbc49aafa1478381b866416d56a951",
            "92931a29e82546d68bf83c24f2830194",
            "1c35b33318fc4bdb8599aca03e566306",
            "9f58ffd038c4456383b442b3eaaf4a3c",
            "ab2ffe0250224bb0b5a7caf8f2a5f818",
            "2cd446e3de4d4d83b65e04b31b66fc98",
            "5d9cdbd80b604c29bc65f906b10bb4c9",
            "eb48643ebab940ab8fbea31d3dc5e797",
            "5c8299d885944905a40c3e563e4732d4",
            "348ccf852ca34653bdcd0ff1f8d67114",
            "4248755ab19d4b698d215b0b615ab5d3",
            "0e520ebe77214e38b05d6770fd774387",
            "8be1b7e0069349579fae64b6eecfe242",
            "73daa7b573614ee1b7b92e525e1c23aa",
            "6f9b708d8f544aab979c2cfa25d99d30",
            "4d1dc2f23dc14468b358c80e16c7c0f6",
            "78755112a4a041728389f98186159359",
            "1c1e68b37d994bb5a4b3d74e0040a530",
            "5dff12854d4343999c3fdfd040670bda",
            "7fab4bf9a41346778afcb4eb4731a195",
            "103e8c111ce34440b969ceefd5ccbaf9",
            "d1415a79d3d344589d3c5317031aaf54",
            "e87332c521374de38ec17ed21cefbeec",
            "f7b2c22ac50e45a58431f7248028ec78",
            "60a9eb2a02ed4fc892b32ca500a2635e",
            "7aae28a624454d689aeef7750862cbb0",
            "cfd9afe496d44eb78fb0fa28d546b8de",
            "7e6c429dd38a428ea6ab5543b4a0ddb3",
            "15f05804896c4de7adcb024a6cd51456",
            "16588c00a9884bd98dff3c225099f715",
            "d8603caf98a5408f85b58ef10f6e3de9",
            "73491ccd81e54c4f9b3734d86d93ed0c",
            "2f955b353db74a9493ada47752badcaa",
            "1ddf55453a764ca4a27ca4a765d94869",
            "eb797bf8baf34b13b13534a8553c0eb3",
            "7c5215f4b8774eb78619036a29b81a0c",
            "ae97b6b9c63e425da5428e33d4830700",
            "7783960c8dab4769a4308926c41b5460",
            "063e13f8be3f487b9c6b6595f39c3675",
            "f3ea61eefd9045e387a30f4ab96206be",
            "2214f79528f2452693b81a08c292ee84",
            "867e908d357d44f8a01bcd4bbfa635ec",
            "a3f5f1666e2c4cb49b5938b6919943ee",
            "953fb3b6d51e409fb4ffc2018e7f4421",
            "80f9306d49bf4ccb8f2a8b358aeb6f2d",
            "ee774383ab344e549865280432fc7ebd",
            "842bdd92ffa846b992c44dbd59a38f26",
            "d9339520f09a42349db955c4899da1ab",
            "6c1ed4d8032148ccba95807279b17031",
            "cdf27aa975294aa0ba208f490d8d6afc",
            "ec1636962a19488ab6acf585bdea3514",
            "daad274cbbeb4507a274f8703b9c8005",
            "1e24c45fd6cb4a9185f03f7f3dbc26bf",
            "e625bbc1eda248a5ae27220a0630b62f",
            "996ea905996a4209a7e1c097ebe72ac1",
            "22b22cf888d54a2d890ae2ba61f6809b",
            "aa5aba924a7d46499cbed9a45fa18b11",
            "1734adc09792408f88e864ed96160cee",
            "dd18fc0ce11d4637aed5de8617ff846a",
            "2a5e7dd424b142edb28116833da57564",
            "212f4b163a814dbbbed68318e15d808d",
            "a50fd2c579f44769b69d0067d035750a",
            "25e10942b1de4ad99e28fa54ce854b20",
            "83c486fcae5c49e39b61a41dcaad470a",
            "72e110ca7968406b9e9826c78ba415bf",
            "10b61a17099843fe9c30c177c7a7d73c",
            "21552dbce37647f5a15ff36eac418439",
            "dee8002fffbc4df7b585333d5bbfbc81",
            "761230a09d2a456785f11cba1b0ba98a",
            "a539c83039b841f7bc4a4b2c27b12bad",
            "16352d8e89bf4724803c62ce09b96a0c",
            "578faf68cceb41cab2f358407d3ab27b",
            "34942feb18404871b3cb2e7696ab0a18",
            "ca8be8ed09714a1c9fb22facdcb278b0",
            "0e18c284f6194f45ba90c6cc1fea4e41",
            "3f7d4a9eff774b53a34d6e654e72c647",
            "96e40ce4a836409abd168b907f10b6fe",
            "6a069270a80641c096d1de7b7a03cd5f",
            "1e27191fd297486fb5908cc0b65cee0f",
            "00afad3bfd1042098a55080c3308c4a0",
            "8aa1c0e3c8f54670be34c8f7c5190480",
            "42f469190d43474ca3b897b76524591c",
            "74d7a786b8384446b3d4eb88a7ec3dca",
            "cb972f3cee8640a6a22f6b5b0f0fdab8",
            "0b448e9e092241f497ee3a3665319cb1",
            "6d88dc2d743446c69d7aa274c4911a94",
            "1cc1a6aa39ee43b1b5140c2cd1f22edc",
            "d1a8d178730747e5ba8c4ef3dffaad6c",
            "e960a2349a7f45da904ecb727c5447d4",
            "cefce861198b40bbaeb89051c45b2709",
            "530e5e3cd98f4603947359b1d8239030",
            "c8d3501cbb2149258d9649e4cf24bc6f",
            "b017a2d461f74d1a88bb4360fa2bf2f8",
            "07732c39de9d4d8798e6c15c6e7921c1",
            "f429b30b8ba84b2ab89a09e62bb3d97c",
            "365c86444699487aba2f0786dc3d132b",
            "895df87cc08e4c2fbff97fbc1937943c",
            "0cb3534eb21943729b1f90799764fb46",
            "c5f72a98bd754035bf57a8e299ccc7c4",
            "71dfb1f4a0414c82a7d73484463b0407",
            "e98e255c894c4d23a719b51adff1d34f",
            "54c7c4054fb74e1f87bdd2d9856b00d2",
            "752bbd5ab036470087ad2587394735e7",
            "93f3089e86d049bfa9150b30ea4f68cb",
            "6bf0208645454f92ade65a5b8e79a513",
            "ff84c22c7e6f498fba0655ed8cf1ea6f",
            "2c3afb3406c24a28aa472a5ddb42f1a6",
            "db9a4a11d5bf4ead8be4af138546e9c2",
            "db3ceed58931452a89c06e8a83613995",
            "b472b595cd1b47d98a51d0a5876e5c2a",
            "01673d2d3a684e76aa199162b928cefa",
            "63bfe03260544d09bd95ad1f35e69dc3",
            "028168cda6ed4bfcadb9c771a9354116",
            "de22fc31ebb64e1396f1028b04f36d99",
            "9c6e4d0e673e4621bdeca7b870102a04",
            "cf074d9b751440168c07552dc3df2732",
            "dfea0875a99141b1956ee5e660a853ba",
            "f5c5cb366bc84048b89e730b8a05ff85",
            "8bd82750c0494ba48ccd635de47f23cd",
            "0c8fd096cfe842e08ad7f9465e6ca7f3",
            "13862f4dcaf54f558cccc885d039e840",
            "d28c0e798dc04de3b45185fa26b08a16",
            "f8e4f74ba8df4a0baa4304695844d28f",
            "21cb5cd454b64c89b4b80ce0f613110a",
            "aea1eea4e41040fd86b24001a19485ea",
            "01f0544f17194d0e9757dfb84f327b0b",
            "3ab8a7014fbc4cd49597aec9c9f77901",
            "f0332a97169b4fceb6e30bf0e5057f17",
            "b0f7766aaa544c23b8b55661a905ca7c",
            "0221437862a24bf581dcc746713c0bc9",
            "56dc203942aa41bd876cadbad98672ad",
            "b2c4a5111a1f4b6aafd31988a7d013d7",
            "53b6bb716ad24b239d41b9309cb3f038",
            "1d97d48cd5b94c7f98eb5411f7404147",
            "cc0d9486aae145f4b41530a45da8eba6",
            "b991e5f37cf646da9ad6517b8cf60c97",
            "c05bdf8a96e241cc82dd0a701d7d5d4f",
            "ca261ded636b4cf6a5fa2a9ea4f5bf82",
            "fb776f31c086436e89cac024ccc7cd8c",
            "1982db5bfb474e79bc0a242402f4961a",
            "27c08da4935544cbba46eadebfee3402",
            "6bdde7b259784a289039e5092908a0a4",
            "abc493e2da2645ac8a73451e4dff2d9e",
            "28ded553c8824e71a24406f3fc760e79",
            "97bc04c05bf24c94b6fad30ab5d6b5cb",
            "b67f533d740f4a5cbd6226df2aa92e65",
            "73d2049435ae4500bd2db413b6b092d1",
            "c9213a1c00c2428b9cd57eb0c051ad2e",
            "10d7b16f224f424ebd8d9539f2b5a7cf",
            "af837a6d094e41f3b38e03847cd1aff9",
            "7128771ddfde45b6a86d1aa5d64c15f8",
            "821e8f0532154f3c96526891ed938d62",
            "3a33c15ea565466d886ebd44617efe77",
            "d52f893e5a8d4967b0c143b33a9d6453",
            "de0041a973bb44a1ab35fd8370aec90e",
            "f4de77d71e424446a50daa6671a634d2",
            "cda9bedede404b4b9967d74372e8ddec",
            "4ff7ede287364cc8b749685ef68654d1",
            "7b2c67266f9f47dd9ff19f017046c7c7",
            "b766573d2332431eb2e599390941f8e9",
            "af0ff30485a747e79d86dfc33d90631f",
            "0bb84967424a42f98c5daa3937d2947d",
            "20045bee53d44050801ba7d48f261131",
            "f953a0f5279440d0b455b5e705333b4a",
            "8ee083a65c2543609c3fb1763200bb25",
            "7da74dd5cdfd4bfd9a0dbba059c49cfd",
            "11fec0d2890c44cdb254159225356b26",
            "3aa142785fe54356943d98b210aa7fed",
            "a2d062b899164eebb43690f9a0cb4416",
            "016db489c5ea46f1ab43dfc018eb29a9",
            "9ab6288dd2fc4982b30a1bcb5f159f90",
            "4d1cab360c57437c9d138a30da4a831e",
            "e27ca582ecf24bc68725b1dbe2342000",
            "1263d7e72aea4b85908817b346fef486",
            "f1b1440a7168494f9106b5b93c87d19c",
            "3b1251cad9d54b0383e35740fe1525f3",
            "aa928f126c5442a99fb7f8bcf24eef00",
            "ca618906144a4d2697c03da6ddf08156",
            "a2d720fba58c4374b2d1da6d7644c92d",
            "bc9ddf612287470c9a5b316f1242a6f2",
            "be0d0b9b2e5d402b80a1611a5ebd0ada",
            "179e4fd3091049f3bf62d24cf18f672f",
            "05e8d798d36144c7a4ae7ea6e12907fa",
            "948e6a79751a4273805df193d0539178",
            "210e89fe71f442a59f84504a426d2ede",
            "59902ca9548c4ad99fc5be49a9085212",
            "c98684dddb5f4cf388b6580133e88e37",
            "0fa5936551cd4752b3c09df1d3435c84",
            "9278dc8d57cb48b38d6bc31c18c05e37",
            "5d63b2a2425a448387dad5aa4c725a50",
            "f66d724de503451fa6954eda7bd8449e",
            "7a7cfa96abb746c0b1f2a661ee5dcfa0",
            "6a5576a2654a443692458709e4c78079",
            "21bfca056770447e8f8fecc85e973c3a",
            "0be2116cb2a04e368666e2942659fffc",
            "d865ea5cbd73470b803ce53aa379763e",
            "2d8ea1d78b094e2aa6b4e746b561921d",
            "deb38b69f3c1489793bbff89443949b3",
            "21f12ee7684b4014b1bee6857a9b98fa",
            "438ac1ff4c814786b556d86dc769b4d8",
            "a45465e84a29442ab661dc6a3bab8d5d",
            "8641e25725874b07b811e619b9628a7d",
            "5e8195df54764a139464a113c0e68c74",
            "6c501d0eda6743488ecfb82cd0dd50da",
            "5c6d8942b645454ab80baa5799ddd1df",
            "9b2ff72c9ebe4890b923d0a5984204a2",
            "3689b0d4806e45558dccb05d1f308861",
            "71e2c99b151747338bc41510dd1256b7",
            "1f91ce24bd394287b29f4afee3f82d33",
            "2457f51af5dc4902b85fb8b918f33e2a"
          ]
        },
        "id": "z_B5BEFjNvJT",
        "outputId": "7c34addd-b93c-40d2-f5cf-684c0d477259"
      },
      "execution_count": 83,
      "outputs": [
        {
          "output_type": "display_data",
          "data": {
            "text/plain": [
              "Epochs:   0%|          | 0/10 [00:00<?, ?it/s]"
            ],
            "application/vnd.jupyter.widget-view+json": {
              "version_major": 2,
              "version_minor": 0,
              "model_id": "5cbc5f2d54d74178a518cb5e2a407d5e"
            }
          },
          "metadata": {}
        },
        {
          "output_type": "stream",
          "name": "stdout",
          "text": [
            "\n",
            "Epoch 1/10\n",
            "----------\n"
          ]
        },
        {
          "output_type": "display_data",
          "data": {
            "text/plain": [
              "Training:   0%|          | 0/180 [00:00<?, ?it/s]"
            ],
            "application/vnd.jupyter.widget-view+json": {
              "version_major": 2,
              "version_minor": 0,
              "model_id": "05b6fc799f49417c87f3f30daa22c905"
            }
          },
          "metadata": {}
        },
        {
          "output_type": "stream",
          "name": "stdout",
          "text": [
            "TRAIN:\n",
            "loss 0.1277570146860348\n",
            "accuracy 0.9483230497659881\n",
            "f1_macro 0.6386764194126195\n",
            "f1_micro 0.9483230497659881\n",
            "f1_weighted 0.9456081168958791\n",
            "\n"
          ]
        },
        {
          "output_type": "display_data",
          "data": {
            "text/plain": [
              "Validation:   0%|          | 0/20 [00:00<?, ?it/s]"
            ],
            "application/vnd.jupyter.widget-view+json": {
              "version_major": 2,
              "version_minor": 0,
              "model_id": "92931a29e82546d68bf83c24f2830194"
            }
          },
          "metadata": {}
        },
        {
          "output_type": "stream",
          "name": "stdout",
          "text": [
            "VAL:\n",
            "loss 0.22272301502525807\n",
            "accuracy 0.9244871235268441\n",
            "f1_macro 0.47112977833120323\n",
            "f1_micro 0.9244871235268441\n",
            "f1_weighted 0.9199912537615293\n",
            "\n",
            "\n",
            "Epoch 2/10\n",
            "----------\n"
          ]
        },
        {
          "output_type": "display_data",
          "data": {
            "text/plain": [
              "Training:   0%|          | 0/180 [00:00<?, ?it/s]"
            ],
            "application/vnd.jupyter.widget-view+json": {
              "version_major": 2,
              "version_minor": 0,
              "model_id": "8be1b7e0069349579fae64b6eecfe242"
            }
          },
          "metadata": {}
        },
        {
          "output_type": "stream",
          "name": "stdout",
          "text": [
            "TRAIN:\n",
            "loss 0.11968218949106005\n",
            "accuracy 0.952064001036454\n",
            "f1_macro 0.6673601996169003\n",
            "f1_micro 0.952064001036454\n",
            "f1_weighted 0.950202303056334\n",
            "\n"
          ]
        },
        {
          "output_type": "display_data",
          "data": {
            "text/plain": [
              "Validation:   0%|          | 0/20 [00:00<?, ?it/s]"
            ],
            "application/vnd.jupyter.widget-view+json": {
              "version_major": 2,
              "version_minor": 0,
              "model_id": "f7b2c22ac50e45a58431f7248028ec78"
            }
          },
          "metadata": {}
        },
        {
          "output_type": "stream",
          "name": "stdout",
          "text": [
            "VAL:\n",
            "loss 0.21913390122354032\n",
            "accuracy 0.927251564091372\n",
            "f1_macro 0.4746288875362471\n",
            "f1_micro 0.927251564091372\n",
            "f1_weighted 0.9223210312905884\n",
            "\n",
            "\n",
            "Epoch 3/10\n",
            "----------\n"
          ]
        },
        {
          "output_type": "display_data",
          "data": {
            "text/plain": [
              "Training:   0%|          | 0/180 [00:00<?, ?it/s]"
            ],
            "application/vnd.jupyter.widget-view+json": {
              "version_major": 2,
              "version_minor": 0,
              "model_id": "eb797bf8baf34b13b13534a8553c0eb3"
            }
          },
          "metadata": {}
        },
        {
          "output_type": "stream",
          "name": "stdout",
          "text": [
            "TRAIN:\n",
            "loss 0.11378877612037791\n",
            "accuracy 0.9550923901601646\n",
            "f1_macro 0.6758259701521625\n",
            "f1_micro 0.9550923901601646\n",
            "f1_weighted 0.9533489074269921\n",
            "\n"
          ]
        },
        {
          "output_type": "display_data",
          "data": {
            "text/plain": [
              "Validation:   0%|          | 0/20 [00:00<?, ?it/s]"
            ],
            "application/vnd.jupyter.widget-view+json": {
              "version_major": 2,
              "version_minor": 0,
              "model_id": "ee774383ab344e549865280432fc7ebd"
            }
          },
          "metadata": {}
        },
        {
          "output_type": "stream",
          "name": "stdout",
          "text": [
            "VAL:\n",
            "loss 0.22462693490087987\n",
            "accuracy 0.9281245453222756\n",
            "f1_macro 0.47705888528945645\n",
            "f1_micro 0.9281245453222756\n",
            "f1_weighted 0.9233166769157057\n",
            "\n",
            "\n",
            "Epoch 4/10\n",
            "----------\n"
          ]
        },
        {
          "output_type": "display_data",
          "data": {
            "text/plain": [
              "Training:   0%|          | 0/180 [00:00<?, ?it/s]"
            ],
            "application/vnd.jupyter.widget-view+json": {
              "version_major": 2,
              "version_minor": 0,
              "model_id": "aa5aba924a7d46499cbed9a45fa18b11"
            }
          },
          "metadata": {}
        },
        {
          "output_type": "stream",
          "name": "stdout",
          "text": [
            "TRAIN:\n",
            "loss 0.10983907340301408\n",
            "accuracy 0.9566956549903642\n",
            "f1_macro 0.6817713048839796\n",
            "f1_micro 0.9566956549903642\n",
            "f1_weighted 0.9549246680090704\n",
            "\n"
          ]
        },
        {
          "output_type": "display_data",
          "data": {
            "text/plain": [
              "Validation:   0%|          | 0/20 [00:00<?, ?it/s]"
            ],
            "application/vnd.jupyter.widget-view+json": {
              "version_major": 2,
              "version_minor": 0,
              "model_id": "dee8002fffbc4df7b585333d5bbfbc81"
            }
          },
          "metadata": {}
        },
        {
          "output_type": "stream",
          "name": "stdout",
          "text": [
            "VAL:\n",
            "loss 0.21764015294611455\n",
            "accuracy 0.9289975265531791\n",
            "f1_macro 0.48439993926956737\n",
            "f1_micro 0.9289975265531791\n",
            "f1_weighted 0.9244248103531916\n",
            "\n",
            "\n",
            "Epoch 5/10\n",
            "----------\n"
          ]
        },
        {
          "output_type": "display_data",
          "data": {
            "text/plain": [
              "Training:   0%|          | 0/180 [00:00<?, ?it/s]"
            ],
            "application/vnd.jupyter.widget-view+json": {
              "version_major": 2,
              "version_minor": 0,
              "model_id": "1e27191fd297486fb5908cc0b65cee0f"
            }
          },
          "metadata": {}
        },
        {
          "output_type": "stream",
          "name": "stdout",
          "text": [
            "TRAIN:\n",
            "loss 0.10762879444907109\n",
            "accuracy 0.958671395488186\n",
            "f1_macro 0.6852197248868788\n",
            "f1_micro 0.958671395488186\n",
            "f1_weighted 0.9569941829560342\n",
            "\n"
          ]
        },
        {
          "output_type": "display_data",
          "data": {
            "text/plain": [
              "Validation:   0%|          | 0/20 [00:00<?, ?it/s]"
            ],
            "application/vnd.jupyter.widget-view+json": {
              "version_major": 2,
              "version_minor": 0,
              "model_id": "cefce861198b40bbaeb89051c45b2709"
            }
          },
          "metadata": {}
        },
        {
          "output_type": "stream",
          "name": "stdout",
          "text": [
            "VAL:\n",
            "loss 0.21838099844753742\n",
            "accuracy 0.9297250109122653\n",
            "f1_macro 0.4879315999675445\n",
            "f1_micro 0.9297250109122653\n",
            "f1_weighted 0.9253625399383452\n",
            "\n",
            "\n",
            "Epoch 6/10\n",
            "----------\n"
          ]
        },
        {
          "output_type": "display_data",
          "data": {
            "text/plain": [
              "Training:   0%|          | 0/180 [00:00<?, ?it/s]"
            ],
            "application/vnd.jupyter.widget-view+json": {
              "version_major": 2,
              "version_minor": 0,
              "model_id": "e98e255c894c4d23a719b51adff1d34f"
            }
          },
          "metadata": {}
        },
        {
          "output_type": "stream",
          "name": "stdout",
          "text": [
            "TRAIN:\n",
            "loss 0.10493222098383638\n",
            "accuracy 0.959222011692497\n",
            "f1_macro 0.6861174456684235\n",
            "f1_micro 0.959222011692497\n",
            "f1_weighted 0.9574809189428835\n",
            "\n"
          ]
        },
        {
          "output_type": "display_data",
          "data": {
            "text/plain": [
              "Validation:   0%|          | 0/20 [00:00<?, ?it/s]"
            ],
            "application/vnd.jupyter.widget-view+json": {
              "version_major": 2,
              "version_minor": 0,
              "model_id": "63bfe03260544d09bd95ad1f35e69dc3"
            }
          },
          "metadata": {}
        },
        {
          "output_type": "stream",
          "name": "stdout",
          "text": [
            "VAL:\n",
            "loss 0.22148949578404425\n",
            "accuracy 0.9301615015277171\n",
            "f1_macro 0.488409013863868\n",
            "f1_micro 0.9301615015277171\n",
            "f1_weighted 0.9257468582961196\n",
            "\n",
            "\n",
            "Epoch 7/10\n",
            "----------\n"
          ]
        },
        {
          "output_type": "display_data",
          "data": {
            "text/plain": [
              "Training:   0%|          | 0/180 [00:00<?, ?it/s]"
            ],
            "application/vnd.jupyter.widget-view+json": {
              "version_major": 2,
              "version_minor": 0,
              "model_id": "f8e4f74ba8df4a0baa4304695844d28f"
            }
          },
          "metadata": {}
        },
        {
          "output_type": "stream",
          "name": "stdout",
          "text": [
            "TRAIN:\n",
            "loss 0.10398637215710349\n",
            "accuracy 0.959222011692497\n",
            "f1_macro 0.6855010220704397\n",
            "f1_micro 0.959222011692497\n",
            "f1_weighted 0.9575880428420206\n",
            "\n"
          ]
        },
        {
          "output_type": "display_data",
          "data": {
            "text/plain": [
              "Validation:   0%|          | 0/20 [00:00<?, ?it/s]"
            ],
            "application/vnd.jupyter.widget-view+json": {
              "version_major": 2,
              "version_minor": 0,
              "model_id": "1d97d48cd5b94c7f98eb5411f7404147"
            }
          },
          "metadata": {}
        },
        {
          "output_type": "stream",
          "name": "stdout",
          "text": [
            "VAL:\n",
            "loss 0.22280976101756095\n",
            "accuracy 0.930597992143169\n",
            "f1_macro 0.48942643620331644\n",
            "f1_micro 0.930597992143169\n",
            "f1_weighted 0.9262067120849381\n",
            "\n",
            "\n",
            "Epoch 8/10\n",
            "----------\n"
          ]
        },
        {
          "output_type": "display_data",
          "data": {
            "text/plain": [
              "Training:   0%|          | 0/180 [00:00<?, ?it/s]"
            ],
            "application/vnd.jupyter.widget-view+json": {
              "version_major": 2,
              "version_minor": 0,
              "model_id": "97bc04c05bf24c94b6fad30ab5d6b5cb"
            }
          },
          "metadata": {}
        },
        {
          "output_type": "stream",
          "name": "stdout",
          "text": [
            "TRAIN:\n",
            "loss 0.1054223692872458\n",
            "accuracy 0.9588981198076082\n",
            "f1_macro 0.6877259755455294\n",
            "f1_micro 0.9588981198076082\n",
            "f1_weighted 0.957276662767919\n",
            "\n"
          ]
        },
        {
          "output_type": "display_data",
          "data": {
            "text/plain": [
              "Validation:   0%|          | 0/20 [00:00<?, ?it/s]"
            ],
            "application/vnd.jupyter.widget-view+json": {
              "version_major": 2,
              "version_minor": 0,
              "model_id": "f4de77d71e424446a50daa6671a634d2"
            }
          },
          "metadata": {}
        },
        {
          "output_type": "stream",
          "name": "stdout",
          "text": [
            "VAL:\n",
            "loss 0.21713336370885372\n",
            "accuracy 0.9307434890149862\n",
            "f1_macro 0.49026510903307424\n",
            "f1_micro 0.9307434890149862\n",
            "f1_weighted 0.9264205240985773\n",
            "\n",
            "\n",
            "Epoch 9/10\n",
            "----------\n"
          ]
        },
        {
          "output_type": "display_data",
          "data": {
            "text/plain": [
              "Training:   0%|          | 0/180 [00:00<?, ?it/s]"
            ],
            "application/vnd.jupyter.widget-view+json": {
              "version_major": 2,
              "version_minor": 0,
              "model_id": "11fec0d2890c44cdb254159225356b26"
            }
          },
          "metadata": {}
        },
        {
          "output_type": "stream",
          "name": "stdout",
          "text": [
            "TRAIN:\n",
            "loss 0.1082575041283336\n",
            "accuracy 0.9587037846766749\n",
            "f1_macro 0.6832479838214629\n",
            "f1_micro 0.9587037846766749\n",
            "f1_weighted 0.9569390224271485\n",
            "\n"
          ]
        },
        {
          "output_type": "display_data",
          "data": {
            "text/plain": [
              "Validation:   0%|          | 0/20 [00:00<?, ?it/s]"
            ],
            "application/vnd.jupyter.widget-view+json": {
              "version_major": 2,
              "version_minor": 0,
              "model_id": "ca618906144a4d2697c03da6ddf08156"
            }
          },
          "metadata": {}
        },
        {
          "output_type": "stream",
          "name": "stdout",
          "text": [
            "VAL:\n",
            "loss 0.2155804343521595\n",
            "accuracy 0.9308889858868035\n",
            "f1_macro 0.4910176470184526\n",
            "f1_micro 0.9308889858868035\n",
            "f1_weighted 0.9266496186739965\n",
            "\n",
            "\n",
            "Epoch 10/10\n",
            "----------\n"
          ]
        },
        {
          "output_type": "display_data",
          "data": {
            "text/plain": [
              "Training:   0%|          | 0/180 [00:00<?, ?it/s]"
            ],
            "application/vnd.jupyter.widget-view+json": {
              "version_major": 2,
              "version_minor": 0,
              "model_id": "9278dc8d57cb48b38d6bc31c18c05e37"
            }
          },
          "metadata": {}
        },
        {
          "output_type": "stream",
          "name": "stdout",
          "text": [
            "TRAIN:\n",
            "loss 0.11143789094769292\n",
            "accuracy 0.9564041522939642\n",
            "f1_macro 0.6730783523377352\n",
            "f1_micro 0.9564041522939642\n",
            "f1_weighted 0.9546738540978632\n",
            "\n"
          ]
        },
        {
          "output_type": "display_data",
          "data": {
            "text/plain": [
              "Validation:   0%|          | 0/20 [00:00<?, ?it/s]"
            ],
            "application/vnd.jupyter.widget-view+json": {
              "version_major": 2,
              "version_minor": 0,
              "model_id": "438ac1ff4c814786b556d86dc769b4d8"
            }
          },
          "metadata": {}
        },
        {
          "output_type": "stream",
          "name": "stdout",
          "text": [
            "VAL:\n",
            "loss 0.218041262216866\n",
            "accuracy 0.9308889858868035\n",
            "f1_macro 0.4910176470184526\n",
            "f1_micro 0.9308889858868035\n",
            "f1_weighted 0.9266496186739965\n",
            "\n"
          ]
        }
      ]
    },
    {
      "cell_type": "code",
      "source": [
        "set_all_seeds(4036)"
      ],
      "metadata": {
        "id": "XkYGRuB0u42o"
      },
      "execution_count": 84,
      "outputs": []
    },
    {
      "cell_type": "code",
      "source": [
        "# \u0437\u0430\u043c\u043e\u0440\u043e\u0436\u0435\u043d\u043d\u044b\u0435 \u044d\u043c\u0431\u0435\u0434\u0434\u0438\u043d\u0433\u0438 (\u043e\u0431\u0443\u0447\u0430\u044e\u0442\u0441\u044f \u0442\u043e\u043b\u044c\u043a\u043e \u044d\u043c\u0431\u0435\u0434\u0434\u0438\u043d\u0433\u0438 BERT)\n",
        "class NERModelWithSemantics(nn.Module):\n",
        "    def __init__(self, bert_model, num_labels, num_sem_classes, hidden_size=768):\n",
        "        super().__init__()\n",
        "        self.bert = bert_model\n",
        "        self.num_sem_classes = num_sem_classes\n",
        "\n",
        "        # BERT\n",
        "        for param in self.bert.parameters():\n",
        "            param.requires_grad = True\n",
        "\n",
        "        # \u044d\u043c\u0431\u0435\u0434\u0434\u0438\u043d\u0433\u0438 \u0434\u043b\u044f \u0441\u0435\u043c\u0430\u043d\u0442\u0438\u0447\u0435\u0441\u043a\u0438\u0445 \u043a\u043b\u0430\u0441\u0441\u043e\u0432 \u043d\u0435 \u043e\u0431\u0443\u0447\u0430\u044e\n",
        "        self.semantics = nn.Embedding(num_sem_classes, 100)\n",
        "        for param in self.semantics.parameters():\n",
        "            param.requires_grad = False\n",
        "\n",
        "        # \u043a\u043b\u0430\u0441\u0441\u0438\u0444\u0438\u043a\u0430\u0442\u043e\u0440\n",
        "        self.classifier = nn.Linear(hidden_size + 100, num_labels)\n",
        "\n",
        "    def forward(self, input_ids, attention_mask, token_type_ids, semclasses, labels=None):\n",
        "        outputs = self.bert(\n",
        "            input_ids=input_ids,\n",
        "            attention_mask=attention_mask,\n",
        "            token_type_ids=token_type_ids,\n",
        "            return_dict=True\n",
        "        )\n",
        "\n",
        "        bert_output = outputs.last_hidden_state  # \u043f\u043e\u043b\u0443\u0447\u0430\u0435\u0442\u0441\u044f, \u0447\u0442\u043e \u0437\u0434\u0435\u0441\u044c \u0443 \u043d\u0430\u0441 (B, T, H) - BERT \u044d\u043c\u0431\u0435\u0434\u0434\u0438\u043d\u0433\u0438\n",
        "        sem_embeddings = self.semantics(semclasses)  # \u0430 \u0437\u0434\u0435\u0441\u044c \u043d\u0430\u0445\u043e\u0434\u044f\u0442\u0441\u044f (B, T, D) - \u0441\u0435\u043c\u0430\u043d\u0442\u0438\u0447\u0435\u0441\u043a\u0438\u0435 \u044d\u043c\u0431\u0435\u0434\u0434\u0438\u043d\u0433\u0438\n",
        "\n",
        "        # \u0432\u043e\u0442 \u0442\u0443\u0442 \u0443 \u043c\u0435\u043d\u044f \u043a\u0430\u043a \u0440\u0430\u0437 \u043f\u0440\u043e\u0438\u0441\u0445\u043e\u0434\u0438\u0442 \u043a\u043e\u043d\u043a\u0430\u0442\u0435\u043d\u0430\u0446\u0438\u044f \u044d\u043c\u0431\u0435\u0434\u0434\u0438\u043d\u0433\u043e\u0432\n",
        "        combined = torch.cat([bert_output, sem_embeddings], dim=-1)  #  # (B, T, H+D)\n",
        "        logits = self.classifier(combined)  # (B, T, num_labels)\n",
        "\n",
        "        loss = None\n",
        "        if labels is not None:\n",
        "            loss_fct = nn.CrossEntropyLoss(ignore_index=-100)\n",
        "            loss = loss_fct(logits.view(-1, logits.shape[-1]), labels.view(-1))\n",
        "\n",
        "        return loss, logits"
      ],
      "metadata": {
        "id": "icGNpKkevfYw"
      },
      "execution_count": 91,
      "outputs": []
    },
    {
      "cell_type": "code",
      "source": [
        "model = NERModelWithSemantics(\n",
        "    bert_model=bert_model,\n",
        "    num_labels=len(tag2idx),\n",
        "    num_sem_classes=len(sem2id)\n",
        ")\n",
        "model.to(device)"
      ],
      "metadata": {
        "colab": {
          "base_uri": "https://localhost:8080/"
        },
        "id": "akGL4VVyvtyZ",
        "outputId": "02d41417-a7d8-47b9-ad87-b75347abe4d6"
      },
      "execution_count": 92,
      "outputs": [
        {
          "output_type": "execute_result",
          "data": {
            "text/plain": [
              "NERModelWithSemantics(\n",
              "  (bert): BertModel(\n",
              "    (embeddings): BertEmbeddings(\n",
              "      (word_embeddings): Embedding(119547, 768, padding_idx=0)\n",
              "      (position_embeddings): Embedding(512, 768)\n",
              "      (token_type_embeddings): Embedding(2, 768)\n",
              "      (LayerNorm): LayerNorm((768,), eps=1e-12, elementwise_affine=True)\n",
              "      (dropout): Dropout(p=0.1, inplace=False)\n",
              "    )\n",
              "    (encoder): BertEncoder(\n",
              "      (layer): ModuleList(\n",
              "        (0-11): 12 x BertLayer(\n",
              "          (attention): BertAttention(\n",
              "            (self): BertSdpaSelfAttention(\n",
              "              (query): Linear(in_features=768, out_features=768, bias=True)\n",
              "              (key): Linear(in_features=768, out_features=768, bias=True)\n",
              "              (value): Linear(in_features=768, out_features=768, bias=True)\n",
              "              (dropout): Dropout(p=0.1, inplace=False)\n",
              "            )\n",
              "            (output): BertSelfOutput(\n",
              "              (dense): Linear(in_features=768, out_features=768, bias=True)\n",
              "              (LayerNorm): LayerNorm((768,), eps=1e-12, elementwise_affine=True)\n",
              "              (dropout): Dropout(p=0.1, inplace=False)\n",
              "            )\n",
              "          )\n",
              "          (intermediate): BertIntermediate(\n",
              "            (dense): Linear(in_features=768, out_features=3072, bias=True)\n",
              "            (intermediate_act_fn): GELUActivation()\n",
              "          )\n",
              "          (output): BertOutput(\n",
              "            (dense): Linear(in_features=3072, out_features=768, bias=True)\n",
              "            (LayerNorm): LayerNorm((768,), eps=1e-12, elementwise_affine=True)\n",
              "            (dropout): Dropout(p=0.1, inplace=False)\n",
              "          )\n",
              "        )\n",
              "      )\n",
              "    )\n",
              "    (pooler): BertPooler(\n",
              "      (dense): Linear(in_features=768, out_features=768, bias=True)\n",
              "      (activation): Tanh()\n",
              "    )\n",
              "  )\n",
              "  (semantics): Embedding(457, 100)\n",
              "  (classifier): Linear(in_features=868, out_features=8, bias=True)\n",
              ")"
            ]
          },
          "metadata": {},
          "execution_count": 92
        }
      ]
    },
    {
      "cell_type": "code",
      "source": [
        "EPOCHS = 10\n",
        "optimizer = AdamW(filter(lambda p: p.requires_grad, model.parameters()), lr=0.00001) # correct_bias=False \u043f\u0438\u0448\u0435\u0442, \u0447\u0442\u043e \u043d\u0435 \u043f\u043e\u0434\u0434\u0435\u0440\u0436\u0438\u0432\u0430\u0435\u0442\u0441\u044f \u0431\u043e\u043b\u044c\u0448\u0435\n",
        "total_steps = len(train_dataloader) * EPOCHS\n",
        "\n",
        "scheduler = get_linear_schedule_with_warmup(\n",
        "    optimizer,\n",
        "    num_warmup_steps=0,\n",
        "    num_training_steps=total_steps\n",
        ")"
      ],
      "metadata": {
        "id": "ULAmWmmxvt-5"
      },
      "execution_count": 93,
      "outputs": []
    },
    {
      "cell_type": "code",
      "source": [
        "from tqdm.auto import tqdm\n",
        "def train_epoch(model, data_loader, optimizer, device, scheduler, n_examples):\n",
        "    model = model.train()\n",
        "    all_preds = []\n",
        "    all_targets = []\n",
        "    losses = []\n",
        "    correct_predictions = 0\n",
        "    total_predictions = 0  # \u0441\u0447\u0435\u0442\u0447\u0438\u043a \u0432\u0441\u0435\u0445 \u043f\u0440\u0435\u0434\u0441\u043a\u0430\u0437\u0430\u043d\u0438\u0439\n",
        "\n",
        "    batch_iterator = tqdm(data_loader, desc=\"Training\", leave=False)\n",
        "\n",
        "    for batch in batch_iterator:\n",
        "        input_ids = batch['input_ids'].to(device)\n",
        "        attention_mask = batch['attention_mask'].to(device)\n",
        "        token_type_ids = batch['token_type_ids'].to(device)\n",
        "        semclasses = batch['semclasses'].to(device)\n",
        "        labels = batch['labels'].to(device)\n",
        "\n",
        "        loss, logits = model(\n",
        "            input_ids=input_ids,\n",
        "            attention_mask=attention_mask,\n",
        "            token_type_ids=token_type_ids,\n",
        "            semclasses=semclasses,\n",
        "            labels=labels\n",
        "        )\n",
        "\n",
        "        preds = torch.argmax(logits, dim=2)\n",
        "        mask = (labels != -100)\n",
        "\n",
        "        correct_predictions += torch.sum((preds == labels) & mask)\n",
        "        total_predictions += torch.sum(mask)\n",
        "        losses.append(loss.item())\n",
        "\n",
        "        loss.backward()\n",
        "        optimizer.step()\n",
        "        scheduler.step()\n",
        "        optimizer.zero_grad()\n",
        "\n",
        "        # \u041f\u0435\u0440\u0435\u043d\u043e\u0441\u0438\u043c \u0442\u0435\u043d\u0437\u043e\u0440\u044b \u043d\u0430 CPU \u043f\u0435\u0440\u0435\u0434 \u043f\u0440\u0435\u043e\u0431\u0440\u0430\u0437\u043e\u0432\u0430\u043d\u0438\u0435\u043c \u0432 numpy\n",
        "        all_preds.extend(preds[mask].cpu().numpy().flatten())\n",
        "        all_targets.extend(labels[mask].cpu().numpy().flatten())\n",
        "\n",
        "        batch_iterator.set_postfix(loss=loss.item())\n",
        "\n",
        "\n",
        "    accuracy = correct_predictions.double() / total_predictions\n",
        "    avg_loss = np.mean(losses)\n",
        "\n",
        "    f1_macro = f1_score(all_targets, all_preds, average='macro', zero_division=0)\n",
        "    f1_micro = f1_score(all_targets, all_preds, average='micro', zero_division=0)\n",
        "    f1_weighted = f1_score(all_targets, all_preds, average='weighted', zero_division=0)\n",
        "\n",
        "    return accuracy.item(), avg_loss, f1_macro, f1_micro, f1_weighted\n",
        "\n",
        "def eval_model(model, data_loader, device, n_examples):\n",
        "    model = model.eval()\n",
        "    losses = []\n",
        "    all_preds = []\n",
        "    all_targets = []\n",
        "    correct_predictions = 0\n",
        "    total_predictions = 0\n",
        "\n",
        "    batch_iterator = tqdm(data_loader, desc=\"Validation\", leave=False)\n",
        "\n",
        "    with torch.no_grad():\n",
        "        for batch in batch_iterator:\n",
        "            input_ids = batch['input_ids'].to(device)\n",
        "            attention_mask = batch['attention_mask'].to(device)\n",
        "            token_type_ids = batch['token_type_ids'].to(device)\n",
        "            semclasses = batch['semclasses'].to(device)\n",
        "            labels = batch['labels'].to(device)\n",
        "\n",
        "            loss, logits = model(\n",
        "                input_ids=input_ids,\n",
        "                attention_mask=attention_mask,\n",
        "                token_type_ids=token_type_ids,\n",
        "                semclasses=semclasses,\n",
        "                labels=labels\n",
        "            )\n",
        "\n",
        "            preds = torch.argmax(logits, dim=2)\n",
        "            mask = (labels != -100)\n",
        "\n",
        "            correct_predictions += torch.sum((preds == labels) & mask)\n",
        "            total_predictions += torch.sum(mask)\n",
        "            losses.append(loss.item())\n",
        "\n",
        "            all_preds.extend(preds[mask].cpu().numpy().flatten())\n",
        "            all_targets.extend(labels[mask].cpu().numpy().flatten())\n",
        "\n",
        "            batch_iterator.set_postfix(loss=loss.item())\n",
        "\n",
        "    accuracy = correct_predictions.double() / total_predictions\n",
        "    avg_loss = np.mean(losses)\n",
        "\n",
        "    f1_macro = f1_score(all_targets, all_preds, average='macro', zero_division=0)\n",
        "    f1_micro = f1_score(all_targets, all_preds, average='micro', zero_division=0)\n",
        "    f1_weighted = f1_score(all_targets, all_preds, average='weighted', zero_division=0)\n",
        "\n",
        "    return accuracy.item(), avg_loss, f1_macro, f1_micro, f1_weighted"
      ],
      "metadata": {
        "id": "rnUqW9mzv1KQ"
      },
      "execution_count": 94,
      "outputs": []
    },
    {
      "cell_type": "code",
      "source": [
        "history = defaultdict(list)\n",
        "best_accuracy = 0"
      ],
      "metadata": {
        "id": "mpcBxOJcv4QC"
      },
      "execution_count": 95,
      "outputs": []
    },
    {
      "cell_type": "code",
      "source": [
        "# (\u043e\u0441\u043d\u043e\u0432\u043d\u043e\u0439 \u0446\u0438\u043a\u043b)\n",
        "for epoch in tqdm(range(EPOCHS), desc=\"Epochs\"):\n",
        "    print(f'\\nEpoch {epoch + 1}/{EPOCHS}')\n",
        "    print('-' * 10)\n",
        "\n",
        "    train_acc, train_loss, f1_macro, f1_micro, f1_weighted = train_epoch(\n",
        "        model,\n",
        "        train_dataloader,\n",
        "        optimizer,\n",
        "        device,\n",
        "        scheduler,\n",
        "        len(train_data)\n",
        "    )\n",
        "\n",
        "    print(f'TRAIN:\\nloss {train_loss}\\naccuracy {train_acc}\\nf1_macro {f1_macro}\\nf1_micro {f1_micro}\\nf1_weighted {f1_weighted}\\n')\n",
        "\n",
        "    val_acc, val_loss, val_f1_macro, val_f1_micro, val_f1_weighted = eval_model(\n",
        "        model,\n",
        "        valid_dataloader,\n",
        "        device,\n",
        "        len(val_data)\n",
        "    )\n",
        "\n",
        "    print(f'VAL:\\nloss {val_loss}\\naccuracy {val_acc}\\nf1_macro {val_f1_macro}\\nf1_micro {val_f1_micro}\\nf1_weighted {val_f1_weighted}\\n')\n",
        "\n",
        "    history['train_acc'].append(train_acc)\n",
        "    history['train_loss'].append(train_loss)\n",
        "    history['val_acc'].append(val_acc)\n",
        "    history['val_loss'].append(val_loss)"
      ],
      "metadata": {
        "colab": {
          "base_uri": "https://localhost:8080/",
          "height": 1000,
          "referenced_widgets": [
            "83ef5c0eb8494bc39b960d62cb4cba25",
            "7451af55af984fb197229ec5607cb01b",
            "402a10116c9e4fc2bf96064b6295267f",
            "bf306623706243e89b5d31a5bd9a62d1",
            "2d427fcc65db4b73b37525250ea0c40d",
            "604bf0134835404aa6f02997d3a150f7",
            "4948a3a9d772444db0854568afda875f",
            "5f4d0e75498147c3845bf4bbb5d73aa3",
            "3615a53f95174ae28ccef02358d0ddd4",
            "13b1d47dea6a4f369418f1229654eeac",
            "65901e4630ef405aab178316bda65fb2",
            "32798353a0314022b457ba247633335f",
            "521ccb44a7ab4cc8b25a6751c12b6e0b",
            "e6aa1454c4fb48e48a3a28efd6edbabd",
            "7724686dde5e4c4ea0c0fd73d07d6ffd",
            "56b556dc45534f21910f734992530523",
            "0b308d7e303f4398a19b26297c76aca6",
            "e6314c8fab164b97a3133d92507e4c9d",
            "eb8ad38a111745b3af69988be4e285ea",
            "4e8f361c4e074b1c8ea61fd01f403eae",
            "4ab3cf726b82415c8752d618959688e4",
            "b957eed195434cc59dc84e71e0a75d99",
            "b6a2f93f32d74435902237b56621f177",
            "ef3f9dae37694997a3d9cda1aae205f2",
            "0851c9477b0e46ec9f5c822f2029565c",
            "2281796f5fc0464d8829538bd6cd11d1",
            "87c755f944a44ba88868a92320427139",
            "892be1f374c342bc9cca80e1637578e9",
            "108770efbf6e4cbd94e6d2b881f4dc3a",
            "c6bbe0fcd33f4f3eb79543695d14640d",
            "35de5001ba2240cc97076375b50fbee3",
            "ada23c50dff94349924e7cadc5d688a8",
            "a9a8bbb2a13044fc8537fe06ac37a576",
            "66cedaf1d33c4a608559c1e472f83c87",
            "e9548db03fad4ab39df3613061024667",
            "89724f9011764f29b1fd034c43f1b6d3",
            "53e5ffb9a097465db973382300af3f3f",
            "a6be8615141b4980ae490fe58c98c949",
            "5c2e72f1cd6d4b19afe0b4489c944b66",
            "34763354890649d9957420cc216d0be0",
            "2298bb4f712445ce8081fddf93f7e545",
            "8a2100a75ebb44eba80c253e39ed1152",
            "2d1e1d856e694819a90425b041e5ca66",
            "077c43f25a604e1f875170b69f07c6f2",
            "e035551c3f4f462faced0f70f96696c4",
            "aa4031c5422c442689d48a731c66d242",
            "b18b1fa2d0904f67b5a91f3b10f123b4",
            "9d1807a87f564f69b978a2a3c3f633a3",
            "3c81a382befb4e1c9939f45dac5865b8",
            "dce17ae44a3449da814d1a0c61ce98f2",
            "4a328a661079447c8c222e84a2e62366",
            "4abf43f5fb3647f29a2d9267fc8f65f3",
            "4aa4cf256595488abd980e04a2c7035d",
            "56bb2ca9929f4d6783c61fd38ef423e2",
            "c0b12c0bbefc4cf78e59a60b3a0553ab",
            "267bca1de961462696864f36f35f1a44",
            "4c8f84e966d44fb682c9c44f86c5c4fb",
            "70fc8e54bebb479281f7206e6a79c634",
            "80e7b48900644ef2aef1759b9b8fe819",
            "c8910a3a1adf4d3eb6be6f6efeb3cd0d",
            "c175f0c4c5e24d388371f747ec52adb3",
            "cfcf0ce0793d43048ff9eefb7ae368a9",
            "2d2fa7569e71433e93bf3465a3579db2",
            "7931dc891df84b388ea15590b321a3a1",
            "e3e7655b356843f1a72acf1b65ab708f",
            "d843a14e14d84d04a8280d890179920d",
            "d3fa0f51c78f4eaa9ec7ea4ae191e6f5",
            "f3eaf24303fe496b865ae2aa7b9651eb",
            "cf1cf0d164de4f41a7f57dd031e576ee",
            "e4bc8625a1c64c28a5b32ca5e0069540",
            "a2bcc0384594490cbf06996556fe2f08",
            "c7e2ad49fcc247ba85bd60df1847bb50",
            "eca694e96cae4917bad5cf8eea9e7b46",
            "af2d630a25cd4c95885bcd17ae36a9b9",
            "11f43243890a4756b5bcaabcbd3ca7cb",
            "b0da6e7fb2c54d40af8326482e1c4460",
            "47ae40fbe97c4e5c8544b326b2b00f9f",
            "17ed326f77d245b483ce08c55a7ac75e",
            "17aa65cc210f40fca011910c67828e41",
            "00f2dbb9e46d42f4890d2f3237735e2f",
            "e12095bda8ee4f66857a61ec77bc5053",
            "8166ff399b08462baa5deed18d171e6a",
            "96639b8454eb425aa172f26ca514357a",
            "2b60a0eed5064ec6b4bd558cfefe3aaa",
            "b94820b83cc7427692af5b58323ffb31",
            "8716ab5d4d5f46f0b04f75dbd9061390",
            "b36ac09246394632aef11c23d2584e9f",
            "cad3b67ff3e942e58b6a28227a9d0b83",
            "09ac3633a1fe44159102c7730a30298a",
            "94d342e6dca74186976652b0d7314e52",
            "bdda2bac3daa4f509d5842d91618a509",
            "07fc6fe3a3194a5284efc5b612b28c65",
            "f8244cc295534ff8a91698d70cdce77d",
            "6b76c7aa6e194479a2c1c632b6bf0ec8",
            "5650a809b1244eadbf9dfc3f09418af3",
            "2a4bda81df194d45bfcb4c0cac6b144c",
            "9c77ddfd211c4892b985505f7274e3de",
            "7e614d4b08c84f3a8a823e466f2fdb37",
            "d979dfdad19b4f25abe3238e93a422d0",
            "c6fcfa3deb9f4aebba80bbb8506c17ed",
            "d5a10f3bc25d4a12ad67e2dd1d7ef831",
            "9b0c0de011aa4f778f345a3618bb830e",
            "0bbe47cfa3384949b6cbc0008c24366b",
            "3cda9933cc594318b2eba708239dedf5",
            "a4a07c92a47642a791495631cc2314e6",
            "1eb29ab3359f4d3bbdc1db3e9b633a25",
            "a3246ea6fcaa4914b3c4557b6a9435ea",
            "428ebb99d4444f4391b0b955c076e15b",
            "2fd2c87e403f469da33280dbfbbc947f",
            "c76f42ed1b3747d1be0e79d6844eaea1",
            "fc1c180ca70b45a88afb5672d7b47b0e",
            "9d7c544b1eec4efcbec67c20c8771324",
            "bedd56dcfa904889b62356c9a0f55ca8",
            "479267fc5d6c47068da18dde3837b737",
            "b60534cecf7240bcaf6fb6478b019732",
            "a0bbaaf2f4394369a28945cdf7b1671e",
            "ae1b0c28bfe84ef8b4cb6a8ddcd05714",
            "26a69db8b8864d95b5092e4b7696d614",
            "66a0686265f442faa8188a64cbca8ba1",
            "17a6bd3097934c7ea4b902359fada78b",
            "456a88832f11473d91eccf8463339753",
            "6fa8cfcc23784c52b9ceee4ca631d945",
            "dc496cf1edc54099bbb45195339d975e",
            "4ebc87af6cf34de798e3510b20d49eeb",
            "bd761be8e87d43e0ab84ddea324de2b8",
            "21579173a68e4702b5113eaa94d22ede",
            "97464cca143b45c780eddd5ae784826a",
            "4aa886f820b549d2802151d5e3e7f1be",
            "d6b3284120694f8bb7d685655ba2342f",
            "8c6b50eeacf24b14b3c85927978ee41f",
            "c5fd85f1b9e94c50b31b0499bd2335e0",
            "71f4153832ef4e819b7200652779879f",
            "1262bf8f5b1d4edbb5baece1d0d0d4a1",
            "7e92ac9a7942413e9a5592d86caddc3e",
            "46bbca21c09443f79bc63681f73a414a",
            "a4704092528646448c90b9952eab3ac7",
            "1109db3de3a64e5bacde1b46f3fb4bf2",
            "24b892a31b714f09bb8ca8583b39f318",
            "93c182f47b66467bb3b9a412516583be",
            "c3fd919fa69a4598b821880873a4fc4c",
            "3ad4a05d36844a648f9b9010653f65fa",
            "01296baa4d324f40a24ad3c41afb5a87",
            "ab2d9d20fa3c411c83e0f51806e57528",
            "29d56c6ce6da4114b1709354bffc09df",
            "3fc016293fcf49e8ac860eef6f92f1e3",
            "2dcfcfcb630b4c6896f13cd17ead9b43",
            "4f4dc7db7dac48659b5237c0f351967a",
            "bd598efd88c0470ba2fee212fcbf99e6",
            "8de188ba6b5b444d8954c69f0b758f1a",
            "3368c3099be6451b9efb99617c47aca2",
            "8d72b60322a54e5cab6599518126dee9",
            "f123207fcbe0442bae7585789bada8f8",
            "360e2dcdd8ce47ce82057c373d55dcbb",
            "90ba639613ab4bf48933afc323b1d013",
            "1ef9ecd5bfad4f70b59b12e7f67d3f6e",
            "d6391a3d422648ebb0a0c5413641a934",
            "b199750a370d4608be658b0a10ba2bd0",
            "e62df1a17ecc4d88970911a3d8d20bf2",
            "95c1a8f825d348f1bb837261f1dd724b",
            "f50e0fc633534b53a789dbc095e3b3b6",
            "891abeed71e742d2ac29ad33a1e7bb3d",
            "9eaa69392c4a48faa052e3055aec122a",
            "ec3a52af616843e782c073584aba904d",
            "efb66580a34a4977bc6e2a93698bfb41",
            "06d128cbbf73475591485a4df21d6bf4",
            "eede8e7dba4c482199f635f84decae80",
            "6a8b7674a19e44f39c7954b27e26f985",
            "0952098e1167408bb445abcee7eeb36f",
            "c257aacaa75f48008e7049ebcd332e0b",
            "4a7eafee8835441caa2f6f21a7e31673",
            "00c5a6bdabd04fd0bf2ac60a81f135c2",
            "999ccb6e8ddc4b5e81a0877fb39150a7",
            "d7cb0dc6cfe849da97ed6afef79b6258",
            "9e3bc201f34a45c8b52a4f53762c8d37",
            "f9c7e7499495417db209fa00ef8b9087",
            "9692b27b03d64a43972d74244e67f9aa",
            "8520a898041647d1a4d220e31e4b5f40",
            "bc0bc686dbe14b1bb4e3a11877382e73",
            "1680edb7bcd44ead9ff9683184bae13a",
            "83e15e41f53b45dcbca5c0ae269fb88a",
            "262ffc887ffc4ac48f927b870803240c",
            "862c12935403471c8ae99534ebd410ea",
            "7a58946c19474648b01726208eadd5e9",
            "9e7baea81ebd42ea90b8554670fce0ab",
            "4d6eabe7f83b40818e22a1cb3ec5d2a0",
            "4f60892dbebc4b76b632d800c73c05cf",
            "18476603a24c41c1a5e6d78218bbe222",
            "ccf8ca6a6b674ddc8188a1c412222d94",
            "bfa2b1eb26d944cbbb9884b7c220483a",
            "4a9f956bb60e4f368c1e6034bf6997a0",
            "4b1d535d02f04ac29a4679f881bfd1ff",
            "3d7c6afc5b554d19b14d4c2936cae603",
            "fcd353b3ce754c689c5033529cc22377",
            "14202f854cbe4f948695a82a10d6289a",
            "a27886e121a9465f9f23106e7ce6c98d",
            "e2f7d7ece1a543609ff747eb5985f345",
            "8069a33f66a040dd8f89f29dca6aad06",
            "c1aa37f6a3b14271b68a77bfeb28caa1",
            "23ad230fd6a04f1cbbbbbc1a4506afb1",
            "c0520ac8cc264e4ab77111039d8a37d3",
            "8d7c777f6f9d44d69f78b880105c3429",
            "14836c3bb78442979c80c744d5a2ab81",
            "1256c563e6e04609b5428dd42bf370b3",
            "face01ea0fee4040a8ab5025eea7dd40",
            "3881b0b51234430d9fb3c133eb5c68f6",
            "2812f5fdfb3741019cf128983c6af85e",
            "49de9e1dac034b3cabb85d83e641abbd",
            "ebe36fabc1a64cbc8437a13d72add89c",
            "e062a7aefa2449dcbd3165cb5ff9ecbe",
            "7ac25f7e2ba1441f9e00a365d6ddaf29",
            "0bad97bc820b45c682cc924f33f170fc",
            "06d6d2e7674246afa941bca6cf04149b",
            "c48bfd30c59e47a2a807b910bc8b3fe9",
            "135cb3a3654f4c3a821e67462fb3ad64",
            "e485f7bea632440c835f7314678065ba",
            "04c2052b564940158ecfbef171db0b9b",
            "3c387b67f4aa4be38ea1fcce09a19927",
            "155c2f73916a46d890946df648992362",
            "e22cf0ddea79471b883279a16f6b580a",
            "33b148ede5964e0ebc67da792284b2a4",
            "acc1763f79fe46e6934d199bbc5393a4",
            "0ca85d12581144139ed5427d81dcb954",
            "0807fbf0774145d7839d737d62409e90",
            "8504ba7654d34fd3aefbe7d11be3e78d",
            "54385c6dc25a4007b96b4fc006454597",
            "ddc858f0e62241cb95311952034e7921",
            "a70e36e0a16f4b73992c60aa47165d17",
            "d9bdfa0cd1474dd7b8ac89a5044f1bcf",
            "aa75a320fb7e4fe3aa5a26e5b8d0751e",
            "368e758e74c94eb7955744566bec299e",
            "6bc61e6a41324525879800cd048f7ae4"
          ]
        },
        "id": "hoSP09VRv9Ik",
        "outputId": "cdc4fff0-3246-4bbf-9dc9-6a1d4a2ed148"
      },
      "execution_count": 96,
      "outputs": [
        {
          "output_type": "display_data",
          "data": {
            "text/plain": [
              "Epochs:   0%|          | 0/10 [00:00<?, ?it/s]"
            ],
            "application/vnd.jupyter.widget-view+json": {
              "version_major": 2,
              "version_minor": 0,
              "model_id": "83ef5c0eb8494bc39b960d62cb4cba25"
            }
          },
          "metadata": {}
        },
        {
          "output_type": "stream",
          "name": "stdout",
          "text": [
            "\n",
            "Epoch 1/10\n",
            "----------\n"
          ]
        },
        {
          "output_type": "display_data",
          "data": {
            "text/plain": [
              "Training:   0%|          | 0/180 [00:00<?, ?it/s]"
            ],
            "application/vnd.jupyter.widget-view+json": {
              "version_major": 2,
              "version_minor": 0,
              "model_id": "32798353a0314022b457ba247633335f"
            }
          },
          "metadata": {}
        },
        {
          "output_type": "stream",
          "name": "stdout",
          "text": [
            "TRAIN:\n",
            "loss 0.13296190216723416\n",
            "accuracy 0.9462987254854329\n",
            "f1_macro 0.6264163173093015\n",
            "f1_micro 0.9462987254854329\n",
            "f1_weighted 0.9438910276209336\n",
            "\n"
          ]
        },
        {
          "output_type": "display_data",
          "data": {
            "text/plain": [
              "Validation:   0%|          | 0/20 [00:00<?, ?it/s]"
            ],
            "application/vnd.jupyter.widget-view+json": {
              "version_major": 2,
              "version_minor": 0,
              "model_id": "b6a2f93f32d74435902237b56621f177"
            }
          },
          "metadata": {}
        },
        {
          "output_type": "stream",
          "name": "stdout",
          "text": [
            "VAL:\n",
            "loss 0.23166304975748062\n",
            "accuracy 0.9257965953731995\n",
            "f1_macro 0.4787591821526612\n",
            "f1_micro 0.9257965953731995\n",
            "f1_weighted 0.921032270150956\n",
            "\n",
            "\n",
            "Epoch 2/10\n",
            "----------\n"
          ]
        },
        {
          "output_type": "display_data",
          "data": {
            "text/plain": [
              "Training:   0%|          | 0/180 [00:00<?, ?it/s]"
            ],
            "application/vnd.jupyter.widget-view+json": {
              "version_major": 2,
              "version_minor": 0,
              "model_id": "66cedaf1d33c4a608559c1e472f83c87"
            }
          },
          "metadata": {}
        },
        {
          "output_type": "stream",
          "name": "stdout",
          "text": [
            "TRAIN:\n",
            "loss 0.1113640306931403\n",
            "accuracy 0.9551895577256312\n",
            "f1_macro 0.6878408619603894\n",
            "f1_micro 0.9551895577256312\n",
            "f1_weighted 0.9537756308729233\n",
            "\n"
          ]
        },
        {
          "output_type": "display_data",
          "data": {
            "text/plain": [
              "Validation:   0%|          | 0/20 [00:00<?, ?it/s]"
            ],
            "application/vnd.jupyter.widget-view+json": {
              "version_major": 2,
              "version_minor": 0,
              "model_id": "e035551c3f4f462faced0f70f96696c4"
            }
          },
          "metadata": {}
        },
        {
          "output_type": "stream",
          "name": "stdout",
          "text": [
            "VAL:\n",
            "loss 0.22453523762524127\n",
            "accuracy 0.9282700421940928\n",
            "f1_macro 0.4787534310417013\n",
            "f1_micro 0.9282700421940928\n",
            "f1_weighted 0.922980600024103\n",
            "\n",
            "\n",
            "Epoch 3/10\n",
            "----------\n"
          ]
        },
        {
          "output_type": "display_data",
          "data": {
            "text/plain": [
              "Training:   0%|          | 0/180 [00:00<?, ?it/s]"
            ],
            "application/vnd.jupyter.widget-view+json": {
              "version_major": 2,
              "version_minor": 0,
              "model_id": "267bca1de961462696864f36f35f1a44"
            }
          },
          "metadata": {}
        },
        {
          "output_type": "stream",
          "name": "stdout",
          "text": [
            "TRAIN:\n",
            "loss 0.09612214909866452\n",
            "accuracy 0.9621208440622521\n",
            "f1_macro 0.7325386659826789\n",
            "f1_micro 0.9621208440622521\n",
            "f1_weighted 0.9612679603352213\n",
            "\n"
          ]
        },
        {
          "output_type": "display_data",
          "data": {
            "text/plain": [
              "Validation:   0%|          | 0/20 [00:00<?, ?it/s]"
            ],
            "application/vnd.jupyter.widget-view+json": {
              "version_major": 2,
              "version_minor": 0,
              "model_id": "d3fa0f51c78f4eaa9ec7ea4ae191e6f5"
            }
          },
          "metadata": {}
        },
        {
          "output_type": "stream",
          "name": "stdout",
          "text": [
            "VAL:\n",
            "loss 0.23302656933665275\n",
            "accuracy 0.9294340171686308\n",
            "f1_macro 0.49500833299717645\n",
            "f1_micro 0.9294340171686308\n",
            "f1_weighted 0.9240768271764404\n",
            "\n",
            "\n",
            "Epoch 4/10\n",
            "----------\n"
          ]
        },
        {
          "output_type": "display_data",
          "data": {
            "text/plain": [
              "Training:   0%|          | 0/180 [00:00<?, ?it/s]"
            ],
            "application/vnd.jupyter.widget-view+json": {
              "version_major": 2,
              "version_minor": 0,
              "model_id": "17ed326f77d245b483ce08c55a7ac75e"
            }
          },
          "metadata": {}
        },
        {
          "output_type": "stream",
          "name": "stdout",
          "text": [
            "TRAIN:\n",
            "loss 0.08375896693517765\n",
            "accuracy 0.9665419682909845\n",
            "f1_macro 0.7646937529202649\n",
            "f1_micro 0.9665419682909845\n",
            "f1_weighted 0.9659373371291946\n",
            "\n"
          ]
        },
        {
          "output_type": "display_data",
          "data": {
            "text/plain": [
              "Validation:   0%|          | 0/20 [00:00<?, ?it/s]"
            ],
            "application/vnd.jupyter.widget-view+json": {
              "version_major": 2,
              "version_minor": 0,
              "model_id": "09ac3633a1fe44159102c7730a30298a"
            }
          },
          "metadata": {}
        },
        {
          "output_type": "stream",
          "name": "stdout",
          "text": [
            "VAL:\n",
            "loss 0.23442300818860531\n",
            "accuracy 0.9342354139386003\n",
            "f1_macro 0.528532451552042\n",
            "f1_micro 0.9342354139386003\n",
            "f1_weighted 0.9295224275776119\n",
            "\n",
            "\n",
            "Epoch 5/10\n",
            "----------\n"
          ]
        },
        {
          "output_type": "display_data",
          "data": {
            "text/plain": [
              "Training:   0%|          | 0/180 [00:00<?, ?it/s]"
            ],
            "application/vnd.jupyter.widget-view+json": {
              "version_major": 2,
              "version_minor": 0,
              "model_id": "c6fcfa3deb9f4aebba80bbb8506c17ed"
            }
          },
          "metadata": {}
        },
        {
          "output_type": "stream",
          "name": "stdout",
          "text": [
            "TRAIN:\n",
            "loss 0.07390402606171038\n",
            "accuracy 0.9708659249542503\n",
            "f1_macro 0.79199999676334\n",
            "f1_micro 0.9708659249542503\n",
            "f1_weighted 0.9705208496790539\n",
            "\n"
          ]
        },
        {
          "output_type": "display_data",
          "data": {
            "text/plain": [
              "Validation:   0%|          | 0/20 [00:00<?, ?it/s]"
            ],
            "application/vnd.jupyter.widget-view+json": {
              "version_major": 2,
              "version_minor": 0,
              "model_id": "fc1c180ca70b45a88afb5672d7b47b0e"
            }
          },
          "metadata": {}
        },
        {
          "output_type": "stream",
          "name": "stdout",
          "text": [
            "VAL:\n",
            "loss 0.23757695704698562\n",
            "accuracy 0.9320529608613415\n",
            "f1_macro 0.5326519839496825\n",
            "f1_micro 0.9320529608613415\n",
            "f1_weighted 0.9281363244349468\n",
            "\n",
            "\n",
            "Epoch 6/10\n",
            "----------\n"
          ]
        },
        {
          "output_type": "display_data",
          "data": {
            "text/plain": [
              "Training:   0%|          | 0/180 [00:00<?, ?it/s]"
            ],
            "application/vnd.jupyter.widget-view+json": {
              "version_major": 2,
              "version_minor": 0,
              "model_id": "6fa8cfcc23784c52b9ceee4ca631d945"
            }
          },
          "metadata": {}
        },
        {
          "output_type": "stream",
          "name": "stdout",
          "text": [
            "TRAIN:\n",
            "loss 0.0679314642213285\n",
            "accuracy 0.973975287049183\n",
            "f1_macro 0.8130408018170349\n",
            "f1_micro 0.973975287049183\n",
            "f1_weighted 0.9736076618456017\n",
            "\n"
          ]
        },
        {
          "output_type": "display_data",
          "data": {
            "text/plain": [
              "Validation:   0%|          | 0/20 [00:00<?, ?it/s]"
            ],
            "application/vnd.jupyter.widget-view+json": {
              "version_major": 2,
              "version_minor": 0,
              "model_id": "1262bf8f5b1d4edbb5baece1d0d0d4a1"
            }
          },
          "metadata": {}
        },
        {
          "output_type": "stream",
          "name": "stdout",
          "text": [
            "VAL:\n",
            "loss 0.24330496061593293\n",
            "accuracy 0.9291430234249963\n",
            "f1_macro 0.5558282972776553\n",
            "f1_micro 0.9291430234249963\n",
            "f1_weighted 0.9293638676694284\n",
            "\n",
            "\n",
            "Epoch 7/10\n",
            "----------\n"
          ]
        },
        {
          "output_type": "display_data",
          "data": {
            "text/plain": [
              "Training:   0%|          | 0/180 [00:00<?, ?it/s]"
            ],
            "application/vnd.jupyter.widget-view+json": {
              "version_major": 2,
              "version_minor": 0,
              "model_id": "29d56c6ce6da4114b1709354bffc09df"
            }
          },
          "metadata": {}
        },
        {
          "output_type": "stream",
          "name": "stdout",
          "text": [
            "TRAIN:\n",
            "loss 0.06112638398384054\n",
            "accuracy 0.9761129734894493\n",
            "f1_macro 0.8301427380751148\n",
            "f1_micro 0.9761129734894493\n",
            "f1_weighted 0.9758853777975333\n",
            "\n"
          ]
        },
        {
          "output_type": "display_data",
          "data": {
            "text/plain": [
              "Validation:   0%|          | 0/20 [00:00<?, ?it/s]"
            ],
            "application/vnd.jupyter.widget-view+json": {
              "version_major": 2,
              "version_minor": 0,
              "model_id": "1ef9ecd5bfad4f70b59b12e7f67d3f6e"
            }
          },
          "metadata": {}
        },
        {
          "output_type": "stream",
          "name": "stdout",
          "text": [
            "VAL:\n",
            "loss 0.2501634776592255\n",
            "accuracy 0.9298705077840826\n",
            "f1_macro 0.5257117150931293\n",
            "f1_micro 0.9298705077840826\n",
            "f1_weighted 0.9278889730439885\n",
            "\n",
            "\n",
            "Epoch 8/10\n",
            "----------\n"
          ]
        },
        {
          "output_type": "display_data",
          "data": {
            "text/plain": [
              "Training:   0%|          | 0/180 [00:00<?, ?it/s]"
            ],
            "application/vnd.jupyter.widget-view+json": {
              "version_major": 2,
              "version_minor": 0,
              "model_id": "eede8e7dba4c482199f635f84decae80"
            }
          },
          "metadata": {}
        },
        {
          "output_type": "stream",
          "name": "stdout",
          "text": [
            "TRAIN:\n",
            "loss 0.057419683101276556\n",
            "accuracy 0.9777324329138933\n",
            "f1_macro 0.8371983784825511\n",
            "f1_micro 0.9777324329138933\n",
            "f1_weighted 0.9775367258900995\n",
            "\n"
          ]
        },
        {
          "output_type": "display_data",
          "data": {
            "text/plain": [
              "Validation:   0%|          | 0/20 [00:00<?, ?it/s]"
            ],
            "application/vnd.jupyter.widget-view+json": {
              "version_major": 2,
              "version_minor": 0,
              "model_id": "8520a898041647d1a4d220e31e4b5f40"
            }
          },
          "metadata": {}
        },
        {
          "output_type": "stream",
          "name": "stdout",
          "text": [
            "VAL:\n",
            "loss 0.2522401764988899\n",
            "accuracy 0.9342354139386003\n",
            "f1_macro 0.5570334776191318\n",
            "f1_micro 0.9342354139386003\n",
            "f1_weighted 0.93171611127864\n",
            "\n",
            "\n",
            "Epoch 9/10\n",
            "----------\n"
          ]
        },
        {
          "output_type": "display_data",
          "data": {
            "text/plain": [
              "Training:   0%|          | 0/180 [00:00<?, ?it/s]"
            ],
            "application/vnd.jupyter.widget-view+json": {
              "version_major": 2,
              "version_minor": 0,
              "model_id": "ccf8ca6a6b674ddc8188a1c412222d94"
            }
          },
          "metadata": {}
        },
        {
          "output_type": "stream",
          "name": "stdout",
          "text": [
            "TRAIN:\n",
            "loss 0.05665892026024974\n",
            "accuracy 0.9786879139743154\n",
            "f1_macro 0.8429690536909809\n",
            "f1_micro 0.9786879139743154\n",
            "f1_weighted 0.9784740086056737\n",
            "\n"
          ]
        },
        {
          "output_type": "display_data",
          "data": {
            "text/plain": [
              "Validation:   0%|          | 0/20 [00:00<?, ?it/s]"
            ],
            "application/vnd.jupyter.widget-view+json": {
              "version_major": 2,
              "version_minor": 0,
              "model_id": "23ad230fd6a04f1cbbbbbc1a4506afb1"
            }
          },
          "metadata": {}
        },
        {
          "output_type": "stream",
          "name": "stdout",
          "text": [
            "VAL:\n",
            "loss 0.2450348200276494\n",
            "accuracy 0.9337989233231485\n",
            "f1_macro 0.55068898836951\n",
            "f1_micro 0.9337989233231485\n",
            "f1_weighted 0.9315256569036081\n",
            "\n",
            "\n",
            "Epoch 10/10\n",
            "----------\n"
          ]
        },
        {
          "output_type": "display_data",
          "data": {
            "text/plain": [
              "Training:   0%|          | 0/180 [00:00<?, ?it/s]"
            ],
            "application/vnd.jupyter.widget-view+json": {
              "version_major": 2,
              "version_minor": 0,
              "model_id": "7ac25f7e2ba1441f9e00a365d6ddaf29"
            }
          },
          "metadata": {}
        },
        {
          "output_type": "stream",
          "name": "stdout",
          "text": [
            "TRAIN:\n",
            "loss 0.054500861398668755\n",
            "accuracy 0.9793680869325819\n",
            "f1_macro 0.8524419496216626\n",
            "f1_micro 0.9793680869325819\n",
            "f1_weighted 0.9792241973296779\n",
            "\n"
          ]
        },
        {
          "output_type": "display_data",
          "data": {
            "text/plain": [
              "Validation:   0%|          | 0/20 [00:00<?, ?it/s]"
            ],
            "application/vnd.jupyter.widget-view+json": {
              "version_major": 2,
              "version_minor": 0,
              "model_id": "acc1763f79fe46e6934d199bbc5393a4"
            }
          },
          "metadata": {}
        },
        {
          "output_type": "stream",
          "name": "stdout",
          "text": [
            "VAL:\n",
            "loss 0.24989217817783355\n",
            "accuracy 0.9336534264513313\n",
            "f1_macro 0.5492119019847334\n",
            "f1_micro 0.9336534264513313\n",
            "f1_weighted 0.9314197745901867\n",
            "\n"
          ]
        }
      ]
    },
    {
      "cell_type": "markdown",
      "source": [
        "**(\u041f\u043e\u043f\u0440\u043e\u0431\u0443\u044e \u0435\u0449\u0435 class_weight \u043f\u043e\u0442\u043e\u043c \u0434\u043e\u0431\u0430\u0432\u0438\u0442\u044c)**"
      ],
      "metadata": {
        "id": "mOv1qfaatvwe"
      }
    }
  ]
}