{
  "cells": [
    {
      "cell_type": "markdown",
      "metadata": {
        "id": "5uBlJTtXaw4L"
      },
      "source": [
        "# **\u0424\u0438\u043d\u0430\u043b\u044c\u043d\u0430\u044f \u0432\u0435\u0440\u0441\u0438\u044f: \u0437\u0430\u043c\u043e\u0440\u043e\u0436\u0435\u043d\u043d\u044b\u0435 \u0432\u0435\u0441\u0430 BERT**"
      ]
    },
    {
      "cell_type": "markdown",
      "metadata": {
        "id": "VjfSQR2V8XWR"
      },
      "source": [
        "# **\u0411\u0435\u0439\u0437\u043b\u0430\u0439\u043d 1: BERT (\u0431\u0435\u0437 \u0433\u043e\u043b\u043e\u0432\u044b)**"
      ]
    },
    {
      "cell_type": "markdown",
      "metadata": {
        "id": "uZ6DE5UHU8Nr"
      },
      "source": [
        "**BERT (\u0438 \u0434\u0440\u0443\u0433\u0438\u0435 \u043c\u043e\u0434\u0435\u043b\u0438 \u0438\u0437 \u0431\u0438\u0431\u043b\u0438\u043e\u0442\u0435\u043a\u0438 Hugging Face) \u0441\u043e\u0441\u0442\u043e\u0438\u0442 \u0438\u0437 \u0434\u0432\u0443\u0445 \u0447\u0430\u0441\u0442\u0435\u0439:**\n",
        "\n",
        "**Base Model (\u043e\u0441\u043d\u043e\u0432\u0430):** \u042d\u0442\u043e \u0447\u0430\u0441\u0442\u044c \u043c\u043e\u0434\u0435\u043b\u0438, \u043a\u043e\u0442\u043e\u0440\u0430\u044f \u0433\u0435\u043d\u0435\u0440\u0438\u0440\u0443\u0435\u0442 \u044d\u043c\u0431\u0435\u0434\u0434\u0438\u043d\u0433\u0438 (\u0432\u0435\u043a\u0442\u043e\u0440\u043d\u044b\u0435 \u043f\u0440\u0435\u0434\u0441\u0442\u0430\u0432\u043b\u0435\u043d\u0438\u044f) \u0434\u043b\u044f \u0432\u0445\u043e\u0434\u043d\u044b\u0445 \u0442\u043e\u043a\u0435\u043d\u043e\u0432.\n",
        "\n",
        "**Head (\u0433\u043e\u043b\u043e\u0432\u0430):** \u042d\u0442\u043e \u0434\u043e\u043f\u043e\u043b\u043d\u0438\u0442\u0435\u043b\u044c\u043d\u044b\u0439 \u0441\u043b\u043e\u0439, \u043a\u043e\u0442\u043e\u0440\u044b\u0439 \u0438\u0441\u043f\u043e\u043b\u044c\u0437\u0443\u0435\u0442\u0441\u044f \u0434\u043b\u044f \u043a\u043e\u043d\u043a\u0440\u0435\u0442\u043d\u043e\u0439 \u0437\u0430\u0434\u0430\u0447\u0438 (\u043d\u0430\u043f\u0440\u0438\u043c\u0435\u0440, \u043a\u043b\u0430\u0441\u0441\u0438\u0444\u0438\u043a\u0430\u0446\u0438\u044f, NER, \u043c\u0430\u0441\u043a\u0438\u0440\u043e\u0432\u0430\u043d\u0438\u0435 \u0442\u043e\u043a\u0435\u043d\u043e\u0432 \u0438 \u0442.\u0434.)."
      ]
    },
    {
      "cell_type": "code",
      "execution_count": 1,
      "metadata": {
        "colab": {
          "base_uri": "https://localhost:8080/"
        },
        "id": "Ep--80sOzsOn",
        "outputId": "c4951ed3-815d-4aa2-dee3-07636bf8c81a"
      },
      "outputs": [
        {
          "output_type": "stream",
          "name": "stdout",
          "text": [
            "Collecting evaluate\n",
            "  Downloading evaluate-0.4.3-py3-none-any.whl.metadata (9.2 kB)\n",
            "Requirement already satisfied: datasets>=2.0.0 in /usr/local/lib/python3.11/dist-packages (from evaluate) (2.14.4)\n",
            "Requirement already satisfied: numpy>=1.17 in /usr/local/lib/python3.11/dist-packages (from evaluate) (2.0.2)\n",
            "Requirement already satisfied: dill in /usr/local/lib/python3.11/dist-packages (from evaluate) (0.3.7)\n",
            "Requirement already satisfied: pandas in /usr/local/lib/python3.11/dist-packages (from evaluate) (2.2.2)\n",
            "Requirement already satisfied: requests>=2.19.0 in /usr/local/lib/python3.11/dist-packages (from evaluate) (2.32.3)\n",
            "Requirement already satisfied: tqdm>=4.62.1 in /usr/local/lib/python3.11/dist-packages (from evaluate) (4.67.1)\n",
            "Requirement already satisfied: xxhash in /usr/local/lib/python3.11/dist-packages (from evaluate) (3.5.0)\n",
            "Requirement already satisfied: multiprocess in /usr/local/lib/python3.11/dist-packages (from evaluate) (0.70.15)\n",
            "Requirement already satisfied: fsspec>=2021.05.0 in /usr/local/lib/python3.11/dist-packages (from fsspec[http]>=2021.05.0->evaluate) (2025.3.2)\n",
            "Requirement already satisfied: huggingface-hub>=0.7.0 in /usr/local/lib/python3.11/dist-packages (from evaluate) (0.31.2)\n",
            "Requirement already satisfied: packaging in /usr/local/lib/python3.11/dist-packages (from evaluate) (24.2)\n",
            "Requirement already satisfied: pyarrow>=8.0.0 in /usr/local/lib/python3.11/dist-packages (from datasets>=2.0.0->evaluate) (18.1.0)\n",
            "Requirement already satisfied: aiohttp in /usr/local/lib/python3.11/dist-packages (from datasets>=2.0.0->evaluate) (3.11.15)\n",
            "Requirement already satisfied: pyyaml>=5.1 in /usr/local/lib/python3.11/dist-packages (from datasets>=2.0.0->evaluate) (6.0.2)\n",
            "Requirement already satisfied: filelock in /usr/local/lib/python3.11/dist-packages (from huggingface-hub>=0.7.0->evaluate) (3.18.0)\n",
            "Requirement already satisfied: typing-extensions>=3.7.4.3 in /usr/local/lib/python3.11/dist-packages (from huggingface-hub>=0.7.0->evaluate) (4.13.2)\n",
            "Requirement already satisfied: charset-normalizer<4,>=2 in /usr/local/lib/python3.11/dist-packages (from requests>=2.19.0->evaluate) (3.4.2)\n",
            "Requirement already satisfied: idna<4,>=2.5 in /usr/local/lib/python3.11/dist-packages (from requests>=2.19.0->evaluate) (3.10)\n",
            "Requirement already satisfied: urllib3<3,>=1.21.1 in /usr/local/lib/python3.11/dist-packages (from requests>=2.19.0->evaluate) (2.4.0)\n",
            "Requirement already satisfied: certifi>=2017.4.17 in /usr/local/lib/python3.11/dist-packages (from requests>=2.19.0->evaluate) (2025.4.26)\n",
            "Requirement already satisfied: python-dateutil>=2.8.2 in /usr/local/lib/python3.11/dist-packages (from pandas->evaluate) (2.9.0.post0)\n",
            "Requirement already satisfied: pytz>=2020.1 in /usr/local/lib/python3.11/dist-packages (from pandas->evaluate) (2025.2)\n",
            "Requirement already satisfied: tzdata>=2022.7 in /usr/local/lib/python3.11/dist-packages (from pandas->evaluate) (2025.2)\n",
            "Requirement already satisfied: aiohappyeyeballs>=2.3.0 in /usr/local/lib/python3.11/dist-packages (from aiohttp->datasets>=2.0.0->evaluate) (2.6.1)\n",
            "Requirement already satisfied: aiosignal>=1.1.2 in /usr/local/lib/python3.11/dist-packages (from aiohttp->datasets>=2.0.0->evaluate) (1.3.2)\n",
            "Requirement already satisfied: attrs>=17.3.0 in /usr/local/lib/python3.11/dist-packages (from aiohttp->datasets>=2.0.0->evaluate) (25.3.0)\n",
            "Requirement already satisfied: frozenlist>=1.1.1 in /usr/local/lib/python3.11/dist-packages (from aiohttp->datasets>=2.0.0->evaluate) (1.6.0)\n",
            "Requirement already satisfied: multidict<7.0,>=4.5 in /usr/local/lib/python3.11/dist-packages (from aiohttp->datasets>=2.0.0->evaluate) (6.4.3)\n",
            "Requirement already satisfied: propcache>=0.2.0 in /usr/local/lib/python3.11/dist-packages (from aiohttp->datasets>=2.0.0->evaluate) (0.3.1)\n",
            "Requirement already satisfied: yarl<2.0,>=1.17.0 in /usr/local/lib/python3.11/dist-packages (from aiohttp->datasets>=2.0.0->evaluate) (1.20.0)\n",
            "Requirement already satisfied: six>=1.5 in /usr/local/lib/python3.11/dist-packages (from python-dateutil>=2.8.2->pandas->evaluate) (1.17.0)\n",
            "Downloading evaluate-0.4.3-py3-none-any.whl (84 kB)\n",
            "\u001b[2K   \u001b[90m\u2501\u2501\u2501\u2501\u2501\u2501\u2501\u2501\u2501\u2501\u2501\u2501\u2501\u2501\u2501\u2501\u2501\u2501\u2501\u2501\u2501\u2501\u2501\u2501\u2501\u2501\u2501\u2501\u2501\u2501\u2501\u2501\u2501\u2501\u2501\u2501\u2501\u2501\u2501\u2501\u001b[0m \u001b[32m84.0/84.0 kB\u001b[0m \u001b[31m1.9 MB/s\u001b[0m eta \u001b[36m0:00:00\u001b[0m\n",
            "\u001b[?25hInstalling collected packages: evaluate\n",
            "Successfully installed evaluate-0.4.3\n"
          ]
        }
      ],
      "source": [
        "! pip install evaluate"
      ]
    },
    {
      "cell_type": "code",
      "execution_count": 2,
      "metadata": {
        "id": "y0vsF8VSzsOq"
      },
      "outputs": [],
      "source": [
        "from torch.utils.data import Dataset, DataLoader\n",
        "from transformers import AutoTokenizer, TrainingArguments, Trainer\n",
        "\n",
        "# AutoModelForTokenClassification \u0437\u0430\u0433\u0440\u0443\u0436\u0430\u0435\u0442 BERT \u0441 \u0433\u043e\u043b\u043e\u0432\u043e\u0439 \u0434\u043b\u044f \u0437\u0430\u0434\u0430\u0447\u0438 \u043a\u043b\u0430\u0441\u0441\u0438\u0444\u0438\u043a\u0430\u0446\u0438\u0438 \u0442\u043e\u043a\u0435\u043d\u043e\u0432 (Token Classification), \u0432\u043c\u0435\u0441\u0442\u043e \u043d\u0435\u0433\u043e \u0438\u0441\u043f\u043e\u043b\u044c\u0437\u0443\u044e \u043f\u0440\u043e\u0441\u0442\u043e AutoModel\n",
        "\n",
        "import torch\n",
        "import torchvision\n",
        "import torch.nn.functional as F\n",
        "import matplotlib.pyplot as plt\n",
        "import torch.nn as nn\n",
        "from transformers import AutoModel, AutoTokenizer\n",
        "import torch\n",
        "import evaluate\n",
        "from torch.utils.data import Dataset, DataLoader\n",
        "import pandas as pd\n",
        "import numpy as np\n",
        "import csv"
      ]
    },
    {
      "cell_type": "code",
      "execution_count": 3,
      "metadata": {
        "colab": {
          "base_uri": "https://localhost:8080/",
          "height": 451,
          "referenced_widgets": [
            "cce1b736f2244c669c9041c775574abd",
            "c72dd70b2b4843d994dd8aa6defd3866",
            "048de4b68ede49d0babf04db473bcf6b",
            "f1a83c03a57a47aba293ac8df2f7024f",
            "9175dcee689c49afbac410c3081660d1",
            "ae6b5d3190ae4f53aa5ea8cb31fc0ffd",
            "d1f89490fdbf441daaeef3b8c2bc6618",
            "b4a091171a2349d0a804c87320a89e32",
            "3c32159c293e4a58904f9ff1f2ca08ac",
            "30e5cf53fd97441ea9ababe263a127eb",
            "3bcc0a8d59a7460f8c9ee9efeeecbe08"
          ]
        },
        "id": "XdyZ26iLzsOr",
        "outputId": "593b5cdd-fd0b-4691-b1a8-f36476aa6b6b"
      },
      "outputs": [
        {
          "output_type": "stream",
          "name": "stdout",
          "text": [
            "Collecting seqeval\n",
            "  Downloading seqeval-1.2.2.tar.gz (43 kB)\n",
            "\u001b[?25l     \u001b[90m\u2501\u2501\u2501\u2501\u2501\u2501\u2501\u2501\u2501\u2501\u2501\u2501\u2501\u2501\u2501\u2501\u2501\u2501\u2501\u2501\u2501\u2501\u2501\u2501\u2501\u2501\u2501\u2501\u2501\u2501\u2501\u2501\u2501\u2501\u2501\u2501\u2501\u2501\u2501\u2501\u001b[0m \u001b[32m0.0/43.6 kB\u001b[0m \u001b[31m?\u001b[0m eta \u001b[36m-:--:--\u001b[0m\r\u001b[2K     \u001b[90m\u2501\u2501\u2501\u2501\u2501\u2501\u2501\u2501\u2501\u2501\u2501\u2501\u2501\u2501\u2501\u2501\u2501\u2501\u2501\u2501\u2501\u2501\u2501\u2501\u2501\u2501\u2501\u2501\u2501\u2501\u2501\u2501\u2501\u2501\u2501\u2501\u2501\u2501\u2501\u2501\u001b[0m \u001b[32m43.6/43.6 kB\u001b[0m \u001b[31m3.6 MB/s\u001b[0m eta \u001b[36m0:00:00\u001b[0m\n",
            "\u001b[?25h  Preparing metadata (setup.py) ... \u001b[?25l\u001b[?25hdone\n",
            "Requirement already satisfied: numpy>=1.14.0 in /usr/local/lib/python3.11/dist-packages (from seqeval) (2.0.2)\n",
            "Requirement already satisfied: scikit-learn>=0.21.3 in /usr/local/lib/python3.11/dist-packages (from seqeval) (1.6.1)\n",
            "Requirement already satisfied: scipy>=1.6.0 in /usr/local/lib/python3.11/dist-packages (from scikit-learn>=0.21.3->seqeval) (1.15.3)\n",
            "Requirement already satisfied: joblib>=1.2.0 in /usr/local/lib/python3.11/dist-packages (from scikit-learn>=0.21.3->seqeval) (1.5.0)\n",
            "Requirement already satisfied: threadpoolctl>=3.1.0 in /usr/local/lib/python3.11/dist-packages (from scikit-learn>=0.21.3->seqeval) (3.6.0)\n",
            "Building wheels for collected packages: seqeval\n",
            "  Building wheel for seqeval (setup.py) ... \u001b[?25l\u001b[?25hdone\n",
            "  Created wheel for seqeval: filename=seqeval-1.2.2-py3-none-any.whl size=16162 sha256=353ebb420d53007af6a07078a218200201b6ea0d5f34f58dc5543fe30447c0cc\n",
            "  Stored in directory: /root/.cache/pip/wheels/bc/92/f0/243288f899c2eacdfa8c5f9aede4c71a9bad0ee26a01dc5ead\n",
            "Successfully built seqeval\n",
            "Installing collected packages: seqeval\n",
            "Successfully installed seqeval-1.2.2\n"
          ]
        },
        {
          "output_type": "stream",
          "name": "stderr",
          "text": [
            "/usr/local/lib/python3.11/dist-packages/huggingface_hub/utils/_auth.py:94: UserWarning: \n",
            "The secret `HF_TOKEN` does not exist in your Colab secrets.\n",
            "To authenticate with the Hugging Face Hub, create a token in your settings tab (https://huggingface.co/settings/tokens), set it as secret in your Google Colab and restart your session.\n",
            "You will be able to reuse this secret in all of your notebooks.\n",
            "Please note that authentication is recommended but still optional to access public models or datasets.\n",
            "  warnings.warn(\n"
          ]
        },
        {
          "output_type": "display_data",
          "data": {
            "text/plain": [
              "Downloading builder script:   0%|          | 0.00/6.34k [00:00<?, ?B/s]"
            ],
            "application/vnd.jupyter.widget-view+json": {
              "version_major": 2,
              "version_minor": 0,
              "model_id": "cce1b736f2244c669c9041c775574abd"
            }
          },
          "metadata": {}
        }
      ],
      "source": [
        "import evaluate\n",
        "! pip install seqeval\n",
        "metric = evaluate.load('seqeval')"
      ]
    },
    {
      "cell_type": "code",
      "execution_count": 4,
      "metadata": {
        "id": "0_wa7QCbzsOr"
      },
      "outputs": [],
      "source": [
        "from transformers import EarlyStoppingCallback"
      ]
    },
    {
      "cell_type": "code",
      "execution_count": 5,
      "metadata": {
        "colab": {
          "base_uri": "https://localhost:8080/"
        },
        "id": "dK6i2SRSzsOr",
        "outputId": "c821e75e-d0bc-4e2c-c307-ca54462821d9"
      },
      "outputs": [
        {
          "output_type": "stream",
          "name": "stdout",
          "text": [
            "Requirement already satisfied: tabulate in /usr/local/lib/python3.11/dist-packages (0.9.0)\n"
          ]
        }
      ],
      "source": [
        "!pip install tabulate\n",
        "from tabulate import tabulate"
      ]
    },
    {
      "cell_type": "code",
      "execution_count": 6,
      "metadata": {
        "id": "ESl5f4fJzsOs"
      },
      "outputs": [],
      "source": [
        "import seaborn as sns\n",
        "from collections import Counter\n",
        "import numpy as np"
      ]
    },
    {
      "cell_type": "code",
      "execution_count": null,
      "metadata": {
        "id": "uJOdxYiwzsOs"
      },
      "outputs": [],
      "source": [
        "import os\n",
        "os.environ['WANDB_DISABLED'] = 'true'"
      ]
    },
    {
      "cell_type": "code",
      "execution_count": 7,
      "metadata": {
        "colab": {
          "base_uri": "https://localhost:8080/",
          "height": 206
        },
        "id": "QAF8laPlzsOs",
        "outputId": "94a25f39-4fca-4588-8faa-58cf8183ca4c"
      },
      "outputs": [
        {
          "output_type": "execute_result",
          "data": {
            "text/plain": [
              "      text    NER\n",
              "0   \u0415\u0434\u0438\u043d\u043e\u0439  B-ORG\n",
              "1  \u0420\u043e\u0441\u0441\u0438\u0435\u0439  I-ORG\n",
              "2        '      O\n",
              "3        \u0438      O\n",
              "4    \u043d\u0438\u043a\u0435\u043c      O"
            ],
            "text/html": [
              "\n",
              "  <div id=\"df-594926ab-f67e-41da-9885-e9f0b7bf7998\" class=\"colab-df-container\">\n",
              "    <div>\n",
              "<style scoped>\n",
              "    .dataframe tbody tr th:only-of-type {\n",
              "        vertical-align: middle;\n",
              "    }\n",
              "\n",
              "    .dataframe tbody tr th {\n",
              "        vertical-align: top;\n",
              "    }\n",
              "\n",
              "    .dataframe thead th {\n",
              "        text-align: right;\n",
              "    }\n",
              "</style>\n",
              "<table border=\"1\" class=\"dataframe\">\n",
              "  <thead>\n",
              "    <tr style=\"text-align: right;\">\n",
              "      <th></th>\n",
              "      <th>text</th>\n",
              "      <th>NER</th>\n",
              "    </tr>\n",
              "  </thead>\n",
              "  <tbody>\n",
              "    <tr>\n",
              "      <th>0</th>\n",
              "      <td>\u0415\u0434\u0438\u043d\u043e\u0439</td>\n",
              "      <td>B-ORG</td>\n",
              "    </tr>\n",
              "    <tr>\n",
              "      <th>1</th>\n",
              "      <td>\u0420\u043e\u0441\u0441\u0438\u0435\u0439</td>\n",
              "      <td>I-ORG</td>\n",
              "    </tr>\n",
              "    <tr>\n",
              "      <th>2</th>\n",
              "      <td>'</td>\n",
              "      <td>O</td>\n",
              "    </tr>\n",
              "    <tr>\n",
              "      <th>3</th>\n",
              "      <td>\u0438</td>\n",
              "      <td>O</td>\n",
              "    </tr>\n",
              "    <tr>\n",
              "      <th>4</th>\n",
              "      <td>\u043d\u0438\u043a\u0435\u043c</td>\n",
              "      <td>O</td>\n",
              "    </tr>\n",
              "  </tbody>\n",
              "</table>\n",
              "</div>\n",
              "    <div class=\"colab-df-buttons\">\n",
              "\n",
              "  <div class=\"colab-df-container\">\n",
              "    <button class=\"colab-df-convert\" onclick=\"convertToInteractive('df-594926ab-f67e-41da-9885-e9f0b7bf7998')\"\n",
              "            title=\"Convert this dataframe to an interactive table.\"\n",
              "            style=\"display:none;\">\n",
              "\n",
              "  <svg xmlns=\"http://www.w3.org/2000/svg\" height=\"24px\" viewBox=\"0 -960 960 960\">\n",
              "    <path d=\"M120-120v-720h720v720H120Zm60-500h600v-160H180v160Zm220 220h160v-160H400v160Zm0 220h160v-160H400v160ZM180-400h160v-160H180v160Zm440 0h160v-160H620v160ZM180-180h160v-160H180v160Zm440 0h160v-160H620v160Z\"/>\n",
              "  </svg>\n",
              "    </button>\n",
              "\n",
              "  <style>\n",
              "    .colab-df-container {\n",
              "      display:flex;\n",
              "      gap: 12px;\n",
              "    }\n",
              "\n",
              "    .colab-df-convert {\n",
              "      background-color: #E8F0FE;\n",
              "      border: none;\n",
              "      border-radius: 50%;\n",
              "      cursor: pointer;\n",
              "      display: none;\n",
              "      fill: #1967D2;\n",
              "      height: 32px;\n",
              "      padding: 0 0 0 0;\n",
              "      width: 32px;\n",
              "    }\n",
              "\n",
              "    .colab-df-convert:hover {\n",
              "      background-color: #E2EBFA;\n",
              "      box-shadow: 0px 1px 2px rgba(60, 64, 67, 0.3), 0px 1px 3px 1px rgba(60, 64, 67, 0.15);\n",
              "      fill: #174EA6;\n",
              "    }\n",
              "\n",
              "    .colab-df-buttons div {\n",
              "      margin-bottom: 4px;\n",
              "    }\n",
              "\n",
              "    [theme=dark] .colab-df-convert {\n",
              "      background-color: #3B4455;\n",
              "      fill: #D2E3FC;\n",
              "    }\n",
              "\n",
              "    [theme=dark] .colab-df-convert:hover {\n",
              "      background-color: #434B5C;\n",
              "      box-shadow: 0px 1px 3px 1px rgba(0, 0, 0, 0.15);\n",
              "      filter: drop-shadow(0px 1px 2px rgba(0, 0, 0, 0.3));\n",
              "      fill: #FFFFFF;\n",
              "    }\n",
              "  </style>\n",
              "\n",
              "    <script>\n",
              "      const buttonEl =\n",
              "        document.querySelector('#df-594926ab-f67e-41da-9885-e9f0b7bf7998 button.colab-df-convert');\n",
              "      buttonEl.style.display =\n",
              "        google.colab.kernel.accessAllowed ? 'block' : 'none';\n",
              "\n",
              "      async function convertToInteractive(key) {\n",
              "        const element = document.querySelector('#df-594926ab-f67e-41da-9885-e9f0b7bf7998');\n",
              "        const dataTable =\n",
              "          await google.colab.kernel.invokeFunction('convertToInteractive',\n",
              "                                                    [key], {});\n",
              "        if (!dataTable) return;\n",
              "\n",
              "        const docLinkHtml = 'Like what you see? Visit the ' +\n",
              "          '<a target=\"_blank\" href=https://colab.research.google.com/notebooks/data_table.ipynb>data table notebook</a>'\n",
              "          + ' to learn more about interactive tables.';\n",
              "        element.innerHTML = '';\n",
              "        dataTable['output_type'] = 'display_data';\n",
              "        await google.colab.output.renderOutput(dataTable, element);\n",
              "        const docLink = document.createElement('div');\n",
              "        docLink.innerHTML = docLinkHtml;\n",
              "        element.appendChild(docLink);\n",
              "      }\n",
              "    </script>\n",
              "  </div>\n",
              "\n",
              "\n",
              "    <div id=\"df-4626b395-5967-421d-9d32-ec9167c1988d\">\n",
              "      <button class=\"colab-df-quickchart\" onclick=\"quickchart('df-4626b395-5967-421d-9d32-ec9167c1988d')\"\n",
              "                title=\"Suggest charts\"\n",
              "                style=\"display:none;\">\n",
              "\n",
              "<svg xmlns=\"http://www.w3.org/2000/svg\" height=\"24px\"viewBox=\"0 0 24 24\"\n",
              "     width=\"24px\">\n",
              "    <g>\n",
              "        <path d=\"M19 3H5c-1.1 0-2 .9-2 2v14c0 1.1.9 2 2 2h14c1.1 0 2-.9 2-2V5c0-1.1-.9-2-2-2zM9 17H7v-7h2v7zm4 0h-2V7h2v10zm4 0h-2v-4h2v4z\"/>\n",
              "    </g>\n",
              "</svg>\n",
              "      </button>\n",
              "\n",
              "<style>\n",
              "  .colab-df-quickchart {\n",
              "      --bg-color: #E8F0FE;\n",
              "      --fill-color: #1967D2;\n",
              "      --hover-bg-color: #E2EBFA;\n",
              "      --hover-fill-color: #174EA6;\n",
              "      --disabled-fill-color: #AAA;\n",
              "      --disabled-bg-color: #DDD;\n",
              "  }\n",
              "\n",
              "  [theme=dark] .colab-df-quickchart {\n",
              "      --bg-color: #3B4455;\n",
              "      --fill-color: #D2E3FC;\n",
              "      --hover-bg-color: #434B5C;\n",
              "      --hover-fill-color: #FFFFFF;\n",
              "      --disabled-bg-color: #3B4455;\n",
              "      --disabled-fill-color: #666;\n",
              "  }\n",
              "\n",
              "  .colab-df-quickchart {\n",
              "    background-color: var(--bg-color);\n",
              "    border: none;\n",
              "    border-radius: 50%;\n",
              "    cursor: pointer;\n",
              "    display: none;\n",
              "    fill: var(--fill-color);\n",
              "    height: 32px;\n",
              "    padding: 0;\n",
              "    width: 32px;\n",
              "  }\n",
              "\n",
              "  .colab-df-quickchart:hover {\n",
              "    background-color: var(--hover-bg-color);\n",
              "    box-shadow: 0 1px 2px rgba(60, 64, 67, 0.3), 0 1px 3px 1px rgba(60, 64, 67, 0.15);\n",
              "    fill: var(--button-hover-fill-color);\n",
              "  }\n",
              "\n",
              "  .colab-df-quickchart-complete:disabled,\n",
              "  .colab-df-quickchart-complete:disabled:hover {\n",
              "    background-color: var(--disabled-bg-color);\n",
              "    fill: var(--disabled-fill-color);\n",
              "    box-shadow: none;\n",
              "  }\n",
              "\n",
              "  .colab-df-spinner {\n",
              "    border: 2px solid var(--fill-color);\n",
              "    border-color: transparent;\n",
              "    border-bottom-color: var(--fill-color);\n",
              "    animation:\n",
              "      spin 1s steps(1) infinite;\n",
              "  }\n",
              "\n",
              "  @keyframes spin {\n",
              "    0% {\n",
              "      border-color: transparent;\n",
              "      border-bottom-color: var(--fill-color);\n",
              "      border-left-color: var(--fill-color);\n",
              "    }\n",
              "    20% {\n",
              "      border-color: transparent;\n",
              "      border-left-color: var(--fill-color);\n",
              "      border-top-color: var(--fill-color);\n",
              "    }\n",
              "    30% {\n",
              "      border-color: transparent;\n",
              "      border-left-color: var(--fill-color);\n",
              "      border-top-color: var(--fill-color);\n",
              "      border-right-color: var(--fill-color);\n",
              "    }\n",
              "    40% {\n",
              "      border-color: transparent;\n",
              "      border-right-color: var(--fill-color);\n",
              "      border-top-color: var(--fill-color);\n",
              "    }\n",
              "    60% {\n",
              "      border-color: transparent;\n",
              "      border-right-color: var(--fill-color);\n",
              "    }\n",
              "    80% {\n",
              "      border-color: transparent;\n",
              "      border-right-color: var(--fill-color);\n",
              "      border-bottom-color: var(--fill-color);\n",
              "    }\n",
              "    90% {\n",
              "      border-color: transparent;\n",
              "      border-bottom-color: var(--fill-color);\n",
              "    }\n",
              "  }\n",
              "</style>\n",
              "\n",
              "      <script>\n",
              "        async function quickchart(key) {\n",
              "          const quickchartButtonEl =\n",
              "            document.querySelector('#' + key + ' button');\n",
              "          quickchartButtonEl.disabled = true;  // To prevent multiple clicks.\n",
              "          quickchartButtonEl.classList.add('colab-df-spinner');\n",
              "          try {\n",
              "            const charts = await google.colab.kernel.invokeFunction(\n",
              "                'suggestCharts', [key], {});\n",
              "          } catch (error) {\n",
              "            console.error('Error during call to suggestCharts:', error);\n",
              "          }\n",
              "          quickchartButtonEl.classList.remove('colab-df-spinner');\n",
              "          quickchartButtonEl.classList.add('colab-df-quickchart-complete');\n",
              "        }\n",
              "        (() => {\n",
              "          let quickchartButtonEl =\n",
              "            document.querySelector('#df-4626b395-5967-421d-9d32-ec9167c1988d button');\n",
              "          quickchartButtonEl.style.display =\n",
              "            google.colab.kernel.accessAllowed ? 'block' : 'none';\n",
              "        })();\n",
              "      </script>\n",
              "    </div>\n",
              "    </div>\n",
              "  </div>\n"
            ],
            "application/vnd.google.colaboratory.intrinsic+json": {
              "type": "dataframe",
              "variable_name": "filepath",
              "summary": "{\n  \"name\": \"filepath\",\n  \"rows\": 65535,\n  \"fields\": [\n    {\n      \"column\": \"text\",\n      \"properties\": {\n        \"dtype\": \"category\",\n        \"num_unique_values\": 16223,\n        \"samples\": [\n          \"\\u0443\\u043a\\u0440\\u044b\\u0432\\u0430\\u044e\\u0449\\u0435\\u0433\\u043e\\u0441\\u044f\",\n          \"\\u0424\\u0440\\u0430\\u043d\\u0446\\u0438\\u0438\",\n          \"\\u0447.4\"\n        ],\n        \"semantic_type\": \"\",\n        \"description\": \"\"\n      }\n    },\n    {\n      \"column\": \"NER\",\n      \"properties\": {\n        \"dtype\": \"category\",\n        \"num_unique_values\": 7,\n        \"samples\": [\n          \"B-ORG\",\n          \"I-ORG\",\n          \"I-LOC\"\n        ],\n        \"semantic_type\": \"\",\n        \"description\": \"\"\n      }\n    }\n  ]\n}"
            }
          },
          "metadata": {},
          "execution_count": 7
        }
      ],
      "source": [
        "# \u0427\u0442\u0435\u043d\u0438\u0435 .csv \u0444\u0430\u0439\u043b\u0430 \u0434\u043b\u044f \u043f\u0440\u043e\u0432\u0435\u0440\u043a\u0438\n",
        "filepath = pd.read_csv('/content/economics.csv')\n",
        "filepath.head(5)"
      ]
    },
    {
      "cell_type": "markdown",
      "metadata": {
        "id": "htNiNx7LLVpU"
      },
      "source": [
        "# **\u041f\u043e\u043f\u044b\u0442\u043a\u0430 3**"
      ]
    },
    {
      "cell_type": "markdown",
      "metadata": {
        "id": "MNMxLvqy9IJJ"
      },
      "source": [
        "**\u0424\u0443\u043d\u043a\u0446\u0438\u044f \u0434\u043b\u044f \u0440\u0430\u0441\u043f\u0430\u0440\u0441\u0438\u0432\u0430\u043d\u0438\u044f \u0434\u0430\u0442\u0430\u0441\u0435\u0442\u0430**"
      ]
    },
    {
      "cell_type": "code",
      "execution_count": 8,
      "metadata": {
        "id": "6bxk4gwlzsOt"
      },
      "outputs": [],
      "source": [
        "def parse_dataset(filepath): # (\u043f\u0435\u0440\u0435\u043a\u043e\u043f\u0438\u0440\u043e\u0432\u0430\u043b\u0430, \u043a\u0430\u043a \u0431\u044b\u043b\u043e \u0432 \u043f\u0440\u043e\u0448\u043b\u044b\u0439 \u0440\u0430\u0437)\n",
        "    sentences, labels = [], []\n",
        "    with open(filepath, 'r', encoding='utf-8') as file:\n",
        "        reader = csv.reader(file)\n",
        "        current_sentence, current_labels = [], []\n",
        "        for row in reader:\n",
        "            if not row or row[0] == '':  # \u043f\u0443\u0441\u0442\u0430\u044f \u0441\u0442\u0440\u043e\u043a\u0430 \u0438\u043b\u0438 \u0441\u0442\u0440\u043e\u043a\u0430 \u0441 \u043f\u0443\u0441\u0442\u044b\u043c \u0442\u043e\u043a\u0435\u043d\u043e\u043c - \u043a\u043e\u043d\u0435\u0446 \u043f\u0440\u0435\u0434\u043b\u043e\u0436\u0435\u043d\u0438\u044f\n",
        "                if current_sentence:\n",
        "                    sentences.append(current_sentence)\n",
        "                    labels.append(current_labels)\n",
        "                current_sentence, current_labels = [], []\n",
        "            else:\n",
        "                token, tag = row[0], row[1]  # \u0442\u043e\u043a\u0435\u043d \u0438 \u043c\u0435\u0442\u043a\u0430 \u043d\u0430\u0445\u043e\u0434\u044f\u0442\u0441\u044f \u0432 \u043f\u0435\u0440\u0432\u044b\u0445 \u0434\u0432\u0443\u0445 \u043a\u043e\u043b\u043e\u043d\u043a\u0430\u0445\n",
        "                current_sentence.append(token)\n",
        "                current_labels.append(tag)\n",
        "        # \u0434\u043e\u0431\u0430\u0432\u043b\u044f\u044e \u043f\u043e\u0441\u043b\u0435\u0434\u043d\u0435\u0435 \u043f\u0440\u0435\u0434\u043b\u043e\u0436\u0435\u043d\u0438\u0435 \u043d\u0430 \u0441\u043b\u0443\u0447\u0430\u0439, \u0435\u0441\u043b\u0438 \u0444\u0430\u0439\u043b \u043d\u0435 \u0437\u0430\u043a\u0430\u043d\u0447\u0438\u0432\u0430\u043b\u0441\u044f \u043d\u0430 \u043f\u0443\u0441\u0442\u0443\u044e \u0441\u0442\u0440\u043e\u0447\u043a\u0443\n",
        "        if current_sentence:\n",
        "            sentences.append(current_sentence)\n",
        "            labels.append(current_labels)\n",
        "    return sentences, labels\n",
        "\n",
        "# \u041f\u0440\u043e\u0432\u0435\u0440\u043a\u0430 \u0434\u0430\u043d\u043d\u044b\u0445\n",
        "sentences, labels = parse_dataset('/content/economics.csv')"
      ]
    },
    {
      "cell_type": "code",
      "execution_count": 9,
      "metadata": {
        "colab": {
          "base_uri": "https://localhost:8080/"
        },
        "id": "enSvrVQgzsOu",
        "outputId": "ed8e88bd-fe80-40d2-dc15-d5df1dd3e3bb"
      },
      "outputs": [
        {
          "output_type": "stream",
          "name": "stdout",
          "text": [
            "\u041a\u043e\u043b\u0438\u0447\u0435\u0441\u0442\u0432\u043e \u043f\u0440\u0435\u0434\u043b\u043e\u0436\u0435\u043d\u0438\u0439: 3110\n",
            "\u041f\u0440\u0438\u043c\u0435\u0440 \u043f\u0440\u0435\u0434\u043b\u043e\u0436\u0435\u043d\u0438\u044f: ['text', '\u0415\u0434\u0438\u043d\u043e\u0439', '\u0420\u043e\u0441\u0441\u0438\u0435\u0439', \"'\", '\u0438', '\u043d\u0438\u043a\u0435\u043c', '\u0431\u043e\u043b\u044c\u0448\u0435', \"'\", ',', '-', '\u0437\u0430\u043a\u043b\u044e\u0447\u0430\u0435\u0442', '\u0418\u0441\u0430\u0435\u0432', '.']\n",
            "\u041f\u0440\u0438\u043c\u0435\u0440 \u043c\u0435\u0442\u043e\u043a: ['NER', 'B-ORG', 'I-ORG', 'O', 'O', 'O', 'O', 'O', 'O', 'O', 'O', 'B-PER', 'O']\n"
          ]
        }
      ],
      "source": [
        "# \u041f\u0440\u043e\u0432\u0435\u0440\u044e \u043a\u043e\u043b\u0438\u0447\u0435\u0441\u0442\u0432\u043e \u043f\u0440\u0435\u0434\u043b\u043e\u0436\u0435\u043d\u0438\u0439, \u043f\u0440\u0438\u043c\u0435\u0440\u044b \u043f\u0440\u0435\u0434\u043b\u043e\u0436\u0435\u043d\u0438\u0439 \u0438 \u043c\u0435\u0442\u043e\u043a\n",
        "print(f\"\u041a\u043e\u043b\u0438\u0447\u0435\u0441\u0442\u0432\u043e \u043f\u0440\u0435\u0434\u043b\u043e\u0436\u0435\u043d\u0438\u0439: {len(sentences)}\")\n",
        "print(f\"\u041f\u0440\u0438\u043c\u0435\u0440 \u043f\u0440\u0435\u0434\u043b\u043e\u0436\u0435\u043d\u0438\u044f: {sentences[0]}\")\n",
        "print(f\"\u041f\u0440\u0438\u043c\u0435\u0440 \u043c\u0435\u0442\u043e\u043a: {labels[0]}\")"
      ]
    },
    {
      "cell_type": "markdown",
      "metadata": {
        "id": "Rcl_NWCnAhvp"
      },
      "source": [
        "**\u0420\u0430\u0441\u043f\u0440\u0435\u0434\u0435\u043b\u0435\u043d\u0438\u0435 \u043c\u0435\u0442\u043e\u043a (\u043a\u043b\u0430\u0441\u0441\u043e\u0432 NER)**"
      ]
    },
    {
      "cell_type": "code",
      "execution_count": 10,
      "metadata": {
        "colab": {
          "base_uri": "https://localhost:8080/",
          "height": 705
        },
        "id": "izneJYEvzsOu",
        "outputId": "4e0f937a-16a7-4f9d-bad0-217211d44d7f"
      },
      "outputs": [
        {
          "output_type": "stream",
          "name": "stderr",
          "text": [
            "<ipython-input-10-1d21fe161e83>:8: FutureWarning: \n",
            "\n",
            "Passing `palette` without assigning `hue` is deprecated and will be removed in v0.14.0. Assign the `x` variable to `hue` and set `legend=False` for the same effect.\n",
            "\n",
            "  ax = sns.barplot(x=labels_order, y=counts, palette=\"viridis\")\n"
          ]
        },
        {
          "output_type": "display_data",
          "data": {
            "text/plain": [
              "<Figure size 1200x600 with 1 Axes>"
            ],
            "image/png": "[encoded data removed]"
          },
          "metadata": {}
        }
      ],
      "source": [
        "# \u0432\u0438\u0437\u0443\u0430\u043b\u0438\u0437\u0438\u0440\u0443\u044e \u0440\u0430\u0441\u043f\u0440\u0435\u0434\u0435\u043b\u0435\u043d\u0438\u043d \u043c\u0435\u0442\u043e\u043a\n",
        "all_labels = [label for sublist in labels for label in sublist] # \u0441\u043e\u0431\u0438\u0440\u0430\u044e \u043c\u0435\u0442\u043a\u0438 \u0432 \u043e\u0434\u0438\u043d \u0441\u043f\u0438\u0441\u043e\u043a\n",
        "label_counts = Counter(all_labels) # \u0441\u0447\u0438\u0442\u0430\u0435\u0442\u0441\u044f \u0447\u0430\u0441\u0442\u043e\u0442\u043d\u043e\u0441\u0442\u044c\n",
        "labels_order = [\"O\", \"B-PER\", \"I-PER\", \"B-ORG\", \"I-ORG\", \"B-LOC\", \"I-LOC\"]\n",
        "counts = [label_counts[label] for label in labels_order]\n",
        "plt.figure(figsize=(12, 6))\n",
        "plt.subplot(1, 2, 1)\n",
        "ax = sns.barplot(x=labels_order, y=counts, palette=\"viridis\")\n",
        "plt.title(\"\u0420\u0430\u0441\u043f\u0440\u0435\u0434\u0435\u043b\u0435\u043d\u0438\u0435 \u0442\u0435\u0433\u043e\u0432 NER\", fontsize=14)\n",
        "plt.xlabel(\"\u0422\u0435\u0433\", fontsize=12)\n",
        "plt.ylabel(\"\u041a\u043e\u043b\u0438\u0447\u0435\u0441\u0442\u0432\u043e\", fontsize=12)\n",
        "plt.xticks(rotation=45)\n",
        "# \u0414\u043e\u0431\u0430\u0432\u043b\u044e \u0437\u043d\u0430\u0447\u0435\u043d\u0438\u0435 \u0438 \u0441\u0442\u043e\u043b\u0431\u0446\u044b\n",
        "for p in ax.patches:\n",
        "    ax.annotate(f\"{int(p.get_height())}\",\n",
        "                (p.get_x() + p.get_width() / 2., p.get_height()),\n",
        "                ha='center', va='center',\n",
        "                fontsize=10, color='black',\n",
        "                xytext=(0, 5),\n",
        "                textcoords='offset points')"
      ]
    },
    {
      "cell_type": "code",
      "execution_count": 11,
      "metadata": {
        "id": "s28e9lM-zsOv"
      },
      "outputs": [],
      "source": [
        "# \u0420\u0430\u0437\u0434\u0435\u043b\u044e \u0434\u0430\u043d\u043d\u044b\u0435 \u043d\u0430 \u0442\u0440\u0435\u043d\u0438\u0440\u043e\u0432\u043e\u0447\u043d\u044b\u0435 \u0438 \u0432\u0430\u043b\u0438\u0434\u0430\u0446\u0438\u043e\u043d\u043d\u044b\u0435\n",
        "from sklearn.model_selection import train_test_split\n",
        "# \u041f\u0435\u0440\u0432\u043e\u0435 \u0440\u0430\u0437\u0434\u0435\u043b\u0435\u043d\u0438\u0435: \u0442\u0440\u0435\u043d\u0438\u0440\u043e\u0432\u0430\u0447\u043d\u044b\u0435 \u0434\u0430\u043d\u043d\u044b\u0435 70% + \u043e\u0441\u0442\u0430\u043b\u044c\u043d\u043e\u0435 - 30%\n",
        "train_sentences, temp_sentences, train_labels, temp_labels = train_test_split(\n",
        "    sentences, labels, test_size=0.3, random_state=42\n",
        ")\n",
        "# \u0412\u0442\u043e\u0440\u043e\u0435 \u0440\u0430\u0437\u0434\u0435\u043b\u0435\u043d\u0438\u0435: \u0432\u0430\u043b\u0438\u0434\u0430\u0446\u0438\u043e\u043d\u043d\u044b\u0435 - 20% \u0438 \u0442\u0435\u0441\u0442\u043e\u0432\u044b\u0435 - 10%, \u0432\u0441\u0435\u0433\u043e temp = 30, test_size=0.333, \u0442.\u043a 10/30\n",
        "val_sentences, test_sentences, val_labels, test_labels = train_test_split(\n",
        "    temp_sentences, temp_labels, test_size=0.333, random_state=42\n",
        ")"
      ]
    },
    {
      "cell_type": "code",
      "execution_count": null,
      "metadata": {
        "id": "ewlL5AS1zsOv",
        "outputId": "9c967fb3-f4b8-4ee1-af85-624419ff3710"
      },
      "outputs": [
        {
          "data": {
            "image/png": "[encoded data removed]",
            "text/plain": [
              "<Figure size 800x600 with 1 Axes>"
            ]
          },
          "metadata": {},
          "output_type": "display_data"
        }
      ],
      "source": [
        "# \u0445\u043e\u0447\u0443 \u0432\u0438\u0437\u0443\u0430\u043b\u0438\u0437\u0438\u0440\u043e\u0432\u0430\u0442\u044c \u0434\u0430\u043d\u043d\u044b\u0435\n",
        "train_size = len(train_sentences)\n",
        "val_size = len(val_sentences)\n",
        "test_size = len(test_sentences)\n",
        "\n",
        "sizes = [train_size, val_size, test_size]\n",
        "labels = ['\u0422\u0440\u0435\u043d\u0438\u0440\u043e\u0432\u043e\u0447\u043d\u044b\u0435 (70%)', '\u0412\u0430\u043b\u0438\u0434\u0430\u0446\u0438\u043e\u043d\u043d\u044b\u0435 (20%)', '\u0422\u0435\u0441\u0442\u043e\u0432\u044b\u0435 (10%)']\n",
        "colors = ['#66b3ff', '#99ff99', '#ffcc99']\n",
        "# \u043f\u0443\u0441\u0442\u044c \u0431\u0443\u0434\u0435\u0442 \u043a\u0440\u0443\u0433\u043e\u0432\u0430\u044f \u0434\u0438\u0430\u0433\u0440\u0430\u043c\u043c\u0430\n",
        "plt.figure(figsize=(8, 6))\n",
        "plt.pie(sizes, labels=labels, colors=colors, autopct='%1.1f%%', startangle=90)\n",
        "plt.title('\u0420\u0430\u0441\u043f\u0440\u0435\u0434\u0435\u043b\u0435\u043d\u0438\u0435 \u0434\u0430\u043d\u043d\u044b\u0445 \u043c\u0435\u0436\u0434\u0443 \u043d\u0430\u0431\u043e\u0440\u0430\u043c\u0438')\n",
        "plt.axis('equal')\n",
        "plt.legend(title=\"\u0414\u0430\u043d\u043d\u044b\u0435:\", loc=\"upper left\")\n",
        "plt.show()"
      ]
    },
    {
      "cell_type": "code",
      "execution_count": 12,
      "metadata": {
        "id": "eXPhOyYBzsOw"
      },
      "outputs": [],
      "source": [
        "# \u043e\u043f\u0440\u0435\u0434\u0435\u043b\u044e \u0442\u0435\u0433\u0438 \u0438 \u0438\u0445 ID\n",
        "labels = {'I-ORG': 1,\n",
        "            'B-LOC': 2,\n",
        "            'B-ORG': 3,\n",
        "            'I-LOC': 4,\n",
        "            'I-PER': 5,\n",
        "            'O': 6,\n",
        "            'B-PER': 7}\n",
        "label2id = {label: idx for idx, label in enumerate(labels)}\n",
        "id2label = {idx: label for label, idx in label2id.items()}"
      ]
    },
    {
      "cell_type": "code",
      "execution_count": 13,
      "metadata": {
        "colab": {
          "base_uri": "https://localhost:8080/"
        },
        "id": "ARqEGMbEzsOw",
        "outputId": "da9b1d14-c1ba-4c4f-a897-c339cb0a1b3d"
      },
      "outputs": [
        {
          "output_type": "execute_result",
          "data": {
            "text/plain": [
              "{'I-ORG': 1,\n",
              " 'B-LOC': 2,\n",
              " 'B-ORG': 3,\n",
              " 'I-LOC': 4,\n",
              " 'I-PER': 5,\n",
              " 'O': 6,\n",
              " 'B-PER': 7}"
            ]
          },
          "metadata": {},
          "execution_count": 13
        }
      ],
      "source": [
        "labels"
      ]
    },
    {
      "cell_type": "markdown",
      "metadata": {
        "id": "X-WQYs_X9u3X"
      },
      "source": [
        "**\u0417\u0430\u0433\u0440\u0443\u0437\u043a\u0430 \u0442\u043e\u043a\u0435\u043d\u0438\u0437\u0430\u0442\u043e\u0440\u0430 \u0438 \u043c\u043e\u0434\u0435\u043b\u0438**"
      ]
    },
    {
      "cell_type": "code",
      "execution_count": 14,
      "metadata": {
        "colab": {
          "base_uri": "https://localhost:8080/",
          "height": 232,
          "referenced_widgets": [
            "dbf56c95081b4745b9acfe0dbd0a4250",
            "4a6a253a6ac7456b87730e228f1a3b7b",
            "fd22e93dd8504a29bba091e048cd1591",
            "541c2bcd66814ab9b5020c5f1bbbbebf",
            "1ac086beaac6454982600308a88ddf7d",
            "029522e6d129448eae3ced860f924f39",
            "efd5d78cacc4446888239119c27c3821",
            "554f51f0472749d9aa3ff03cf3c1ebb6",
            "cdb933bbb30a475284ee16079ab6ae78",
            "ada8ceddae8249269726f975fd0cf29c",
            "50a60c2a526f4c7187528e31c9609f4c",
            "f1e1dfe95e0a4b22972a14c4b97ec391",
            "d8221750d7224fb2b1859a23aa9b99e0",
            "cfa35f6e700a4c41aac8c229b55ba1b9",
            "15ef7092d024487a9d0be5c8f2719899",
            "1deb3f6289534502a59ecc9d57dce727",
            "fe35b7fc73e94d259c2d7513ef234650",
            "07db7751b77245b8be5ae4be3f466e56",
            "63165c14f46945a6a73d4a962e089df1",
            "a4d7fb43e93441aaa0d13d972742bd7e",
            "8b46fa207b8d4e889cda1b22d16f2efc",
            "478e016848614e7f954375c860be8360",
            "c55aac26f8fb4b3e9a85c1e43c335574",
            "df23145000e8461998233a4797fb7ac5",
            "58ef434db2c34325b785b3a5aaa72e28",
            "a7f24dabe92a4ea4a2075382320db56a",
            "4583c1767cf14da7a086d3188e46cfdf",
            "0109f40167244d839e765276d4b25d4a",
            "b6860442ab784c24bb8c20867f949ea1",
            "a700552147954f65b973b008f3a0e3e5",
            "11b67cc32d3f4a279bdb9d7402463bd4",
            "6a87da3ad2414c878045f6c42842afa4",
            "d0d84f36398844bfac6446446666e841",
            "e82080b398b74a69a138c8f456ac8a79",
            "a9dbabc334d2405598b9baf7156f00e3",
            "7ae2dfee95dc4b6e9e902c3566d74c33",
            "5a883cb27f594fd882419bb15892a2d9",
            "1eaea9537de6418999c6264d922b019e",
            "7c132e311edc4f3a90d2c75ea8a974d8",
            "d5be9550a253482392fe4af048e5e932",
            "dbad9029778a4be08c6a8ed4688a65ff",
            "103f2bf2d42c4ca89396fcacc3f51134",
            "c4339fb35e4b4854865bb1da6353451a",
            "dff1256a03714c47aee0ad85489f38bf",
            "1632167cfbc749e2b9ed5170c632db90",
            "d202f9b086c64c6c823b8f85f35a707a",
            "c6c5d3e2f272455ba1f5b5248a56b794",
            "2d9279d4317742619e4261d16016d652",
            "c59805c20ec24fd6a800c45f06a5c550",
            "dbaf7af30aef4d2293f66184b0a76746",
            "82baf97f6896460db6a494e510446d32",
            "c2fd2faaa7c9446cace663013784c72f",
            "e8a740df9aa7424ca567ac357e1b6013",
            "d49332e83ac04c0481a69fdfbad2e522",
            "2bd62ac9a1b64545bd6343f27e9fdcc0"
          ]
        },
        "id": "Jnh8hoeCzsOw",
        "outputId": "5f7988f4-349f-4375-d6f3-b3c004c78c67"
      },
      "outputs": [
        {
          "output_type": "display_data",
          "data": {
            "text/plain": [
              "tokenizer_config.json:   0%|          | 0.00/49.0 [00:00<?, ?B/s]"
            ],
            "application/vnd.jupyter.widget-view+json": {
              "version_major": 2,
              "version_minor": 0,
              "model_id": "dbf56c95081b4745b9acfe0dbd0a4250"
            }
          },
          "metadata": {}
        },
        {
          "output_type": "display_data",
          "data": {
            "text/plain": [
              "config.json:   0%|          | 0.00/625 [00:00<?, ?B/s]"
            ],
            "application/vnd.jupyter.widget-view+json": {
              "version_major": 2,
              "version_minor": 0,
              "model_id": "f1e1dfe95e0a4b22972a14c4b97ec391"
            }
          },
          "metadata": {}
        },
        {
          "output_type": "display_data",
          "data": {
            "text/plain": [
              "vocab.txt:   0%|          | 0.00/996k [00:00<?, ?B/s]"
            ],
            "application/vnd.jupyter.widget-view+json": {
              "version_major": 2,
              "version_minor": 0,
              "model_id": "c55aac26f8fb4b3e9a85c1e43c335574"
            }
          },
          "metadata": {}
        },
        {
          "output_type": "display_data",
          "data": {
            "text/plain": [
              "tokenizer.json:   0%|          | 0.00/1.96M [00:00<?, ?B/s]"
            ],
            "application/vnd.jupyter.widget-view+json": {
              "version_major": 2,
              "version_minor": 0,
              "model_id": "e82080b398b74a69a138c8f456ac8a79"
            }
          },
          "metadata": {}
        },
        {
          "output_type": "stream",
          "name": "stderr",
          "text": [
            "Xet Storage is enabled for this repo, but the 'hf_xet' package is not installed. Falling back to regular HTTP download. For better performance, install the package with: `pip install huggingface_hub[hf_xet]` or `pip install hf_xet`\n",
            "WARNING:huggingface_hub.file_download:Xet Storage is enabled for this repo, but the 'hf_xet' package is not installed. Falling back to regular HTTP download. For better performance, install the package with: `pip install huggingface_hub[hf_xet]` or `pip install hf_xet`\n"
          ]
        },
        {
          "output_type": "display_data",
          "data": {
            "text/plain": [
              "model.safetensors:   0%|          | 0.00/714M [00:00<?, ?B/s]"
            ],
            "application/vnd.jupyter.widget-view+json": {
              "version_major": 2,
              "version_minor": 0,
              "model_id": "1632167cfbc749e2b9ed5170c632db90"
            }
          },
          "metadata": {}
        }
      ],
      "source": [
        "# \u0437\u0430\u0433\u0440\u0443\u0436\u0430\u044e \u0442\u043e\u043a\u0435\u043d\u0438\u0437\u0430\u0442\u043e\u0440 \u0438 \u043c\u043e\u0434\u0435\u043b\u044c BERT \u0431\u0435\u0437 \u0433\u043e\u043b\u043e\u0432\u044b\n",
        "tokenizer = AutoTokenizer.from_pretrained(\"bert-base-multilingual-cased\")\n",
        "model = AutoModel.from_pretrained(\"bert-base-multilingual-cased\")"
      ]
    },
    {
      "cell_type": "code",
      "execution_count": 15,
      "metadata": {
        "colab": {
          "base_uri": "https://localhost:8080/"
        },
        "id": "G4b5dfTBzsOx",
        "outputId": "7895bb17-5aa0-40ce-bf35-fa3e79634dcc"
      },
      "outputs": [
        {
          "output_type": "stream",
          "name": "stdout",
          "text": [
            "BertModel(\n",
            "  (embeddings): BertEmbeddings(\n",
            "    (word_embeddings): Embedding(119547, 768, padding_idx=0)\n",
            "    (position_embeddings): Embedding(512, 768)\n",
            "    (token_type_embeddings): Embedding(2, 768)\n",
            "    (LayerNorm): LayerNorm((768,), eps=1e-12, elementwise_affine=True)\n",
            "    (dropout): Dropout(p=0.1, inplace=False)\n",
            "  )\n",
            "  (encoder): BertEncoder(\n",
            "    (layer): ModuleList(\n",
            "      (0-11): 12 x BertLayer(\n",
            "        (attention): BertAttention(\n",
            "          (self): BertSdpaSelfAttention(\n",
            "            (query): Linear(in_features=768, out_features=768, bias=True)\n",
            "            (key): Linear(in_features=768, out_features=768, bias=True)\n",
            "            (value): Linear(in_features=768, out_features=768, bias=True)\n",
            "            (dropout): Dropout(p=0.1, inplace=False)\n",
            "          )\n",
            "          (output): BertSelfOutput(\n",
            "            (dense): Linear(in_features=768, out_features=768, bias=True)\n",
            "            (LayerNorm): LayerNorm((768,), eps=1e-12, elementwise_affine=True)\n",
            "            (dropout): Dropout(p=0.1, inplace=False)\n",
            "          )\n",
            "        )\n",
            "        (intermediate): BertIntermediate(\n",
            "          (dense): Linear(in_features=768, out_features=3072, bias=True)\n",
            "          (intermediate_act_fn): GELUActivation()\n",
            "        )\n",
            "        (output): BertOutput(\n",
            "          (dense): Linear(in_features=3072, out_features=768, bias=True)\n",
            "          (LayerNorm): LayerNorm((768,), eps=1e-12, elementwise_affine=True)\n",
            "          (dropout): Dropout(p=0.1, inplace=False)\n",
            "        )\n",
            "      )\n",
            "    )\n",
            "  )\n",
            "  (pooler): BertPooler(\n",
            "    (dense): Linear(in_features=768, out_features=768, bias=True)\n",
            "    (activation): Tanh()\n",
            "  )\n",
            ")\n"
          ]
        }
      ],
      "source": [
        "print(model)"
      ]
    },
    {
      "cell_type": "code",
      "execution_count": 16,
      "metadata": {
        "id": "cqbvXqgozsOx"
      },
      "outputs": [],
      "source": [
        "# \u043a\u043b\u0430\u0441\u0441 NERDataset \u0434\u043b\u044f \u043e\u0431\u0440\u0430\u0431\u043e\u0442\u043a\u0438 \u0434\u0430\u043d\u043d\u044b\u0445(\u043a\u043e\u043f\u0438\u044f \u0438\u0437 \u0441\u0435\u043c\u0438\u043d\u0430\u0440\u0430 NER):\n",
        "class NERDataset(Dataset):\n",
        "    def __init__(self, sentences, labels, tokenizer, label2id, max_length=128):\n",
        "        self.sentences = sentences\n",
        "        self.labels = labels\n",
        "        self.tokenizer = tokenizer\n",
        "        self.label2id = label2id # c\u043b\u043e\u0432\u0430\u0440\u044c \u0434\u043b\u044f \u043f\u0440\u0435\u043e\u0431\u0440\u0430\u0437\u043e\u0432\u0430\u043d\u0438\u044f \u043c\u0435\u0442\u043e\u043a \u0432 \u0447\u0438\u0441\u043b\u043e\u0432\u044b\u0435 ID\n",
        "        self.max_length = max_length\n",
        "\n",
        "    def __len__(self):\n",
        "        return len(self.sentences)\n",
        "\n",
        "    def __getitem__(self, idx):\n",
        "        tokens = self.sentences[idx]\n",
        "        tags = self.labels[idx]\n",
        "\n",
        "        # \u0437\u0434\u0435\u0441\u044c \u043f\u0440\u043e\u0438\u0441\u0445\u043e\u0434\u0438\u0442 \u0442\u043e\u043a\u0435\u043d\u0438\u0437\u0430\u0446\u0438\u044f\n",
        "        encoding = self.tokenizer(\n",
        "            tokens,\n",
        "            is_split_into_words=True,\n",
        "            padding='max_length',\n",
        "            truncation=True, # \u043e\u0431\u0440\u0435\u0437\u0430\u0435\u0442 \u043f\u043e\u0441\u043b\u0435\u0434\u043e\u0432\u0430\u0442\u0435\u043b\u044c\u043d\u043e\u0441\u0442\u044c, \u0435\u0441\u043b\u0438 \u043e\u043d\u0430 \u0434\u043b\u0438\u043d\u043d\u0435\u0435 max_length\n",
        "            max_length=self.max_length,\n",
        "            return_offsets_mapping=True\n",
        "        )\n",
        "\n",
        "        # \u0441\u0432\u044f\u0437\u044b\u0432\u0430\u044e \u043c\u0435\u0442\u043e\u043a\u0438 \u0441 \u0442\u043e\u043a\u0435\u043d\u0430\u043c\u0438\n",
        "        labels = []\n",
        "        word_ids = encoding.word_ids()\n",
        "        previous_word_id = None\n",
        "        for word_id in word_ids:\n",
        "            if word_id is None:  # \u0441\u043f\u0435\u0446\u0438\u0430\u043b\u044c\u043d\u044b\u0435 \u0442\u043e\u043a\u0435\u043d\u044b \u0438\u043b\u0438 \u043f\u0430\u0434\u0434\u0438\u043d\u0433\n",
        "                labels.append(-100)\n",
        "            elif word_id != previous_word_id:  # \u043d\u0430\u0447\u0430\u043b\u043e \u043d\u043e\u0432\u043e\u0433\u043e \u0441\u043b\u043e\u0432\u0430\n",
        "                labels.append(self.label2id.get(tags[word_id], -100))\n",
        "            else:  # \u043f\u043e\u0434\u0442\u043e\u043a\u0435\u043d\u044b\n",
        "                labels.append(-100)\n",
        "            previous_word_id = word_id\n",
        "\n",
        "        encoding[\"labels\"] = labels\n",
        "        encoding.pop(\"offset_mapping\")  # \u0423\u0434\u0430\u043b\u044f\u044e offset_mapping, \u0442\u0430\u043a \u043a\u0430\u043a \u043e\u043d \u043d\u0435 \u043d\u0443\u0436\u0435\u043d\n",
        "\n",
        "        return {key: torch.tensor(val) for key, val in encoding.items()} #  \u0432\u043e\u0437\u0432\u0440\u0430\u0449\u0430\u0435\u0442 \u0441\u043b\u043e\u0432\u0430\u0440\u044c \u0441 \u043a\u043b\u044e\u0447\u0430\u043c\u0438: input_ids, attention_mask, labels"
      ]
    },
    {
      "cell_type": "code",
      "execution_count": 17,
      "metadata": {
        "id": "gwL_AySlzsOy"
      },
      "outputs": [],
      "source": [
        "def create_dataloader(sentences, labels, tokenizer, label2id, batch_size=64, max_length=128, shuffle=True):\n",
        "    dataset = NERDataset(sentences, labels, tokenizer, label2id, max_length=max_length)\n",
        "    return DataLoader(dataset, batch_size=batch_size, shuffle=shuffle)"
      ]
    },
    {
      "cell_type": "code",
      "execution_count": 18,
      "metadata": {
        "id": "FHEOMMHvzsOy"
      },
      "outputs": [],
      "source": [
        "train_dataloader = create_dataloader(train_sentences, train_labels, tokenizer, label2id, shuffle=True)\n",
        "val_dataloader = create_dataloader(val_sentences, val_labels, tokenizer, label2id, shuffle=True)\n",
        "test_dataloader = create_dataloader(test_sentences, test_labels, tokenizer, label2id, shuffle=False)"
      ]
    },
    {
      "cell_type": "code",
      "execution_count": 19,
      "metadata": {
        "id": "4-U0uXBKzsOy"
      },
      "outputs": [],
      "source": [
        "train_dataset = NERDataset(train_sentences, train_labels, tokenizer, label2id)\n",
        "val_dataset = NERDataset(val_sentences, val_labels, tokenizer, label2id)\n",
        "test_dataset = NERDataset(test_sentences, test_labels, tokenizer, label2id)"
      ]
    },
    {
      "cell_type": "code",
      "execution_count": 20,
      "metadata": {
        "id": "rb6YueUOzsOz"
      },
      "outputs": [],
      "source": [
        "from sklearn.utils.class_weight import compute_class_weight"
      ]
    },
    {
      "cell_type": "code",
      "execution_count": 21,
      "metadata": {
        "id": "xqisq4BuzsOz"
      },
      "outputs": [],
      "source": [
        "from torch.optim import AdamW\n",
        "from torch.optim.lr_scheduler import ReduceLROnPlateau"
      ]
    },
    {
      "cell_type": "markdown",
      "metadata": {
        "id": "ek-b_YbT1g-a"
      },
      "source": [
        "**\u0424\u0438\u043a\u0441\u0430\u0446\u0438\u044f seed \u0434\u043b\u044f \u0432\u043e\u0441\u043f\u0440\u043e\u0438\u0437\u0432\u043e\u0434\u0438\u043c\u043e\u0441\u0442\u0438 \u0440\u0435\u0437\u0443\u043b\u044c\u0442\u0430\u0442\u043e\u0432**"
      ]
    },
    {
      "cell_type": "code",
      "execution_count": 22,
      "metadata": {
        "id": "zCOVkxOhzsOz"
      },
      "outputs": [],
      "source": [
        "import random\n",
        "import os\n",
        "# \u0424\u0438\u043a\u0441\u0438\u0440\u0443\u044e seed\n",
        "seed = 42\n",
        "os.environ['PYTHONHASHSEED'] = str(seed)\n",
        "random.seed(seed)\n",
        "np.random.seed(seed)\n",
        "torch.manual_seed(seed)\n",
        "torch.cuda.manual_seed(seed)\n",
        "torch.cuda.manual_seed_all(seed)\n",
        "\n",
        "# \u0434\u043b\u044f \u043e\u0431\u0435\u0441\u043f\u0435\u0447\u0435\u043d\u0438\u044f \u0434\u0435\u0442\u0435\u0440\u043c\u0438\u043d\u0438\u0437\u043c\u0430 \u0432 \u043e\u043f\u0435\u0440\u0430\u0446\u0438\u044f\u0445 \u043d\u0430 GPU\n",
        "torch.backends.cudnn.deterministic = True\n",
        "torch.backends.cudnn.benchmark = False"
      ]
    },
    {
      "cell_type": "code",
      "execution_count": 23,
      "metadata": {
        "id": "VlfDZVywzsO0"
      },
      "outputs": [],
      "source": [
        "#  \u043c\u043e\u0434\u0435\u043b\u044c \u043d\u0430 GPU\n",
        "device = torch.device(\"cuda\") if torch.cuda.is_available() else torch.device(\"cpu\")"
      ]
    },
    {
      "cell_type": "code",
      "execution_count": 24,
      "metadata": {
        "id": "d6C1qbNnzsO0"
      },
      "outputs": [],
      "source": [
        "class NERModel_4(nn.Module):\n",
        "    def __init__(self, num_classes):\n",
        "        super().__init__()\n",
        "\n",
        "        self.bert = AutoModel.from_pretrained(\"bert-base-multilingual-cased\")\n",
        "        self.num_labels = num_classes\n",
        "        self.dropout = nn.Dropout(0.2)\n",
        "\n",
        "        # \u041c\u043e\u044f \u043a\u0430\u0441\u0442\u043e\u043c\u043d\u0430\u044f \u0433\u043e\u043b\u043e\u0432\u0430 \u0441 \u0434\u043e\u043f\u043e\u043b\u043d\u0438\u0442\u0435\u043b\u044c\u043d\u044b\u043c \u0441\u043b\u043e\u0435\u043c\n",
        "        self.classifier = nn.Sequential(\n",
        "            nn.Linear(self.bert.config.hidden_size, 768),\n",
        "            nn.LayerNorm(768),\n",
        "            nn.GELU(),\n",
        "            nn.Dropout(0.2),\n",
        "\n",
        "            nn.Linear(768, 128),\n",
        "            nn.LayerNorm(128),\n",
        "            nn.GELU(), # \u043f\u043e\u043c\u0435\u043d\u044f\u044e \u0437\u0434\u0435\u0441\u044c \u043d\u0430 GELU\n",
        "            nn.Dropout(0.2),\n",
        "\n",
        "            nn.Linear(128, num_classes)\n",
        "        )\n",
        "\n",
        "        # \u0417\u0430\u043c\u043e\u0440\u0430\u0436\u0438\u0432\u0430\u044e BERT \u043f\u043e\u043b\u043d\u043e\u0441\u0442\u044c\u044e\n",
        "        for param in self.bert.parameters():\n",
        "            param.requires_grad = False\n",
        "\n",
        "\n",
        "    def forward(self, input_ids, attention_mask, token_type_ids=None, labels=None):\n",
        "        with torch.no_grad():  # \u043e\u0442\u0441\u0443\u0442\u0441\u0442\u0432\u0438\u0435 \u0433\u0440\u0430\u0434\u0438\u0435\u043d\u0442\u043e\u0432 \u0432 BERT\n",
        "            outputs = self.bert(\n",
        "                input_ids=input_ids,\n",
        "                attention_mask=attention_mask,\n",
        "                token_type_ids=token_type_ids\n",
        "            )\n",
        "\n",
        "        sequence_output = self.dropout(outputs.last_hidden_state)\n",
        "        logits = self.classifier(sequence_output)\n",
        "\n",
        "        loss = None\n",
        "        if labels is not None:\n",
        "            loss_fn = nn.CrossEntropyLoss(\n",
        "                ignore_index=-100\n",
        "            )\n",
        "            loss = loss_fn(\n",
        "                logits.view(-1, self.num_labels),\n",
        "                labels.view(-1)\n",
        "            )\n",
        "\n",
        "        return (loss, logits) if loss is not None else logits"
      ]
    },
    {
      "cell_type": "code",
      "execution_count": 25,
      "metadata": {
        "colab": {
          "base_uri": "https://localhost:8080/"
        },
        "id": "0vvShErXzsO1",
        "outputId": "7dcab75a-8453-4d78-9e08-36c7706b6937"
      },
      "outputs": [
        {
          "output_type": "execute_result",
          "data": {
            "text/plain": [
              "NERModel_4(\n",
              "  (bert): BertModel(\n",
              "    (embeddings): BertEmbeddings(\n",
              "      (word_embeddings): Embedding(119547, 768, padding_idx=0)\n",
              "      (position_embeddings): Embedding(512, 768)\n",
              "      (token_type_embeddings): Embedding(2, 768)\n",
              "      (LayerNorm): LayerNorm((768,), eps=1e-12, elementwise_affine=True)\n",
              "      (dropout): Dropout(p=0.1, inplace=False)\n",
              "    )\n",
              "    (encoder): BertEncoder(\n",
              "      (layer): ModuleList(\n",
              "        (0-11): 12 x BertLayer(\n",
              "          (attention): BertAttention(\n",
              "            (self): BertSdpaSelfAttention(\n",
              "              (query): Linear(in_features=768, out_features=768, bias=True)\n",
              "              (key): Linear(in_features=768, out_features=768, bias=True)\n",
              "              (value): Linear(in_features=768, out_features=768, bias=True)\n",
              "              (dropout): Dropout(p=0.1, inplace=False)\n",
              "            )\n",
              "            (output): BertSelfOutput(\n",
              "              (dense): Linear(in_features=768, out_features=768, bias=True)\n",
              "              (LayerNorm): LayerNorm((768,), eps=1e-12, elementwise_affine=True)\n",
              "              (dropout): Dropout(p=0.1, inplace=False)\n",
              "            )\n",
              "          )\n",
              "          (intermediate): BertIntermediate(\n",
              "            (dense): Linear(in_features=768, out_features=3072, bias=True)\n",
              "            (intermediate_act_fn): GELUActivation()\n",
              "          )\n",
              "          (output): BertOutput(\n",
              "            (dense): Linear(in_features=3072, out_features=768, bias=True)\n",
              "            (LayerNorm): LayerNorm((768,), eps=1e-12, elementwise_affine=True)\n",
              "            (dropout): Dropout(p=0.1, inplace=False)\n",
              "          )\n",
              "        )\n",
              "      )\n",
              "    )\n",
              "    (pooler): BertPooler(\n",
              "      (dense): Linear(in_features=768, out_features=768, bias=True)\n",
              "      (activation): Tanh()\n",
              "    )\n",
              "  )\n",
              "  (dropout): Dropout(p=0.2, inplace=False)\n",
              "  (classifier): Sequential(\n",
              "    (0): Linear(in_features=768, out_features=768, bias=True)\n",
              "    (1): LayerNorm((768,), eps=1e-05, elementwise_affine=True)\n",
              "    (2): GELU(approximate='none')\n",
              "    (3): Dropout(p=0.2, inplace=False)\n",
              "    (4): Linear(in_features=768, out_features=128, bias=True)\n",
              "    (5): LayerNorm((128,), eps=1e-05, elementwise_affine=True)\n",
              "    (6): GELU(approximate='none')\n",
              "    (7): Dropout(p=0.2, inplace=False)\n",
              "    (8): Linear(in_features=128, out_features=7, bias=True)\n",
              "  )\n",
              ")"
            ]
          },
          "metadata": {},
          "execution_count": 25
        }
      ],
      "source": [
        "# \u0418\u043d\u0438\u0446\u0438\u0430\u043b\u0438\u0437\u0430\u0446\u0438\u044f \u043c\u043e\u0434\u0435\u043b\u0438\n",
        "model = NERModel_4(num_classes=len(labels))\n",
        "model.to(device)"
      ]
    },
    {
      "cell_type": "code",
      "execution_count": 26,
      "metadata": {
        "id": "ZFDW2qvBzsO1"
      },
      "outputs": [],
      "source": [
        "from seqeval.metrics import precision_score, recall_score, f1_score, accuracy_score\n",
        "\n",
        "def compute_metrics(p):\n",
        "    predictions, labels = p\n",
        "\n",
        "    # \u041f\u0440\u0435\u043e\u0431\u0440\u0430\u0437\u043e\u0432\u0430\u043d\u0438\u0435 \u043b\u043e\u0433\u0438\u0442\u043e\u0432 \u0432 \u043f\u0440\u0435\u0434\u0441\u043a\u0430\u0437\u0430\u043d\u043d\u044b\u0435 \u043a\u043b\u0430\u0441\u0441\u044b\n",
        "    predictions = np.argmax(predictions, axis=2)\n",
        "\n",
        "    true_predictions = []\n",
        "    true_labels = []\n",
        "\n",
        "    for prediction, label_seq in zip(predictions, labels):\n",
        "        current_predictions = []\n",
        "        current_labels = []\n",
        "\n",
        "        for pred, lab in zip(prediction, label_seq):\n",
        "            if lab != -100:\n",
        "                current_predictions.append(id2label[pred])\n",
        "                current_labels.append(id2label[lab])\n",
        "\n",
        "        if current_predictions:\n",
        "            true_predictions.append(current_predictions)\n",
        "            true_labels.append(current_labels)\n",
        "\n",
        "    if not true_predictions:\n",
        "        return {\"precision\": 0, \"recall\": 0, \"f1\": 0, \"accuracy\": 0}\n",
        "\n",
        "    # \u0412\u044b\u0447\u0438\u0441\u043b\u0435\u043d\u0438\u0435 \u043c\u0435\u0442\u0440\u0438\u043a\n",
        "    precision = precision_score(true_labels, true_predictions, zero_division=0)\n",
        "    recall = recall_score(true_labels, true_predictions, zero_division=0)\n",
        "    f1 = f1_score(true_labels, true_predictions, zero_division=0)\n",
        "    accuracy = accuracy_score(true_labels, true_predictions)\n",
        "\n",
        "    return {\n",
        "        \"precision\": precision,\n",
        "        \"recall\": recall,\n",
        "        \"f1\": f1,\n",
        "        \"accuracy\": accuracy\n",
        "    }"
      ]
    },
    {
      "cell_type": "code",
      "execution_count": 27,
      "metadata": {
        "id": "gWYc4aDIzsO2"
      },
      "outputs": [],
      "source": [
        "optimizer = AdamW(\n",
        "    model.classifier.parameters(),\n",
        "    lr=1e-3, # \u0434\u0440\u0443\u0433\u043e\u0439 lr\n",
        "    amsgrad=True)"
      ]
    },
    {
      "cell_type": "code",
      "execution_count": 28,
      "metadata": {
        "id": "HqBm9funzsO4"
      },
      "outputs": [],
      "source": [
        "training_args = TrainingArguments(\n",
        "    output_dir=\"./results\",\n",
        "    eval_strategy=\"epoch\",\n",
        "    per_device_train_batch_size=64,\n",
        "    per_device_eval_batch_size=64,\n",
        "    num_train_epochs=20,\n",
        "    weight_decay=0.05,\n",
        "    logging_dir=\"./logs\",\n",
        "    logging_steps=10,\n",
        "    report_to=\"none\",\n",
        "    save_strategy=\"epoch\",\n",
        "    load_best_model_at_end=True,\n",
        "    metric_for_best_model=\"f1\")"
      ]
    },
    {
      "cell_type": "code",
      "source": [
        "from transformers import get_linear_schedule_with_warmup\n",
        "total_steps = len(train_dataloader) * training_args.num_train_epochs\n",
        "\n",
        "scheduler = get_linear_schedule_with_warmup(\n",
        "    optimizer,\n",
        "    num_warmup_steps=0,\n",
        "    num_training_steps=total_steps)"
      ],
      "metadata": {
        "id": "r8HVxIJe0XyM"
      },
      "execution_count": 29,
      "outputs": []
    },
    {
      "cell_type": "code",
      "execution_count": 30,
      "metadata": {
        "colab": {
          "base_uri": "https://localhost:8080/"
        },
        "id": "IMcz0NWtzsO4",
        "outputId": "8ac8d8a9-3088-4311-a56c-2ac9527d87e0"
      },
      "outputs": [
        {
          "output_type": "stream",
          "name": "stderr",
          "text": [
            "<ipython-input-30-13679824d179>:1: FutureWarning: `tokenizer` is deprecated and will be removed in version 5.0.0 for `Trainer.__init__`. Use `processing_class` instead.\n",
            "  trainer = Trainer(\n"
          ]
        }
      ],
      "source": [
        "trainer = Trainer(\n",
        "    model=model,\n",
        "    args=training_args,\n",
        "    optimizers=(optimizer, scheduler),\n",
        "    train_dataset=train_dataloader.dataset,\n",
        "    eval_dataset=val_dataloader.dataset,\n",
        "    tokenizer=tokenizer,\n",
        "    compute_metrics=compute_metrics,\n",
        "    callbacks=[EarlyStoppingCallback(early_stopping_patience=5)]\n",
        ")"
      ]
    },
    {
      "cell_type": "code",
      "execution_count": 31,
      "metadata": {
        "colab": {
          "base_uri": "https://localhost:8080/",
          "height": 643
        },
        "id": "EHjZCy0yzsO4",
        "outputId": "69b6ea1b-f608-4414-aaf8-df0273416a8a"
      },
      "outputs": [
        {
          "output_type": "display_data",
          "data": {
            "text/plain": [
              "<IPython.core.display.HTML object>"
            ],
            "text/html": [
              "\n",
              "    <div>\n",
              "      \n",
              "      <progress value='595' max='700' style='width:300px; height:20px; vertical-align: middle;'></progress>\n",
              "      [595/700 07:53 < 01:23, 1.25 it/s, Epoch 17/20]\n",
              "    </div>\n",
              "    <table border=\"1\" class=\"dataframe\">\n",
              "  <thead>\n",
              " <tr style=\"text-align: left;\">\n",
              "      <th>Epoch</th>\n",
              "      <th>Training Loss</th>\n",
              "      <th>Validation Loss</th>\n",
              "      <th>Precision</th>\n",
              "      <th>Recall</th>\n",
              "      <th>F1</th>\n",
              "      <th>Accuracy</th>\n",
              "    </tr>\n",
              "  </thead>\n",
              "  <tbody>\n",
              "    <tr>\n",
              "      <td>1</td>\n",
              "      <td>0.267300</td>\n",
              "      <td>0.141194</td>\n",
              "      <td>0.668644</td>\n",
              "      <td>0.741541</td>\n",
              "      <td>0.703209</td>\n",
              "      <td>0.958326</td>\n",
              "    </tr>\n",
              "    <tr>\n",
              "      <td>2</td>\n",
              "      <td>0.117600</td>\n",
              "      <td>0.078238</td>\n",
              "      <td>0.808063</td>\n",
              "      <td>0.866541</td>\n",
              "      <td>0.836281</td>\n",
              "      <td>0.975480</td>\n",
              "    </tr>\n",
              "    <tr>\n",
              "      <td>3</td>\n",
              "      <td>0.101100</td>\n",
              "      <td>0.062796</td>\n",
              "      <td>0.847865</td>\n",
              "      <td>0.895677</td>\n",
              "      <td>0.871115</td>\n",
              "      <td>0.980421</td>\n",
              "    </tr>\n",
              "    <tr>\n",
              "      <td>4</td>\n",
              "      <td>0.095900</td>\n",
              "      <td>0.057263</td>\n",
              "      <td>0.868397</td>\n",
              "      <td>0.911654</td>\n",
              "      <td>0.889500</td>\n",
              "      <td>0.982472</td>\n",
              "    </tr>\n",
              "    <tr>\n",
              "      <td>5</td>\n",
              "      <td>0.091100</td>\n",
              "      <td>0.055362</td>\n",
              "      <td>0.851691</td>\n",
              "      <td>0.922932</td>\n",
              "      <td>0.885882</td>\n",
              "      <td>0.982752</td>\n",
              "    </tr>\n",
              "    <tr>\n",
              "      <td>6</td>\n",
              "      <td>0.082200</td>\n",
              "      <td>0.055825</td>\n",
              "      <td>0.850087</td>\n",
              "      <td>0.921992</td>\n",
              "      <td>0.884581</td>\n",
              "      <td>0.982566</td>\n",
              "    </tr>\n",
              "    <tr>\n",
              "      <td>7</td>\n",
              "      <td>0.079300</td>\n",
              "      <td>0.049943</td>\n",
              "      <td>0.873462</td>\n",
              "      <td>0.934211</td>\n",
              "      <td>0.902816</td>\n",
              "      <td>0.984430</td>\n",
              "    </tr>\n",
              "    <tr>\n",
              "      <td>8</td>\n",
              "      <td>0.069200</td>\n",
              "      <td>0.051410</td>\n",
              "      <td>0.869037</td>\n",
              "      <td>0.941729</td>\n",
              "      <td>0.903924</td>\n",
              "      <td>0.983405</td>\n",
              "    </tr>\n",
              "    <tr>\n",
              "      <td>9</td>\n",
              "      <td>0.063600</td>\n",
              "      <td>0.051963</td>\n",
              "      <td>0.859725</td>\n",
              "      <td>0.938910</td>\n",
              "      <td>0.897574</td>\n",
              "      <td>0.982659</td>\n",
              "    </tr>\n",
              "    <tr>\n",
              "      <td>10</td>\n",
              "      <td>0.068600</td>\n",
              "      <td>0.044388</td>\n",
              "      <td>0.882301</td>\n",
              "      <td>0.937030</td>\n",
              "      <td>0.908842</td>\n",
              "      <td>0.986761</td>\n",
              "    </tr>\n",
              "    <tr>\n",
              "      <td>11</td>\n",
              "      <td>0.057600</td>\n",
              "      <td>0.048205</td>\n",
              "      <td>0.879371</td>\n",
              "      <td>0.945489</td>\n",
              "      <td>0.911232</td>\n",
              "      <td>0.984151</td>\n",
              "    </tr>\n",
              "    <tr>\n",
              "      <td>12</td>\n",
              "      <td>0.058700</td>\n",
              "      <td>0.043764</td>\n",
              "      <td>0.891362</td>\n",
              "      <td>0.940789</td>\n",
              "      <td>0.915409</td>\n",
              "      <td>0.986668</td>\n",
              "    </tr>\n",
              "    <tr>\n",
              "      <td>13</td>\n",
              "      <td>0.056700</td>\n",
              "      <td>0.047097</td>\n",
              "      <td>0.873693</td>\n",
              "      <td>0.942669</td>\n",
              "      <td>0.906872</td>\n",
              "      <td>0.984057</td>\n",
              "    </tr>\n",
              "    <tr>\n",
              "      <td>14</td>\n",
              "      <td>0.090200</td>\n",
              "      <td>0.046083</td>\n",
              "      <td>0.870435</td>\n",
              "      <td>0.940789</td>\n",
              "      <td>0.904246</td>\n",
              "      <td>0.984430</td>\n",
              "    </tr>\n",
              "    <tr>\n",
              "      <td>15</td>\n",
              "      <td>0.046400</td>\n",
              "      <td>0.046542</td>\n",
              "      <td>0.870017</td>\n",
              "      <td>0.943609</td>\n",
              "      <td>0.905320</td>\n",
              "      <td>0.984057</td>\n",
              "    </tr>\n",
              "    <tr>\n",
              "      <td>16</td>\n",
              "      <td>0.050800</td>\n",
              "      <td>0.045665</td>\n",
              "      <td>0.878284</td>\n",
              "      <td>0.942669</td>\n",
              "      <td>0.909338</td>\n",
              "      <td>0.984710</td>\n",
              "    </tr>\n",
              "    <tr>\n",
              "      <td>17</td>\n",
              "      <td>0.047100</td>\n",
              "      <td>0.045479</td>\n",
              "      <td>0.874561</td>\n",
              "      <td>0.937030</td>\n",
              "      <td>0.904719</td>\n",
              "      <td>0.984990</td>\n",
              "    </tr>\n",
              "  </tbody>\n",
              "</table><p>"
            ]
          },
          "metadata": {}
        },
        {
          "output_type": "execute_result",
          "data": {
            "text/plain": [
              "TrainOutput(global_step=595, training_loss=0.09541541042448091, metrics={'train_runtime': 475.3474, 'train_samples_per_second': 91.596, 'train_steps_per_second': 1.473, 'total_flos': 0.0, 'train_loss': 0.09541541042448091, 'epoch': 17.0})"
            ]
          },
          "metadata": {},
          "execution_count": 31
        }
      ],
      "source": [
        "# \u041e\u0431\u0443\u0447\u0435\u043d\u0438\u0435 \u043c\u043e\u0434\u0435\u043b\u0438\n",
        "trainer.train()"
      ]
    },
    {
      "cell_type": "code",
      "execution_count": 32,
      "metadata": {
        "colab": {
          "base_uri": "https://localhost:8080/",
          "height": 37
        },
        "id": "nJ7o9tnWzsO5",
        "outputId": "84ba0f22-2602-4750-bde4-73fa3a642cf1"
      },
      "outputs": [
        {
          "output_type": "display_data",
          "data": {
            "text/plain": [
              "<IPython.core.display.HTML object>"
            ],
            "text/html": [
              "\n",
              "    <div>\n",
              "      \n",
              "      <progress value='10' max='10' style='width:300px; height:20px; vertical-align: middle;'></progress>\n",
              "      [10/10 00:03]\n",
              "    </div>\n",
              "    "
            ]
          },
          "metadata": {}
        }
      ],
      "source": [
        "# \u043f\u043e\u0441\u043c\u043e\u0442\u0440\u044e \u043c\u0435\u0442\u0440\u0438\u043a\u0438 \u043d\u0430 \u0432\u0430\u043b\u0438\u0434\u0430\u0446\u0438\u043e\u043d\u043d\u043e\u0439 \u0447\u0430\u0441\u0442\u0438\n",
        "val_metrics = trainer.evaluate(eval_dataset=val_dataset)"
      ]
    },
    {
      "cell_type": "code",
      "execution_count": 33,
      "metadata": {
        "colab": {
          "base_uri": "https://localhost:8080/"
        },
        "id": "tXG5gfyAzsO5",
        "outputId": "29402bb4-634c-42b2-ba79-5c8ef3b8b35e"
      },
      "outputs": [
        {
          "output_type": "stream",
          "name": "stdout",
          "text": [
            "\n",
            "+-----------+---------+--------------+\n",
            "| Metric    |   Value | Percentage   |\n",
            "+===========+=========+==============+\n",
            "| Loss      |  0.0438 | 0.0438       |\n",
            "+-----------+---------+--------------+\n",
            "| Precision |  0.8914 | 89.1%        |\n",
            "+-----------+---------+--------------+\n",
            "| Recall    |  0.9408 | 94.1%        |\n",
            "+-----------+---------+--------------+\n",
            "| F1        |  0.9154 | 91.5%        |\n",
            "+-----------+---------+--------------+\n",
            "| Accuracy  |  0.9867 | 98.7%        |\n",
            "+-----------+---------+--------------+\n"
          ]
        }
      ],
      "source": [
        "metrics_data = [\n",
        "    [\"Loss\", val_metrics['eval_loss'], f\"{val_metrics['eval_loss']:.4f}\"],\n",
        "    [\"Precision\", val_metrics['eval_precision'], f\"{val_metrics['eval_precision']*100:.1f}%\"],\n",
        "    [\"Recall\", val_metrics['eval_recall'], f\"{val_metrics['eval_recall']*100:.1f}%\"],\n",
        "    [\"F1\", val_metrics['eval_f1'], f\"{val_metrics['eval_f1']*100:.1f}%\"],\n",
        "    [\"Accuracy\", val_metrics['eval_accuracy'], f\"{val_metrics['eval_accuracy']*100:.1f}%\"]\n",
        "]\n",
        "\n",
        "# \u0412\u044b\u0432\u043e\u0434 \u0442\u0430\u0431\u043b\u0438\u0446\u044b\n",
        "print(\"\\n\" + tabulate(metrics_data,\n",
        "                    headers=[\"Metric\", \"Value\", \"Percentage\"],\n",
        "                    tablefmt=\"grid\",\n",
        "                    floatfmt=\".4f\"))"
      ]
    },
    {
      "cell_type": "code",
      "execution_count": 34,
      "metadata": {
        "id": "7Z4P5FcMzsO6"
      },
      "outputs": [],
      "source": [
        "def predict(sentence, tokenizer, model, device='cuda'): #(\u0441\u043a\u043e\u043f\u0438\u0440\u043e\u0432\u0430\u043b\u0430 \u043a\u043e\u0434 \u0438\u0437 \u0442\u0435\u0442\u0440\u0430\u0434\u043a\u0438)\n",
        "    model.to(device)\n",
        "    model.eval()  # \u043f\u0435\u0440\u0435\u0432\u043e\u0434\u0438\u043c \u043c\u043e\u0434\u0435\u043b\u044c \u0432 \u0440\u0435\u0436\u0438\u043c \u043e\u0446\u0435\u043d\u043a\u0438\n",
        "\n",
        "    # \u0422\u043e\u043a\u0435\u043d\u0438\u0437\u0430\u0446\u0438\u044f \u043f\u0440\u0435\u0434\u043b\u043e\u0436\u0435\u043d\u0438\u044f\n",
        "    tokens = tokenizer(\n",
        "        sentence.split(),  # \u0420\u0430\u0437\u0434\u0435\u043b\u044f\u044e \u043f\u0440\u0435\u0434\u043b\u043e\u0436\u0435\u043d\u0438\u0435 \u043d\u0430 \u0441\u043b\u043e\u0432\u0430\n",
        "        is_split_into_words=True,  # \u0423\u043a\u0430\u0437\u044b\u0432\u0430\u044e, \u0447\u0442\u043e \u0432\u0445\u043e\u0434 \u0443\u0436\u0435 \u0440\u0430\u0437\u0434\u0435\u043b\u0435\u043d \u043d\u0430 \u0441\u043b\u043e\u0432\u0430\n",
        "        return_tensors=\"pt\",  # \u0412\u043e\u0437\u0432\u0440\u0430\u0449\u0430\u044e \u0442\u0435\u043d\u0437\u043e\u0440\u044b PyTorch\n",
        "        truncation=True,  # \u041e\u0431\u0440\u0435\u0437\u0430\u044e \u043f\u0440\u0435\u0434\u043b\u043e\u0436\u0435\u043d\u0438\u0435, \u0435\u0441\u043b\u0438 \u043e\u043d\u043e \u0434\u043b\u0438\u043d\u043d\u0435\u0435 \u043c\u0430\u043a\u0441\u0438\u043c\u0430\u043b\u044c\u043d\u043e\u0439 \u0434\u043b\u0438\u043d\u044b\n",
        "        padding=True,  # \u0414\u043e\u0431\u0430\u0432\u043b\u044f\u044e \u043f\u0430\u0434\u0434\u0438\u043d\u0433, \u0435\u0441\u043b\u0438 \u043f\u0440\u0435\u0434\u043b\u043e\u0436\u0435\u043d\u0438\u0435 \u043a\u043e\u0440\u043e\u0447\u0435 \u043c\u0430\u043a\u0441\u0438\u043c\u0430\u043b\u044c\u043d\u043e\u0439 \u0434\u043b\u0438\u043d\u044b\n",
        "    )\n",
        "\n",
        "    #  \u0438\u043d\u0434\u0435\u043a\u0441\u044b \u0441\u043b\u043e\u0432 \u0434\u043b\u044f \u043a\u0430\u0436\u0434\u043e\u0433\u043e \u0442\u043e\u043a\u0435\u043d\u0430\n",
        "    word_ids = tokens.word_ids()\n",
        "\n",
        "    # \u0432\u0445\u043e\u0434\u043d\u044b\u0435 \u0434\u0430\u043d\u043d\u044b\u0435 \u043d\u0430 \u0443\u0441\u0442\u0440\u043e\u0439\u0441\u0442\u0432\u043e\n",
        "    tokens = {key: val.to(device) for key, val in tokens.items()}\n",
        "\n",
        "    # \u043f\u0440\u0435\u0434\u0441\u043a\u0430\u0437\u0430\u043d\u0438\u0435\n",
        "    with torch.no_grad():\n",
        "        outputs = model(**tokens)  # \u041f\u0440\u044f\u043c\u043e\u0439 \u043f\u0440\u043e\u0445\u043e\u0434 \u0447\u0435\u0440\u0435\u0437 \u043c\u043e\u0434\u0435\u043b\u044c\n",
        "        logits = outputs[1] if isinstance(outputs, tuple) else outputs  #  logits\n",
        "        predictions = logits.argmax(dim=-1).squeeze().tolist()  # logits \u0432 \u043f\u0440\u0435\u0434\u0441\u043a\u0430\u0437\u0430\u043d\u0438\u044f\n",
        "\n",
        "    # \u0421\u043e\u043f\u043e\u0441\u0442\u0430\u0432\u043b\u044f\u044e \u043f\u0440\u0435\u0434\u0441\u043a\u0430\u0437\u0430\u043d\u0438\u044f \u0441 \u0438\u0441\u0445\u043e\u0434\u043d\u044b\u043c\u0438 \u0441\u043b\u043e\u0432\u0430\u043c\u0438\n",
        "    aligned_predictions = []\n",
        "    current_word_id = None\n",
        "\n",
        "    for word_id, prediction in zip(word_ids, predictions):\n",
        "        if word_id is not None and word_id != current_word_id:  # \u043d\u0430\u0447\u0430\u043b\u043e \u043d\u043e\u0432\u043e\u0433\u043e \u0441\u043b\u043e\u0432\u0430\n",
        "            aligned_predictions.append(id2label[prediction])  #  ID \u0432 \u043c\u0435\u0442\u043a\u0443\n",
        "            current_word_id = word_id\n",
        "\n",
        "    # \u0421\u043e\u0435\u0434\u0438\u043d\u044f\u044e \u0441\u043b\u043e\u0432\u0430 \u0438 \u0438\u0445 \u043f\u0440\u0435\u0434\u0441\u043a\u0430\u0437\u0430\u043d\u043d\u044b\u0435 \u043c\u0435\u0442\u043a\u0438\n",
        "    result = list(zip(sentence.split(), aligned_predictions))\n",
        "    return result"
      ]
    },
    {
      "cell_type": "code",
      "execution_count": 35,
      "metadata": {
        "colab": {
          "base_uri": "https://localhost:8080/"
        },
        "id": "nQZZXEtrzsO6",
        "outputId": "2c280da6-61b8-43a1-b73f-f56eb14c086f"
      },
      "outputs": [
        {
          "output_type": "stream",
          "name": "stdout",
          "text": [
            "==================================================\n",
            "\u0422\u0415\u0421\u0422\u0418\u0420\u041e\u0412\u0410\u041d\u0418\u0415 \u041c\u041e\u0414\u0415\u041b\u0418 NER\n",
            "==================================================\n",
            "\n",
            "\u041f\u0440\u0435\u0434\u043b\u043e\u0436\u0435\u043d\u0438\u0435: \u041e\u043a\u043e\u043d\u0447\u0438\u043b \u0432 1966 \u0433\u043e\u0434\u0443 \u0448\u043a\u043e\u043b\u0443 \u0432 \u0411\u0440\u043e\u043d\u043a\u0441\u0435.\n",
            "\u0420\u0435\u0437\u0443\u043b\u044c\u0442\u0430\u0442\u044b:\n",
            "\u041e\u043a\u043e\u043d\u0447\u0438\u043b: O\n",
            "\u0432: O\n",
            "1966: O\n",
            "\u0433\u043e\u0434\u0443: O\n",
            "\u0448\u043a\u043e\u043b\u0443: O\n",
            "\u0432: O\n",
            "\u0411\u0440\u043e\u043d\u043a\u0441\u0435.: B-LOC\n",
            "--------------------------------------------------\n",
            "\n",
            "\u041f\u0440\u0435\u0434\u043b\u043e\u0436\u0435\u043d\u0438\u0435: \u0421\u0435\u0440\u0433\u0435\u0439 \u0418\u0432\u0430\u043d\u043e\u0432 \u0440\u0430\u0431\u043e\u0442\u0430\u0435\u0442 \u0432 Google \u0432 \u041c\u043e\u0441\u043a\u0432\u0435.\n",
            "\u0420\u0435\u0437\u0443\u043b\u044c\u0442\u0430\u0442\u044b:\n",
            "\u0421\u0435\u0440\u0433\u0435\u0439: B-PER\n",
            "\u0418\u0432\u0430\u043d\u043e\u0432: I-PER\n",
            "\u0440\u0430\u0431\u043e\u0442\u0430\u0435\u0442: O\n",
            "\u0432: O\n",
            "Google: B-ORG\n",
            "\u0432: O\n",
            "\u041c\u043e\u0441\u043a\u0432\u0435.: B-LOC\n",
            "--------------------------------------------------\n",
            "\n",
            "\u041f\u0440\u0435\u0434\u043b\u043e\u0436\u0435\u043d\u0438\u0435: \u041f\u0440\u0435\u0437\u0438\u0434\u0435\u043d\u0442 \u0424\u0440\u0430\u043d\u0446\u0438\u0438 \u042d\u043c\u043c\u0430\u043d\u0443\u044d\u043b\u044c \u041c\u0430\u043a\u0440\u043e\u043d \u043f\u043e\u0441\u0435\u0442\u0438\u043b \u0411\u0435\u0440\u043b\u0438\u043d.\n",
            "\u0420\u0435\u0437\u0443\u043b\u044c\u0442\u0430\u0442\u044b:\n",
            "\u041f\u0440\u0435\u0437\u0438\u0434\u0435\u043d\u0442: O\n",
            "\u0424\u0440\u0430\u043d\u0446\u0438\u0438: B-LOC\n",
            "\u042d\u043c\u043c\u0430\u043d\u0443\u044d\u043b\u044c: B-PER\n",
            "\u041c\u0430\u043a\u0440\u043e\u043d: I-PER\n",
            "\u043f\u043e\u0441\u0435\u0442\u0438\u043b: O\n",
            "\u0411\u0435\u0440\u043b\u0438\u043d.: B-LOC\n",
            "--------------------------------------------------\n",
            "\n",
            "\u041f\u0440\u0435\u0434\u043b\u043e\u0436\u0435\u043d\u0438\u0435: \u0414\u043e\u043a\u0442\u043e\u0440 \u041f\u0435\u0442\u0440\u043e\u0432\u0430 \u0438\u0437 \u041c\u0413\u0423 \u043e\u043f\u0443\u0431\u043b\u0438\u043a\u043e\u0432\u0430\u043b\u0430 \u043d\u043e\u0432\u043e\u0435 \u0438\u0441\u0441\u043b\u0435\u0434\u043e\u0432\u0430\u043d\u0438\u0435.\n",
            "\u0420\u0435\u0437\u0443\u043b\u044c\u0442\u0430\u0442\u044b:\n",
            "\u0414\u043e\u043a\u0442\u043e\u0440: O\n",
            "\u041f\u0435\u0442\u0440\u043e\u0432\u0430: B-PER\n",
            "\u0438\u0437: O\n",
            "\u041c\u0413\u0423: B-LOC\n",
            "\u043e\u043f\u0443\u0431\u043b\u0438\u043a\u043e\u0432\u0430\u043b\u0430: O\n",
            "\u043d\u043e\u0432\u043e\u0435: O\n",
            "\u0438\u0441\u0441\u043b\u0435\u0434\u043e\u0432\u0430\u043d\u0438\u0435.: O\n",
            "--------------------------------------------------\n",
            "\n",
            "\u041f\u0440\u0435\u0434\u043b\u043e\u0436\u0435\u043d\u0438\u0435: \u0410\u043b\u0435\u043a\u0441\u0430\u043d\u0434\u0440 \u041f\u0443\u0448\u043a\u0438\u043d \u0440\u043e\u0434\u0438\u043b\u0441\u044f \u0432 \u041c\u043e\u0441\u043a\u0432\u0435 \u0432 1799 \u0433\u043e\u0434\u0443.\n",
            "\u0420\u0435\u0437\u0443\u043b\u044c\u0442\u0430\u0442\u044b:\n",
            "\u0410\u043b\u0435\u043a\u0441\u0430\u043d\u0434\u0440: B-PER\n",
            "\u041f\u0443\u0448\u043a\u0438\u043d: I-PER\n",
            "\u0440\u043e\u0434\u0438\u043b\u0441\u044f: O\n",
            "\u0432: O\n",
            "\u041c\u043e\u0441\u043a\u0432\u0435: B-LOC\n",
            "\u0432: O\n",
            "1799: O\n",
            "\u0433\u043e\u0434\u0443.: O\n",
            "--------------------------------------------------\n",
            "\n",
            "\u041f\u0440\u0435\u0434\u043b\u043e\u0436\u0435\u043d\u0438\u0435: \u041a\u043e\u043c\u043f\u0430\u043d\u0438\u044f \u042f\u043d\u0434\u0435\u043a\u0441 \u043e\u0442\u043a\u0440\u044b\u043b\u0430 \u043d\u043e\u0432\u044b\u0439 \u043e\u0444\u0438\u0441 \u0432 \u041a\u0430\u0437\u0430\u043d\u0438.\n",
            "\u0420\u0435\u0437\u0443\u043b\u044c\u0442\u0430\u0442\u044b:\n",
            "\u041a\u043e\u043c\u043f\u0430\u043d\u0438\u044f: O\n",
            "\u042f\u043d\u0434\u0435\u043a\u0441: B-ORG\n",
            "\u043e\u0442\u043a\u0440\u044b\u043b\u0430: O\n",
            "\u043d\u043e\u0432\u044b\u0439: O\n",
            "\u043e\u0444\u0438\u0441: O\n",
            "\u0432: O\n",
            "\u041a\u0430\u0437\u0430\u043d\u0438.: B-LOC\n",
            "--------------------------------------------------\n",
            "\n",
            "\u041f\u0440\u0435\u0434\u043b\u043e\u0436\u0435\u043d\u0438\u0435: \u041c\u044b \u043b\u0435\u0442\u0438\u043c \u0432 \u041d\u044c\u044e-\u0419\u043e\u0440\u043a \u0440\u0435\u0439\u0441\u043e\u043c \u0410\u044d\u0440\u043e\u0444\u043b\u043e\u0442\u0430 SU-100.\n",
            "\u0420\u0435\u0437\u0443\u043b\u044c\u0442\u0430\u0442\u044b:\n",
            "\u041c\u044b: O\n",
            "\u043b\u0435\u0442\u0438\u043c: O\n",
            "\u0432: O\n",
            "\u041d\u044c\u044e-\u0419\u043e\u0440\u043a: B-LOC\n",
            "\u0440\u0435\u0439\u0441\u043e\u043c: O\n",
            "\u0410\u044d\u0440\u043e\u0444\u043b\u043e\u0442\u0430: B-ORG\n",
            "SU-100.: B-ORG\n",
            "--------------------------------------------------\n",
            "\n",
            "\u041f\u0440\u0435\u0434\u043b\u043e\u0436\u0435\u043d\u0438\u0435: \u041f\u0440\u043e\u0444\u0435\u0441\u0441\u043e\u0440 \u0421\u043c\u0438\u0440\u043d\u043e\u0432 \u0438 \u0434\u043e\u0446\u0435\u043d\u0442 \u041a\u0443\u0437\u043d\u0435\u0446\u043e\u0432\u0430 \u0443\u0447\u0430\u0441\u0442\u0432\u043e\u0432\u0430\u043b\u0438 \u0432 \u043a\u043e\u043d\u0444\u0435\u0440\u0435\u043d\u0446\u0438\u0438 \u0432 \u0421\u0430\u043d\u043a\u0442-\u041f\u0435\u0442\u0435\u0440\u0431\u0443\u0440\u0433\u0435.\n",
            "\u0420\u0435\u0437\u0443\u043b\u044c\u0442\u0430\u0442\u044b:\n",
            "\u041f\u0440\u043e\u0444\u0435\u0441\u0441\u043e\u0440: O\n",
            "\u0421\u043c\u0438\u0440\u043d\u043e\u0432: B-PER\n",
            "\u0438: O\n",
            "\u0434\u043e\u0446\u0435\u043d\u0442: O\n",
            "\u041a\u0443\u0437\u043d\u0435\u0446\u043e\u0432\u0430: B-PER\n",
            "\u0443\u0447\u0430\u0441\u0442\u0432\u043e\u0432\u0430\u043b\u0438: O\n",
            "\u0432: O\n",
            "\u043a\u043e\u043d\u0444\u0435\u0440\u0435\u043d\u0446\u0438\u0438: O\n",
            "\u0432: O\n",
            "\u0421\u0430\u043d\u043a\u0442-\u041f\u0435\u0442\u0435\u0440\u0431\u0443\u0440\u0433\u0435.: B-LOC\n",
            "--------------------------------------------------\n",
            "\n",
            "\u041f\u0440\u0435\u0434\u043b\u043e\u0436\u0435\u043d\u0438\u0435: \u0422\u0443\u0440\u043d\u0438\u0440 \u043f\u043e \u0442\u0435\u043d\u043d\u0438\u0441\u0443 \u0420\u043e\u043b\u0430\u043d \u0413\u0430\u0440\u0440\u043e\u0441 \u043f\u0440\u043e\u0445\u043e\u0434\u0438\u0442 \u0432 \u041f\u0430\u0440\u0438\u0436\u0435.\n",
            "\u0420\u0435\u0437\u0443\u043b\u044c\u0442\u0430\u0442\u044b:\n",
            "\u0422\u0443\u0440\u043d\u0438\u0440: O\n",
            "\u043f\u043e: O\n",
            "\u0442\u0435\u043d\u043d\u0438\u0441\u0443: O\n",
            "\u0420\u043e\u043b\u0430\u043d: B-PER\n",
            "\u0413\u0430\u0440\u0440\u043e\u0441: I-PER\n",
            "\u043f\u0440\u043e\u0445\u043e\u0434\u0438\u0442: O\n",
            "\u0432: O\n",
            "\u041f\u0430\u0440\u0438\u0436\u0435.: B-LOC\n",
            "--------------------------------------------------\n",
            "\n",
            "\u041f\u0440\u0435\u0434\u043b\u043e\u0436\u0435\u043d\u0438\u0435: \u0414\u0438\u0440\u0435\u043a\u0442\u043e\u0440 Microsoft \u0421\u0430\u0442\u044c\u044f \u041d\u0430\u0434\u0435\u043b\u043b\u0430 \u0432\u044b\u0441\u0442\u0443\u043f\u0438\u043b \u043d\u0430 \u0444\u043e\u0440\u0443\u043c\u0435 \u0432 \u0421\u0438\u044d\u0442\u043b\u0435.\n",
            "\u0420\u0435\u0437\u0443\u043b\u044c\u0442\u0430\u0442\u044b:\n",
            "\u0414\u0438\u0440\u0435\u043a\u0442\u043e\u0440: O\n",
            "Microsoft: B-ORG\n",
            "\u0421\u0430\u0442\u044c\u044f: B-PER\n",
            "\u041d\u0430\u0434\u0435\u043b\u043b\u0430: I-PER\n",
            "\u0432\u044b\u0441\u0442\u0443\u043f\u0438\u043b: O\n",
            "\u043d\u0430: O\n",
            "\u0444\u043e\u0440\u0443\u043c\u0435: O\n",
            "\u0432: O\n",
            "\u0421\u0438\u044d\u0442\u043b\u0435.: B-LOC\n",
            "--------------------------------------------------\n",
            "\n",
            "\u041f\u0440\u0435\u0434\u043b\u043e\u0436\u0435\u043d\u0438\u0435: \u0412\u0447\u0435\u0440\u0430 \u0432\u0438\u0434\u0435\u043b \u0418\u043b\u043e\u043d \u041c\u0430\u0441\u043a\u0430 \u0432 \u043a\u0430\u0444\u0435 Starbucks \u043d\u0430 \u0422\u0432\u0435\u0440\u0441\u043a\u043e\u0439.\n",
            "\u0420\u0435\u0437\u0443\u043b\u044c\u0442\u0430\u0442\u044b:\n",
            "\u0412\u0447\u0435\u0440\u0430: O\n",
            "\u0432\u0438\u0434\u0435\u043b: O\n",
            "\u0418\u043b\u043e\u043d: B-PER\n",
            "\u041c\u0430\u0441\u043a\u0430: I-PER\n",
            "\u0432: O\n",
            "\u043a\u0430\u0444\u0435: O\n",
            "Starbucks: B-ORG\n",
            "\u043d\u0430: O\n",
            "\u0422\u0432\u0435\u0440\u0441\u043a\u043e\u0439.: B-LOC\n",
            "--------------------------------------------------\n",
            "\n",
            "\u041f\u0440\u0435\u0434\u043b\u043e\u0436\u0435\u043d\u0438\u0435: \u041a\u0430\u0440\u0442\u0438\u043d\u0443 \u0412\u0430\u043d \u0413\u043e\u0433\u0430 \u043a\u0443\u043f\u0438\u043b \u043c\u0443\u0437\u0435\u0439 \u042d\u0440\u043c\u0438\u0442\u0430\u0436 \u0437\u0430 10 \u043c\u0438\u043b\u043b\u0438\u043e\u043d\u043e\u0432 \u0434\u043e\u043b\u043b\u0430\u0440\u043e\u0432.\n",
            "\u0420\u0435\u0437\u0443\u043b\u044c\u0442\u0430\u0442\u044b:\n",
            "\u041a\u0430\u0440\u0442\u0438\u043d\u0443: O\n",
            "\u0412\u0430\u043d: B-PER\n",
            "\u0413\u043e\u0433\u0430: I-PER\n",
            "\u043a\u0443\u043f\u0438\u043b: O\n",
            "\u043c\u0443\u0437\u0435\u0439: O\n",
            "\u042d\u0440\u043c\u0438\u0442\u0430\u0436: B-LOC\n",
            "\u0437\u0430: O\n",
            "10: O\n",
            "\u043c\u0438\u043b\u043b\u0438\u043e\u043d\u043e\u0432: O\n",
            "\u0434\u043e\u043b\u043b\u0430\u0440\u043e\u0432.: O\n",
            "--------------------------------------------------\n"
          ]
        }
      ],
      "source": [
        "# \u041f\u0440\u043e\u0432\u0435\u0440\u043a\u0430 \u043d\u0430 \u0440\u0430\u0437\u043b\u0438\u0447\u043d\u044b\u0445 \u043f\u0440\u0438\u043c\u0435\u0440\u0430\u0445\n",
        "test_sentences = [\n",
        "    \"\u041e\u043a\u043e\u043d\u0447\u0438\u043b \u0432 1966 \u0433\u043e\u0434\u0443 \u0448\u043a\u043e\u043b\u0443 \u0432 \u0411\u0440\u043e\u043d\u043a\u0441\u0435.\",\n",
        "    \"\u0421\u0435\u0440\u0433\u0435\u0439 \u0418\u0432\u0430\u043d\u043e\u0432 \u0440\u0430\u0431\u043e\u0442\u0430\u0435\u0442 \u0432 Google \u0432 \u041c\u043e\u0441\u043a\u0432\u0435.\",\n",
        "    \"\u041f\u0440\u0435\u0437\u0438\u0434\u0435\u043d\u0442 \u0424\u0440\u0430\u043d\u0446\u0438\u0438 \u042d\u043c\u043c\u0430\u043d\u0443\u044d\u043b\u044c \u041c\u0430\u043a\u0440\u043e\u043d \u043f\u043e\u0441\u0435\u0442\u0438\u043b \u0411\u0435\u0440\u043b\u0438\u043d.\",\n",
        "    \"\u0414\u043e\u043a\u0442\u043e\u0440 \u041f\u0435\u0442\u0440\u043e\u0432\u0430 \u0438\u0437 \u041c\u0413\u0423 \u043e\u043f\u0443\u0431\u043b\u0438\u043a\u043e\u0432\u0430\u043b\u0430 \u043d\u043e\u0432\u043e\u0435 \u0438\u0441\u0441\u043b\u0435\u0434\u043e\u0432\u0430\u043d\u0438\u0435.\",\n",
        "    \"\u0410\u043b\u0435\u043a\u0441\u0430\u043d\u0434\u0440 \u041f\u0443\u0448\u043a\u0438\u043d \u0440\u043e\u0434\u0438\u043b\u0441\u044f \u0432 \u041c\u043e\u0441\u043a\u0432\u0435 \u0432 1799 \u0433\u043e\u0434\u0443.\",\n",
        "    \"\u041a\u043e\u043c\u043f\u0430\u043d\u0438\u044f \u042f\u043d\u0434\u0435\u043a\u0441 \u043e\u0442\u043a\u0440\u044b\u043b\u0430 \u043d\u043e\u0432\u044b\u0439 \u043e\u0444\u0438\u0441 \u0432 \u041a\u0430\u0437\u0430\u043d\u0438.\",\n",
        "    \"\u041c\u044b \u043b\u0435\u0442\u0438\u043c \u0432 \u041d\u044c\u044e-\u0419\u043e\u0440\u043a \u0440\u0435\u0439\u0441\u043e\u043c \u0410\u044d\u0440\u043e\u0444\u043b\u043e\u0442\u0430 SU-100.\",\n",
        "    \"\u041f\u0440\u043e\u0444\u0435\u0441\u0441\u043e\u0440 \u0421\u043c\u0438\u0440\u043d\u043e\u0432 \u0438 \u0434\u043e\u0446\u0435\u043d\u0442 \u041a\u0443\u0437\u043d\u0435\u0446\u043e\u0432\u0430 \u0443\u0447\u0430\u0441\u0442\u0432\u043e\u0432\u0430\u043b\u0438 \u0432 \u043a\u043e\u043d\u0444\u0435\u0440\u0435\u043d\u0446\u0438\u0438 \u0432 \u0421\u0430\u043d\u043a\u0442-\u041f\u0435\u0442\u0435\u0440\u0431\u0443\u0440\u0433\u0435.\",\n",
        "    \"\u0422\u0443\u0440\u043d\u0438\u0440 \u043f\u043e \u0442\u0435\u043d\u043d\u0438\u0441\u0443 \u0420\u043e\u043b\u0430\u043d \u0413\u0430\u0440\u0440\u043e\u0441 \u043f\u0440\u043e\u0445\u043e\u0434\u0438\u0442 \u0432 \u041f\u0430\u0440\u0438\u0436\u0435.\",\n",
        "    \"\u0414\u0438\u0440\u0435\u043a\u0442\u043e\u0440 Microsoft \u0421\u0430\u0442\u044c\u044f \u041d\u0430\u0434\u0435\u043b\u043b\u0430 \u0432\u044b\u0441\u0442\u0443\u043f\u0438\u043b \u043d\u0430 \u0444\u043e\u0440\u0443\u043c\u0435 \u0432 \u0421\u0438\u044d\u0442\u043b\u0435.\",\n",
        "    \"\u0412\u0447\u0435\u0440\u0430 \u0432\u0438\u0434\u0435\u043b \u0418\u043b\u043e\u043d \u041c\u0430\u0441\u043a\u0430 \u0432 \u043a\u0430\u0444\u0435 Starbucks \u043d\u0430 \u0422\u0432\u0435\u0440\u0441\u043a\u043e\u0439.\",\n",
        "    \"\u041a\u0430\u0440\u0442\u0438\u043d\u0443 \u0412\u0430\u043d \u0413\u043e\u0433\u0430 \u043a\u0443\u043f\u0438\u043b \u043c\u0443\u0437\u0435\u0439 \u042d\u0440\u043c\u0438\u0442\u0430\u0436 \u0437\u0430 10 \u043c\u0438\u043b\u043b\u0438\u043e\u043d\u043e\u0432 \u0434\u043e\u043b\u043b\u0430\u0440\u043e\u0432.\"\n",
        "]\n",
        "\n",
        "print(\"=\"*50)\n",
        "print(\"\u0422\u0415\u0421\u0422\u0418\u0420\u041e\u0412\u0410\u041d\u0418\u0415 \u041c\u041e\u0414\u0415\u041b\u0418 NER\")\n",
        "print(\"=\"*50)\n",
        "\n",
        "for sent in test_sentences:\n",
        "    print(\"\\n\u041f\u0440\u0435\u0434\u043b\u043e\u0436\u0435\u043d\u0438\u0435:\", sent)\n",
        "    predictions = predict(sent, tokenizer, model)\n",
        "    print(\"\u0420\u0435\u0437\u0443\u043b\u044c\u0442\u0430\u0442\u044b:\")\n",
        "    for word, label in predictions:\n",
        "        print(f\"{word}: {label}\")\n",
        "    print(\"-\"*50)"
      ]
    },
    {
      "cell_type": "code",
      "execution_count": 36,
      "metadata": {
        "colab": {
          "base_uri": "https://localhost:8080/"
        },
        "id": "OKV3oQKBzsO7",
        "outputId": "e101963b-aaab-4bc6-b609-df79ab34540b"
      },
      "outputs": [
        {
          "output_type": "stream",
          "name": "stdout",
          "text": [
            "======================================================================\n",
            "                       \u0422\u0415\u0421\u0422\u0418\u0420\u041e\u0412\u0410\u041d\u0418\u0415 \u041c\u041e\u0414\u0415\u041b\u0418 NER                        \n",
            "======================================================================\n",
            "\n",
            " \u041f\u0440\u0435\u0434\u043b\u043e\u0436\u0435\u043d\u0438\u0435: \u041e\u043a\u043e\u043d\u0447\u0438\u043b \u0432 1966 \u0433\u043e\u0434\u0443 \u0448\u043a\u043e\u043b\u0443 \u0432 \u0411\u0440\u043e\u043d\u043a\u0441\u0435.\n",
            "\u2552\u2550\u2550\u2550\u2550\u2550\u2550\u2550\u2550\u2550\u2550\u2564\u2550\u2550\u2550\u2550\u2550\u2550\u2550\u2550\u2550\u2550\u2550\u2550\u2550\u2550\u2550\u2550\u2564\u2550\u2550\u2550\u2550\u2550\u2550\u2550\u2550\u2550\u2555\n",
            "\u2502 \u0422\u043e\u043a\u0435\u043d    \u2502  \u0422\u0438\u043f \u0441\u0443\u0449\u043d\u043e\u0441\u0442\u0438  \u2502  \u041c\u0435\u0442\u043a\u0430  \u2502\n",
            "\u255e\u2550\u2550\u2550\u2550\u2550\u2550\u2550\u2550\u2550\u2550\u256a\u2550\u2550\u2550\u2550\u2550\u2550\u2550\u2550\u2550\u2550\u2550\u2550\u2550\u2550\u2550\u2550\u256a\u2550\u2550\u2550\u2550\u2550\u2550\u2550\u2550\u2550\u2561\n",
            "\u2502 \u041e\u043a\u043e\u043d\u0447\u0438\u043b  \u2502       O        \u2502    O    \u2502\n",
            "\u251c\u2500\u2500\u2500\u2500\u2500\u2500\u2500\u2500\u2500\u2500\u253c\u2500\u2500\u2500\u2500\u2500\u2500\u2500\u2500\u2500\u2500\u2500\u2500\u2500\u2500\u2500\u2500\u253c\u2500\u2500\u2500\u2500\u2500\u2500\u2500\u2500\u2500\u2524\n",
            "\u2502 \u0432        \u2502       O        \u2502    O    \u2502\n",
            "\u251c\u2500\u2500\u2500\u2500\u2500\u2500\u2500\u2500\u2500\u2500\u253c\u2500\u2500\u2500\u2500\u2500\u2500\u2500\u2500\u2500\u2500\u2500\u2500\u2500\u2500\u2500\u2500\u253c\u2500\u2500\u2500\u2500\u2500\u2500\u2500\u2500\u2500\u2524\n",
            "\u2502 1966     \u2502       O        \u2502    O    \u2502\n",
            "\u251c\u2500\u2500\u2500\u2500\u2500\u2500\u2500\u2500\u2500\u2500\u253c\u2500\u2500\u2500\u2500\u2500\u2500\u2500\u2500\u2500\u2500\u2500\u2500\u2500\u2500\u2500\u2500\u253c\u2500\u2500\u2500\u2500\u2500\u2500\u2500\u2500\u2500\u2524\n",
            "\u2502 \u0433\u043e\u0434\u0443     \u2502       O        \u2502    O    \u2502\n",
            "\u251c\u2500\u2500\u2500\u2500\u2500\u2500\u2500\u2500\u2500\u2500\u253c\u2500\u2500\u2500\u2500\u2500\u2500\u2500\u2500\u2500\u2500\u2500\u2500\u2500\u2500\u2500\u2500\u253c\u2500\u2500\u2500\u2500\u2500\u2500\u2500\u2500\u2500\u2524\n",
            "\u2502 \u0448\u043a\u043e\u043b\u0443    \u2502       O        \u2502    O    \u2502\n",
            "\u251c\u2500\u2500\u2500\u2500\u2500\u2500\u2500\u2500\u2500\u2500\u253c\u2500\u2500\u2500\u2500\u2500\u2500\u2500\u2500\u2500\u2500\u2500\u2500\u2500\u2500\u2500\u2500\u253c\u2500\u2500\u2500\u2500\u2500\u2500\u2500\u2500\u2500\u2524\n",
            "\u2502 \u0432        \u2502       O        \u2502    O    \u2502\n",
            "\u251c\u2500\u2500\u2500\u2500\u2500\u2500\u2500\u2500\u2500\u2500\u253c\u2500\u2500\u2500\u2500\u2500\u2500\u2500\u2500\u2500\u2500\u2500\u2500\u2500\u2500\u2500\u2500\u253c\u2500\u2500\u2500\u2500\u2500\u2500\u2500\u2500\u2500\u2524\n",
            "\u2502 \u0411\u0440\u043e\u043d\u043a\u0441\u0435. \u2502      LOC       \u2502  B-LOC  \u2502\n",
            "\u2558\u2550\u2550\u2550\u2550\u2550\u2550\u2550\u2550\u2550\u2550\u2567\u2550\u2550\u2550\u2550\u2550\u2550\u2550\u2550\u2550\u2550\u2550\u2550\u2550\u2550\u2550\u2550\u2567\u2550\u2550\u2550\u2550\u2550\u2550\u2550\u2550\u2550\u255b\n",
            "----------------------------------------------------------------------\n",
            "\n",
            " \u041f\u0440\u0435\u0434\u043b\u043e\u0436\u0435\u043d\u0438\u0435: \u0421\u0435\u0440\u0433\u0435\u0439 \u0418\u0432\u0430\u043d\u043e\u0432 \u0440\u0430\u0431\u043e\u0442\u0430\u0435\u0442 \u0432 Google \u0432 \u041c\u043e\u0441\u043a\u0432\u0435.\n",
            "\u2552\u2550\u2550\u2550\u2550\u2550\u2550\u2550\u2550\u2550\u2550\u2550\u2550\u2550\u2550\u2550\u2564\u2550\u2550\u2550\u2550\u2550\u2550\u2550\u2550\u2550\u2550\u2550\u2550\u2550\u2550\u2550\u2550\u2564\u2550\u2550\u2550\u2550\u2550\u2550\u2550\u2550\u2550\u2555\n",
            "\u2502 \u0422\u043e\u043a\u0435\u043d         \u2502  \u0422\u0438\u043f \u0441\u0443\u0449\u043d\u043e\u0441\u0442\u0438  \u2502  \u041c\u0435\u0442\u043a\u0430  \u2502\n",
            "\u255e\u2550\u2550\u2550\u2550\u2550\u2550\u2550\u2550\u2550\u2550\u2550\u2550\u2550\u2550\u2550\u256a\u2550\u2550\u2550\u2550\u2550\u2550\u2550\u2550\u2550\u2550\u2550\u2550\u2550\u2550\u2550\u2550\u256a\u2550\u2550\u2550\u2550\u2550\u2550\u2550\u2550\u2550\u2561\n",
            "\u2502 \u0421\u0435\u0440\u0433\u0435\u0439 \u0418\u0432\u0430\u043d\u043e\u0432 \u2502      PER       \u2502  B-PER  \u2502\n",
            "\u251c\u2500\u2500\u2500\u2500\u2500\u2500\u2500\u2500\u2500\u2500\u2500\u2500\u2500\u2500\u2500\u253c\u2500\u2500\u2500\u2500\u2500\u2500\u2500\u2500\u2500\u2500\u2500\u2500\u2500\u2500\u2500\u2500\u253c\u2500\u2500\u2500\u2500\u2500\u2500\u2500\u2500\u2500\u2524\n",
            "\u2502 \u0440\u0430\u0431\u043e\u0442\u0430\u0435\u0442      \u2502       O        \u2502    O    \u2502\n",
            "\u251c\u2500\u2500\u2500\u2500\u2500\u2500\u2500\u2500\u2500\u2500\u2500\u2500\u2500\u2500\u2500\u253c\u2500\u2500\u2500\u2500\u2500\u2500\u2500\u2500\u2500\u2500\u2500\u2500\u2500\u2500\u2500\u2500\u253c\u2500\u2500\u2500\u2500\u2500\u2500\u2500\u2500\u2500\u2524\n",
            "\u2502 \u0432             \u2502       O        \u2502    O    \u2502\n",
            "\u251c\u2500\u2500\u2500\u2500\u2500\u2500\u2500\u2500\u2500\u2500\u2500\u2500\u2500\u2500\u2500\u253c\u2500\u2500\u2500\u2500\u2500\u2500\u2500\u2500\u2500\u2500\u2500\u2500\u2500\u2500\u2500\u2500\u253c\u2500\u2500\u2500\u2500\u2500\u2500\u2500\u2500\u2500\u2524\n",
            "\u2502 Google        \u2502      ORG       \u2502  B-ORG  \u2502\n",
            "\u251c\u2500\u2500\u2500\u2500\u2500\u2500\u2500\u2500\u2500\u2500\u2500\u2500\u2500\u2500\u2500\u253c\u2500\u2500\u2500\u2500\u2500\u2500\u2500\u2500\u2500\u2500\u2500\u2500\u2500\u2500\u2500\u2500\u253c\u2500\u2500\u2500\u2500\u2500\u2500\u2500\u2500\u2500\u2524\n",
            "\u2502 \u0432             \u2502       O        \u2502    O    \u2502\n",
            "\u251c\u2500\u2500\u2500\u2500\u2500\u2500\u2500\u2500\u2500\u2500\u2500\u2500\u2500\u2500\u2500\u253c\u2500\u2500\u2500\u2500\u2500\u2500\u2500\u2500\u2500\u2500\u2500\u2500\u2500\u2500\u2500\u2500\u253c\u2500\u2500\u2500\u2500\u2500\u2500\u2500\u2500\u2500\u2524\n",
            "\u2502 \u041c\u043e\u0441\u043a\u0432\u0435.       \u2502      LOC       \u2502  B-LOC  \u2502\n",
            "\u2558\u2550\u2550\u2550\u2550\u2550\u2550\u2550\u2550\u2550\u2550\u2550\u2550\u2550\u2550\u2550\u2567\u2550\u2550\u2550\u2550\u2550\u2550\u2550\u2550\u2550\u2550\u2550\u2550\u2550\u2550\u2550\u2550\u2567\u2550\u2550\u2550\u2550\u2550\u2550\u2550\u2550\u2550\u255b\n",
            "----------------------------------------------------------------------\n",
            "\n",
            " \u041f\u0440\u0435\u0434\u043b\u043e\u0436\u0435\u043d\u0438\u0435: \u041f\u0440\u0435\u0437\u0438\u0434\u0435\u043d\u0442 \u0424\u0440\u0430\u043d\u0446\u0438\u0438 \u042d\u043c\u043c\u0430\u043d\u0443\u044d\u043b\u044c \u041c\u0430\u043a\u0440\u043e\u043d \u043f\u043e\u0441\u0435\u0442\u0438\u043b \u0411\u0435\u0440\u043b\u0438\u043d.\n",
            "\u2552\u2550\u2550\u2550\u2550\u2550\u2550\u2550\u2550\u2550\u2550\u2550\u2550\u2550\u2550\u2550\u2550\u2550\u2550\u2564\u2550\u2550\u2550\u2550\u2550\u2550\u2550\u2550\u2550\u2550\u2550\u2550\u2550\u2550\u2550\u2550\u2564\u2550\u2550\u2550\u2550\u2550\u2550\u2550\u2550\u2550\u2555\n",
            "\u2502 \u0422\u043e\u043a\u0435\u043d            \u2502  \u0422\u0438\u043f \u0441\u0443\u0449\u043d\u043e\u0441\u0442\u0438  \u2502  \u041c\u0435\u0442\u043a\u0430  \u2502\n",
            "\u255e\u2550\u2550\u2550\u2550\u2550\u2550\u2550\u2550\u2550\u2550\u2550\u2550\u2550\u2550\u2550\u2550\u2550\u2550\u256a\u2550\u2550\u2550\u2550\u2550\u2550\u2550\u2550\u2550\u2550\u2550\u2550\u2550\u2550\u2550\u2550\u256a\u2550\u2550\u2550\u2550\u2550\u2550\u2550\u2550\u2550\u2561\n",
            "\u2502 \u041f\u0440\u0435\u0437\u0438\u0434\u0435\u043d\u0442        \u2502       O        \u2502    O    \u2502\n",
            "\u251c\u2500\u2500\u2500\u2500\u2500\u2500\u2500\u2500\u2500\u2500\u2500\u2500\u2500\u2500\u2500\u2500\u2500\u2500\u253c\u2500\u2500\u2500\u2500\u2500\u2500\u2500\u2500\u2500\u2500\u2500\u2500\u2500\u2500\u2500\u2500\u253c\u2500\u2500\u2500\u2500\u2500\u2500\u2500\u2500\u2500\u2524\n",
            "\u2502 \u0424\u0440\u0430\u043d\u0446\u0438\u0438          \u2502      LOC       \u2502  B-LOC  \u2502\n",
            "\u251c\u2500\u2500\u2500\u2500\u2500\u2500\u2500\u2500\u2500\u2500\u2500\u2500\u2500\u2500\u2500\u2500\u2500\u2500\u253c\u2500\u2500\u2500\u2500\u2500\u2500\u2500\u2500\u2500\u2500\u2500\u2500\u2500\u2500\u2500\u2500\u253c\u2500\u2500\u2500\u2500\u2500\u2500\u2500\u2500\u2500\u2524\n",
            "\u2502 \u042d\u043c\u043c\u0430\u043d\u0443\u044d\u043b\u044c \u041c\u0430\u043a\u0440\u043e\u043d \u2502      PER       \u2502  B-PER  \u2502\n",
            "\u251c\u2500\u2500\u2500\u2500\u2500\u2500\u2500\u2500\u2500\u2500\u2500\u2500\u2500\u2500\u2500\u2500\u2500\u2500\u253c\u2500\u2500\u2500\u2500\u2500\u2500\u2500\u2500\u2500\u2500\u2500\u2500\u2500\u2500\u2500\u2500\u253c\u2500\u2500\u2500\u2500\u2500\u2500\u2500\u2500\u2500\u2524\n",
            "\u2502 \u043f\u043e\u0441\u0435\u0442\u0438\u043b          \u2502       O        \u2502    O    \u2502\n",
            "\u251c\u2500\u2500\u2500\u2500\u2500\u2500\u2500\u2500\u2500\u2500\u2500\u2500\u2500\u2500\u2500\u2500\u2500\u2500\u253c\u2500\u2500\u2500\u2500\u2500\u2500\u2500\u2500\u2500\u2500\u2500\u2500\u2500\u2500\u2500\u2500\u253c\u2500\u2500\u2500\u2500\u2500\u2500\u2500\u2500\u2500\u2524\n",
            "\u2502 \u0411\u0435\u0440\u043b\u0438\u043d.          \u2502      LOC       \u2502  B-LOC  \u2502\n",
            "\u2558\u2550\u2550\u2550\u2550\u2550\u2550\u2550\u2550\u2550\u2550\u2550\u2550\u2550\u2550\u2550\u2550\u2550\u2550\u2567\u2550\u2550\u2550\u2550\u2550\u2550\u2550\u2550\u2550\u2550\u2550\u2550\u2550\u2550\u2550\u2550\u2567\u2550\u2550\u2550\u2550\u2550\u2550\u2550\u2550\u2550\u255b\n",
            "----------------------------------------------------------------------\n",
            "\n",
            " \u041f\u0440\u0435\u0434\u043b\u043e\u0436\u0435\u043d\u0438\u0435: \u0414\u043e\u043a\u0442\u043e\u0440 \u041f\u0435\u0442\u0440\u043e\u0432\u0430 \u0438\u0437 \u041c\u0413\u0423 \u043e\u043f\u0443\u0431\u043b\u0438\u043a\u043e\u0432\u0430\u043b\u0430 \u043d\u043e\u0432\u043e\u0435 \u0438\u0441\u0441\u043b\u0435\u0434\u043e\u0432\u0430\u043d\u0438\u0435.\n",
            "\u2552\u2550\u2550\u2550\u2550\u2550\u2550\u2550\u2550\u2550\u2550\u2550\u2550\u2550\u2550\u2550\u2564\u2550\u2550\u2550\u2550\u2550\u2550\u2550\u2550\u2550\u2550\u2550\u2550\u2550\u2550\u2550\u2550\u2564\u2550\u2550\u2550\u2550\u2550\u2550\u2550\u2550\u2550\u2555\n",
            "\u2502 \u0422\u043e\u043a\u0435\u043d         \u2502  \u0422\u0438\u043f \u0441\u0443\u0449\u043d\u043e\u0441\u0442\u0438  \u2502  \u041c\u0435\u0442\u043a\u0430  \u2502\n",
            "\u255e\u2550\u2550\u2550\u2550\u2550\u2550\u2550\u2550\u2550\u2550\u2550\u2550\u2550\u2550\u2550\u256a\u2550\u2550\u2550\u2550\u2550\u2550\u2550\u2550\u2550\u2550\u2550\u2550\u2550\u2550\u2550\u2550\u256a\u2550\u2550\u2550\u2550\u2550\u2550\u2550\u2550\u2550\u2561\n",
            "\u2502 \u0414\u043e\u043a\u0442\u043e\u0440        \u2502       O        \u2502    O    \u2502\n",
            "\u251c\u2500\u2500\u2500\u2500\u2500\u2500\u2500\u2500\u2500\u2500\u2500\u2500\u2500\u2500\u2500\u253c\u2500\u2500\u2500\u2500\u2500\u2500\u2500\u2500\u2500\u2500\u2500\u2500\u2500\u2500\u2500\u2500\u253c\u2500\u2500\u2500\u2500\u2500\u2500\u2500\u2500\u2500\u2524\n",
            "\u2502 \u041f\u0435\u0442\u0440\u043e\u0432\u0430       \u2502      PER       \u2502  B-PER  \u2502\n",
            "\u251c\u2500\u2500\u2500\u2500\u2500\u2500\u2500\u2500\u2500\u2500\u2500\u2500\u2500\u2500\u2500\u253c\u2500\u2500\u2500\u2500\u2500\u2500\u2500\u2500\u2500\u2500\u2500\u2500\u2500\u2500\u2500\u2500\u253c\u2500\u2500\u2500\u2500\u2500\u2500\u2500\u2500\u2500\u2524\n",
            "\u2502 \u0438\u0437            \u2502       O        \u2502    O    \u2502\n",
            "\u251c\u2500\u2500\u2500\u2500\u2500\u2500\u2500\u2500\u2500\u2500\u2500\u2500\u2500\u2500\u2500\u253c\u2500\u2500\u2500\u2500\u2500\u2500\u2500\u2500\u2500\u2500\u2500\u2500\u2500\u2500\u2500\u2500\u253c\u2500\u2500\u2500\u2500\u2500\u2500\u2500\u2500\u2500\u2524\n",
            "\u2502 \u041c\u0413\u0423           \u2502      LOC       \u2502  B-LOC  \u2502\n",
            "\u251c\u2500\u2500\u2500\u2500\u2500\u2500\u2500\u2500\u2500\u2500\u2500\u2500\u2500\u2500\u2500\u253c\u2500\u2500\u2500\u2500\u2500\u2500\u2500\u2500\u2500\u2500\u2500\u2500\u2500\u2500\u2500\u2500\u253c\u2500\u2500\u2500\u2500\u2500\u2500\u2500\u2500\u2500\u2524\n",
            "\u2502 \u043e\u043f\u0443\u0431\u043b\u0438\u043a\u043e\u0432\u0430\u043b\u0430  \u2502       O        \u2502    O    \u2502\n",
            "\u251c\u2500\u2500\u2500\u2500\u2500\u2500\u2500\u2500\u2500\u2500\u2500\u2500\u2500\u2500\u2500\u253c\u2500\u2500\u2500\u2500\u2500\u2500\u2500\u2500\u2500\u2500\u2500\u2500\u2500\u2500\u2500\u2500\u253c\u2500\u2500\u2500\u2500\u2500\u2500\u2500\u2500\u2500\u2524\n",
            "\u2502 \u043d\u043e\u0432\u043e\u0435         \u2502       O        \u2502    O    \u2502\n",
            "\u251c\u2500\u2500\u2500\u2500\u2500\u2500\u2500\u2500\u2500\u2500\u2500\u2500\u2500\u2500\u2500\u253c\u2500\u2500\u2500\u2500\u2500\u2500\u2500\u2500\u2500\u2500\u2500\u2500\u2500\u2500\u2500\u2500\u253c\u2500\u2500\u2500\u2500\u2500\u2500\u2500\u2500\u2500\u2524\n",
            "\u2502 \u0438\u0441\u0441\u043b\u0435\u0434\u043e\u0432\u0430\u043d\u0438\u0435. \u2502       O        \u2502    O    \u2502\n",
            "\u2558\u2550\u2550\u2550\u2550\u2550\u2550\u2550\u2550\u2550\u2550\u2550\u2550\u2550\u2550\u2550\u2567\u2550\u2550\u2550\u2550\u2550\u2550\u2550\u2550\u2550\u2550\u2550\u2550\u2550\u2550\u2550\u2550\u2567\u2550\u2550\u2550\u2550\u2550\u2550\u2550\u2550\u2550\u255b\n",
            "----------------------------------------------------------------------\n",
            "\n",
            " \u041f\u0440\u0435\u0434\u043b\u043e\u0436\u0435\u043d\u0438\u0435: \u0410\u043b\u0435\u043a\u0441\u0430\u043d\u0434\u0440 \u041f\u0443\u0448\u043a\u0438\u043d \u0440\u043e\u0434\u0438\u043b\u0441\u044f \u0432 \u041c\u043e\u0441\u043a\u0432\u0435 \u0432 1799 \u0433\u043e\u0434\u0443.\n",
            "\u2552\u2550\u2550\u2550\u2550\u2550\u2550\u2550\u2550\u2550\u2550\u2550\u2550\u2550\u2550\u2550\u2550\u2550\u2550\u2564\u2550\u2550\u2550\u2550\u2550\u2550\u2550\u2550\u2550\u2550\u2550\u2550\u2550\u2550\u2550\u2550\u2564\u2550\u2550\u2550\u2550\u2550\u2550\u2550\u2550\u2550\u2555\n",
            "\u2502 \u0422\u043e\u043a\u0435\u043d            \u2502  \u0422\u0438\u043f \u0441\u0443\u0449\u043d\u043e\u0441\u0442\u0438  \u2502  \u041c\u0435\u0442\u043a\u0430  \u2502\n",
            "\u255e\u2550\u2550\u2550\u2550\u2550\u2550\u2550\u2550\u2550\u2550\u2550\u2550\u2550\u2550\u2550\u2550\u2550\u2550\u256a\u2550\u2550\u2550\u2550\u2550\u2550\u2550\u2550\u2550\u2550\u2550\u2550\u2550\u2550\u2550\u2550\u256a\u2550\u2550\u2550\u2550\u2550\u2550\u2550\u2550\u2550\u2561\n",
            "\u2502 \u0410\u043b\u0435\u043a\u0441\u0430\u043d\u0434\u0440 \u041f\u0443\u0448\u043a\u0438\u043d \u2502      PER       \u2502  B-PER  \u2502\n",
            "\u251c\u2500\u2500\u2500\u2500\u2500\u2500\u2500\u2500\u2500\u2500\u2500\u2500\u2500\u2500\u2500\u2500\u2500\u2500\u253c\u2500\u2500\u2500\u2500\u2500\u2500\u2500\u2500\u2500\u2500\u2500\u2500\u2500\u2500\u2500\u2500\u253c\u2500\u2500\u2500\u2500\u2500\u2500\u2500\u2500\u2500\u2524\n",
            "\u2502 \u0440\u043e\u0434\u0438\u043b\u0441\u044f          \u2502       O        \u2502    O    \u2502\n",
            "\u251c\u2500\u2500\u2500\u2500\u2500\u2500\u2500\u2500\u2500\u2500\u2500\u2500\u2500\u2500\u2500\u2500\u2500\u2500\u253c\u2500\u2500\u2500\u2500\u2500\u2500\u2500\u2500\u2500\u2500\u2500\u2500\u2500\u2500\u2500\u2500\u253c\u2500\u2500\u2500\u2500\u2500\u2500\u2500\u2500\u2500\u2524\n",
            "\u2502 \u0432                \u2502       O        \u2502    O    \u2502\n",
            "\u251c\u2500\u2500\u2500\u2500\u2500\u2500\u2500\u2500\u2500\u2500\u2500\u2500\u2500\u2500\u2500\u2500\u2500\u2500\u253c\u2500\u2500\u2500\u2500\u2500\u2500\u2500\u2500\u2500\u2500\u2500\u2500\u2500\u2500\u2500\u2500\u253c\u2500\u2500\u2500\u2500\u2500\u2500\u2500\u2500\u2500\u2524\n",
            "\u2502 \u041c\u043e\u0441\u043a\u0432\u0435           \u2502      LOC       \u2502  B-LOC  \u2502\n",
            "\u251c\u2500\u2500\u2500\u2500\u2500\u2500\u2500\u2500\u2500\u2500\u2500\u2500\u2500\u2500\u2500\u2500\u2500\u2500\u253c\u2500\u2500\u2500\u2500\u2500\u2500\u2500\u2500\u2500\u2500\u2500\u2500\u2500\u2500\u2500\u2500\u253c\u2500\u2500\u2500\u2500\u2500\u2500\u2500\u2500\u2500\u2524\n",
            "\u2502 \u0432                \u2502       O        \u2502    O    \u2502\n",
            "\u251c\u2500\u2500\u2500\u2500\u2500\u2500\u2500\u2500\u2500\u2500\u2500\u2500\u2500\u2500\u2500\u2500\u2500\u2500\u253c\u2500\u2500\u2500\u2500\u2500\u2500\u2500\u2500\u2500\u2500\u2500\u2500\u2500\u2500\u2500\u2500\u253c\u2500\u2500\u2500\u2500\u2500\u2500\u2500\u2500\u2500\u2524\n",
            "\u2502 1799             \u2502       O        \u2502    O    \u2502\n",
            "\u251c\u2500\u2500\u2500\u2500\u2500\u2500\u2500\u2500\u2500\u2500\u2500\u2500\u2500\u2500\u2500\u2500\u2500\u2500\u253c\u2500\u2500\u2500\u2500\u2500\u2500\u2500\u2500\u2500\u2500\u2500\u2500\u2500\u2500\u2500\u2500\u253c\u2500\u2500\u2500\u2500\u2500\u2500\u2500\u2500\u2500\u2524\n",
            "\u2502 \u0433\u043e\u0434\u0443.            \u2502       O        \u2502    O    \u2502\n",
            "\u2558\u2550\u2550\u2550\u2550\u2550\u2550\u2550\u2550\u2550\u2550\u2550\u2550\u2550\u2550\u2550\u2550\u2550\u2550\u2567\u2550\u2550\u2550\u2550\u2550\u2550\u2550\u2550\u2550\u2550\u2550\u2550\u2550\u2550\u2550\u2550\u2567\u2550\u2550\u2550\u2550\u2550\u2550\u2550\u2550\u2550\u255b\n",
            "----------------------------------------------------------------------\n",
            "\n",
            " \u041f\u0440\u0435\u0434\u043b\u043e\u0436\u0435\u043d\u0438\u0435: \u041a\u043e\u043c\u043f\u0430\u043d\u0438\u044f \u042f\u043d\u0434\u0435\u043a\u0441 \u043e\u0442\u043a\u0440\u044b\u043b\u0430 \u043d\u043e\u0432\u044b\u0439 \u043e\u0444\u0438\u0441 \u0432 \u041a\u0430\u0437\u0430\u043d\u0438.\n",
            "\u2552\u2550\u2550\u2550\u2550\u2550\u2550\u2550\u2550\u2550\u2550\u2564\u2550\u2550\u2550\u2550\u2550\u2550\u2550\u2550\u2550\u2550\u2550\u2550\u2550\u2550\u2550\u2550\u2564\u2550\u2550\u2550\u2550\u2550\u2550\u2550\u2550\u2550\u2555\n",
            "\u2502 \u0422\u043e\u043a\u0435\u043d    \u2502  \u0422\u0438\u043f \u0441\u0443\u0449\u043d\u043e\u0441\u0442\u0438  \u2502  \u041c\u0435\u0442\u043a\u0430  \u2502\n",
            "\u255e\u2550\u2550\u2550\u2550\u2550\u2550\u2550\u2550\u2550\u2550\u256a\u2550\u2550\u2550\u2550\u2550\u2550\u2550\u2550\u2550\u2550\u2550\u2550\u2550\u2550\u2550\u2550\u256a\u2550\u2550\u2550\u2550\u2550\u2550\u2550\u2550\u2550\u2561\n",
            "\u2502 \u041a\u043e\u043c\u043f\u0430\u043d\u0438\u044f \u2502       O        \u2502    O    \u2502\n",
            "\u251c\u2500\u2500\u2500\u2500\u2500\u2500\u2500\u2500\u2500\u2500\u253c\u2500\u2500\u2500\u2500\u2500\u2500\u2500\u2500\u2500\u2500\u2500\u2500\u2500\u2500\u2500\u2500\u253c\u2500\u2500\u2500\u2500\u2500\u2500\u2500\u2500\u2500\u2524\n",
            "\u2502 \u042f\u043d\u0434\u0435\u043a\u0441   \u2502      ORG       \u2502  B-ORG  \u2502\n",
            "\u251c\u2500\u2500\u2500\u2500\u2500\u2500\u2500\u2500\u2500\u2500\u253c\u2500\u2500\u2500\u2500\u2500\u2500\u2500\u2500\u2500\u2500\u2500\u2500\u2500\u2500\u2500\u2500\u253c\u2500\u2500\u2500\u2500\u2500\u2500\u2500\u2500\u2500\u2524\n",
            "\u2502 \u043e\u0442\u043a\u0440\u044b\u043b\u0430  \u2502       O        \u2502    O    \u2502\n",
            "\u251c\u2500\u2500\u2500\u2500\u2500\u2500\u2500\u2500\u2500\u2500\u253c\u2500\u2500\u2500\u2500\u2500\u2500\u2500\u2500\u2500\u2500\u2500\u2500\u2500\u2500\u2500\u2500\u253c\u2500\u2500\u2500\u2500\u2500\u2500\u2500\u2500\u2500\u2524\n",
            "\u2502 \u043d\u043e\u0432\u044b\u0439    \u2502       O        \u2502    O    \u2502\n",
            "\u251c\u2500\u2500\u2500\u2500\u2500\u2500\u2500\u2500\u2500\u2500\u253c\u2500\u2500\u2500\u2500\u2500\u2500\u2500\u2500\u2500\u2500\u2500\u2500\u2500\u2500\u2500\u2500\u253c\u2500\u2500\u2500\u2500\u2500\u2500\u2500\u2500\u2500\u2524\n",
            "\u2502 \u043e\u0444\u0438\u0441     \u2502       O        \u2502    O    \u2502\n",
            "\u251c\u2500\u2500\u2500\u2500\u2500\u2500\u2500\u2500\u2500\u2500\u253c\u2500\u2500\u2500\u2500\u2500\u2500\u2500\u2500\u2500\u2500\u2500\u2500\u2500\u2500\u2500\u2500\u253c\u2500\u2500\u2500\u2500\u2500\u2500\u2500\u2500\u2500\u2524\n",
            "\u2502 \u0432        \u2502       O        \u2502    O    \u2502\n",
            "\u251c\u2500\u2500\u2500\u2500\u2500\u2500\u2500\u2500\u2500\u2500\u253c\u2500\u2500\u2500\u2500\u2500\u2500\u2500\u2500\u2500\u2500\u2500\u2500\u2500\u2500\u2500\u2500\u253c\u2500\u2500\u2500\u2500\u2500\u2500\u2500\u2500\u2500\u2524\n",
            "\u2502 \u041a\u0430\u0437\u0430\u043d\u0438.  \u2502      LOC       \u2502  B-LOC  \u2502\n",
            "\u2558\u2550\u2550\u2550\u2550\u2550\u2550\u2550\u2550\u2550\u2550\u2567\u2550\u2550\u2550\u2550\u2550\u2550\u2550\u2550\u2550\u2550\u2550\u2550\u2550\u2550\u2550\u2550\u2567\u2550\u2550\u2550\u2550\u2550\u2550\u2550\u2550\u2550\u255b\n",
            "----------------------------------------------------------------------\n",
            "\n",
            " \u041f\u0440\u0435\u0434\u043b\u043e\u0436\u0435\u043d\u0438\u0435: \u041c\u044b \u043b\u0435\u0442\u0438\u043c \u0432 \u041d\u044c\u044e-\u0419\u043e\u0440\u043a \u0440\u0435\u0439\u0441\u043e\u043c \u0410\u044d\u0440\u043e\u0444\u043b\u043e\u0442\u0430 SU-100.\n",
            "\u2552\u2550\u2550\u2550\u2550\u2550\u2550\u2550\u2550\u2550\u2550\u2550\u2564\u2550\u2550\u2550\u2550\u2550\u2550\u2550\u2550\u2550\u2550\u2550\u2550\u2550\u2550\u2550\u2550\u2564\u2550\u2550\u2550\u2550\u2550\u2550\u2550\u2550\u2550\u2555\n",
            "\u2502 \u0422\u043e\u043a\u0435\u043d     \u2502  \u0422\u0438\u043f \u0441\u0443\u0449\u043d\u043e\u0441\u0442\u0438  \u2502  \u041c\u0435\u0442\u043a\u0430  \u2502\n",
            "\u255e\u2550\u2550\u2550\u2550\u2550\u2550\u2550\u2550\u2550\u2550\u2550\u256a\u2550\u2550\u2550\u2550\u2550\u2550\u2550\u2550\u2550\u2550\u2550\u2550\u2550\u2550\u2550\u2550\u256a\u2550\u2550\u2550\u2550\u2550\u2550\u2550\u2550\u2550\u2561\n",
            "\u2502 \u041c\u044b        \u2502       O        \u2502    O    \u2502\n",
            "\u251c\u2500\u2500\u2500\u2500\u2500\u2500\u2500\u2500\u2500\u2500\u2500\u253c\u2500\u2500\u2500\u2500\u2500\u2500\u2500\u2500\u2500\u2500\u2500\u2500\u2500\u2500\u2500\u2500\u253c\u2500\u2500\u2500\u2500\u2500\u2500\u2500\u2500\u2500\u2524\n",
            "\u2502 \u043b\u0435\u0442\u0438\u043c     \u2502       O        \u2502    O    \u2502\n",
            "\u251c\u2500\u2500\u2500\u2500\u2500\u2500\u2500\u2500\u2500\u2500\u2500\u253c\u2500\u2500\u2500\u2500\u2500\u2500\u2500\u2500\u2500\u2500\u2500\u2500\u2500\u2500\u2500\u2500\u253c\u2500\u2500\u2500\u2500\u2500\u2500\u2500\u2500\u2500\u2524\n",
            "\u2502 \u0432         \u2502       O        \u2502    O    \u2502\n",
            "\u251c\u2500\u2500\u2500\u2500\u2500\u2500\u2500\u2500\u2500\u2500\u2500\u253c\u2500\u2500\u2500\u2500\u2500\u2500\u2500\u2500\u2500\u2500\u2500\u2500\u2500\u2500\u2500\u2500\u253c\u2500\u2500\u2500\u2500\u2500\u2500\u2500\u2500\u2500\u2524\n",
            "\u2502 \u041d\u044c\u044e-\u0419\u043e\u0440\u043a  \u2502      LOC       \u2502  B-LOC  \u2502\n",
            "\u251c\u2500\u2500\u2500\u2500\u2500\u2500\u2500\u2500\u2500\u2500\u2500\u253c\u2500\u2500\u2500\u2500\u2500\u2500\u2500\u2500\u2500\u2500\u2500\u2500\u2500\u2500\u2500\u2500\u253c\u2500\u2500\u2500\u2500\u2500\u2500\u2500\u2500\u2500\u2524\n",
            "\u2502 \u0440\u0435\u0439\u0441\u043e\u043c    \u2502       O        \u2502    O    \u2502\n",
            "\u251c\u2500\u2500\u2500\u2500\u2500\u2500\u2500\u2500\u2500\u2500\u2500\u253c\u2500\u2500\u2500\u2500\u2500\u2500\u2500\u2500\u2500\u2500\u2500\u2500\u2500\u2500\u2500\u2500\u253c\u2500\u2500\u2500\u2500\u2500\u2500\u2500\u2500\u2500\u2524\n",
            "\u2502 \u0410\u044d\u0440\u043e\u0444\u043b\u043e\u0442\u0430 \u2502      ORG       \u2502  B-ORG  \u2502\n",
            "\u251c\u2500\u2500\u2500\u2500\u2500\u2500\u2500\u2500\u2500\u2500\u2500\u253c\u2500\u2500\u2500\u2500\u2500\u2500\u2500\u2500\u2500\u2500\u2500\u2500\u2500\u2500\u2500\u2500\u253c\u2500\u2500\u2500\u2500\u2500\u2500\u2500\u2500\u2500\u2524\n",
            "\u2502 SU-100.   \u2502      ORG       \u2502  B-ORG  \u2502\n",
            "\u2558\u2550\u2550\u2550\u2550\u2550\u2550\u2550\u2550\u2550\u2550\u2550\u2567\u2550\u2550\u2550\u2550\u2550\u2550\u2550\u2550\u2550\u2550\u2550\u2550\u2550\u2550\u2550\u2550\u2567\u2550\u2550\u2550\u2550\u2550\u2550\u2550\u2550\u2550\u255b\n",
            "----------------------------------------------------------------------\n",
            "\n",
            " \u041f\u0440\u0435\u0434\u043b\u043e\u0436\u0435\u043d\u0438\u0435: \u041f\u0440\u043e\u0444\u0435\u0441\u0441\u043e\u0440 \u0421\u043c\u0438\u0440\u043d\u043e\u0432 \u0438 \u0434\u043e\u0446\u0435\u043d\u0442 \u041a\u0443\u0437\u043d\u0435\u0446\u043e\u0432\u0430 \u0443\u0447\u0430\u0441\u0442\u0432\u043e\u0432\u0430\u043b\u0438 \u0432 \u043a\u043e\u043d\u0444\u0435\u0440\u0435\u043d\u0446\u0438\u0438 \u0432 \u0421\u0430\u043d\u043a\u0442-\u041f\u0435\u0442\u0435\u0440\u0431\u0443\u0440\u0433\u0435.\n",
            "\u2552\u2550\u2550\u2550\u2550\u2550\u2550\u2550\u2550\u2550\u2550\u2550\u2550\u2550\u2550\u2550\u2550\u2550\u2550\u2550\u2564\u2550\u2550\u2550\u2550\u2550\u2550\u2550\u2550\u2550\u2550\u2550\u2550\u2550\u2550\u2550\u2550\u2564\u2550\u2550\u2550\u2550\u2550\u2550\u2550\u2550\u2550\u2555\n",
            "\u2502 \u0422\u043e\u043a\u0435\u043d             \u2502  \u0422\u0438\u043f \u0441\u0443\u0449\u043d\u043e\u0441\u0442\u0438  \u2502  \u041c\u0435\u0442\u043a\u0430  \u2502\n",
            "\u255e\u2550\u2550\u2550\u2550\u2550\u2550\u2550\u2550\u2550\u2550\u2550\u2550\u2550\u2550\u2550\u2550\u2550\u2550\u2550\u256a\u2550\u2550\u2550\u2550\u2550\u2550\u2550\u2550\u2550\u2550\u2550\u2550\u2550\u2550\u2550\u2550\u256a\u2550\u2550\u2550\u2550\u2550\u2550\u2550\u2550\u2550\u2561\n",
            "\u2502 \u041f\u0440\u043e\u0444\u0435\u0441\u0441\u043e\u0440         \u2502       O        \u2502    O    \u2502\n",
            "\u251c\u2500\u2500\u2500\u2500\u2500\u2500\u2500\u2500\u2500\u2500\u2500\u2500\u2500\u2500\u2500\u2500\u2500\u2500\u2500\u253c\u2500\u2500\u2500\u2500\u2500\u2500\u2500\u2500\u2500\u2500\u2500\u2500\u2500\u2500\u2500\u2500\u253c\u2500\u2500\u2500\u2500\u2500\u2500\u2500\u2500\u2500\u2524\n",
            "\u2502 \u0421\u043c\u0438\u0440\u043d\u043e\u0432           \u2502      PER       \u2502  B-PER  \u2502\n",
            "\u251c\u2500\u2500\u2500\u2500\u2500\u2500\u2500\u2500\u2500\u2500\u2500\u2500\u2500\u2500\u2500\u2500\u2500\u2500\u2500\u253c\u2500\u2500\u2500\u2500\u2500\u2500\u2500\u2500\u2500\u2500\u2500\u2500\u2500\u2500\u2500\u2500\u253c\u2500\u2500\u2500\u2500\u2500\u2500\u2500\u2500\u2500\u2524\n",
            "\u2502 \u0438                 \u2502       O        \u2502    O    \u2502\n",
            "\u251c\u2500\u2500\u2500\u2500\u2500\u2500\u2500\u2500\u2500\u2500\u2500\u2500\u2500\u2500\u2500\u2500\u2500\u2500\u2500\u253c\u2500\u2500\u2500\u2500\u2500\u2500\u2500\u2500\u2500\u2500\u2500\u2500\u2500\u2500\u2500\u2500\u253c\u2500\u2500\u2500\u2500\u2500\u2500\u2500\u2500\u2500\u2524\n",
            "\u2502 \u0434\u043e\u0446\u0435\u043d\u0442            \u2502       O        \u2502    O    \u2502\n",
            "\u251c\u2500\u2500\u2500\u2500\u2500\u2500\u2500\u2500\u2500\u2500\u2500\u2500\u2500\u2500\u2500\u2500\u2500\u2500\u2500\u253c\u2500\u2500\u2500\u2500\u2500\u2500\u2500\u2500\u2500\u2500\u2500\u2500\u2500\u2500\u2500\u2500\u253c\u2500\u2500\u2500\u2500\u2500\u2500\u2500\u2500\u2500\u2524\n",
            "\u2502 \u041a\u0443\u0437\u043d\u0435\u0446\u043e\u0432\u0430         \u2502      PER       \u2502  B-PER  \u2502\n",
            "\u251c\u2500\u2500\u2500\u2500\u2500\u2500\u2500\u2500\u2500\u2500\u2500\u2500\u2500\u2500\u2500\u2500\u2500\u2500\u2500\u253c\u2500\u2500\u2500\u2500\u2500\u2500\u2500\u2500\u2500\u2500\u2500\u2500\u2500\u2500\u2500\u2500\u253c\u2500\u2500\u2500\u2500\u2500\u2500\u2500\u2500\u2500\u2524\n",
            "\u2502 \u0443\u0447\u0430\u0441\u0442\u0432\u043e\u0432\u0430\u043b\u0438       \u2502       O        \u2502    O    \u2502\n",
            "\u251c\u2500\u2500\u2500\u2500\u2500\u2500\u2500\u2500\u2500\u2500\u2500\u2500\u2500\u2500\u2500\u2500\u2500\u2500\u2500\u253c\u2500\u2500\u2500\u2500\u2500\u2500\u2500\u2500\u2500\u2500\u2500\u2500\u2500\u2500\u2500\u2500\u253c\u2500\u2500\u2500\u2500\u2500\u2500\u2500\u2500\u2500\u2524\n",
            "\u2502 \u0432                 \u2502       O        \u2502    O    \u2502\n",
            "\u251c\u2500\u2500\u2500\u2500\u2500\u2500\u2500\u2500\u2500\u2500\u2500\u2500\u2500\u2500\u2500\u2500\u2500\u2500\u2500\u253c\u2500\u2500\u2500\u2500\u2500\u2500\u2500\u2500\u2500\u2500\u2500\u2500\u2500\u2500\u2500\u2500\u253c\u2500\u2500\u2500\u2500\u2500\u2500\u2500\u2500\u2500\u2524\n",
            "\u2502 \u043a\u043e\u043d\u0444\u0435\u0440\u0435\u043d\u0446\u0438\u0438       \u2502       O        \u2502    O    \u2502\n",
            "\u251c\u2500\u2500\u2500\u2500\u2500\u2500\u2500\u2500\u2500\u2500\u2500\u2500\u2500\u2500\u2500\u2500\u2500\u2500\u2500\u253c\u2500\u2500\u2500\u2500\u2500\u2500\u2500\u2500\u2500\u2500\u2500\u2500\u2500\u2500\u2500\u2500\u253c\u2500\u2500\u2500\u2500\u2500\u2500\u2500\u2500\u2500\u2524\n",
            "\u2502 \u0432                 \u2502       O        \u2502    O    \u2502\n",
            "\u251c\u2500\u2500\u2500\u2500\u2500\u2500\u2500\u2500\u2500\u2500\u2500\u2500\u2500\u2500\u2500\u2500\u2500\u2500\u2500\u253c\u2500\u2500\u2500\u2500\u2500\u2500\u2500\u2500\u2500\u2500\u2500\u2500\u2500\u2500\u2500\u2500\u253c\u2500\u2500\u2500\u2500\u2500\u2500\u2500\u2500\u2500\u2524\n",
            "\u2502 \u0421\u0430\u043d\u043a\u0442-\u041f\u0435\u0442\u0435\u0440\u0431\u0443\u0440\u0433\u0435. \u2502      LOC       \u2502  B-LOC  \u2502\n",
            "\u2558\u2550\u2550\u2550\u2550\u2550\u2550\u2550\u2550\u2550\u2550\u2550\u2550\u2550\u2550\u2550\u2550\u2550\u2550\u2550\u2567\u2550\u2550\u2550\u2550\u2550\u2550\u2550\u2550\u2550\u2550\u2550\u2550\u2550\u2550\u2550\u2550\u2567\u2550\u2550\u2550\u2550\u2550\u2550\u2550\u2550\u2550\u255b\n",
            "----------------------------------------------------------------------\n",
            "\n",
            " \u041f\u0440\u0435\u0434\u043b\u043e\u0436\u0435\u043d\u0438\u0435: \u0422\u0443\u0440\u043d\u0438\u0440 \u043f\u043e \u0442\u0435\u043d\u043d\u0438\u0441\u0443 \u0420\u043e\u043b\u0430\u043d \u0413\u0430\u0440\u0440\u043e\u0441 \u043f\u0440\u043e\u0445\u043e\u0434\u0438\u0442 \u0432 \u041f\u0430\u0440\u0438\u0436\u0435.\n",
            "\u2552\u2550\u2550\u2550\u2550\u2550\u2550\u2550\u2550\u2550\u2550\u2550\u2550\u2550\u2550\u2564\u2550\u2550\u2550\u2550\u2550\u2550\u2550\u2550\u2550\u2550\u2550\u2550\u2550\u2550\u2550\u2550\u2564\u2550\u2550\u2550\u2550\u2550\u2550\u2550\u2550\u2550\u2555\n",
            "\u2502 \u0422\u043e\u043a\u0435\u043d        \u2502  \u0422\u0438\u043f \u0441\u0443\u0449\u043d\u043e\u0441\u0442\u0438  \u2502  \u041c\u0435\u0442\u043a\u0430  \u2502\n",
            "\u255e\u2550\u2550\u2550\u2550\u2550\u2550\u2550\u2550\u2550\u2550\u2550\u2550\u2550\u2550\u256a\u2550\u2550\u2550\u2550\u2550\u2550\u2550\u2550\u2550\u2550\u2550\u2550\u2550\u2550\u2550\u2550\u256a\u2550\u2550\u2550\u2550\u2550\u2550\u2550\u2550\u2550\u2561\n",
            "\u2502 \u0422\u0443\u0440\u043d\u0438\u0440       \u2502       O        \u2502    O    \u2502\n",
            "\u251c\u2500\u2500\u2500\u2500\u2500\u2500\u2500\u2500\u2500\u2500\u2500\u2500\u2500\u2500\u253c\u2500\u2500\u2500\u2500\u2500\u2500\u2500\u2500\u2500\u2500\u2500\u2500\u2500\u2500\u2500\u2500\u253c\u2500\u2500\u2500\u2500\u2500\u2500\u2500\u2500\u2500\u2524\n",
            "\u2502 \u043f\u043e           \u2502       O        \u2502    O    \u2502\n",
            "\u251c\u2500\u2500\u2500\u2500\u2500\u2500\u2500\u2500\u2500\u2500\u2500\u2500\u2500\u2500\u253c\u2500\u2500\u2500\u2500\u2500\u2500\u2500\u2500\u2500\u2500\u2500\u2500\u2500\u2500\u2500\u2500\u253c\u2500\u2500\u2500\u2500\u2500\u2500\u2500\u2500\u2500\u2524\n",
            "\u2502 \u0442\u0435\u043d\u043d\u0438\u0441\u0443      \u2502       O        \u2502    O    \u2502\n",
            "\u251c\u2500\u2500\u2500\u2500\u2500\u2500\u2500\u2500\u2500\u2500\u2500\u2500\u2500\u2500\u253c\u2500\u2500\u2500\u2500\u2500\u2500\u2500\u2500\u2500\u2500\u2500\u2500\u2500\u2500\u2500\u2500\u253c\u2500\u2500\u2500\u2500\u2500\u2500\u2500\u2500\u2500\u2524\n",
            "\u2502 \u0420\u043e\u043b\u0430\u043d \u0413\u0430\u0440\u0440\u043e\u0441 \u2502      PER       \u2502  B-PER  \u2502\n",
            "\u251c\u2500\u2500\u2500\u2500\u2500\u2500\u2500\u2500\u2500\u2500\u2500\u2500\u2500\u2500\u253c\u2500\u2500\u2500\u2500\u2500\u2500\u2500\u2500\u2500\u2500\u2500\u2500\u2500\u2500\u2500\u2500\u253c\u2500\u2500\u2500\u2500\u2500\u2500\u2500\u2500\u2500\u2524\n",
            "\u2502 \u043f\u0440\u043e\u0445\u043e\u0434\u0438\u0442     \u2502       O        \u2502    O    \u2502\n",
            "\u251c\u2500\u2500\u2500\u2500\u2500\u2500\u2500\u2500\u2500\u2500\u2500\u2500\u2500\u2500\u253c\u2500\u2500\u2500\u2500\u2500\u2500\u2500\u2500\u2500\u2500\u2500\u2500\u2500\u2500\u2500\u2500\u253c\u2500\u2500\u2500\u2500\u2500\u2500\u2500\u2500\u2500\u2524\n",
            "\u2502 \u0432            \u2502       O        \u2502    O    \u2502\n",
            "\u251c\u2500\u2500\u2500\u2500\u2500\u2500\u2500\u2500\u2500\u2500\u2500\u2500\u2500\u2500\u253c\u2500\u2500\u2500\u2500\u2500\u2500\u2500\u2500\u2500\u2500\u2500\u2500\u2500\u2500\u2500\u2500\u253c\u2500\u2500\u2500\u2500\u2500\u2500\u2500\u2500\u2500\u2524\n",
            "\u2502 \u041f\u0430\u0440\u0438\u0436\u0435.      \u2502      LOC       \u2502  B-LOC  \u2502\n",
            "\u2558\u2550\u2550\u2550\u2550\u2550\u2550\u2550\u2550\u2550\u2550\u2550\u2550\u2550\u2550\u2567\u2550\u2550\u2550\u2550\u2550\u2550\u2550\u2550\u2550\u2550\u2550\u2550\u2550\u2550\u2550\u2550\u2567\u2550\u2550\u2550\u2550\u2550\u2550\u2550\u2550\u2550\u255b\n",
            "----------------------------------------------------------------------\n",
            "\n",
            " \u041f\u0440\u0435\u0434\u043b\u043e\u0436\u0435\u043d\u0438\u0435: \u0414\u0438\u0440\u0435\u043a\u0442\u043e\u0440 Microsoft \u0421\u0430\u0442\u044c\u044f \u041d\u0430\u0434\u0435\u043b\u043b\u0430 \u0432\u044b\u0441\u0442\u0443\u043f\u0438\u043b \u043d\u0430 \u0444\u043e\u0440\u0443\u043c\u0435 \u0432 \u0421\u0438\u044d\u0442\u043b\u0435.\n",
            "\u2552\u2550\u2550\u2550\u2550\u2550\u2550\u2550\u2550\u2550\u2550\u2550\u2550\u2550\u2550\u2550\u2564\u2550\u2550\u2550\u2550\u2550\u2550\u2550\u2550\u2550\u2550\u2550\u2550\u2550\u2550\u2550\u2550\u2564\u2550\u2550\u2550\u2550\u2550\u2550\u2550\u2550\u2550\u2555\n",
            "\u2502 \u0422\u043e\u043a\u0435\u043d         \u2502  \u0422\u0438\u043f \u0441\u0443\u0449\u043d\u043e\u0441\u0442\u0438  \u2502  \u041c\u0435\u0442\u043a\u0430  \u2502\n",
            "\u255e\u2550\u2550\u2550\u2550\u2550\u2550\u2550\u2550\u2550\u2550\u2550\u2550\u2550\u2550\u2550\u256a\u2550\u2550\u2550\u2550\u2550\u2550\u2550\u2550\u2550\u2550\u2550\u2550\u2550\u2550\u2550\u2550\u256a\u2550\u2550\u2550\u2550\u2550\u2550\u2550\u2550\u2550\u2561\n",
            "\u2502 \u0414\u0438\u0440\u0435\u043a\u0442\u043e\u0440      \u2502       O        \u2502    O    \u2502\n",
            "\u251c\u2500\u2500\u2500\u2500\u2500\u2500\u2500\u2500\u2500\u2500\u2500\u2500\u2500\u2500\u2500\u253c\u2500\u2500\u2500\u2500\u2500\u2500\u2500\u2500\u2500\u2500\u2500\u2500\u2500\u2500\u2500\u2500\u253c\u2500\u2500\u2500\u2500\u2500\u2500\u2500\u2500\u2500\u2524\n",
            "\u2502 Microsoft     \u2502      ORG       \u2502  B-ORG  \u2502\n",
            "\u251c\u2500\u2500\u2500\u2500\u2500\u2500\u2500\u2500\u2500\u2500\u2500\u2500\u2500\u2500\u2500\u253c\u2500\u2500\u2500\u2500\u2500\u2500\u2500\u2500\u2500\u2500\u2500\u2500\u2500\u2500\u2500\u2500\u253c\u2500\u2500\u2500\u2500\u2500\u2500\u2500\u2500\u2500\u2524\n",
            "\u2502 \u0421\u0430\u0442\u044c\u044f \u041d\u0430\u0434\u0435\u043b\u043b\u0430 \u2502      PER       \u2502  B-PER  \u2502\n",
            "\u251c\u2500\u2500\u2500\u2500\u2500\u2500\u2500\u2500\u2500\u2500\u2500\u2500\u2500\u2500\u2500\u253c\u2500\u2500\u2500\u2500\u2500\u2500\u2500\u2500\u2500\u2500\u2500\u2500\u2500\u2500\u2500\u2500\u253c\u2500\u2500\u2500\u2500\u2500\u2500\u2500\u2500\u2500\u2524\n",
            "\u2502 \u0432\u044b\u0441\u0442\u0443\u043f\u0438\u043b      \u2502       O        \u2502    O    \u2502\n",
            "\u251c\u2500\u2500\u2500\u2500\u2500\u2500\u2500\u2500\u2500\u2500\u2500\u2500\u2500\u2500\u2500\u253c\u2500\u2500\u2500\u2500\u2500\u2500\u2500\u2500\u2500\u2500\u2500\u2500\u2500\u2500\u2500\u2500\u253c\u2500\u2500\u2500\u2500\u2500\u2500\u2500\u2500\u2500\u2524\n",
            "\u2502 \u043d\u0430            \u2502       O        \u2502    O    \u2502\n",
            "\u251c\u2500\u2500\u2500\u2500\u2500\u2500\u2500\u2500\u2500\u2500\u2500\u2500\u2500\u2500\u2500\u253c\u2500\u2500\u2500\u2500\u2500\u2500\u2500\u2500\u2500\u2500\u2500\u2500\u2500\u2500\u2500\u2500\u253c\u2500\u2500\u2500\u2500\u2500\u2500\u2500\u2500\u2500\u2524\n",
            "\u2502 \u0444\u043e\u0440\u0443\u043c\u0435        \u2502       O        \u2502    O    \u2502\n",
            "\u251c\u2500\u2500\u2500\u2500\u2500\u2500\u2500\u2500\u2500\u2500\u2500\u2500\u2500\u2500\u2500\u253c\u2500\u2500\u2500\u2500\u2500\u2500\u2500\u2500\u2500\u2500\u2500\u2500\u2500\u2500\u2500\u2500\u253c\u2500\u2500\u2500\u2500\u2500\u2500\u2500\u2500\u2500\u2524\n",
            "\u2502 \u0432             \u2502       O        \u2502    O    \u2502\n",
            "\u251c\u2500\u2500\u2500\u2500\u2500\u2500\u2500\u2500\u2500\u2500\u2500\u2500\u2500\u2500\u2500\u253c\u2500\u2500\u2500\u2500\u2500\u2500\u2500\u2500\u2500\u2500\u2500\u2500\u2500\u2500\u2500\u2500\u253c\u2500\u2500\u2500\u2500\u2500\u2500\u2500\u2500\u2500\u2524\n",
            "\u2502 \u0421\u0438\u044d\u0442\u043b\u0435.       \u2502      LOC       \u2502  B-LOC  \u2502\n",
            "\u2558\u2550\u2550\u2550\u2550\u2550\u2550\u2550\u2550\u2550\u2550\u2550\u2550\u2550\u2550\u2550\u2567\u2550\u2550\u2550\u2550\u2550\u2550\u2550\u2550\u2550\u2550\u2550\u2550\u2550\u2550\u2550\u2550\u2567\u2550\u2550\u2550\u2550\u2550\u2550\u2550\u2550\u2550\u255b\n",
            "----------------------------------------------------------------------\n",
            "\n",
            " \u041f\u0440\u0435\u0434\u043b\u043e\u0436\u0435\u043d\u0438\u0435: \u0412\u0447\u0435\u0440\u0430 \u0432\u0438\u0434\u0435\u043b \u0418\u043b\u043e\u043d \u041c\u0430\u0441\u043a\u0430 \u0432 \u043a\u0430\u0444\u0435 Starbucks \u043d\u0430 \u0422\u0432\u0435\u0440\u0441\u043a\u043e\u0439.\n",
            "\u2552\u2550\u2550\u2550\u2550\u2550\u2550\u2550\u2550\u2550\u2550\u2550\u2550\u2564\u2550\u2550\u2550\u2550\u2550\u2550\u2550\u2550\u2550\u2550\u2550\u2550\u2550\u2550\u2550\u2550\u2564\u2550\u2550\u2550\u2550\u2550\u2550\u2550\u2550\u2550\u2555\n",
            "\u2502 \u0422\u043e\u043a\u0435\u043d      \u2502  \u0422\u0438\u043f \u0441\u0443\u0449\u043d\u043e\u0441\u0442\u0438  \u2502  \u041c\u0435\u0442\u043a\u0430  \u2502\n",
            "\u255e\u2550\u2550\u2550\u2550\u2550\u2550\u2550\u2550\u2550\u2550\u2550\u2550\u256a\u2550\u2550\u2550\u2550\u2550\u2550\u2550\u2550\u2550\u2550\u2550\u2550\u2550\u2550\u2550\u2550\u256a\u2550\u2550\u2550\u2550\u2550\u2550\u2550\u2550\u2550\u2561\n",
            "\u2502 \u0412\u0447\u0435\u0440\u0430      \u2502       O        \u2502    O    \u2502\n",
            "\u251c\u2500\u2500\u2500\u2500\u2500\u2500\u2500\u2500\u2500\u2500\u2500\u2500\u253c\u2500\u2500\u2500\u2500\u2500\u2500\u2500\u2500\u2500\u2500\u2500\u2500\u2500\u2500\u2500\u2500\u253c\u2500\u2500\u2500\u2500\u2500\u2500\u2500\u2500\u2500\u2524\n",
            "\u2502 \u0432\u0438\u0434\u0435\u043b      \u2502       O        \u2502    O    \u2502\n",
            "\u251c\u2500\u2500\u2500\u2500\u2500\u2500\u2500\u2500\u2500\u2500\u2500\u2500\u253c\u2500\u2500\u2500\u2500\u2500\u2500\u2500\u2500\u2500\u2500\u2500\u2500\u2500\u2500\u2500\u2500\u253c\u2500\u2500\u2500\u2500\u2500\u2500\u2500\u2500\u2500\u2524\n",
            "\u2502 \u0418\u043b\u043e\u043d \u041c\u0430\u0441\u043a\u0430 \u2502      PER       \u2502  B-PER  \u2502\n",
            "\u251c\u2500\u2500\u2500\u2500\u2500\u2500\u2500\u2500\u2500\u2500\u2500\u2500\u253c\u2500\u2500\u2500\u2500\u2500\u2500\u2500\u2500\u2500\u2500\u2500\u2500\u2500\u2500\u2500\u2500\u253c\u2500\u2500\u2500\u2500\u2500\u2500\u2500\u2500\u2500\u2524\n",
            "\u2502 \u0432          \u2502       O        \u2502    O    \u2502\n",
            "\u251c\u2500\u2500\u2500\u2500\u2500\u2500\u2500\u2500\u2500\u2500\u2500\u2500\u253c\u2500\u2500\u2500\u2500\u2500\u2500\u2500\u2500\u2500\u2500\u2500\u2500\u2500\u2500\u2500\u2500\u253c\u2500\u2500\u2500\u2500\u2500\u2500\u2500\u2500\u2500\u2524\n",
            "\u2502 \u043a\u0430\u0444\u0435       \u2502       O        \u2502    O    \u2502\n",
            "\u251c\u2500\u2500\u2500\u2500\u2500\u2500\u2500\u2500\u2500\u2500\u2500\u2500\u253c\u2500\u2500\u2500\u2500\u2500\u2500\u2500\u2500\u2500\u2500\u2500\u2500\u2500\u2500\u2500\u2500\u253c\u2500\u2500\u2500\u2500\u2500\u2500\u2500\u2500\u2500\u2524\n",
            "\u2502 Starbucks  \u2502      ORG       \u2502  B-ORG  \u2502\n",
            "\u251c\u2500\u2500\u2500\u2500\u2500\u2500\u2500\u2500\u2500\u2500\u2500\u2500\u253c\u2500\u2500\u2500\u2500\u2500\u2500\u2500\u2500\u2500\u2500\u2500\u2500\u2500\u2500\u2500\u2500\u253c\u2500\u2500\u2500\u2500\u2500\u2500\u2500\u2500\u2500\u2524\n",
            "\u2502 \u043d\u0430         \u2502       O        \u2502    O    \u2502\n",
            "\u251c\u2500\u2500\u2500\u2500\u2500\u2500\u2500\u2500\u2500\u2500\u2500\u2500\u253c\u2500\u2500\u2500\u2500\u2500\u2500\u2500\u2500\u2500\u2500\u2500\u2500\u2500\u2500\u2500\u2500\u253c\u2500\u2500\u2500\u2500\u2500\u2500\u2500\u2500\u2500\u2524\n",
            "\u2502 \u0422\u0432\u0435\u0440\u0441\u043a\u043e\u0439.  \u2502      LOC       \u2502  B-LOC  \u2502\n",
            "\u2558\u2550\u2550\u2550\u2550\u2550\u2550\u2550\u2550\u2550\u2550\u2550\u2550\u2567\u2550\u2550\u2550\u2550\u2550\u2550\u2550\u2550\u2550\u2550\u2550\u2550\u2550\u2550\u2550\u2550\u2567\u2550\u2550\u2550\u2550\u2550\u2550\u2550\u2550\u2550\u255b\n",
            "----------------------------------------------------------------------\n",
            "\n",
            " \u041f\u0440\u0435\u0434\u043b\u043e\u0436\u0435\u043d\u0438\u0435: \u041a\u0430\u0440\u0442\u0438\u043d\u0443 \u0412\u0430\u043d \u0413\u043e\u0433\u0430 \u043a\u0443\u043f\u0438\u043b \u043c\u0443\u0437\u0435\u0439 \u042d\u0440\u043c\u0438\u0442\u0430\u0436 \u0437\u0430 10 \u043c\u0438\u043b\u043b\u0438\u043e\u043d\u043e\u0432 \u0434\u043e\u043b\u043b\u0430\u0440\u043e\u0432.\n",
            "\u2552\u2550\u2550\u2550\u2550\u2550\u2550\u2550\u2550\u2550\u2550\u2550\u2564\u2550\u2550\u2550\u2550\u2550\u2550\u2550\u2550\u2550\u2550\u2550\u2550\u2550\u2550\u2550\u2550\u2564\u2550\u2550\u2550\u2550\u2550\u2550\u2550\u2550\u2550\u2555\n",
            "\u2502 \u0422\u043e\u043a\u0435\u043d     \u2502  \u0422\u0438\u043f \u0441\u0443\u0449\u043d\u043e\u0441\u0442\u0438  \u2502  \u041c\u0435\u0442\u043a\u0430  \u2502\n",
            "\u255e\u2550\u2550\u2550\u2550\u2550\u2550\u2550\u2550\u2550\u2550\u2550\u256a\u2550\u2550\u2550\u2550\u2550\u2550\u2550\u2550\u2550\u2550\u2550\u2550\u2550\u2550\u2550\u2550\u256a\u2550\u2550\u2550\u2550\u2550\u2550\u2550\u2550\u2550\u2561\n",
            "\u2502 \u041a\u0430\u0440\u0442\u0438\u043d\u0443   \u2502       O        \u2502    O    \u2502\n",
            "\u251c\u2500\u2500\u2500\u2500\u2500\u2500\u2500\u2500\u2500\u2500\u2500\u253c\u2500\u2500\u2500\u2500\u2500\u2500\u2500\u2500\u2500\u2500\u2500\u2500\u2500\u2500\u2500\u2500\u253c\u2500\u2500\u2500\u2500\u2500\u2500\u2500\u2500\u2500\u2524\n",
            "\u2502 \u0412\u0430\u043d \u0413\u043e\u0433\u0430  \u2502      PER       \u2502  B-PER  \u2502\n",
            "\u251c\u2500\u2500\u2500\u2500\u2500\u2500\u2500\u2500\u2500\u2500\u2500\u253c\u2500\u2500\u2500\u2500\u2500\u2500\u2500\u2500\u2500\u2500\u2500\u2500\u2500\u2500\u2500\u2500\u253c\u2500\u2500\u2500\u2500\u2500\u2500\u2500\u2500\u2500\u2524\n",
            "\u2502 \u043a\u0443\u043f\u0438\u043b     \u2502       O        \u2502    O    \u2502\n",
            "\u251c\u2500\u2500\u2500\u2500\u2500\u2500\u2500\u2500\u2500\u2500\u2500\u253c\u2500\u2500\u2500\u2500\u2500\u2500\u2500\u2500\u2500\u2500\u2500\u2500\u2500\u2500\u2500\u2500\u253c\u2500\u2500\u2500\u2500\u2500\u2500\u2500\u2500\u2500\u2524\n",
            "\u2502 \u043c\u0443\u0437\u0435\u0439     \u2502       O        \u2502    O    \u2502\n",
            "\u251c\u2500\u2500\u2500\u2500\u2500\u2500\u2500\u2500\u2500\u2500\u2500\u253c\u2500\u2500\u2500\u2500\u2500\u2500\u2500\u2500\u2500\u2500\u2500\u2500\u2500\u2500\u2500\u2500\u253c\u2500\u2500\u2500\u2500\u2500\u2500\u2500\u2500\u2500\u2524\n",
            "\u2502 \u042d\u0440\u043c\u0438\u0442\u0430\u0436   \u2502      LOC       \u2502  B-LOC  \u2502\n",
            "\u251c\u2500\u2500\u2500\u2500\u2500\u2500\u2500\u2500\u2500\u2500\u2500\u253c\u2500\u2500\u2500\u2500\u2500\u2500\u2500\u2500\u2500\u2500\u2500\u2500\u2500\u2500\u2500\u2500\u253c\u2500\u2500\u2500\u2500\u2500\u2500\u2500\u2500\u2500\u2524\n",
            "\u2502 \u0437\u0430        \u2502       O        \u2502    O    \u2502\n",
            "\u251c\u2500\u2500\u2500\u2500\u2500\u2500\u2500\u2500\u2500\u2500\u2500\u253c\u2500\u2500\u2500\u2500\u2500\u2500\u2500\u2500\u2500\u2500\u2500\u2500\u2500\u2500\u2500\u2500\u253c\u2500\u2500\u2500\u2500\u2500\u2500\u2500\u2500\u2500\u2524\n",
            "\u2502 10        \u2502       O        \u2502    O    \u2502\n",
            "\u251c\u2500\u2500\u2500\u2500\u2500\u2500\u2500\u2500\u2500\u2500\u2500\u253c\u2500\u2500\u2500\u2500\u2500\u2500\u2500\u2500\u2500\u2500\u2500\u2500\u2500\u2500\u2500\u2500\u253c\u2500\u2500\u2500\u2500\u2500\u2500\u2500\u2500\u2500\u2524\n",
            "\u2502 \u043c\u0438\u043b\u043b\u0438\u043e\u043d\u043e\u0432 \u2502       O        \u2502    O    \u2502\n",
            "\u251c\u2500\u2500\u2500\u2500\u2500\u2500\u2500\u2500\u2500\u2500\u2500\u253c\u2500\u2500\u2500\u2500\u2500\u2500\u2500\u2500\u2500\u2500\u2500\u2500\u2500\u2500\u2500\u2500\u253c\u2500\u2500\u2500\u2500\u2500\u2500\u2500\u2500\u2500\u2524\n",
            "\u2502 \u0434\u043e\u043b\u043b\u0430\u0440\u043e\u0432. \u2502       O        \u2502    O    \u2502\n",
            "\u2558\u2550\u2550\u2550\u2550\u2550\u2550\u2550\u2550\u2550\u2550\u2550\u2567\u2550\u2550\u2550\u2550\u2550\u2550\u2550\u2550\u2550\u2550\u2550\u2550\u2550\u2550\u2550\u2550\u2567\u2550\u2550\u2550\u2550\u2550\u2550\u2550\u2550\u2550\u255b\n",
            "----------------------------------------------------------------------\n"
          ]
        }
      ],
      "source": [
        "from tabulate import tabulate\n",
        "from termcolor import colored\n",
        "\n",
        "def get_colored_label(label):\n",
        "    colors = {\n",
        "        'B-PER': 'green',\n",
        "        'I-PER': 'green',\n",
        "        'B-LOC': 'blue',\n",
        "        'I-LOC': 'blue',\n",
        "        'B-ORG': 'magenta',\n",
        "        'I-ORG': 'magenta',\n",
        "        'O': 'white'\n",
        "    }\n",
        "    return colored(label, colors.get(label, 'white'))\n",
        "\n",
        "print(\"=\"*70)\n",
        "print(colored(\" \u0422\u0415\u0421\u0422\u0418\u0420\u041e\u0412\u0410\u041d\u0418\u0415 \u041c\u041e\u0414\u0415\u041b\u0418 NER \".center(70), 'white', 'on_blue'))\n",
        "print(\"=\"*70)\n",
        "\n",
        "for sent in test_sentences:\n",
        "    # \u041f\u043e\u043b\u0443\u0447\u0430\u0435\u043c \u043f\u0440\u0435\u0434\u0441\u043a\u0430\u0437\u0430\u043d\u0438\u044f\n",
        "    predictions = predict(sent, tokenizer, model)\n",
        "\n",
        "\n",
        "    table_data = []\n",
        "    current_entity = None\n",
        "    entity_words = []\n",
        "\n",
        "    for word, label in predictions:\n",
        "        if label in ['B-PER', 'I-PER', 'B-LOC', 'I-LOC', 'B-ORG', 'I-ORG', 'O']:\n",
        "            if label.startswith('B-'):\n",
        "                if current_entity:\n",
        "                    table_data.append([\" \".join(entity_words), current_entity[2:], get_colored_label(current_entity)])\n",
        "                current_entity = label\n",
        "                entity_words = [word]\n",
        "            elif label.startswith('I-') and current_entity and current_entity == label.replace('I-', 'B-'):\n",
        "                entity_words.append(word)\n",
        "            elif label == 'O':\n",
        "                if current_entity:\n",
        "                    table_data.append([\" \".join(entity_words), current_entity[2:], get_colored_label(current_entity)])\n",
        "                current_entity = None\n",
        "                entity_words = []\n",
        "                table_data.append([word, \"O\", get_colored_label(\"O\")])\n",
        "\n",
        "    # \u0414\u043e\u0431\u0430\u0432\u043b\u044f\u0435\u043c \u043f\u043e\u0441\u043b\u0435\u0434\u043d\u044e\u044e \u0441\u0443\u0449\u043d\u043e\u0441\u0442\u044c, \u0435\u0441\u043b\u0438 \u043e\u0441\u0442\u0430\u043b\u0430\u0441\u044c\n",
        "    if current_entity:\n",
        "        table_data.append([\" \".join(entity_words), current_entity[2:], get_colored_label(current_entity)])\n",
        "    print(\"\\n\" + colored(f\" \u041f\u0440\u0435\u0434\u043b\u043e\u0436\u0435\u043d\u0438\u0435: \", 'yellow') + colored(sent, 'cyan'))\n",
        "    print(tabulate(table_data,\n",
        "                 headers=[colored(\"\u0422\u043e\u043a\u0435\u043d\", 'yellow'),\n",
        "                         colored(\"\u0422\u0438\u043f \u0441\u0443\u0449\u043d\u043e\u0441\u0442\u0438\", 'yellow'),\n",
        "                         colored(\"\u041c\u0435\u0442\u043a\u0430\", 'yellow')],\n",
        "                 tablefmt=\"fancy_grid\",\n",
        "                 colalign=(\"left\", \"center\", \"center\")))\n",
        "    print(\"-\"*70)"
      ]
    },
    {
      "cell_type": "code",
      "execution_count": 37,
      "metadata": {
        "colab": {
          "base_uri": "https://localhost:8080/",
          "height": 17
        },
        "id": "7-5v-4Z-zsO8",
        "outputId": "7f816aeb-4b27-4719-d97f-82d29e775fc1"
      },
      "outputs": [
        {
          "output_type": "display_data",
          "data": {
            "text/plain": [
              "<IPython.core.display.HTML object>"
            ],
            "text/html": []
          },
          "metadata": {}
        }
      ],
      "source": [
        "# \u041f\u043e\u043b\u0443\u0447\u0435\u043d\u0438\u0435 \u043f\u0440\u0435\u0434\u0441\u043a\u0430\u0437\u0430\u043d\u0438\u0439 \u043d\u0430 \u0442\u0435\u0441\u0442\u043e\u0432\u044b\u0445 \u0434\u0430\u043d\u043d\u044b\u0445\n",
        "test_predictions = trainer.predict(test_dataset)"
      ]
    },
    {
      "cell_type": "code",
      "execution_count": 38,
      "metadata": {
        "id": "XDGT3UeKzsO8"
      },
      "outputs": [],
      "source": [
        "import numpy as np\n",
        "\n",
        "# \u041b\u043e\u0433\u0438\u0442\u044b \u0438 \u043c\u0435\u0442\u043a\u0438\n",
        "logits = test_predictions.predictions\n",
        "true_labels = test_predictions.label_ids\n",
        "\n",
        "# \u041f\u0440\u0435\u043e\u0431\u0440\u0430\u0437\u043e\u0432\u0430\u043d\u0438\u0435 \u043b\u043e\u0433\u0438\u0442\u043e\u0432 \u0432 \u043f\u0440\u0435\u0434\u0441\u043a\u0430\u0437\u0430\u043d\u043d\u044b\u0435 \u043a\u043b\u0430\u0441\u0441\u044b\n",
        "predicted_labels = np.argmax(logits, axis=2)\n",
        "# \u0424\u0438\u043b\u044c\u0442\u0440\u0430\u0446\u0438\u044f \u0441\u043f\u0435\u0446\u0438\u0430\u043b\u044c\u043d\u044b\u0445 \u0442\u043e\u043a\u0435\u043d\u043e\u0432 (\u0433\u0434\u0435 true_labels != -100)\n",
        "filtered_preds = []\n",
        "filtered_true = []\n",
        "\n",
        "for pred_seq, true_seq in zip(predicted_labels, true_labels):\n",
        "    for pred, true in zip(pred_seq, true_seq):\n",
        "        if true != -100:  # \u0438\u0433\u043d\u043e\u0440 \u043f\u0430\u0434\u0434\u0438\u043d\u0433 \u0438 \u0441\u043f\u0435\u0446. \u0442\u043e\u043a\u0435\u043d\u044b\n",
        "            filtered_preds.append(id2label[pred])\n",
        "            filtered_true.append(id2label[true])"
      ]
    },
    {
      "cell_type": "code",
      "execution_count": 39,
      "metadata": {
        "colab": {
          "base_uri": "https://localhost:8080/"
        },
        "id": "uKmFy3VSzsO8",
        "outputId": "0847ead5-e837-49f7-b32d-945e1872d821"
      },
      "outputs": [
        {
          "output_type": "stream",
          "name": "stdout",
          "text": [
            "              precision    recall  f1-score   support\n",
            "\n",
            "         LOC       0.89      0.96      0.92       161\n",
            "         ORG       0.70      0.77      0.73       164\n",
            "         PER       0.99      0.98      0.98       225\n",
            "\n",
            "   micro avg       0.87      0.91      0.89       550\n",
            "   macro avg       0.86      0.90      0.88       550\n",
            "weighted avg       0.87      0.91      0.89       550\n",
            "\n"
          ]
        }
      ],
      "source": [
        "from seqeval.metrics import classification_report\n",
        "\n",
        "print(classification_report([filtered_true], [filtered_preds], zero_division=0))"
      ]
    },
    {
      "cell_type": "code",
      "execution_count": 40,
      "metadata": {
        "colab": {
          "base_uri": "https://localhost:8080/",
          "height": 607
        },
        "id": "8WplkwA8zsO9",
        "outputId": "4518bf71-7601-47ad-88e5-7326039a2813"
      },
      "outputs": [
        {
          "output_type": "display_data",
          "data": {
            "text/plain": [
              "<Figure size 1000x600 with 1 Axes>"
            ],
            "image/png": "[encoded data removed]"
          },
          "metadata": {}
        }
      ],
      "source": [
        "import matplotlib.pyplot as plt\n",
        "import numpy as np\n",
        "\n",
        "categories = ['LOC', 'ORG', 'PER']\n",
        "metrics = ['Precision', 'Recall', 'F1-Score']\n",
        "data = np.array([\n",
        "    [89, 96, 92],  # LOC\n",
        "    [70, 77, 73],  # ORG\n",
        "    [99, 98, 98]   # PER\n",
        "])\n",
        "\n",
        "x = np.arange(len(categories))\n",
        "width = 0.25\n",
        "\n",
        "fig, ax = plt.subplots(figsize=(10, 6))\n",
        "\n",
        "for i, metric in enumerate(metrics):\n",
        "    ax.bar(x + i*width, data[:, i], width, label=metric)\n",
        "\n",
        "ax.set_ylabel('Score (%)')\n",
        "ax.set_title('NER Performance Metrics by Entity Type')\n",
        "ax.set_xticks(x + width)\n",
        "ax.set_xticklabels(categories)\n",
        "ax.legend(loc='upper right', bbox_to_anchor=(1.15, 1))\n",
        "ax.set_ylim(0, 100)\n",
        "\n",
        "for i in range(len(categories)):\n",
        "    for j in range(len(metrics)):\n",
        "        height = data[i, j]\n",
        "        ax.annotate(f'{height}%',\n",
        "                    xy=(x[i] + j*width, height),\n",
        "                    xytext=(0, 3),\n",
        "                    textcoords=\"offset points\",\n",
        "                    ha='center', va='bottom')\n",
        "\n",
        "plt.tight_layout()\n",
        "plt.show()"
      ]
    },
    {
      "cell_type": "code",
      "execution_count": null,
      "metadata": {
        "id": "iHGWlZW_zsO9",
        "outputId": "9f206adc-8058-497d-cb75-1b54cfafe7a0"
      },
      "outputs": [
        {
          "data": {
            "text/plain": [
              "NERModel_4(\n",
              "  (bert): BertModel(\n",
              "    (embeddings): BertEmbeddings(\n",
              "      (word_embeddings): Embedding(119547, 768, padding_idx=0)\n",
              "      (position_embeddings): Embedding(512, 768)\n",
              "      (token_type_embeddings): Embedding(2, 768)\n",
              "      (LayerNorm): LayerNorm((768,), eps=1e-12, elementwise_affine=True)\n",
              "      (dropout): Dropout(p=0.1, inplace=False)\n",
              "    )\n",
              "    (encoder): BertEncoder(\n",
              "      (layer): ModuleList(\n",
              "        (0-11): 12 x BertLayer(\n",
              "          (attention): BertAttention(\n",
              "            (self): BertSdpaSelfAttention(\n",
              "              (query): Linear(in_features=768, out_features=768, bias=True)\n",
              "              (key): Linear(in_features=768, out_features=768, bias=True)\n",
              "              (value): Linear(in_features=768, out_features=768, bias=True)\n",
              "              (dropout): Dropout(p=0.1, inplace=False)\n",
              "            )\n",
              "            (output): BertSelfOutput(\n",
              "              (dense): Linear(in_features=768, out_features=768, bias=True)\n",
              "              (LayerNorm): LayerNorm((768,), eps=1e-12, elementwise_affine=True)\n",
              "              (dropout): Dropout(p=0.1, inplace=False)\n",
              "            )\n",
              "          )\n",
              "          (intermediate): BertIntermediate(\n",
              "            (dense): Linear(in_features=768, out_features=3072, bias=True)\n",
              "            (intermediate_act_fn): GELUActivation()\n",
              "          )\n",
              "          (output): BertOutput(\n",
              "            (dense): Linear(in_features=3072, out_features=768, bias=True)\n",
              "            (LayerNorm): LayerNorm((768,), eps=1e-12, elementwise_affine=True)\n",
              "            (dropout): Dropout(p=0.1, inplace=False)\n",
              "          )\n",
              "        )\n",
              "      )\n",
              "    )\n",
              "    (pooler): BertPooler(\n",
              "      (dense): Linear(in_features=768, out_features=768, bias=True)\n",
              "      (activation): Tanh()\n",
              "    )\n",
              "  )\n",
              "  (dropout): Dropout(p=0.2, inplace=False)\n",
              "  (classifier): Sequential(\n",
              "    (0): Linear(in_features=768, out_features=768, bias=True)\n",
              "    (1): LayerNorm((768,), eps=1e-05, elementwise_affine=True)\n",
              "    (2): GELU(approximate='none')\n",
              "    (3): Dropout(p=0.2, inplace=False)\n",
              "    (4): Linear(in_features=768, out_features=128, bias=True)\n",
              "    (5): LayerNorm((128,), eps=1e-05, elementwise_affine=True)\n",
              "    (6): GELU(approximate='none')\n",
              "    (7): Dropout(p=0.2, inplace=False)\n",
              "    (8): Linear(in_features=128, out_features=7, bias=True)\n",
              "  )\n",
              ")"
            ]
          },
          "execution_count": 45,
          "metadata": {},
          "output_type": "execute_result"
        }
      ],
      "source": [
        "#  \u043c\u043e\u0434\u0435\u043b\u044c \u043d\u0430 GPU\n",
        "device = torch.device(\"cuda\") if torch.cuda.is_available() else torch.device(\"cpu\")\n",
        "model.to(device)"
      ]
    }
  ],
  "metadata": {
    "language_info": {
      "name": "python"
    },
    "colab": {
      "provenance": [],
      "gpuType": "T4"
    },
    "accelerator": "GPU",
    "kernelspec": {
      "name": "python3",
      "display_name": "Python 3"
    }
  },
  "nbformat": 4,
  "nbformat_minor": 0
}